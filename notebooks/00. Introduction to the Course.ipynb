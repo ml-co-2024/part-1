{
 "cells": [
  {
   "cell_type": "markdown",
   "metadata": {
    "slideshow": {
     "slide_type": "slide"
    }
   },
   "source": [
    "# Machine Learning for Constrained Optimization\n",
    "\n",
    "A Phd Course"
   ]
  },
  {
   "cell_type": "markdown",
   "metadata": {
    "slideshow": {
     "slide_type": "subslide"
    }
   },
   "source": [
    "## Machine Learning for Constrained Optimization\n",
    "\n",
    "Let's start with an observation:\n",
    "\n",
    "> **Machine Learning is Optimization**"
   ]
  },
  {
   "cell_type": "markdown",
   "metadata": {
    "slideshow": {
     "slide_type": "fragment"
    }
   },
   "source": [
    "* Well, maybe a few exceptions apply (looking at you, non-parametric models...)\n",
    "* ...But broadly speaking, the statement is true\n",
    "\n",
    "**From an _optimization point of view_:**\n",
    "\n",
    "* Classical ML has focused on _large-scale_, _unconstrained_ problems\n",
    "* ...And for good reason!\n",
    "  - Large input spaces\n",
    "  - Large parameter spaces\n",
    "  - Expensive cost functions"
   ]
  },
  {
   "cell_type": "markdown",
   "metadata": {
    "slideshow": {
     "slide_type": "subslide"
    }
   },
   "source": [
    "## Machine Learning for Constrained Optimization\n",
    "\n",
    "Let's start with an observation:\n",
    "\n",
    "> **Machine Learning is Optimization**"
   ]
  },
  {
   "cell_type": "markdown",
   "metadata": {
    "slideshow": {
     "slide_type": "-"
    }
   },
   "source": [
    "**However, that's a bit reductive:**\n",
    "\n",
    "* What if our ML problem has a non-trivial _structure_?\n",
    "* What if we have _external knowledge_?\n",
    "* What if there are _physical laws_, or _regulations_?\n",
    "* What if we want to use data to help with a _decision problem_?\n",
    "\n",
    "Then, we may want to take a broader view...\n",
    "\n",
    "**...Since other optimization techniques may be of help!**"
   ]
  },
  {
   "cell_type": "markdown",
   "metadata": {
    "slideshow": {
     "slide_type": "subslide"
    }
   },
   "source": [
    "## Machine Learning for Constrained Optimization\n",
    "\n",
    "**This course is about seeing ML and CO _as a whole_:**\n",
    "\n",
    "* Focus: _integration_ of Machine Learning and Constrained Optimization\n",
    "  - Emphasis on _modeling aspects_ and _knowledge integration_\n",
    "  - No mention of acceleration techniques\n",
    "* Three parts:\n",
    "  - Constrained Optimization for Data Mining\n",
    "  - Handling constraints in Machine Learning\n",
    "  - Hanlding Machine Learning models in optimization\n",
    "* It will be _far from a complete overview_\n",
    "  - Bias on my own research\n",
    "  - I'll do my best to provide pointers\n",
    "  - ...And starting points for related areas"
   ]
  },
  {
   "cell_type": "markdown",
   "metadata": {
    "slideshow": {
     "slide_type": "subslide"
    }
   },
   "source": [
    "## Machine Learning for Constrained Optimization\n",
    "\n",
    "**Course material**\n",
    "\n",
    "* Jupyter notebooks for everything; version 6, for compatibility with...\n",
    "* [RISE](https://rise.readthedocs.io/) plugin for the presentation mode\n",
    "* [Poetry](https://python-poetry.org) for dependency management and reproducibility\n",
    "* Each part in different github repository\n",
    "\n",
    "**Lectures are meant to be _executed_**\n",
    "\n",
    "For doing it locally, you need to:\n",
    "\n",
    "* Install [Poetry](https://python-poetry.org/docs/) using pipx or the native installer\n",
    "* Clone the git repository\n",
    "* Open a terminal on the cloned repository\n",
    "* Run `poetry shell` then `jupyter notebook`"
   ]
  },
  {
   "cell_type": "markdown",
   "metadata": {
    "slideshow": {
     "slide_type": "subslide"
    }
   },
   "source": [
    "## Machine Learning for Constrained Optimization\n",
    "\n",
    "**Let's check our directory structure:**"
   ]
  },
  {
   "cell_type": "code",
   "execution_count": 4,
   "metadata": {},
   "outputs": [
    {
     "name": "stdout",
     "output_type": "stream",
     "text": [
      "\u001b[31mLICENSE.md\u001b[m\u001b[m           \u001b[1m\u001b[36mdata\u001b[m\u001b[m                 poetry.lock\r\n",
      "\u001b[31mREADME.md\u001b[m\u001b[m            \u001b[1m\u001b[36mnotebooks\u001b[m\u001b[m            pyproject.toml\r\n",
      "\u001b[1m\u001b[36massets\u001b[m\u001b[m               \u001b[1m\u001b[36mpdfs\u001b[m\u001b[m                 requirements_dev.txt\r\n"
     ]
    }
   ],
   "source": [
    "!ls .."
   ]
  },
  {
   "cell_type": "markdown",
   "metadata": {},
   "source": [
    "* The `data` folder is meant for datasets & co.\n",
    "* The pdf folder contains PDF exports for the notebooks\n",
    "* In the `Dockerfile` you have the container setup instructions\n",
    "* The `docker-compose.yml` file specifies how to run the container\n",
    "* The `README.md` file contains instructions on how to run the lectures "
   ]
  },
  {
   "cell_type": "markdown",
   "metadata": {
    "slideshow": {
     "slide_type": "subslide"
    }
   },
   "source": [
    "## Machine Learning for Constrained Optimization\n",
    "\n",
    "**Let's check our directory structure:**"
   ]
  },
  {
   "cell_type": "code",
   "execution_count": 5,
   "metadata": {},
   "outputs": [
    {
     "name": "stdout",
     "output_type": "stream",
     "text": [
      "\u001b[31m00. Introduction to the Course.ipynb\u001b[m\u001b[m\r\n",
      "\u001b[31m01. Constraint Optimization for Data Mining.ipynb\u001b[m\u001b[m\r\n",
      "\u001b[31m02. The Alternating Direction Method of Multipliers.ipynb\u001b[m\u001b[m\r\n",
      "\u001b[31m03. Solving the Path Formulation.ipynb\u001b[m\u001b[m\r\n",
      "\u001b[31m04. Consolidation as Regularization.ipynb\u001b[m\u001b[m\r\n",
      "\u001b[31m05. Mixed Integer Linear Programming.ipynb\u001b[m\u001b[m\r\n",
      "\u001b[31m06. Solving the Consolidation Problem.ipynb\u001b[m\u001b[m\r\n",
      "\u001b[31m07. From Pricing....ipynb\u001b[m\u001b[m\r\n",
      "\u001b[31m08. ...To Column Generation.ipynb\u001b[m\u001b[m\r\n",
      "\u001b[31m09. Constraints in the Master.ipynb\u001b[m\u001b[m\r\n",
      "\u001b[31m10. Constraints in the Subproblem.ipynb\u001b[m\u001b[m\r\n",
      "\u001b[31m11. Maximum Wait Pricing Model.ipynb\u001b[m\u001b[m\r\n",
      "\u001b[31mprint-pdf.sh\u001b[m\u001b[m\r\n",
      "\u001b[31mrise.css\u001b[m\u001b[m\r\n",
      "\u001b[1m\u001b[36mutil\u001b[m\u001b[m\r\n"
     ]
    }
   ],
   "source": [
    "!ls ../notebooks"
   ]
  },
  {
   "cell_type": "markdown",
   "metadata": {},
   "source": [
    "* In the `notebooks` folder we have the notebooks themselves\n",
    "* A `util` folder with a python module for utility functions\n",
    "* An `assets` folder with pictures, fonts, & co.\n",
    "* The `rise.css`, which is a style file for the presentation model"
   ]
  }
 ],
 "metadata": {
  "celltoolbar": "Slideshow",
  "kernelspec": {
   "display_name": "Python 3 (ipykernel)",
   "language": "python",
   "name": "python3"
  },
  "language_info": {
   "codemirror_mode": {
    "name": "ipython",
    "version": 3
   },
   "file_extension": ".py",
   "mimetype": "text/x-python",
   "name": "python",
   "nbconvert_exporter": "python",
   "pygments_lexer": "ipython3",
   "version": "3.11.8"
  },
  "rise": {
   "center": false,
   "transition": "fade"
  }
 },
 "nbformat": 4,
 "nbformat_minor": 4
}
