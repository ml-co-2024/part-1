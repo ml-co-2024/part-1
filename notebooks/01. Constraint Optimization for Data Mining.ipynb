{
 "cells": [
  {
   "cell_type": "code",
   "execution_count": 21,
   "metadata": {
    "slideshow": {
     "slide_type": "skip"
    }
   },
   "outputs": [
    {
     "name": "stdout",
     "output_type": "stream",
     "text": [
      "The autoreload extension is already loaded. To reload it, use:\n",
      "  %reload_ext autoreload\n"
     ]
    }
   ],
   "source": [
    "# ============================================================\n",
    "# Notebook setup: run this before everything\n",
    "# ============================================================\n",
    "\n",
    "%load_ext autoreload\n",
    "%autoreload 2\n",
    "\n",
    "# Control figure size\n",
    "interactive_figures = False\n",
    "if interactive_figures:\n",
    "    # Normal behavior\n",
    "    %matplotlib widget\n",
    "    figsize=(9, 3)\n",
    "else:\n",
    "    # PDF export behavior\n",
    "    figsize=(14, 5)\n",
    "    \n",
    "ig_bbox = (900, 250)\n",
    "\n",
    "#from matplotlib import pyplot as plt\n",
    "from util import util\n",
    "import igraph as ig\n",
    "#import numpy as np"
   ]
  },
  {
   "cell_type": "markdown",
   "metadata": {
    "slideshow": {
     "slide_type": "slide"
    }
   },
   "source": [
    "# Constrained Optimization for Data Mining\n",
    "\n",
    "Definitely niche, but also a great example"
   ]
  },
  {
   "cell_type": "markdown",
   "metadata": {
    "slideshow": {
     "slide_type": "subslide"
    }
   },
   "source": [
    "## Constrained Optimization for Data Mining\n",
    "\n",
    "**Let's consider a data mining problem for web analytics**\n",
    "\n",
    "<center><img src=\"assets/webdev.jpg\" width=\"600px\"/></center>\n",
    "\n",
    "* A company wants to _analyze user behavior_ on their web site\n",
    "* ...With the goal of optimizing its structure\n",
    "* For privacy reason, the company _does not want to resort to tracking_\n",
    "* ...And plan to relies on simple _page/link-click counts_"
   ]
  },
  {
   "cell_type": "markdown",
   "metadata": {
    "slideshow": {
     "slide_type": "subslide"
    }
   },
   "source": [
    "## Constrained Optimization for Data Mining\n",
    "\n",
    "**Our _input_ consists of page and link _counts_ for multiple time steps**\n",
    "\n",
    "| t | 0  | 1  | ... | 0,1 | 0,3 | 1,2 | ...  |\n",
    "|:-:|:--:|:--:|:---:|:---:|:---:|:---:|:----:|\n",
    "| 0 | 35 | 12 | ... | 21  | 7   |  9  | ...  |\n",
    "| 1 | 42 | 14 | ... | 22  | 11  |  10 | ...  |\n",
    "| 2 | 38 | 9  | ... | 17  | 10  |  8  | ...  |\n",
    "\n",
    "* Each simple number refers to a page, each pair to a link\n",
    "* Cells contain presence/link-click counts for different value of the time $t$\n",
    "\n",
    "**Our _output_ consists of navigation paths on the web site**\n",
    "\n",
    "A path specifies which page is visited at every point of time, e.g.:\n",
    "\n",
    "$$\n",
    "\\left\\{ (2, 0), (3, 0), (4, 1), (5, 3) \\right\\}\n",
    "$$\n",
    "\n",
    "* In this case the path starts at time $2$, stays at page $0$ for two time units\n",
    "* ...Then moves to $1$ and then $3$\n"
   ]
  },
  {
   "cell_type": "markdown",
   "metadata": {
    "slideshow": {
     "slide_type": "subslide"
    }
   },
   "source": [
    "<div class=\"big\">How would you tackle this problem?</div>"
   ]
  },
  {
   "cell_type": "markdown",
   "metadata": {
    "slideshow": {
     "slide_type": "subslide"
    }
   },
   "source": [
    "## Constrained Optimization for Data Mining\n",
    "\n",
    "**The main issue is representing and handling _paths_**\n",
    "\n",
    "* A path is _combinatorial_ object ($\\Rightarrow$ not differentiable)\n",
    "* Nodes in a path must be _connected_\n",
    "\n",
    "In other words, the main issue is dealing with _constraints_"
   ]
  },
  {
   "cell_type": "markdown",
   "metadata": {
    "slideshow": {
     "slide_type": "fragment"
    }
   },
   "source": [
    "**We will see how to tackle the problem directly via Constrained Optimization**\n",
    "\n",
    "* The approach will work decently well\n",
    "* ...But make no mistake: this won't be SotA\n",
    "\n",
    "Our main purpose is seeing _many_ CO methods in action!\n"
   ]
  },
  {
   "cell_type": "markdown",
   "metadata": {
    "slideshow": {
     "slide_type": "subslide"
    }
   },
   "source": [
    "## Constrained Optimization for Data Mining\n",
    "\n",
    "**This is a _very challenging_ problem!**\n",
    "\n",
    "<center><img src=\"assets/webdev.jpg\" width=\"600px\"/></center>\n",
    "\n",
    "* There are _many viable paths_!\n",
    "* ...And we start with _quite poor information_"
   ]
  },
  {
   "cell_type": "markdown",
   "metadata": {
    "slideshow": {
     "slide_type": "subslide"
    }
   },
   "source": [
    "## Web Site as  Graph\n",
    "\n",
    "**Our web site can be represented as a _directed graph_**\n",
    "\n",
    "We will generate one at random, with a realistic structure "
   ]
  },
  {
   "cell_type": "code",
   "execution_count": 23,
   "metadata": {},
   "outputs": [
    {
     "data": {
      "image/svg+xml": [
       "<?xml version=\"1.0\" encoding=\"UTF-8\"?>\n",
       "<svg xmlns=\"http://www.w3.org/2000/svg\" xmlns:xlink=\"http://www.w3.org/1999/xlink\" width=\"900\" height=\"250\" viewBox=\"0 0 900 250\">\n",
       "<defs>\n",
       "<g>\n",
       "<g id=\"glyph-0-0\">\n",
       "<path d=\"M 2.703125 -6.992188 C 3.609375 -6.992188 4.265625 -6.621094 4.667969 -5.875 C 4.980469 -5.296875 5.136719 -4.507812 5.136719 -3.507812 C 5.136719 -2.554688 4.996094 -1.769531 4.710938 -1.148438 C 4.300781 -0.257812 3.632812 0.191406 2.699219 0.191406 C 1.859375 0.191406 1.234375 -0.175781 0.824219 -0.902344 C 0.484375 -1.511719 0.3125 -2.328125 0.3125 -3.355469 C 0.3125 -4.148438 0.414062 -4.832031 0.621094 -5.398438 C 1.003906 -6.460938 1.699219 -6.992188 2.703125 -6.992188 Z M 2.695312 -0.609375 C 3.152344 -0.609375 3.515625 -0.8125 3.785156 -1.214844 C 4.054688 -1.617188 4.1875 -2.371094 4.1875 -3.472656 C 4.1875 -4.265625 4.09375 -4.917969 3.898438 -5.433594 C 3.703125 -5.945312 3.320312 -6.203125 2.757812 -6.203125 C 2.242188 -6.203125 1.863281 -5.957031 1.625 -5.472656 C 1.382812 -4.984375 1.265625 -4.265625 1.265625 -3.320312 C 1.265625 -2.609375 1.339844 -2.035156 1.492188 -1.601562 C 1.726562 -0.941406 2.128906 -0.609375 2.695312 -0.609375 Z M 2.695312 -0.609375 \"/>\n",
       "</g>\n",
       "<g id=\"glyph-0-1\">\n",
       "<path d=\"M 0.957031 -4.953125 L 0.957031 -5.625 C 1.59375 -5.6875 2.035156 -5.789062 2.285156 -5.933594 C 2.535156 -6.078125 2.722656 -6.421875 2.847656 -6.960938 L 3.539062 -6.960938 L 3.539062 0 L 2.601562 0 L 2.601562 -4.953125 Z M 0.957031 -4.953125 \"/>\n",
       "</g>\n",
       "<g id=\"glyph-0-2\">\n",
       "<path d=\"M 0.3125 0 C 0.34375 -0.601562 0.46875 -1.125 0.6875 -1.570312 C 0.902344 -2.015625 1.324219 -2.421875 1.953125 -2.789062 L 2.890625 -3.328125 C 3.3125 -3.574219 3.605469 -3.78125 3.773438 -3.953125 C 4.039062 -4.226562 4.175781 -4.535156 4.175781 -4.882812 C 4.175781 -5.289062 4.054688 -5.613281 3.808594 -5.851562 C 3.5625 -6.089844 3.238281 -6.210938 2.832031 -6.210938 C 2.230469 -6.210938 1.8125 -5.984375 1.582031 -5.527344 C 1.457031 -5.28125 1.390625 -4.945312 1.375 -4.511719 L 0.484375 -4.511719 C 0.492188 -5.121094 0.605469 -5.617188 0.820312 -6 C 1.203125 -6.679688 1.875 -7.015625 2.835938 -7.015625 C 3.636719 -7.015625 4.222656 -6.800781 4.59375 -6.367188 C 4.960938 -5.933594 5.148438 -5.453125 5.148438 -4.921875 C 5.148438 -4.363281 4.949219 -3.882812 4.554688 -3.484375 C 4.328125 -3.253906 3.917969 -2.976562 3.328125 -2.648438 L 2.660156 -2.273438 C 2.34375 -2.097656 2.089844 -1.933594 1.910156 -1.773438 C 1.585938 -1.488281 1.378906 -1.175781 1.292969 -0.828125 L 5.113281 -0.828125 L 5.113281 0 Z M 0.3125 0 \"/>\n",
       "</g>\n",
       "<g id=\"glyph-0-3\">\n",
       "<path d=\"M 2.597656 0.191406 C 1.769531 0.191406 1.171875 -0.0351562 0.796875 -0.492188 C 0.425781 -0.945312 0.238281 -1.496094 0.238281 -2.148438 L 1.15625 -2.148438 C 1.195312 -1.695312 1.28125 -1.367188 1.410156 -1.164062 C 1.640625 -0.796875 2.050781 -0.609375 2.648438 -0.609375 C 3.109375 -0.609375 3.480469 -0.734375 3.757812 -0.980469 C 4.039062 -1.226562 4.179688 -1.546875 4.179688 -1.9375 C 4.179688 -2.421875 4.03125 -2.757812 3.738281 -2.949219 C 3.445312 -3.140625 3.035156 -3.238281 2.507812 -3.238281 C 2.449219 -3.238281 2.390625 -3.238281 2.332031 -3.234375 C 2.273438 -3.234375 2.210938 -3.230469 2.148438 -3.226562 L 2.148438 -4.003906 C 2.238281 -3.992188 2.316406 -3.988281 2.378906 -3.984375 C 2.441406 -3.980469 2.507812 -3.980469 2.578125 -3.980469 C 2.90625 -3.980469 3.175781 -4.03125 3.390625 -4.136719 C 3.761719 -4.320312 3.945312 -4.644531 3.945312 -5.113281 C 3.945312 -5.460938 3.820312 -5.730469 3.574219 -5.917969 C 3.328125 -6.105469 3.039062 -6.203125 2.710938 -6.203125 C 2.125 -6.203125 1.71875 -6.007812 1.492188 -5.617188 C 1.371094 -5.402344 1.300781 -5.09375 1.285156 -4.695312 L 0.414062 -4.695312 C 0.414062 -5.21875 0.519531 -5.660156 0.726562 -6.023438 C 1.085938 -6.675781 1.714844 -7 2.617188 -7 C 3.328125 -7 3.882812 -6.84375 4.273438 -6.527344 C 4.664062 -6.210938 4.859375 -5.75 4.859375 -5.148438 C 4.859375 -4.71875 4.742188 -4.367188 4.511719 -4.101562 C 4.367188 -3.9375 4.183594 -3.804688 3.953125 -3.710938 C 4.320312 -3.609375 4.609375 -3.414062 4.816406 -3.128906 C 5.023438 -2.839844 5.125 -2.488281 5.125 -2.070312 C 5.125 -1.402344 4.90625 -0.859375 4.46875 -0.4375 C 4.027344 -0.0195312 3.40625 0.191406 2.597656 0.191406 Z M 2.597656 0.191406 \"/>\n",
       "</g>\n",
       "</g>\n",
       "</defs>\n",
       "<rect x=\"-90\" y=\"-25\" width=\"1080\" height=\"300\" fill=\"rgb(100%, 100%, 100%)\" fill-opacity=\"1\"/>\n",
       "<path fill=\"none\" stroke-width=\"1\" stroke-linecap=\"butt\" stroke-linejoin=\"miter\" stroke=\"rgb(26.666667%, 26.666667%, 26.666667%)\" stroke-opacity=\"1\" stroke-miterlimit=\"10\" d=\"M 502.707031 84.105469 C 502.707031 96.535156 492.632812 106.605469 480.207031 106.605469 C 467.78125 106.605469 457.707031 96.535156 457.707031 84.105469 C 457.707031 71.679688 467.78125 61.605469 480.207031 61.605469 C 492.632812 61.605469 502.707031 71.679688 502.707031 84.105469 \"/>\n",
       "<path fill=\"none\" stroke-width=\"1\" stroke-linecap=\"butt\" stroke-linejoin=\"miter\" stroke=\"rgb(26.666667%, 26.666667%, 26.666667%)\" stroke-opacity=\"1\" stroke-miterlimit=\"10\" d=\"M 464.296875 100.015625 C 366.886719 66.210938 284.246094 88.71875 228.585938 175.382812 \"/>\n",
       "<path fill-rule=\"nonzero\" fill=\"rgb(26.666667%, 26.666667%, 26.666667%)\" fill-opacity=\"1\" d=\"M 220.878906 187.386719 L 224.6875 172.878906 L 232.488281 177.886719 L 220.878906 187.386719 \"/>\n",
       "<path fill=\"none\" stroke-width=\"1\" stroke-linecap=\"butt\" stroke-linejoin=\"miter\" stroke=\"rgb(26.666667%, 26.666667%, 26.666667%)\" stroke-opacity=\"1\" stroke-miterlimit=\"10\" d=\"M 251.1875 184.089844 C 251.1875 196.515625 241.113281 206.589844 228.6875 206.589844 C 216.261719 206.589844 206.1875 196.515625 206.1875 184.089844 C 206.1875 171.664062 216.261719 161.589844 228.6875 161.589844 C 241.113281 161.589844 251.1875 171.664062 251.1875 184.089844 \"/>\n",
       "<path fill=\"none\" stroke-width=\"1\" stroke-linecap=\"butt\" stroke-linejoin=\"miter\" stroke=\"rgb(26.666667%, 26.666667%, 26.666667%)\" stroke-opacity=\"1\" stroke-miterlimit=\"10\" d=\"M 464.296875 100.015625 L 79.25 87.339844 \"/>\n",
       "<path fill-rule=\"nonzero\" fill=\"rgb(26.666667%, 26.666667%, 26.666667%)\" fill-opacity=\"1\" d=\"M 64.992188 86.867188 L 79.402344 82.707031 L 79.097656 91.972656 L 64.992188 86.867188 \"/>\n",
       "<path fill=\"none\" stroke-width=\"1\" stroke-linecap=\"butt\" stroke-linejoin=\"miter\" stroke=\"rgb(26.666667%, 26.666667%, 26.666667%)\" stroke-opacity=\"1\" stroke-miterlimit=\"10\" d=\"M 88.410156 70.464844 C 88.410156 82.890625 78.335938 92.964844 65.910156 92.964844 C 53.484375 92.964844 43.410156 82.890625 43.410156 70.464844 C 43.410156 58.039062 53.484375 47.964844 65.910156 47.964844 C 78.335938 47.964844 88.410156 58.039062 88.410156 70.464844 \"/>\n",
       "<path fill=\"none\" stroke-width=\"1\" stroke-linecap=\"butt\" stroke-linejoin=\"miter\" stroke=\"rgb(26.666667%, 26.666667%, 26.666667%)\" stroke-opacity=\"1\" stroke-miterlimit=\"10\" d=\"M 464.296875 100.015625 L 820.976562 53.761719 \"/>\n",
       "<path fill-rule=\"nonzero\" fill=\"rgb(26.666667%, 26.666667%, 26.666667%)\" fill-opacity=\"1\" d=\"M 835.125 51.929688 L 821.574219 58.359375 L 820.382812 49.167969 L 835.125 51.929688 \"/>\n",
       "<path fill=\"none\" stroke-width=\"1\" stroke-linecap=\"butt\" stroke-linejoin=\"miter\" stroke=\"rgb(26.666667%, 26.666667%, 26.666667%)\" stroke-opacity=\"1\" stroke-miterlimit=\"10\" d=\"M 888.410156 34.089844 C 888.410156 46.515625 878.335938 56.589844 865.910156 56.589844 C 853.484375 56.589844 843.410156 46.515625 843.410156 34.089844 C 843.410156 21.664062 853.484375 11.589844 865.910156 11.589844 C 878.335938 11.589844 888.410156 21.664062 888.410156 34.089844 \"/>\n",
       "<path fill=\"none\" stroke-width=\"1\" stroke-linecap=\"butt\" stroke-linejoin=\"miter\" stroke=\"rgb(26.666667%, 26.666667%, 26.666667%)\" stroke-opacity=\"1\" stroke-miterlimit=\"10\" d=\"M 212.777344 200 C 310.1875 233.804688 392.828125 211.296875 448.488281 124.632812 \"/>\n",
       "<path fill-rule=\"nonzero\" fill=\"rgb(26.666667%, 26.666667%, 26.666667%)\" fill-opacity=\"1\" d=\"M 456.195312 112.628906 L 452.386719 127.140625 L 444.585938 122.128906 L 456.195312 112.628906 \"/>\n",
       "<path fill=\"none\" stroke-width=\"1\" stroke-linecap=\"butt\" stroke-linejoin=\"miter\" stroke=\"rgb(26.666667%, 26.666667%, 26.666667%)\" stroke-opacity=\"1\" stroke-miterlimit=\"10\" d=\"M 212.777344 200 L 73.996094 103.125 \"/>\n",
       "<path fill-rule=\"nonzero\" fill=\"rgb(26.666667%, 26.666667%, 26.666667%)\" fill-opacity=\"1\" d=\"M 62.300781 94.960938 L 76.652344 99.324219 L 71.34375 106.925781 L 62.300781 94.960938 \"/>\n",
       "<path fill-rule=\"nonzero\" fill=\"rgb(55.294118%, 82.745098%, 78.039216%)\" fill-opacity=\"1\" stroke-width=\"1\" stroke-linecap=\"butt\" stroke-linejoin=\"miter\" stroke=\"rgb(0%, 0%, 0%)\" stroke-opacity=\"1\" stroke-miterlimit=\"10\" d=\"M 479.296875 100.015625 C 479.296875 108.300781 472.582031 115.015625 464.296875 115.015625 C 456.011719 115.015625 449.296875 108.300781 449.296875 100.015625 C 449.296875 91.734375 456.011719 85.015625 464.296875 85.015625 C 472.582031 85.015625 479.296875 91.734375 479.296875 100.015625 \"/>\n",
       "<path fill-rule=\"nonzero\" fill=\"rgb(100%, 100%, 70.196078%)\" fill-opacity=\"1\" stroke-width=\"1\" stroke-linecap=\"butt\" stroke-linejoin=\"miter\" stroke=\"rgb(0%, 0%, 0%)\" stroke-opacity=\"1\" stroke-miterlimit=\"10\" d=\"M 227.777344 200 C 227.777344 208.285156 221.0625 215 212.777344 215 C 204.492188 215 197.777344 208.285156 197.777344 200 C 197.777344 191.714844 204.492188 185 212.777344 185 C 221.0625 185 227.777344 191.714844 227.777344 200 \"/>\n",
       "<path fill-rule=\"nonzero\" fill=\"rgb(74.509804%, 72.941176%, 85.490196%)\" fill-opacity=\"1\" stroke-width=\"1\" stroke-linecap=\"butt\" stroke-linejoin=\"miter\" stroke=\"rgb(0%, 0%, 0%)\" stroke-opacity=\"1\" stroke-miterlimit=\"10\" d=\"M 65 86.375 C 65 94.660156 58.285156 101.375 50 101.375 C 41.714844 101.375 35 94.660156 35 86.375 C 35 78.089844 41.714844 71.375 50 71.375 C 58.285156 71.375 65 78.089844 65 86.375 \"/>\n",
       "<path fill-rule=\"nonzero\" fill=\"rgb(98.431373%, 50.196078%, 44.705882%)\" fill-opacity=\"1\" stroke-width=\"1\" stroke-linecap=\"butt\" stroke-linejoin=\"miter\" stroke=\"rgb(0%, 0%, 0%)\" stroke-opacity=\"1\" stroke-miterlimit=\"10\" d=\"M 865 50 C 865 58.285156 858.285156 65 850 65 C 841.714844 65 835 58.285156 835 50 C 835 41.714844 841.714844 35 850 35 C 858.285156 35 865 41.714844 865 50 \"/>\n",
       "<g fill=\"rgb(0%, 0%, 0%)\" fill-opacity=\"1\">\n",
       "<use xlink:href=\"#glyph-0-0\" x=\"461.574219\" y=\"104.664062\"/>\n",
       "</g>\n",
       "<g fill=\"rgb(0%, 0%, 0%)\" fill-opacity=\"1\">\n",
       "<use xlink:href=\"#glyph-0-1\" x=\"210.527344\" y=\"204.632812\"/>\n",
       "</g>\n",
       "<g fill=\"rgb(0%, 0%, 0%)\" fill-opacity=\"1\">\n",
       "<use xlink:href=\"#glyph-0-2\" x=\"47.269531\" y=\"91.035156\"/>\n",
       "</g>\n",
       "<g fill=\"rgb(0%, 0%, 0%)\" fill-opacity=\"1\">\n",
       "<use xlink:href=\"#glyph-0-3\" x=\"847.316406\" y=\"54.652344\"/>\n",
       "</g>\n",
       "</svg>\n"
      ],
      "text/plain": [
       "<igraph.drawing.cairo.plot.CairoPlot at 0x364416490>"
      ]
     },
     "execution_count": 23,
     "metadata": {
      "image/svg+xml": {
       "isolated": true
      }
     },
     "output_type": "execute_result"
    }
   ],
   "source": [
    "g = util.build_website_graph(nnodes=4, rate=3, extra_arc_fraction=0.25, seed=42)\n",
    "ig.plot(g, **util.get_visual_style(g), bbox=ig_bbox, margin=50)"
   ]
  },
  {
   "cell_type": "markdown",
   "metadata": {},
   "source": [
    "* The method generates `nnodes` vertexes in a _tree structure_ as a base\n",
    "* The #children per vertex follows a _Poisson distribution_ with specified rate\n",
    "* ...Then a _fraction of the missing arcs_ is added at random"
   ]
  },
  {
   "cell_type": "markdown",
   "metadata": {
    "slideshow": {
     "slide_type": "subslide"
    }
   },
   "source": [
    "## Web Site as  Graph\n",
    "\n",
    "**Our web site can be represented as a _directed graph_**\n",
    "\n",
    "We will generate one at random, with a realistic structure "
   ]
  },
  {
   "cell_type": "code",
   "execution_count": 24,
   "metadata": {},
   "outputs": [
    {
     "data": {
      "image/svg+xml": [
       "<?xml version=\"1.0\" encoding=\"UTF-8\"?>\n",
       "<svg xmlns=\"http://www.w3.org/2000/svg\" xmlns:xlink=\"http://www.w3.org/1999/xlink\" width=\"900\" height=\"250\" viewBox=\"0 0 900 250\">\n",
       "<defs>\n",
       "<g>\n",
       "<g id=\"glyph-0-0\">\n",
       "<path d=\"M 2.703125 -6.992188 C 3.609375 -6.992188 4.265625 -6.621094 4.667969 -5.875 C 4.980469 -5.296875 5.136719 -4.507812 5.136719 -3.507812 C 5.136719 -2.554688 4.996094 -1.769531 4.710938 -1.148438 C 4.300781 -0.257812 3.632812 0.191406 2.699219 0.191406 C 1.859375 0.191406 1.234375 -0.175781 0.824219 -0.902344 C 0.484375 -1.511719 0.3125 -2.328125 0.3125 -3.355469 C 0.3125 -4.148438 0.414062 -4.832031 0.621094 -5.398438 C 1.003906 -6.460938 1.699219 -6.992188 2.703125 -6.992188 Z M 2.695312 -0.609375 C 3.152344 -0.609375 3.515625 -0.8125 3.785156 -1.214844 C 4.054688 -1.617188 4.1875 -2.371094 4.1875 -3.472656 C 4.1875 -4.265625 4.09375 -4.917969 3.898438 -5.433594 C 3.703125 -5.945312 3.320312 -6.203125 2.757812 -6.203125 C 2.242188 -6.203125 1.863281 -5.957031 1.625 -5.472656 C 1.382812 -4.984375 1.265625 -4.265625 1.265625 -3.320312 C 1.265625 -2.609375 1.339844 -2.035156 1.492188 -1.601562 C 1.726562 -0.941406 2.128906 -0.609375 2.695312 -0.609375 Z M 2.695312 -0.609375 \"/>\n",
       "</g>\n",
       "<g id=\"glyph-0-1\">\n",
       "<path d=\"M 0.957031 -4.953125 L 0.957031 -5.625 C 1.59375 -5.6875 2.035156 -5.789062 2.285156 -5.933594 C 2.535156 -6.078125 2.722656 -6.421875 2.847656 -6.960938 L 3.539062 -6.960938 L 3.539062 0 L 2.601562 0 L 2.601562 -4.953125 Z M 0.957031 -4.953125 \"/>\n",
       "</g>\n",
       "<g id=\"glyph-0-2\">\n",
       "<path d=\"M 0.3125 0 C 0.34375 -0.601562 0.46875 -1.125 0.6875 -1.570312 C 0.902344 -2.015625 1.324219 -2.421875 1.953125 -2.789062 L 2.890625 -3.328125 C 3.3125 -3.574219 3.605469 -3.78125 3.773438 -3.953125 C 4.039062 -4.226562 4.175781 -4.535156 4.175781 -4.882812 C 4.175781 -5.289062 4.054688 -5.613281 3.808594 -5.851562 C 3.5625 -6.089844 3.238281 -6.210938 2.832031 -6.210938 C 2.230469 -6.210938 1.8125 -5.984375 1.582031 -5.527344 C 1.457031 -5.28125 1.390625 -4.945312 1.375 -4.511719 L 0.484375 -4.511719 C 0.492188 -5.121094 0.605469 -5.617188 0.820312 -6 C 1.203125 -6.679688 1.875 -7.015625 2.835938 -7.015625 C 3.636719 -7.015625 4.222656 -6.800781 4.59375 -6.367188 C 4.960938 -5.933594 5.148438 -5.453125 5.148438 -4.921875 C 5.148438 -4.363281 4.949219 -3.882812 4.554688 -3.484375 C 4.328125 -3.253906 3.917969 -2.976562 3.328125 -2.648438 L 2.660156 -2.273438 C 2.34375 -2.097656 2.089844 -1.933594 1.910156 -1.773438 C 1.585938 -1.488281 1.378906 -1.175781 1.292969 -0.828125 L 5.113281 -0.828125 L 5.113281 0 Z M 0.3125 0 \"/>\n",
       "</g>\n",
       "<g id=\"glyph-0-3\">\n",
       "<path d=\"M 2.597656 0.191406 C 1.769531 0.191406 1.171875 -0.0351562 0.796875 -0.492188 C 0.425781 -0.945312 0.238281 -1.496094 0.238281 -2.148438 L 1.15625 -2.148438 C 1.195312 -1.695312 1.28125 -1.367188 1.410156 -1.164062 C 1.640625 -0.796875 2.050781 -0.609375 2.648438 -0.609375 C 3.109375 -0.609375 3.480469 -0.734375 3.757812 -0.980469 C 4.039062 -1.226562 4.179688 -1.546875 4.179688 -1.9375 C 4.179688 -2.421875 4.03125 -2.757812 3.738281 -2.949219 C 3.445312 -3.140625 3.035156 -3.238281 2.507812 -3.238281 C 2.449219 -3.238281 2.390625 -3.238281 2.332031 -3.234375 C 2.273438 -3.234375 2.210938 -3.230469 2.148438 -3.226562 L 2.148438 -4.003906 C 2.238281 -3.992188 2.316406 -3.988281 2.378906 -3.984375 C 2.441406 -3.980469 2.507812 -3.980469 2.578125 -3.980469 C 2.90625 -3.980469 3.175781 -4.03125 3.390625 -4.136719 C 3.761719 -4.320312 3.945312 -4.644531 3.945312 -5.113281 C 3.945312 -5.460938 3.820312 -5.730469 3.574219 -5.917969 C 3.328125 -6.105469 3.039062 -6.203125 2.710938 -6.203125 C 2.125 -6.203125 1.71875 -6.007812 1.492188 -5.617188 C 1.371094 -5.402344 1.300781 -5.09375 1.285156 -4.695312 L 0.414062 -4.695312 C 0.414062 -5.21875 0.519531 -5.660156 0.726562 -6.023438 C 1.085938 -6.675781 1.714844 -7 2.617188 -7 C 3.328125 -7 3.882812 -6.84375 4.273438 -6.527344 C 4.664062 -6.210938 4.859375 -5.75 4.859375 -5.148438 C 4.859375 -4.71875 4.742188 -4.367188 4.511719 -4.101562 C 4.367188 -3.9375 4.183594 -3.804688 3.953125 -3.710938 C 4.320312 -3.609375 4.609375 -3.414062 4.816406 -3.128906 C 5.023438 -2.839844 5.125 -2.488281 5.125 -2.070312 C 5.125 -1.402344 4.90625 -0.859375 4.46875 -0.4375 C 4.027344 -0.0195312 3.40625 0.191406 2.597656 0.191406 Z M 2.597656 0.191406 \"/>\n",
       "</g>\n",
       "</g>\n",
       "</defs>\n",
       "<rect x=\"-90\" y=\"-25\" width=\"1080\" height=\"300\" fill=\"rgb(100%, 100%, 100%)\" fill-opacity=\"1\"/>\n",
       "<path fill=\"none\" stroke-width=\"1\" stroke-linecap=\"butt\" stroke-linejoin=\"miter\" stroke=\"rgb(26.666667%, 26.666667%, 26.666667%)\" stroke-opacity=\"1\" stroke-miterlimit=\"10\" d=\"M 502.707031 84.105469 C 502.707031 96.535156 492.632812 106.605469 480.207031 106.605469 C 467.78125 106.605469 457.707031 96.535156 457.707031 84.105469 C 457.707031 71.679688 467.78125 61.605469 480.207031 61.605469 C 492.632812 61.605469 502.707031 71.679688 502.707031 84.105469 \"/>\n",
       "<path fill=\"none\" stroke-width=\"1\" stroke-linecap=\"butt\" stroke-linejoin=\"miter\" stroke=\"rgb(26.666667%, 26.666667%, 26.666667%)\" stroke-opacity=\"1\" stroke-miterlimit=\"10\" d=\"M 464.296875 100.015625 C 366.886719 66.210938 284.246094 88.71875 228.585938 175.382812 \"/>\n",
       "<path fill-rule=\"nonzero\" fill=\"rgb(26.666667%, 26.666667%, 26.666667%)\" fill-opacity=\"1\" d=\"M 220.878906 187.386719 L 224.6875 172.878906 L 232.488281 177.886719 L 220.878906 187.386719 \"/>\n",
       "<path fill=\"none\" stroke-width=\"1\" stroke-linecap=\"butt\" stroke-linejoin=\"miter\" stroke=\"rgb(26.666667%, 26.666667%, 26.666667%)\" stroke-opacity=\"1\" stroke-miterlimit=\"10\" d=\"M 251.1875 184.089844 C 251.1875 196.515625 241.113281 206.589844 228.6875 206.589844 C 216.261719 206.589844 206.1875 196.515625 206.1875 184.089844 C 206.1875 171.664062 216.261719 161.589844 228.6875 161.589844 C 241.113281 161.589844 251.1875 171.664062 251.1875 184.089844 \"/>\n",
       "<path fill=\"none\" stroke-width=\"1\" stroke-linecap=\"butt\" stroke-linejoin=\"miter\" stroke=\"rgb(26.666667%, 26.666667%, 26.666667%)\" stroke-opacity=\"1\" stroke-miterlimit=\"10\" d=\"M 464.296875 100.015625 L 79.25 87.339844 \"/>\n",
       "<path fill-rule=\"nonzero\" fill=\"rgb(26.666667%, 26.666667%, 26.666667%)\" fill-opacity=\"1\" d=\"M 64.992188 86.867188 L 79.402344 82.707031 L 79.097656 91.972656 L 64.992188 86.867188 \"/>\n",
       "<path fill=\"none\" stroke-width=\"1\" stroke-linecap=\"butt\" stroke-linejoin=\"miter\" stroke=\"rgb(26.666667%, 26.666667%, 26.666667%)\" stroke-opacity=\"1\" stroke-miterlimit=\"10\" d=\"M 88.410156 70.464844 C 88.410156 82.890625 78.335938 92.964844 65.910156 92.964844 C 53.484375 92.964844 43.410156 82.890625 43.410156 70.464844 C 43.410156 58.039062 53.484375 47.964844 65.910156 47.964844 C 78.335938 47.964844 88.410156 58.039062 88.410156 70.464844 \"/>\n",
       "<path fill=\"none\" stroke-width=\"1\" stroke-linecap=\"butt\" stroke-linejoin=\"miter\" stroke=\"rgb(26.666667%, 26.666667%, 26.666667%)\" stroke-opacity=\"1\" stroke-miterlimit=\"10\" d=\"M 464.296875 100.015625 L 820.976562 53.761719 \"/>\n",
       "<path fill-rule=\"nonzero\" fill=\"rgb(26.666667%, 26.666667%, 26.666667%)\" fill-opacity=\"1\" d=\"M 835.125 51.929688 L 821.574219 58.359375 L 820.382812 49.167969 L 835.125 51.929688 \"/>\n",
       "<path fill=\"none\" stroke-width=\"1\" stroke-linecap=\"butt\" stroke-linejoin=\"miter\" stroke=\"rgb(26.666667%, 26.666667%, 26.666667%)\" stroke-opacity=\"1\" stroke-miterlimit=\"10\" d=\"M 888.410156 34.089844 C 888.410156 46.515625 878.335938 56.589844 865.910156 56.589844 C 853.484375 56.589844 843.410156 46.515625 843.410156 34.089844 C 843.410156 21.664062 853.484375 11.589844 865.910156 11.589844 C 878.335938 11.589844 888.410156 21.664062 888.410156 34.089844 \"/>\n",
       "<path fill=\"none\" stroke-width=\"1\" stroke-linecap=\"butt\" stroke-linejoin=\"miter\" stroke=\"rgb(26.666667%, 26.666667%, 26.666667%)\" stroke-opacity=\"1\" stroke-miterlimit=\"10\" d=\"M 212.777344 200 C 310.1875 233.804688 392.828125 211.296875 448.488281 124.632812 \"/>\n",
       "<path fill-rule=\"nonzero\" fill=\"rgb(26.666667%, 26.666667%, 26.666667%)\" fill-opacity=\"1\" d=\"M 456.195312 112.628906 L 452.386719 127.140625 L 444.585938 122.128906 L 456.195312 112.628906 \"/>\n",
       "<path fill=\"none\" stroke-width=\"1\" stroke-linecap=\"butt\" stroke-linejoin=\"miter\" stroke=\"rgb(26.666667%, 26.666667%, 26.666667%)\" stroke-opacity=\"1\" stroke-miterlimit=\"10\" d=\"M 212.777344 200 L 73.996094 103.125 \"/>\n",
       "<path fill-rule=\"nonzero\" fill=\"rgb(26.666667%, 26.666667%, 26.666667%)\" fill-opacity=\"1\" d=\"M 62.300781 94.960938 L 76.652344 99.324219 L 71.34375 106.925781 L 62.300781 94.960938 \"/>\n",
       "<path fill-rule=\"nonzero\" fill=\"rgb(55.294118%, 82.745098%, 78.039216%)\" fill-opacity=\"1\" stroke-width=\"1\" stroke-linecap=\"butt\" stroke-linejoin=\"miter\" stroke=\"rgb(0%, 0%, 0%)\" stroke-opacity=\"1\" stroke-miterlimit=\"10\" d=\"M 479.296875 100.015625 C 479.296875 108.300781 472.582031 115.015625 464.296875 115.015625 C 456.011719 115.015625 449.296875 108.300781 449.296875 100.015625 C 449.296875 91.734375 456.011719 85.015625 464.296875 85.015625 C 472.582031 85.015625 479.296875 91.734375 479.296875 100.015625 \"/>\n",
       "<path fill-rule=\"nonzero\" fill=\"rgb(100%, 100%, 70.196078%)\" fill-opacity=\"1\" stroke-width=\"1\" stroke-linecap=\"butt\" stroke-linejoin=\"miter\" stroke=\"rgb(0%, 0%, 0%)\" stroke-opacity=\"1\" stroke-miterlimit=\"10\" d=\"M 227.777344 200 C 227.777344 208.285156 221.0625 215 212.777344 215 C 204.492188 215 197.777344 208.285156 197.777344 200 C 197.777344 191.714844 204.492188 185 212.777344 185 C 221.0625 185 227.777344 191.714844 227.777344 200 \"/>\n",
       "<path fill-rule=\"nonzero\" fill=\"rgb(74.509804%, 72.941176%, 85.490196%)\" fill-opacity=\"1\" stroke-width=\"1\" stroke-linecap=\"butt\" stroke-linejoin=\"miter\" stroke=\"rgb(0%, 0%, 0%)\" stroke-opacity=\"1\" stroke-miterlimit=\"10\" d=\"M 65 86.375 C 65 94.660156 58.285156 101.375 50 101.375 C 41.714844 101.375 35 94.660156 35 86.375 C 35 78.089844 41.714844 71.375 50 71.375 C 58.285156 71.375 65 78.089844 65 86.375 \"/>\n",
       "<path fill-rule=\"nonzero\" fill=\"rgb(98.431373%, 50.196078%, 44.705882%)\" fill-opacity=\"1\" stroke-width=\"1\" stroke-linecap=\"butt\" stroke-linejoin=\"miter\" stroke=\"rgb(0%, 0%, 0%)\" stroke-opacity=\"1\" stroke-miterlimit=\"10\" d=\"M 865 50 C 865 58.285156 858.285156 65 850 65 C 841.714844 65 835 58.285156 835 50 C 835 41.714844 841.714844 35 850 35 C 858.285156 35 865 41.714844 865 50 \"/>\n",
       "<g fill=\"rgb(0%, 0%, 0%)\" fill-opacity=\"1\">\n",
       "<use xlink:href=\"#glyph-0-0\" x=\"461.574219\" y=\"104.664062\"/>\n",
       "</g>\n",
       "<g fill=\"rgb(0%, 0%, 0%)\" fill-opacity=\"1\">\n",
       "<use xlink:href=\"#glyph-0-1\" x=\"210.527344\" y=\"204.632812\"/>\n",
       "</g>\n",
       "<g fill=\"rgb(0%, 0%, 0%)\" fill-opacity=\"1\">\n",
       "<use xlink:href=\"#glyph-0-2\" x=\"47.269531\" y=\"91.035156\"/>\n",
       "</g>\n",
       "<g fill=\"rgb(0%, 0%, 0%)\" fill-opacity=\"1\">\n",
       "<use xlink:href=\"#glyph-0-3\" x=\"847.316406\" y=\"54.652344\"/>\n",
       "</g>\n",
       "</svg>\n"
      ],
      "text/plain": [
       "<igraph.drawing.cairo.plot.CairoPlot at 0x366cc57d0>"
      ]
     },
     "execution_count": 24,
     "metadata": {
      "image/svg+xml": {
       "isolated": true
      }
     },
     "output_type": "execute_result"
    }
   ],
   "source": [
    "g = util.build_website_graph(nnodes=4, rate=3, extra_arc_fraction=0.25, seed=42)\n",
    "ig.plot(g, **util.get_visual_style(g), bbox=ig_bbox, margin=50)"
   ]
  },
  {
   "cell_type": "markdown",
   "metadata": {},
   "source": [
    "* The graph is handled via the [python-igraph](https://python.igraph.org/) library\n",
    "* ...Which provides a fast C++ implementation of many graph primitives\n",
    "* The library also include a good selection of graph algorithms"
   ]
  },
  {
   "cell_type": "markdown",
   "metadata": {
    "slideshow": {
     "slide_type": "subslide"
    }
   },
   "source": [
    "## Ground Truth Generation\n",
    "\n",
    "**We obtain realistic counts by routing \"flow\" along random paths**\n",
    "\n",
    "For one path, this can be done via a function from the utility module:"
   ]
  },
  {
   "cell_type": "code",
   "execution_count": 25,
   "metadata": {},
   "outputs": [
    {
     "name": "stdout",
     "output_type": "stream",
     "text": [
      "3.69: (1, 0)>(2, 3)>(3, 3)\n"
     ]
    }
   ],
   "source": [
    "home = g.vs[0] # Home page\n",
    "eoh = 4 # End of Horizon\n",
    "\n",
    "flow, path = util.route_random_flow(home, min_units=1, max_units=10, eoh=eoh, seed=10)\n",
    "print(f'{flow:.2f}: {\">\".join(str(v) for v in path)}')"
   ]
  },
  {
   "cell_type": "markdown",
   "metadata": {},
   "source": [
    "* The first vertex represents the home page\n",
    "* The \"flow\" represents the amount of users that traverse the path\n",
    "* `eoh` is the number of time units over which we assume to have counts"
   ]
  },
  {
   "cell_type": "markdown",
   "metadata": {
    "slideshow": {
     "slide_type": "subslide"
    }
   },
   "source": [
    "## Ground Truth Generation\n",
    "\n",
    "**A second function performs random routing for multiple paths**\n",
    "\n",
    "We will start from a simple example with a very small number of paths:"
   ]
  },
  {
   "cell_type": "code",
   "execution_count": 26,
   "metadata": {},
   "outputs": [
    {
     "name": "stdout",
     "output_type": "stream",
     "text": [
      "FLOW: PATH\n",
      "8.17: 2,3 > 3,3\n",
      "5.47: 0,2 > 1,2 > 2,2 > 3,2\n",
      "4.89: 0,1 > 1,1 > 2,0 > 3,0\n",
      "3.74: 3,3\n",
      "3.32: 1,0 > 2,0 > 3,2\n"
     ]
    }
   ],
   "source": [
    "flows, paths = util.build_random_paths(g, min_paths=3, max_paths=5,\n",
    "                                          min_units=1, max_units=10, eoh=eoh, seed=42)\n",
    "print('FLOW: PATH')\n",
    "util.print_ground_truth(flows, paths, sort='descending')"
   ]
  },
  {
   "cell_type": "markdown",
   "metadata": {},
   "source": [
    "* Paths may start from any page\n",
    "* Paths may start at any time step within the horizon\n",
    "\n",
    "**The generated paths represent our _ground truth_**"
   ]
  },
  {
   "cell_type": "markdown",
   "metadata": {
    "slideshow": {
     "slide_type": "subslide"
    }
   },
   "source": [
    "## Time-Unfolded Graph\n",
    "\n",
    "**Our paths may be see as traversal of a _time-unfolded_ version of the graph**"
   ]
  },
  {
   "cell_type": "code",
   "execution_count": 27,
   "metadata": {},
   "outputs": [
    {
     "data": {
      "image/svg+xml": [
       "<?xml version=\"1.0\" encoding=\"UTF-8\"?>\n",
       "<svg xmlns=\"http://www.w3.org/2000/svg\" xmlns:xlink=\"http://www.w3.org/1999/xlink\" width=\"900\" height=\"250\" viewBox=\"0 0 900 250\">\n",
       "<defs>\n",
       "<g>\n",
       "<g id=\"glyph-0-0\">\n",
       "<path d=\"M 2.703125 -6.992188 C 3.609375 -6.992188 4.265625 -6.621094 4.667969 -5.875 C 4.980469 -5.296875 5.136719 -4.507812 5.136719 -3.507812 C 5.136719 -2.554688 4.996094 -1.769531 4.710938 -1.148438 C 4.300781 -0.257812 3.632812 0.191406 2.699219 0.191406 C 1.859375 0.191406 1.234375 -0.175781 0.824219 -0.902344 C 0.484375 -1.511719 0.3125 -2.328125 0.3125 -3.355469 C 0.3125 -4.148438 0.414062 -4.832031 0.621094 -5.398438 C 1.003906 -6.460938 1.699219 -6.992188 2.703125 -6.992188 Z M 2.695312 -0.609375 C 3.152344 -0.609375 3.515625 -0.8125 3.785156 -1.214844 C 4.054688 -1.617188 4.1875 -2.371094 4.1875 -3.472656 C 4.1875 -4.265625 4.09375 -4.917969 3.898438 -5.433594 C 3.703125 -5.945312 3.320312 -6.203125 2.757812 -6.203125 C 2.242188 -6.203125 1.863281 -5.957031 1.625 -5.472656 C 1.382812 -4.984375 1.265625 -4.265625 1.265625 -3.320312 C 1.265625 -2.609375 1.339844 -2.035156 1.492188 -1.601562 C 1.726562 -0.941406 2.128906 -0.609375 2.695312 -0.609375 Z M 2.695312 -0.609375 \"/>\n",
       "</g>\n",
       "<g id=\"glyph-0-1\">\n",
       "<path d=\"M 0.828125 1.019531 C 1.054688 0.980469 1.210938 0.824219 1.304688 0.546875 C 1.351562 0.398438 1.375 0.257812 1.375 0.121094 C 1.375 0.0976562 1.375 0.078125 1.375 0.0625 C 1.375 0.0429688 1.367188 0.0234375 1.363281 0 L 0.828125 0 L 0.828125 -1.0625 L 1.875 -1.0625 L 1.875 -0.078125 C 1.875 0.308594 1.796875 0.648438 1.640625 0.941406 C 1.484375 1.234375 1.214844 1.414062 0.828125 1.484375 Z M 0.828125 1.019531 \"/>\n",
       "</g>\n",
       "<g id=\"glyph-0-2\">\n",
       "<path d=\"M 0.957031 -4.953125 L 0.957031 -5.625 C 1.59375 -5.6875 2.035156 -5.789062 2.285156 -5.933594 C 2.535156 -6.078125 2.722656 -6.421875 2.847656 -6.960938 L 3.539062 -6.960938 L 3.539062 0 L 2.601562 0 L 2.601562 -4.953125 Z M 0.957031 -4.953125 \"/>\n",
       "</g>\n",
       "<g id=\"glyph-0-3\">\n",
       "<path d=\"M 0.3125 0 C 0.34375 -0.601562 0.46875 -1.125 0.6875 -1.570312 C 0.902344 -2.015625 1.324219 -2.421875 1.953125 -2.789062 L 2.890625 -3.328125 C 3.3125 -3.574219 3.605469 -3.78125 3.773438 -3.953125 C 4.039062 -4.226562 4.175781 -4.535156 4.175781 -4.882812 C 4.175781 -5.289062 4.054688 -5.613281 3.808594 -5.851562 C 3.5625 -6.089844 3.238281 -6.210938 2.832031 -6.210938 C 2.230469 -6.210938 1.8125 -5.984375 1.582031 -5.527344 C 1.457031 -5.28125 1.390625 -4.945312 1.375 -4.511719 L 0.484375 -4.511719 C 0.492188 -5.121094 0.605469 -5.617188 0.820312 -6 C 1.203125 -6.679688 1.875 -7.015625 2.835938 -7.015625 C 3.636719 -7.015625 4.222656 -6.800781 4.59375 -6.367188 C 4.960938 -5.933594 5.148438 -5.453125 5.148438 -4.921875 C 5.148438 -4.363281 4.949219 -3.882812 4.554688 -3.484375 C 4.328125 -3.253906 3.917969 -2.976562 3.328125 -2.648438 L 2.660156 -2.273438 C 2.34375 -2.097656 2.089844 -1.933594 1.910156 -1.773438 C 1.585938 -1.488281 1.378906 -1.175781 1.292969 -0.828125 L 5.113281 -0.828125 L 5.113281 0 Z M 0.3125 0 \"/>\n",
       "</g>\n",
       "<g id=\"glyph-0-4\">\n",
       "<path d=\"M 2.597656 0.191406 C 1.769531 0.191406 1.171875 -0.0351562 0.796875 -0.492188 C 0.425781 -0.945312 0.238281 -1.496094 0.238281 -2.148438 L 1.15625 -2.148438 C 1.195312 -1.695312 1.28125 -1.367188 1.410156 -1.164062 C 1.640625 -0.796875 2.050781 -0.609375 2.648438 -0.609375 C 3.109375 -0.609375 3.480469 -0.734375 3.757812 -0.980469 C 4.039062 -1.226562 4.179688 -1.546875 4.179688 -1.9375 C 4.179688 -2.421875 4.03125 -2.757812 3.738281 -2.949219 C 3.445312 -3.140625 3.035156 -3.238281 2.507812 -3.238281 C 2.449219 -3.238281 2.390625 -3.238281 2.332031 -3.234375 C 2.273438 -3.234375 2.210938 -3.230469 2.148438 -3.226562 L 2.148438 -4.003906 C 2.238281 -3.992188 2.316406 -3.988281 2.378906 -3.984375 C 2.441406 -3.980469 2.507812 -3.980469 2.578125 -3.980469 C 2.90625 -3.980469 3.175781 -4.03125 3.390625 -4.136719 C 3.761719 -4.320312 3.945312 -4.644531 3.945312 -5.113281 C 3.945312 -5.460938 3.820312 -5.730469 3.574219 -5.917969 C 3.328125 -6.105469 3.039062 -6.203125 2.710938 -6.203125 C 2.125 -6.203125 1.71875 -6.007812 1.492188 -5.617188 C 1.371094 -5.402344 1.300781 -5.09375 1.285156 -4.695312 L 0.414062 -4.695312 C 0.414062 -5.21875 0.519531 -5.660156 0.726562 -6.023438 C 1.085938 -6.675781 1.714844 -7 2.617188 -7 C 3.328125 -7 3.882812 -6.84375 4.273438 -6.527344 C 4.664062 -6.210938 4.859375 -5.75 4.859375 -5.148438 C 4.859375 -4.71875 4.742188 -4.367188 4.511719 -4.101562 C 4.367188 -3.9375 4.183594 -3.804688 3.953125 -3.710938 C 4.320312 -3.609375 4.609375 -3.414062 4.816406 -3.128906 C 5.023438 -2.839844 5.125 -2.488281 5.125 -2.070312 C 5.125 -1.402344 4.90625 -0.859375 4.46875 -0.4375 C 4.027344 -0.0195312 3.40625 0.191406 2.597656 0.191406 Z M 2.597656 0.191406 \"/>\n",
       "</g>\n",
       "</g>\n",
       "</defs>\n",
       "<rect x=\"-90\" y=\"-25\" width=\"1080\" height=\"300\" fill=\"rgb(100%, 100%, 100%)\" fill-opacity=\"1\"/>\n",
       "<path fill=\"none\" stroke-width=\"1\" stroke-linecap=\"butt\" stroke-linejoin=\"miter\" stroke=\"rgb(26.666667%, 26.666667%, 26.666667%)\" stroke-opacity=\"1\" stroke-miterlimit=\"10\" d=\"M 50 50 L 287.402344 50 \"/>\n",
       "<path fill-rule=\"nonzero\" fill=\"rgb(26.666667%, 26.666667%, 26.666667%)\" fill-opacity=\"1\" d=\"M 301.667969 50 L 287.402344 54.636719 L 287.402344 45.363281 L 301.667969 50 \"/>\n",
       "<path fill=\"none\" stroke-width=\"1\" stroke-linecap=\"butt\" stroke-linejoin=\"miter\" stroke=\"rgb(26.666667%, 26.666667%, 26.666667%)\" stroke-opacity=\"1\" stroke-miterlimit=\"10\" d=\"M 50 50 L 287.902344 94.605469 \"/>\n",
       "<path fill-rule=\"nonzero\" fill=\"rgb(26.666667%, 26.666667%, 26.666667%)\" fill-opacity=\"1\" d=\"M 301.921875 97.234375 L 287.046875 99.164062 L 288.757812 90.050781 L 301.921875 97.234375 \"/>\n",
       "<path fill=\"none\" stroke-width=\"1\" stroke-linecap=\"butt\" stroke-linejoin=\"miter\" stroke=\"rgb(26.666667%, 26.666667%, 26.666667%)\" stroke-opacity=\"1\" stroke-miterlimit=\"10\" d=\"M 50 100 L 287.402344 100 \"/>\n",
       "<path fill-rule=\"nonzero\" fill=\"rgb(26.666667%, 26.666667%, 26.666667%)\" fill-opacity=\"1\" d=\"M 301.667969 100 L 287.402344 104.636719 L 287.402344 95.363281 L 301.667969 100 \"/>\n",
       "<path fill=\"none\" stroke-width=\"1\" stroke-linecap=\"butt\" stroke-linejoin=\"miter\" stroke=\"rgb(26.666667%, 26.666667%, 26.666667%)\" stroke-opacity=\"1\" stroke-miterlimit=\"10\" d=\"M 50 50 L 289.265625 139.722656 \"/>\n",
       "<path fill-rule=\"nonzero\" fill=\"rgb(26.666667%, 26.666667%, 26.666667%)\" fill-opacity=\"1\" d=\"M 302.621094 144.734375 L 287.636719 144.0625 L 290.890625 135.382812 L 302.621094 144.734375 \"/>\n",
       "<path fill=\"none\" stroke-width=\"1\" stroke-linecap=\"butt\" stroke-linejoin=\"miter\" stroke=\"rgb(26.666667%, 26.666667%, 26.666667%)\" stroke-opacity=\"1\" stroke-miterlimit=\"10\" d=\"M 50 150 L 287.402344 150 \"/>\n",
       "<path fill-rule=\"nonzero\" fill=\"rgb(26.666667%, 26.666667%, 26.666667%)\" fill-opacity=\"1\" d=\"M 301.667969 150 L 287.402344 154.636719 L 287.402344 145.363281 L 301.667969 150 \"/>\n",
       "<path fill=\"none\" stroke-width=\"1\" stroke-linecap=\"butt\" stroke-linejoin=\"miter\" stroke=\"rgb(26.666667%, 26.666667%, 26.666667%)\" stroke-opacity=\"1\" stroke-miterlimit=\"10\" d=\"M 50 50 L 291.160156 185.652344 \"/>\n",
       "<path fill-rule=\"nonzero\" fill=\"rgb(26.666667%, 26.666667%, 26.666667%)\" fill-opacity=\"1\" d=\"M 303.59375 192.644531 L 288.886719 189.691406 L 293.433594 181.613281 L 303.59375 192.644531 \"/>\n",
       "<path fill=\"none\" stroke-width=\"1\" stroke-linecap=\"butt\" stroke-linejoin=\"miter\" stroke=\"rgb(26.666667%, 26.666667%, 26.666667%)\" stroke-opacity=\"1\" stroke-miterlimit=\"10\" d=\"M 50 200 L 287.402344 200 \"/>\n",
       "<path fill-rule=\"nonzero\" fill=\"rgb(26.666667%, 26.666667%, 26.666667%)\" fill-opacity=\"1\" d=\"M 301.667969 200 L 287.402344 204.636719 L 287.402344 195.363281 L 301.667969 200 \"/>\n",
       "<path fill=\"none\" stroke-width=\"1\" stroke-linecap=\"butt\" stroke-linejoin=\"miter\" stroke=\"rgb(26.666667%, 26.666667%, 26.666667%)\" stroke-opacity=\"1\" stroke-miterlimit=\"10\" d=\"M 50 100 L 287.902344 55.394531 \"/>\n",
       "<path fill-rule=\"nonzero\" fill=\"rgb(26.666667%, 26.666667%, 26.666667%)\" fill-opacity=\"1\" d=\"M 301.921875 52.765625 L 288.757812 59.949219 L 287.046875 50.835938 L 301.921875 52.765625 \"/>\n",
       "<path fill=\"none\" stroke-width=\"1\" stroke-linecap=\"butt\" stroke-linejoin=\"miter\" stroke=\"rgb(26.666667%, 26.666667%, 26.666667%)\" stroke-opacity=\"1\" stroke-miterlimit=\"10\" d=\"M 50 100 L 287.902344 144.605469 \"/>\n",
       "<path fill-rule=\"nonzero\" fill=\"rgb(26.666667%, 26.666667%, 26.666667%)\" fill-opacity=\"1\" d=\"M 301.921875 147.234375 L 287.046875 149.164062 L 288.757812 140.050781 L 301.921875 147.234375 \"/>\n",
       "<path fill=\"none\" stroke-width=\"1\" stroke-linecap=\"butt\" stroke-linejoin=\"miter\" stroke=\"rgb(26.666667%, 26.666667%, 26.666667%)\" stroke-opacity=\"1\" stroke-miterlimit=\"10\" d=\"M 316.667969 50 L 554.066406 50 \"/>\n",
       "<path fill-rule=\"nonzero\" fill=\"rgb(26.666667%, 26.666667%, 26.666667%)\" fill-opacity=\"1\" d=\"M 568.332031 50 L 554.066406 54.636719 L 554.066406 45.363281 L 568.332031 50 \"/>\n",
       "<path fill=\"none\" stroke-width=\"1\" stroke-linecap=\"butt\" stroke-linejoin=\"miter\" stroke=\"rgb(26.666667%, 26.666667%, 26.666667%)\" stroke-opacity=\"1\" stroke-miterlimit=\"10\" d=\"M 316.667969 50 L 554.570312 94.605469 \"/>\n",
       "<path fill-rule=\"nonzero\" fill=\"rgb(26.666667%, 26.666667%, 26.666667%)\" fill-opacity=\"1\" d=\"M 568.589844 97.234375 L 553.714844 99.164062 L 555.421875 90.050781 L 568.589844 97.234375 \"/>\n",
       "<path fill=\"none\" stroke-width=\"1\" stroke-linecap=\"butt\" stroke-linejoin=\"miter\" stroke=\"rgb(26.666667%, 26.666667%, 26.666667%)\" stroke-opacity=\"1\" stroke-miterlimit=\"10\" d=\"M 316.667969 100 L 554.066406 100 \"/>\n",
       "<path fill-rule=\"nonzero\" fill=\"rgb(26.666667%, 26.666667%, 26.666667%)\" fill-opacity=\"1\" d=\"M 568.332031 100 L 554.066406 104.636719 L 554.066406 95.363281 L 568.332031 100 \"/>\n",
       "<path fill=\"none\" stroke-width=\"1\" stroke-linecap=\"butt\" stroke-linejoin=\"miter\" stroke=\"rgb(26.666667%, 26.666667%, 26.666667%)\" stroke-opacity=\"1\" stroke-miterlimit=\"10\" d=\"M 316.667969 50 L 555.929688 139.722656 \"/>\n",
       "<path fill-rule=\"nonzero\" fill=\"rgb(26.666667%, 26.666667%, 26.666667%)\" fill-opacity=\"1\" d=\"M 569.289062 144.734375 L 554.304688 144.0625 L 557.558594 135.382812 L 569.289062 144.734375 \"/>\n",
       "<path fill=\"none\" stroke-width=\"1\" stroke-linecap=\"butt\" stroke-linejoin=\"miter\" stroke=\"rgb(26.666667%, 26.666667%, 26.666667%)\" stroke-opacity=\"1\" stroke-miterlimit=\"10\" d=\"M 316.667969 150 L 554.066406 150 \"/>\n",
       "<path fill-rule=\"nonzero\" fill=\"rgb(26.666667%, 26.666667%, 26.666667%)\" fill-opacity=\"1\" d=\"M 568.332031 150 L 554.066406 154.636719 L 554.066406 145.363281 L 568.332031 150 \"/>\n",
       "<path fill=\"none\" stroke-width=\"1\" stroke-linecap=\"butt\" stroke-linejoin=\"miter\" stroke=\"rgb(26.666667%, 26.666667%, 26.666667%)\" stroke-opacity=\"1\" stroke-miterlimit=\"10\" d=\"M 316.667969 50 L 557.824219 185.652344 \"/>\n",
       "<path fill-rule=\"nonzero\" fill=\"rgb(26.666667%, 26.666667%, 26.666667%)\" fill-opacity=\"1\" d=\"M 570.257812 192.644531 L 555.554688 189.691406 L 560.097656 181.613281 L 570.257812 192.644531 \"/>\n",
       "<path fill=\"none\" stroke-width=\"1\" stroke-linecap=\"butt\" stroke-linejoin=\"miter\" stroke=\"rgb(26.666667%, 26.666667%, 26.666667%)\" stroke-opacity=\"1\" stroke-miterlimit=\"10\" d=\"M 316.667969 200 L 554.066406 200 \"/>\n",
       "<path fill-rule=\"nonzero\" fill=\"rgb(26.666667%, 26.666667%, 26.666667%)\" fill-opacity=\"1\" d=\"M 568.332031 200 L 554.066406 204.636719 L 554.066406 195.363281 L 568.332031 200 \"/>\n",
       "<path fill=\"none\" stroke-width=\"1\" stroke-linecap=\"butt\" stroke-linejoin=\"miter\" stroke=\"rgb(26.666667%, 26.666667%, 26.666667%)\" stroke-opacity=\"1\" stroke-miterlimit=\"10\" d=\"M 316.667969 100 L 554.570312 55.394531 \"/>\n",
       "<path fill-rule=\"nonzero\" fill=\"rgb(26.666667%, 26.666667%, 26.666667%)\" fill-opacity=\"1\" d=\"M 568.589844 52.765625 L 555.421875 59.949219 L 553.714844 50.835938 L 568.589844 52.765625 \"/>\n",
       "<path fill=\"none\" stroke-width=\"1\" stroke-linecap=\"butt\" stroke-linejoin=\"miter\" stroke=\"rgb(26.666667%, 26.666667%, 26.666667%)\" stroke-opacity=\"1\" stroke-miterlimit=\"10\" d=\"M 316.667969 100 L 554.570312 144.605469 \"/>\n",
       "<path fill-rule=\"nonzero\" fill=\"rgb(26.666667%, 26.666667%, 26.666667%)\" fill-opacity=\"1\" d=\"M 568.589844 147.234375 L 553.714844 149.164062 L 555.421875 140.050781 L 568.589844 147.234375 \"/>\n",
       "<path fill=\"none\" stroke-width=\"1\" stroke-linecap=\"butt\" stroke-linejoin=\"miter\" stroke=\"rgb(26.666667%, 26.666667%, 26.666667%)\" stroke-opacity=\"1\" stroke-miterlimit=\"10\" d=\"M 583.332031 50 L 820.734375 50 \"/>\n",
       "<path fill-rule=\"nonzero\" fill=\"rgb(26.666667%, 26.666667%, 26.666667%)\" fill-opacity=\"1\" d=\"M 835 50 L 820.734375 54.636719 L 820.734375 45.363281 L 835 50 \"/>\n",
       "<path fill=\"none\" stroke-width=\"1\" stroke-linecap=\"butt\" stroke-linejoin=\"miter\" stroke=\"rgb(26.666667%, 26.666667%, 26.666667%)\" stroke-opacity=\"1\" stroke-miterlimit=\"10\" d=\"M 583.332031 50 L 821.234375 94.605469 \"/>\n",
       "<path fill-rule=\"nonzero\" fill=\"rgb(26.666667%, 26.666667%, 26.666667%)\" fill-opacity=\"1\" d=\"M 835.257812 97.234375 L 820.382812 99.164062 L 822.089844 90.050781 L 835.257812 97.234375 \"/>\n",
       "<path fill=\"none\" stroke-width=\"1\" stroke-linecap=\"butt\" stroke-linejoin=\"miter\" stroke=\"rgb(26.666667%, 26.666667%, 26.666667%)\" stroke-opacity=\"1\" stroke-miterlimit=\"10\" d=\"M 583.332031 100 L 820.734375 100 \"/>\n",
       "<path fill-rule=\"nonzero\" fill=\"rgb(26.666667%, 26.666667%, 26.666667%)\" fill-opacity=\"1\" d=\"M 835 100 L 820.734375 104.636719 L 820.734375 95.363281 L 835 100 \"/>\n",
       "<path fill=\"none\" stroke-width=\"1\" stroke-linecap=\"butt\" stroke-linejoin=\"miter\" stroke=\"rgb(26.666667%, 26.666667%, 26.666667%)\" stroke-opacity=\"1\" stroke-miterlimit=\"10\" d=\"M 583.332031 50 L 822.597656 139.722656 \"/>\n",
       "<path fill-rule=\"nonzero\" fill=\"rgb(26.666667%, 26.666667%, 26.666667%)\" fill-opacity=\"1\" d=\"M 835.953125 144.734375 L 820.96875 144.0625 L 824.226562 135.382812 L 835.953125 144.734375 \"/>\n",
       "<path fill=\"none\" stroke-width=\"1\" stroke-linecap=\"butt\" stroke-linejoin=\"miter\" stroke=\"rgb(26.666667%, 26.666667%, 26.666667%)\" stroke-opacity=\"1\" stroke-miterlimit=\"10\" d=\"M 583.332031 150 L 820.734375 150 \"/>\n",
       "<path fill-rule=\"nonzero\" fill=\"rgb(26.666667%, 26.666667%, 26.666667%)\" fill-opacity=\"1\" d=\"M 835 150 L 820.734375 154.636719 L 820.734375 145.363281 L 835 150 \"/>\n",
       "<path fill=\"none\" stroke-width=\"1\" stroke-linecap=\"butt\" stroke-linejoin=\"miter\" stroke=\"rgb(26.666667%, 26.666667%, 26.666667%)\" stroke-opacity=\"1\" stroke-miterlimit=\"10\" d=\"M 583.332031 50 L 824.492188 185.652344 \"/>\n",
       "<path fill-rule=\"nonzero\" fill=\"rgb(26.666667%, 26.666667%, 26.666667%)\" fill-opacity=\"1\" d=\"M 836.925781 192.644531 L 822.21875 189.691406 L 826.765625 181.613281 L 836.925781 192.644531 \"/>\n",
       "<path fill=\"none\" stroke-width=\"1\" stroke-linecap=\"butt\" stroke-linejoin=\"miter\" stroke=\"rgb(26.666667%, 26.666667%, 26.666667%)\" stroke-opacity=\"1\" stroke-miterlimit=\"10\" d=\"M 583.332031 200 L 820.734375 200 \"/>\n",
       "<path fill-rule=\"nonzero\" fill=\"rgb(26.666667%, 26.666667%, 26.666667%)\" fill-opacity=\"1\" d=\"M 835 200 L 820.734375 204.636719 L 820.734375 195.363281 L 835 200 \"/>\n",
       "<path fill=\"none\" stroke-width=\"1\" stroke-linecap=\"butt\" stroke-linejoin=\"miter\" stroke=\"rgb(26.666667%, 26.666667%, 26.666667%)\" stroke-opacity=\"1\" stroke-miterlimit=\"10\" d=\"M 583.332031 100 L 821.234375 55.394531 \"/>\n",
       "<path fill-rule=\"nonzero\" fill=\"rgb(26.666667%, 26.666667%, 26.666667%)\" fill-opacity=\"1\" d=\"M 835.257812 52.765625 L 822.089844 59.949219 L 820.382812 50.835938 L 835.257812 52.765625 \"/>\n",
       "<path fill=\"none\" stroke-width=\"1\" stroke-linecap=\"butt\" stroke-linejoin=\"miter\" stroke=\"rgb(26.666667%, 26.666667%, 26.666667%)\" stroke-opacity=\"1\" stroke-miterlimit=\"10\" d=\"M 583.332031 100 L 821.234375 144.605469 \"/>\n",
       "<path fill-rule=\"nonzero\" fill=\"rgb(26.666667%, 26.666667%, 26.666667%)\" fill-opacity=\"1\" d=\"M 835.257812 147.234375 L 820.382812 149.164062 L 822.089844 140.050781 L 835.257812 147.234375 \"/>\n",
       "<path fill-rule=\"nonzero\" fill=\"rgb(55.294118%, 82.745098%, 78.039216%)\" fill-opacity=\"1\" stroke-width=\"1\" stroke-linecap=\"butt\" stroke-linejoin=\"miter\" stroke=\"rgb(0%, 0%, 0%)\" stroke-opacity=\"1\" stroke-miterlimit=\"10\" d=\"M 65 50 C 65 58.285156 58.285156 65 50 65 C 41.714844 65 35 58.285156 35 50 C 35 41.714844 41.714844 35 50 35 C 58.285156 35 65 41.714844 65 50 \"/>\n",
       "<path fill-rule=\"nonzero\" fill=\"rgb(100%, 100%, 70.196078%)\" fill-opacity=\"1\" stroke-width=\"1\" stroke-linecap=\"butt\" stroke-linejoin=\"miter\" stroke=\"rgb(0%, 0%, 0%)\" stroke-opacity=\"1\" stroke-miterlimit=\"10\" d=\"M 65 100 C 65 108.285156 58.285156 115 50 115 C 41.714844 115 35 108.285156 35 100 C 35 91.714844 41.714844 85 50 85 C 58.285156 85 65 91.714844 65 100 \"/>\n",
       "<path fill-rule=\"nonzero\" fill=\"rgb(74.509804%, 72.941176%, 85.490196%)\" fill-opacity=\"1\" stroke-width=\"1\" stroke-linecap=\"butt\" stroke-linejoin=\"miter\" stroke=\"rgb(0%, 0%, 0%)\" stroke-opacity=\"1\" stroke-miterlimit=\"10\" d=\"M 65 150 C 65 158.285156 58.285156 165 50 165 C 41.714844 165 35 158.285156 35 150 C 35 141.714844 41.714844 135 50 135 C 58.285156 135 65 141.714844 65 150 \"/>\n",
       "<path fill-rule=\"nonzero\" fill=\"rgb(98.431373%, 50.196078%, 44.705882%)\" fill-opacity=\"1\" stroke-width=\"1\" stroke-linecap=\"butt\" stroke-linejoin=\"miter\" stroke=\"rgb(0%, 0%, 0%)\" stroke-opacity=\"1\" stroke-miterlimit=\"10\" d=\"M 65 200 C 65 208.285156 58.285156 215 50 215 C 41.714844 215 35 208.285156 35 200 C 35 191.714844 41.714844 185 50 185 C 58.285156 185 65 191.714844 65 200 \"/>\n",
       "<path fill-rule=\"nonzero\" fill=\"rgb(55.294118%, 82.745098%, 78.039216%)\" fill-opacity=\"1\" stroke-width=\"1\" stroke-linecap=\"butt\" stroke-linejoin=\"miter\" stroke=\"rgb(0%, 0%, 0%)\" stroke-opacity=\"1\" stroke-miterlimit=\"10\" d=\"M 331.667969 50 C 331.667969 58.285156 324.949219 65 316.667969 65 C 308.382812 65 301.667969 58.285156 301.667969 50 C 301.667969 41.714844 308.382812 35 316.667969 35 C 324.949219 35 331.667969 41.714844 331.667969 50 \"/>\n",
       "<path fill-rule=\"nonzero\" fill=\"rgb(100%, 100%, 70.196078%)\" fill-opacity=\"1\" stroke-width=\"1\" stroke-linecap=\"butt\" stroke-linejoin=\"miter\" stroke=\"rgb(0%, 0%, 0%)\" stroke-opacity=\"1\" stroke-miterlimit=\"10\" d=\"M 331.667969 100 C 331.667969 108.285156 324.949219 115 316.667969 115 C 308.382812 115 301.667969 108.285156 301.667969 100 C 301.667969 91.714844 308.382812 85 316.667969 85 C 324.949219 85 331.667969 91.714844 331.667969 100 \"/>\n",
       "<path fill-rule=\"nonzero\" fill=\"rgb(74.509804%, 72.941176%, 85.490196%)\" fill-opacity=\"1\" stroke-width=\"1\" stroke-linecap=\"butt\" stroke-linejoin=\"miter\" stroke=\"rgb(0%, 0%, 0%)\" stroke-opacity=\"1\" stroke-miterlimit=\"10\" d=\"M 331.667969 150 C 331.667969 158.285156 324.949219 165 316.667969 165 C 308.382812 165 301.667969 158.285156 301.667969 150 C 301.667969 141.714844 308.382812 135 316.667969 135 C 324.949219 135 331.667969 141.714844 331.667969 150 \"/>\n",
       "<path fill-rule=\"nonzero\" fill=\"rgb(98.431373%, 50.196078%, 44.705882%)\" fill-opacity=\"1\" stroke-width=\"1\" stroke-linecap=\"butt\" stroke-linejoin=\"miter\" stroke=\"rgb(0%, 0%, 0%)\" stroke-opacity=\"1\" stroke-miterlimit=\"10\" d=\"M 331.667969 200 C 331.667969 208.285156 324.949219 215 316.667969 215 C 308.382812 215 301.667969 208.285156 301.667969 200 C 301.667969 191.714844 308.382812 185 316.667969 185 C 324.949219 185 331.667969 191.714844 331.667969 200 \"/>\n",
       "<path fill-rule=\"nonzero\" fill=\"rgb(55.294118%, 82.745098%, 78.039216%)\" fill-opacity=\"1\" stroke-width=\"1\" stroke-linecap=\"butt\" stroke-linejoin=\"miter\" stroke=\"rgb(0%, 0%, 0%)\" stroke-opacity=\"1\" stroke-miterlimit=\"10\" d=\"M 598.332031 50 C 598.332031 58.285156 591.617188 65 583.332031 65 C 575.050781 65 568.332031 58.285156 568.332031 50 C 568.332031 41.714844 575.050781 35 583.332031 35 C 591.617188 35 598.332031 41.714844 598.332031 50 \"/>\n",
       "<path fill-rule=\"nonzero\" fill=\"rgb(100%, 100%, 70.196078%)\" fill-opacity=\"1\" stroke-width=\"1\" stroke-linecap=\"butt\" stroke-linejoin=\"miter\" stroke=\"rgb(0%, 0%, 0%)\" stroke-opacity=\"1\" stroke-miterlimit=\"10\" d=\"M 598.332031 100 C 598.332031 108.285156 591.617188 115 583.332031 115 C 575.050781 115 568.332031 108.285156 568.332031 100 C 568.332031 91.714844 575.050781 85 583.332031 85 C 591.617188 85 598.332031 91.714844 598.332031 100 \"/>\n",
       "<path fill-rule=\"nonzero\" fill=\"rgb(74.509804%, 72.941176%, 85.490196%)\" fill-opacity=\"1\" stroke-width=\"1\" stroke-linecap=\"butt\" stroke-linejoin=\"miter\" stroke=\"rgb(0%, 0%, 0%)\" stroke-opacity=\"1\" stroke-miterlimit=\"10\" d=\"M 598.332031 150 C 598.332031 158.285156 591.617188 165 583.332031 165 C 575.050781 165 568.332031 158.285156 568.332031 150 C 568.332031 141.714844 575.050781 135 583.332031 135 C 591.617188 135 598.332031 141.714844 598.332031 150 \"/>\n",
       "<path fill-rule=\"nonzero\" fill=\"rgb(98.431373%, 50.196078%, 44.705882%)\" fill-opacity=\"1\" stroke-width=\"1\" stroke-linecap=\"butt\" stroke-linejoin=\"miter\" stroke=\"rgb(0%, 0%, 0%)\" stroke-opacity=\"1\" stroke-miterlimit=\"10\" d=\"M 598.332031 200 C 598.332031 208.285156 591.617188 215 583.332031 215 C 575.050781 215 568.332031 208.285156 568.332031 200 C 568.332031 191.714844 575.050781 185 583.332031 185 C 591.617188 185 598.332031 191.714844 598.332031 200 \"/>\n",
       "<path fill-rule=\"nonzero\" fill=\"rgb(55.294118%, 82.745098%, 78.039216%)\" fill-opacity=\"1\" stroke-width=\"1\" stroke-linecap=\"butt\" stroke-linejoin=\"miter\" stroke=\"rgb(0%, 0%, 0%)\" stroke-opacity=\"1\" stroke-miterlimit=\"10\" d=\"M 865 50 C 865 58.285156 858.285156 65 850 65 C 841.714844 65 835 58.285156 835 50 C 835 41.714844 841.714844 35 850 35 C 858.285156 35 865 41.714844 865 50 \"/>\n",
       "<path fill-rule=\"nonzero\" fill=\"rgb(100%, 100%, 70.196078%)\" fill-opacity=\"1\" stroke-width=\"1\" stroke-linecap=\"butt\" stroke-linejoin=\"miter\" stroke=\"rgb(0%, 0%, 0%)\" stroke-opacity=\"1\" stroke-miterlimit=\"10\" d=\"M 865 100 C 865 108.285156 858.285156 115 850 115 C 841.714844 115 835 108.285156 835 100 C 835 91.714844 841.714844 85 850 85 C 858.285156 85 865 91.714844 865 100 \"/>\n",
       "<path fill-rule=\"nonzero\" fill=\"rgb(74.509804%, 72.941176%, 85.490196%)\" fill-opacity=\"1\" stroke-width=\"1\" stroke-linecap=\"butt\" stroke-linejoin=\"miter\" stroke=\"rgb(0%, 0%, 0%)\" stroke-opacity=\"1\" stroke-miterlimit=\"10\" d=\"M 865 150 C 865 158.285156 858.285156 165 850 165 C 841.714844 165 835 158.285156 835 150 C 835 141.714844 841.714844 135 850 135 C 858.285156 135 865 141.714844 865 150 \"/>\n",
       "<path fill-rule=\"nonzero\" fill=\"rgb(98.431373%, 50.196078%, 44.705882%)\" fill-opacity=\"1\" stroke-width=\"1\" stroke-linecap=\"butt\" stroke-linejoin=\"miter\" stroke=\"rgb(0%, 0%, 0%)\" stroke-opacity=\"1\" stroke-miterlimit=\"10\" d=\"M 865 200 C 865 208.285156 858.285156 215 850 215 C 841.714844 215 835 208.285156 835 200 C 835 191.714844 841.714844 185 850 185 C 858.285156 185 865 191.714844 865 200 \"/>\n",
       "<g fill=\"rgb(0%, 0%, 0%)\" fill-opacity=\"1\">\n",
       "<use xlink:href=\"#glyph-0-0\" x=\"43.105469\" y=\"54.644531\"/>\n",
       "<use xlink:href=\"#glyph-0-1\" x=\"48.666992\" y=\"54.644531\"/>\n",
       "<use xlink:href=\"#glyph-0-0\" x=\"51.445312\" y=\"54.644531\"/>\n",
       "</g>\n",
       "<g fill=\"rgb(0%, 0%, 0%)\" fill-opacity=\"1\">\n",
       "<use xlink:href=\"#glyph-0-0\" x=\"43.902344\" y=\"104.644531\"/>\n",
       "<use xlink:href=\"#glyph-0-1\" x=\"49.463867\" y=\"104.644531\"/>\n",
       "<use xlink:href=\"#glyph-0-2\" x=\"52.242188\" y=\"104.644531\"/>\n",
       "</g>\n",
       "<g fill=\"rgb(0%, 0%, 0%)\" fill-opacity=\"1\">\n",
       "<use xlink:href=\"#glyph-0-0\" x=\"43.101562\" y=\"154.65625\"/>\n",
       "<use xlink:href=\"#glyph-0-1\" x=\"48.663086\" y=\"154.65625\"/>\n",
       "<use xlink:href=\"#glyph-0-3\" x=\"51.441406\" y=\"154.65625\"/>\n",
       "</g>\n",
       "<g fill=\"rgb(0%, 0%, 0%)\" fill-opacity=\"1\">\n",
       "<use xlink:href=\"#glyph-0-0\" x=\"43.109375\" y=\"204.652344\"/>\n",
       "<use xlink:href=\"#glyph-0-1\" x=\"48.670898\" y=\"204.652344\"/>\n",
       "<use xlink:href=\"#glyph-0-4\" x=\"51.449219\" y=\"204.652344\"/>\n",
       "</g>\n",
       "<g fill=\"rgb(0%, 0%, 0%)\" fill-opacity=\"1\">\n",
       "<use xlink:href=\"#glyph-0-2\" x=\"309.449219\" y=\"54.644531\"/>\n",
       "<use xlink:href=\"#glyph-0-1\" x=\"315.010742\" y=\"54.644531\"/>\n",
       "<use xlink:href=\"#glyph-0-0\" x=\"317.789062\" y=\"54.644531\"/>\n",
       "</g>\n",
       "<g fill=\"rgb(0%, 0%, 0%)\" fill-opacity=\"1\">\n",
       "<use xlink:href=\"#glyph-0-2\" x=\"310.25\" y=\"104.632812\"/>\n",
       "<use xlink:href=\"#glyph-0-1\" x=\"315.811523\" y=\"104.632812\"/>\n",
       "<use xlink:href=\"#glyph-0-2\" x=\"318.589844\" y=\"104.632812\"/>\n",
       "</g>\n",
       "<g fill=\"rgb(0%, 0%, 0%)\" fill-opacity=\"1\">\n",
       "<use xlink:href=\"#glyph-0-2\" x=\"309.445312\" y=\"154.65625\"/>\n",
       "<use xlink:href=\"#glyph-0-1\" x=\"315.006836\" y=\"154.65625\"/>\n",
       "<use xlink:href=\"#glyph-0-3\" x=\"317.785156\" y=\"154.65625\"/>\n",
       "</g>\n",
       "<g fill=\"rgb(0%, 0%, 0%)\" fill-opacity=\"1\">\n",
       "<use xlink:href=\"#glyph-0-2\" x=\"309.453125\" y=\"204.652344\"/>\n",
       "<use xlink:href=\"#glyph-0-1\" x=\"315.014648\" y=\"204.652344\"/>\n",
       "<use xlink:href=\"#glyph-0-4\" x=\"317.792969\" y=\"204.652344\"/>\n",
       "</g>\n",
       "<g fill=\"rgb(0%, 0%, 0%)\" fill-opacity=\"1\">\n",
       "<use xlink:href=\"#glyph-0-3\" x=\"576.4375\" y=\"54.65625\"/>\n",
       "<use xlink:href=\"#glyph-0-1\" x=\"581.999023\" y=\"54.65625\"/>\n",
       "<use xlink:href=\"#glyph-0-0\" x=\"584.777344\" y=\"54.65625\"/>\n",
       "</g>\n",
       "<g fill=\"rgb(0%, 0%, 0%)\" fill-opacity=\"1\">\n",
       "<use xlink:href=\"#glyph-0-3\" x=\"577.238281\" y=\"104.65625\"/>\n",
       "<use xlink:href=\"#glyph-0-1\" x=\"582.799805\" y=\"104.65625\"/>\n",
       "<use xlink:href=\"#glyph-0-2\" x=\"585.578125\" y=\"104.65625\"/>\n",
       "</g>\n",
       "<g fill=\"rgb(0%, 0%, 0%)\" fill-opacity=\"1\">\n",
       "<use xlink:href=\"#glyph-0-3\" x=\"576.433594\" y=\"154.65625\"/>\n",
       "<use xlink:href=\"#glyph-0-1\" x=\"581.995117\" y=\"154.65625\"/>\n",
       "<use xlink:href=\"#glyph-0-3\" x=\"584.773438\" y=\"154.65625\"/>\n",
       "</g>\n",
       "<g fill=\"rgb(0%, 0%, 0%)\" fill-opacity=\"1\">\n",
       "<use xlink:href=\"#glyph-0-3\" x=\"576.445312\" y=\"204.65625\"/>\n",
       "<use xlink:href=\"#glyph-0-1\" x=\"582.006836\" y=\"204.65625\"/>\n",
       "<use xlink:href=\"#glyph-0-4\" x=\"584.785156\" y=\"204.65625\"/>\n",
       "</g>\n",
       "<g fill=\"rgb(0%, 0%, 0%)\" fill-opacity=\"1\">\n",
       "<use xlink:href=\"#glyph-0-4\" x=\"843.140625\" y=\"54.652344\"/>\n",
       "<use xlink:href=\"#glyph-0-1\" x=\"848.702148\" y=\"54.652344\"/>\n",
       "<use xlink:href=\"#glyph-0-0\" x=\"851.480469\" y=\"54.652344\"/>\n",
       "</g>\n",
       "<g fill=\"rgb(0%, 0%, 0%)\" fill-opacity=\"1\">\n",
       "<use xlink:href=\"#glyph-0-4\" x=\"843.941406\" y=\"104.652344\"/>\n",
       "<use xlink:href=\"#glyph-0-1\" x=\"849.50293\" y=\"104.652344\"/>\n",
       "<use xlink:href=\"#glyph-0-2\" x=\"852.28125\" y=\"104.652344\"/>\n",
       "</g>\n",
       "<g fill=\"rgb(0%, 0%, 0%)\" fill-opacity=\"1\">\n",
       "<use xlink:href=\"#glyph-0-4\" x=\"843.136719\" y=\"154.65625\"/>\n",
       "<use xlink:href=\"#glyph-0-1\" x=\"848.698242\" y=\"154.65625\"/>\n",
       "<use xlink:href=\"#glyph-0-3\" x=\"851.476562\" y=\"154.65625\"/>\n",
       "</g>\n",
       "<g fill=\"rgb(0%, 0%, 0%)\" fill-opacity=\"1\">\n",
       "<use xlink:href=\"#glyph-0-4\" x=\"843.148438\" y=\"204.652344\"/>\n",
       "<use xlink:href=\"#glyph-0-1\" x=\"848.709961\" y=\"204.652344\"/>\n",
       "<use xlink:href=\"#glyph-0-4\" x=\"851.488281\" y=\"204.652344\"/>\n",
       "</g>\n",
       "</svg>\n"
      ],
      "text/plain": [
       "<igraph.drawing.cairo.plot.CairoPlot at 0x364443810>"
      ]
     },
     "execution_count": 27,
     "metadata": {
      "image/svg+xml": {
       "isolated": true
      }
     },
     "output_type": "execute_result"
    }
   ],
   "source": [
    "tug = util.build_time_unfolded_graph(g, eoh=eoh)\n",
    "ig.plot(tug, **util.get_visual_style(tug), bbox=ig_bbox, margin=50)"
   ]
  },
  {
   "cell_type": "markdown",
   "metadata": {},
   "source": [
    "* We create `eoh` replicas of the vertexes, each referring to a specific time step\n",
    "* We create `eoh` replicas of the edges, linking vertexes in adjacent time step\n",
    "\n",
    "**This representation is referred to as _Time Unfolded Graph_**"
   ]
  },
  {
   "cell_type": "markdown",
   "metadata": {
    "slideshow": {
     "slide_type": "subslide"
    }
   },
   "source": [
    "## Computing Counts\n",
    "\n",
    "**We can now compute counts for all vertexes and edges in the TUG**"
   ]
  },
  {
   "cell_type": "code",
   "execution_count": 28,
   "metadata": {},
   "outputs": [
    {
     "name": "stdout",
     "output_type": "stream",
     "text": [
      "NODE COUNTS\n",
      "(0, 0):0.00\t(0, 1):4.89\t(0, 2):5.47\t(0, 3):0.00\t(1, 0):3.32\t(1, 1):4.89\t(1, 2):5.47\t(1, 3):0.00\t(2, 0):8.22\t(2, 1):0.00\t(2, 2):5.47\t(2, 3):8.17\t(3, 0):4.89\t(3, 1):0.00\t(3, 2):8.79\t(3, 3):11.91\n",
      "ARC COUNTS\n",
      "(1, 0, 0):0.00\t(1, 0, 1):0.00\t(1, 1, 1):4.89\t(1, 0, 2):0.00\t(1, 2, 2):5.47\t(1, 0, 3):0.00\t(1, 3, 3):0.00\t(1, 1, 0):0.00\t(1, 1, 2):0.00\t(2, 0, 0):3.32\t(2, 0, 1):0.00\t(2, 1, 1):0.00\t(2, 0, 2):0.00\t(2, 2, 2):5.47\t(2, 0, 3):0.00\t(2, 3, 3):0.00\t(2, 1, 0):4.89\t(2, 1, 2):0.00\t(3, 0, 0):4.89\t(3, 0, 1):0.00\t(3, 1, 1):0.00\t(3, 0, 2):3.32\t(3, 2, 2):5.47\t(3, 0, 3):0.00\t(3, 3, 3):8.17\t(3, 1, 0):0.00\t(3, 1, 2):0.00\n"
     ]
    }
   ],
   "source": [
    "node_counts, arc_counts = util.get_counts(tug, flows, paths)\n",
    "print('NODE COUNTS')\n",
    "print('\\t'.join(f'{k}:{v:.2f}' for k, v in node_counts.items()))\n",
    "print('ARC COUNTS')\n",
    "print('\\t'.join(f'{k}:{v:.2f}' for k, v in arc_counts.items()))"
   ]
  },
  {
   "cell_type": "markdown",
   "metadata": {},
   "source": [
    "* TUG nodes/vertexes are labeled with $(\\mathit{time}, \\mathit{node})$ pairs\n",
    "* TUG ares are labeled with $(\\mathit{time}, \\mathit{source}, \\mathit{destination})$ triplets"
   ]
  },
  {
   "cell_type": "markdown",
   "metadata": {
    "slideshow": {
     "slide_type": "subslide"
    }
   },
   "source": [
    "## Computing Counts\n",
    "\n",
    "**We can inspect the arc counts visually on the TUG**"
   ]
  },
  {
   "cell_type": "code",
   "execution_count": 29,
   "metadata": {},
   "outputs": [
    {
     "data": {
      "image/svg+xml": [
       "<?xml version=\"1.0\" encoding=\"UTF-8\"?>\n",
       "<svg xmlns=\"http://www.w3.org/2000/svg\" xmlns:xlink=\"http://www.w3.org/1999/xlink\" width=\"700\" height=\"250\" viewBox=\"0 0 700 250\">\n",
       "<defs>\n",
       "<g>\n",
       "<g id=\"glyph-0-0\">\n",
       "<path d=\"M 2.703125 -6.992188 C 3.609375 -6.992188 4.265625 -6.621094 4.667969 -5.875 C 4.980469 -5.296875 5.136719 -4.507812 5.136719 -3.507812 C 5.136719 -2.554688 4.996094 -1.769531 4.710938 -1.148438 C 4.300781 -0.257812 3.632812 0.191406 2.699219 0.191406 C 1.859375 0.191406 1.234375 -0.175781 0.824219 -0.902344 C 0.484375 -1.511719 0.3125 -2.328125 0.3125 -3.355469 C 0.3125 -4.148438 0.414062 -4.832031 0.621094 -5.398438 C 1.003906 -6.460938 1.699219 -6.992188 2.703125 -6.992188 Z M 2.695312 -0.609375 C 3.152344 -0.609375 3.515625 -0.8125 3.785156 -1.214844 C 4.054688 -1.617188 4.1875 -2.371094 4.1875 -3.472656 C 4.1875 -4.265625 4.09375 -4.917969 3.898438 -5.433594 C 3.703125 -5.945312 3.320312 -6.203125 2.757812 -6.203125 C 2.242188 -6.203125 1.863281 -5.957031 1.625 -5.472656 C 1.382812 -4.984375 1.265625 -4.265625 1.265625 -3.320312 C 1.265625 -2.609375 1.339844 -2.035156 1.492188 -1.601562 C 1.726562 -0.941406 2.128906 -0.609375 2.695312 -0.609375 Z M 2.695312 -0.609375 \"/>\n",
       "</g>\n",
       "<g id=\"glyph-0-1\">\n",
       "<path d=\"M 0.828125 1.019531 C 1.054688 0.980469 1.210938 0.824219 1.304688 0.546875 C 1.351562 0.398438 1.375 0.257812 1.375 0.121094 C 1.375 0.0976562 1.375 0.078125 1.375 0.0625 C 1.375 0.0429688 1.367188 0.0234375 1.363281 0 L 0.828125 0 L 0.828125 -1.0625 L 1.875 -1.0625 L 1.875 -0.078125 C 1.875 0.308594 1.796875 0.648438 1.640625 0.941406 C 1.484375 1.234375 1.214844 1.414062 0.828125 1.484375 Z M 0.828125 1.019531 \"/>\n",
       "</g>\n",
       "<g id=\"glyph-0-2\">\n",
       "<path d=\"M 0.957031 -4.953125 L 0.957031 -5.625 C 1.59375 -5.6875 2.035156 -5.789062 2.285156 -5.933594 C 2.535156 -6.078125 2.722656 -6.421875 2.847656 -6.960938 L 3.539062 -6.960938 L 3.539062 0 L 2.601562 0 L 2.601562 -4.953125 Z M 0.957031 -4.953125 \"/>\n",
       "</g>\n",
       "<g id=\"glyph-0-3\">\n",
       "<path d=\"M 0.3125 0 C 0.34375 -0.601562 0.46875 -1.125 0.6875 -1.570312 C 0.902344 -2.015625 1.324219 -2.421875 1.953125 -2.789062 L 2.890625 -3.328125 C 3.3125 -3.574219 3.605469 -3.78125 3.773438 -3.953125 C 4.039062 -4.226562 4.175781 -4.535156 4.175781 -4.882812 C 4.175781 -5.289062 4.054688 -5.613281 3.808594 -5.851562 C 3.5625 -6.089844 3.238281 -6.210938 2.832031 -6.210938 C 2.230469 -6.210938 1.8125 -5.984375 1.582031 -5.527344 C 1.457031 -5.28125 1.390625 -4.945312 1.375 -4.511719 L 0.484375 -4.511719 C 0.492188 -5.121094 0.605469 -5.617188 0.820312 -6 C 1.203125 -6.679688 1.875 -7.015625 2.835938 -7.015625 C 3.636719 -7.015625 4.222656 -6.800781 4.59375 -6.367188 C 4.960938 -5.933594 5.148438 -5.453125 5.148438 -4.921875 C 5.148438 -4.363281 4.949219 -3.882812 4.554688 -3.484375 C 4.328125 -3.253906 3.917969 -2.976562 3.328125 -2.648438 L 2.660156 -2.273438 C 2.34375 -2.097656 2.089844 -1.933594 1.910156 -1.773438 C 1.585938 -1.488281 1.378906 -1.175781 1.292969 -0.828125 L 5.113281 -0.828125 L 5.113281 0 Z M 0.3125 0 \"/>\n",
       "</g>\n",
       "<g id=\"glyph-0-4\">\n",
       "<path d=\"M 2.597656 0.191406 C 1.769531 0.191406 1.171875 -0.0351562 0.796875 -0.492188 C 0.425781 -0.945312 0.238281 -1.496094 0.238281 -2.148438 L 1.15625 -2.148438 C 1.195312 -1.695312 1.28125 -1.367188 1.410156 -1.164062 C 1.640625 -0.796875 2.050781 -0.609375 2.648438 -0.609375 C 3.109375 -0.609375 3.480469 -0.734375 3.757812 -0.980469 C 4.039062 -1.226562 4.179688 -1.546875 4.179688 -1.9375 C 4.179688 -2.421875 4.03125 -2.757812 3.738281 -2.949219 C 3.445312 -3.140625 3.035156 -3.238281 2.507812 -3.238281 C 2.449219 -3.238281 2.390625 -3.238281 2.332031 -3.234375 C 2.273438 -3.234375 2.210938 -3.230469 2.148438 -3.226562 L 2.148438 -4.003906 C 2.238281 -3.992188 2.316406 -3.988281 2.378906 -3.984375 C 2.441406 -3.980469 2.507812 -3.980469 2.578125 -3.980469 C 2.90625 -3.980469 3.175781 -4.03125 3.390625 -4.136719 C 3.761719 -4.320312 3.945312 -4.644531 3.945312 -5.113281 C 3.945312 -5.460938 3.820312 -5.730469 3.574219 -5.917969 C 3.328125 -6.105469 3.039062 -6.203125 2.710938 -6.203125 C 2.125 -6.203125 1.71875 -6.007812 1.492188 -5.617188 C 1.371094 -5.402344 1.300781 -5.09375 1.285156 -4.695312 L 0.414062 -4.695312 C 0.414062 -5.21875 0.519531 -5.660156 0.726562 -6.023438 C 1.085938 -6.675781 1.714844 -7 2.617188 -7 C 3.328125 -7 3.882812 -6.84375 4.273438 -6.527344 C 4.664062 -6.210938 4.859375 -5.75 4.859375 -5.148438 C 4.859375 -4.71875 4.742188 -4.367188 4.511719 -4.101562 C 4.367188 -3.9375 4.183594 -3.804688 3.953125 -3.710938 C 4.320312 -3.609375 4.609375 -3.414062 4.816406 -3.128906 C 5.023438 -2.839844 5.125 -2.488281 5.125 -2.070312 C 5.125 -1.402344 4.90625 -0.859375 4.46875 -0.4375 C 4.027344 -0.0195312 3.40625 0.191406 2.597656 0.191406 Z M 2.597656 0.191406 \"/>\n",
       "</g>\n",
       "</g>\n",
       "</defs>\n",
       "<rect x=\"-70\" y=\"-25\" width=\"840\" height=\"300\" fill=\"rgb(100%, 100%, 100%)\" fill-opacity=\"1\"/>\n",
       "<path fill=\"none\" stroke-width=\"1\" stroke-linecap=\"butt\" stroke-linejoin=\"miter\" stroke=\"rgb(86.742764%, 86.43766%, 86.260246%)\" stroke-opacity=\"1\" stroke-miterlimit=\"10\" d=\"M 50 50 L 220.734375 50 \"/>\n",
       "<path fill-rule=\"nonzero\" fill=\"rgb(86.742764%, 86.43766%, 86.260246%)\" fill-opacity=\"1\" d=\"M 235 50 L 220.734375 54.636719 L 220.734375 45.363281 L 235 50 \"/>\n",
       "<path fill=\"none\" stroke-width=\"1\" stroke-linecap=\"butt\" stroke-linejoin=\"miter\" stroke=\"rgb(86.742764%, 86.43766%, 86.260246%)\" stroke-opacity=\"1\" stroke-miterlimit=\"10\" d=\"M 50 50 L 221.609375 92.902344 \"/>\n",
       "<path fill-rule=\"nonzero\" fill=\"rgb(86.742764%, 86.43766%, 86.260246%)\" fill-opacity=\"1\" d=\"M 235.449219 96.363281 L 220.484375 97.398438 L 222.730469 88.40625 L 235.449219 96.363281 \"/>\n",
       "<path fill=\"none\" stroke-width=\"1\" stroke-linecap=\"butt\" stroke-linejoin=\"miter\" stroke=\"rgb(93.18313%, 51.908552%, 40.647961%)\" stroke-opacity=\"1\" stroke-miterlimit=\"10\" d=\"M 50 100 L 220.734375 100 \"/>\n",
       "<path fill-rule=\"nonzero\" fill=\"rgb(93.18313%, 51.908552%, 40.647961%)\" fill-opacity=\"1\" d=\"M 235 100 L 220.734375 104.636719 L 220.734375 95.363281 L 235 100 \"/>\n",
       "<path fill=\"none\" stroke-width=\"1\" stroke-linecap=\"butt\" stroke-linejoin=\"miter\" stroke=\"rgb(86.742764%, 86.43766%, 86.260246%)\" stroke-opacity=\"1\" stroke-miterlimit=\"10\" d=\"M 50 50 L 223.824219 136.910156 \"/>\n",
       "<path fill-rule=\"nonzero\" fill=\"rgb(86.742764%, 86.43766%, 86.260246%)\" fill-opacity=\"1\" d=\"M 236.582031 143.292969 L 221.75 141.058594 L 225.898438 132.765625 L 236.582031 143.292969 \"/>\n",
       "<path fill=\"none\" stroke-width=\"1\" stroke-linecap=\"butt\" stroke-linejoin=\"miter\" stroke=\"rgb(90.578348%, 45.518569%, 35.533588%)\" stroke-opacity=\"1\" stroke-miterlimit=\"10\" d=\"M 50 150 L 220.734375 150 \"/>\n",
       "<path fill-rule=\"nonzero\" fill=\"rgb(90.578348%, 45.518569%, 35.533588%)\" fill-opacity=\"1\" d=\"M 235 150 L 220.734375 154.636719 L 220.734375 145.363281 L 235 150 \"/>\n",
       "<path fill=\"none\" stroke-width=\"1\" stroke-linecap=\"butt\" stroke-linejoin=\"miter\" stroke=\"rgb(86.742764%, 86.43766%, 86.260246%)\" stroke-opacity=\"1\" stroke-miterlimit=\"10\" d=\"M 50 50 L 226.585938 182.441406 \"/>\n",
       "<path fill-rule=\"nonzero\" fill=\"rgb(86.742764%, 86.43766%, 86.260246%)\" fill-opacity=\"1\" d=\"M 238 191 L 223.804688 186.148438 L 229.367188 178.730469 L 238 191 \"/>\n",
       "<path fill=\"none\" stroke-width=\"1\" stroke-linecap=\"butt\" stroke-linejoin=\"miter\" stroke=\"rgb(86.742764%, 86.43766%, 86.260246%)\" stroke-opacity=\"1\" stroke-miterlimit=\"10\" d=\"M 50 200 L 220.734375 200 \"/>\n",
       "<path fill-rule=\"nonzero\" fill=\"rgb(86.742764%, 86.43766%, 86.260246%)\" fill-opacity=\"1\" d=\"M 235 200 L 220.734375 204.636719 L 220.734375 195.363281 L 235 200 \"/>\n",
       "<path fill=\"none\" stroke-width=\"1\" stroke-linecap=\"butt\" stroke-linejoin=\"miter\" stroke=\"rgb(86.742764%, 86.43766%, 86.260246%)\" stroke-opacity=\"1\" stroke-miterlimit=\"10\" d=\"M 50 100 L 221.609375 57.097656 \"/>\n",
       "<path fill-rule=\"nonzero\" fill=\"rgb(86.742764%, 86.43766%, 86.260246%)\" fill-opacity=\"1\" d=\"M 235.449219 53.636719 L 222.730469 61.59375 L 220.484375 52.601562 L 235.449219 53.636719 \"/>\n",
       "<path fill=\"none\" stroke-width=\"1\" stroke-linecap=\"butt\" stroke-linejoin=\"miter\" stroke=\"rgb(86.742764%, 86.43766%, 86.260246%)\" stroke-opacity=\"1\" stroke-miterlimit=\"10\" d=\"M 50 100 L 221.609375 142.902344 \"/>\n",
       "<path fill-rule=\"nonzero\" fill=\"rgb(86.742764%, 86.43766%, 86.260246%)\" fill-opacity=\"1\" d=\"M 235.449219 146.363281 L 220.484375 147.398438 L 222.730469 138.40625 L 235.449219 146.363281 \"/>\n",
       "<path fill=\"none\" stroke-width=\"1\" stroke-linecap=\"butt\" stroke-linejoin=\"miter\" stroke=\"rgb(96.810534%, 66.84752%, 55.048622%)\" stroke-opacity=\"1\" stroke-miterlimit=\"10\" d=\"M 250 50 L 420.734375 50 \"/>\n",
       "<path fill-rule=\"nonzero\" fill=\"rgb(96.810534%, 66.84752%, 55.048622%)\" fill-opacity=\"1\" d=\"M 435 50 L 420.734375 54.636719 L 420.734375 45.363281 L 435 50 \"/>\n",
       "<path fill=\"none\" stroke-width=\"1\" stroke-linecap=\"butt\" stroke-linejoin=\"miter\" stroke=\"rgb(86.742764%, 86.43766%, 86.260246%)\" stroke-opacity=\"1\" stroke-miterlimit=\"10\" d=\"M 250 50 L 421.609375 92.902344 \"/>\n",
       "<path fill-rule=\"nonzero\" fill=\"rgb(86.742764%, 86.43766%, 86.260246%)\" fill-opacity=\"1\" d=\"M 435.449219 96.363281 L 420.484375 97.398438 L 422.730469 88.40625 L 435.449219 96.363281 \"/>\n",
       "<path fill=\"none\" stroke-width=\"1\" stroke-linecap=\"butt\" stroke-linejoin=\"miter\" stroke=\"rgb(86.742764%, 86.43766%, 86.260246%)\" stroke-opacity=\"1\" stroke-miterlimit=\"10\" d=\"M 250 100 L 420.734375 100 \"/>\n",
       "<path fill-rule=\"nonzero\" fill=\"rgb(86.742764%, 86.43766%, 86.260246%)\" fill-opacity=\"1\" d=\"M 435 100 L 420.734375 104.636719 L 420.734375 95.363281 L 435 100 \"/>\n",
       "<path fill=\"none\" stroke-width=\"1\" stroke-linecap=\"butt\" stroke-linejoin=\"miter\" stroke=\"rgb(86.742764%, 86.43766%, 86.260246%)\" stroke-opacity=\"1\" stroke-miterlimit=\"10\" d=\"M 250 50 L 423.824219 136.910156 \"/>\n",
       "<path fill-rule=\"nonzero\" fill=\"rgb(86.742764%, 86.43766%, 86.260246%)\" fill-opacity=\"1\" d=\"M 436.582031 143.292969 L 421.75 141.058594 L 425.898438 132.765625 L 436.582031 143.292969 \"/>\n",
       "<path fill=\"none\" stroke-width=\"1\" stroke-linecap=\"butt\" stroke-linejoin=\"miter\" stroke=\"rgb(90.578348%, 45.518569%, 35.533588%)\" stroke-opacity=\"1\" stroke-miterlimit=\"10\" d=\"M 250 150 L 420.734375 150 \"/>\n",
       "<path fill-rule=\"nonzero\" fill=\"rgb(90.578348%, 45.518569%, 35.533588%)\" fill-opacity=\"1\" d=\"M 435 150 L 420.734375 154.636719 L 420.734375 145.363281 L 435 150 \"/>\n",
       "<path fill=\"none\" stroke-width=\"1\" stroke-linecap=\"butt\" stroke-linejoin=\"miter\" stroke=\"rgb(86.742764%, 86.43766%, 86.260246%)\" stroke-opacity=\"1\" stroke-miterlimit=\"10\" d=\"M 250 50 L 426.585938 182.441406 \"/>\n",
       "<path fill-rule=\"nonzero\" fill=\"rgb(86.742764%, 86.43766%, 86.260246%)\" fill-opacity=\"1\" d=\"M 438 191 L 423.804688 186.148438 L 429.367188 178.730469 L 438 191 \"/>\n",
       "<path fill=\"none\" stroke-width=\"1\" stroke-linecap=\"butt\" stroke-linejoin=\"miter\" stroke=\"rgb(86.742764%, 86.43766%, 86.260246%)\" stroke-opacity=\"1\" stroke-miterlimit=\"10\" d=\"M 250 200 L 420.734375 200 \"/>\n",
       "<path fill-rule=\"nonzero\" fill=\"rgb(86.742764%, 86.43766%, 86.260246%)\" fill-opacity=\"1\" d=\"M 435 200 L 420.734375 204.636719 L 420.734375 195.363281 L 435 200 \"/>\n",
       "<path fill=\"none\" stroke-width=\"1\" stroke-linecap=\"butt\" stroke-linejoin=\"miter\" stroke=\"rgb(93.18313%, 51.908552%, 40.647961%)\" stroke-opacity=\"1\" stroke-miterlimit=\"10\" d=\"M 250 100 L 421.609375 57.097656 \"/>\n",
       "<path fill-rule=\"nonzero\" fill=\"rgb(93.18313%, 51.908552%, 40.647961%)\" fill-opacity=\"1\" d=\"M 435.449219 53.636719 L 422.730469 61.59375 L 420.484375 52.601562 L 435.449219 53.636719 \"/>\n",
       "<path fill=\"none\" stroke-width=\"1\" stroke-linecap=\"butt\" stroke-linejoin=\"miter\" stroke=\"rgb(86.742764%, 86.43766%, 86.260246%)\" stroke-opacity=\"1\" stroke-miterlimit=\"10\" d=\"M 250 100 L 421.609375 142.902344 \"/>\n",
       "<path fill-rule=\"nonzero\" fill=\"rgb(86.742764%, 86.43766%, 86.260246%)\" fill-opacity=\"1\" d=\"M 435.449219 146.363281 L 420.484375 147.398438 L 422.730469 138.40625 L 435.449219 146.363281 \"/>\n",
       "<path fill=\"none\" stroke-width=\"1\" stroke-linecap=\"butt\" stroke-linejoin=\"miter\" stroke=\"rgb(93.18313%, 51.908552%, 40.647961%)\" stroke-opacity=\"1\" stroke-miterlimit=\"10\" d=\"M 450 50 L 620.734375 50 \"/>\n",
       "<path fill-rule=\"nonzero\" fill=\"rgb(93.18313%, 51.908552%, 40.647961%)\" fill-opacity=\"1\" d=\"M 635 50 L 620.734375 54.636719 L 620.734375 45.363281 L 635 50 \"/>\n",
       "<path fill=\"none\" stroke-width=\"1\" stroke-linecap=\"butt\" stroke-linejoin=\"miter\" stroke=\"rgb(86.742764%, 86.43766%, 86.260246%)\" stroke-opacity=\"1\" stroke-miterlimit=\"10\" d=\"M 450 50 L 621.609375 92.902344 \"/>\n",
       "<path fill-rule=\"nonzero\" fill=\"rgb(86.742764%, 86.43766%, 86.260246%)\" fill-opacity=\"1\" d=\"M 635.449219 96.363281 L 620.484375 97.398438 L 622.730469 88.40625 L 635.449219 96.363281 \"/>\n",
       "<path fill=\"none\" stroke-width=\"1\" stroke-linecap=\"butt\" stroke-linejoin=\"miter\" stroke=\"rgb(86.742764%, 86.43766%, 86.260246%)\" stroke-opacity=\"1\" stroke-miterlimit=\"10\" d=\"M 450 100 L 620.734375 100 \"/>\n",
       "<path fill-rule=\"nonzero\" fill=\"rgb(86.742764%, 86.43766%, 86.260246%)\" fill-opacity=\"1\" d=\"M 635 100 L 620.734375 104.636719 L 620.734375 95.363281 L 635 100 \"/>\n",
       "<path fill=\"none\" stroke-width=\"1\" stroke-linecap=\"butt\" stroke-linejoin=\"miter\" stroke=\"rgb(96.810534%, 66.84752%, 55.048622%)\" stroke-opacity=\"1\" stroke-miterlimit=\"10\" d=\"M 450 50 L 623.824219 136.910156 \"/>\n",
       "<path fill-rule=\"nonzero\" fill=\"rgb(96.810534%, 66.84752%, 55.048622%)\" fill-opacity=\"1\" d=\"M 636.582031 143.292969 L 621.75 141.058594 L 625.898438 132.765625 L 636.582031 143.292969 \"/>\n",
       "<path fill=\"none\" stroke-width=\"1\" stroke-linecap=\"butt\" stroke-linejoin=\"miter\" stroke=\"rgb(90.578348%, 45.518569%, 35.533588%)\" stroke-opacity=\"1\" stroke-miterlimit=\"10\" d=\"M 450 150 L 620.734375 150 \"/>\n",
       "<path fill-rule=\"nonzero\" fill=\"rgb(90.578348%, 45.518569%, 35.533588%)\" fill-opacity=\"1\" d=\"M 635 150 L 620.734375 154.636719 L 620.734375 145.363281 L 635 150 \"/>\n",
       "<path fill=\"none\" stroke-width=\"1\" stroke-linecap=\"butt\" stroke-linejoin=\"miter\" stroke=\"rgb(86.742764%, 86.43766%, 86.260246%)\" stroke-opacity=\"1\" stroke-miterlimit=\"10\" d=\"M 450 50 L 626.585938 182.441406 \"/>\n",
       "<path fill-rule=\"nonzero\" fill=\"rgb(86.742764%, 86.43766%, 86.260246%)\" fill-opacity=\"1\" d=\"M 638 191 L 623.804688 186.148438 L 629.367188 178.730469 L 638 191 \"/>\n",
       "<path fill=\"none\" stroke-width=\"1\" stroke-linecap=\"butt\" stroke-linejoin=\"miter\" stroke=\"rgb(83.936494%, 32.185622%, 26.492398%)\" stroke-opacity=\"1\" stroke-miterlimit=\"10\" d=\"M 450 200 L 620.734375 200 \"/>\n",
       "<path fill-rule=\"nonzero\" fill=\"rgb(83.936494%, 32.185622%, 26.492398%)\" fill-opacity=\"1\" d=\"M 635 200 L 620.734375 204.636719 L 620.734375 195.363281 L 635 200 \"/>\n",
       "<path fill=\"none\" stroke-width=\"1\" stroke-linecap=\"butt\" stroke-linejoin=\"miter\" stroke=\"rgb(86.742764%, 86.43766%, 86.260246%)\" stroke-opacity=\"1\" stroke-miterlimit=\"10\" d=\"M 450 100 L 621.609375 57.097656 \"/>\n",
       "<path fill-rule=\"nonzero\" fill=\"rgb(86.742764%, 86.43766%, 86.260246%)\" fill-opacity=\"1\" d=\"M 635.449219 53.636719 L 622.730469 61.59375 L 620.484375 52.601562 L 635.449219 53.636719 \"/>\n",
       "<path fill=\"none\" stroke-width=\"1\" stroke-linecap=\"butt\" stroke-linejoin=\"miter\" stroke=\"rgb(86.742764%, 86.43766%, 86.260246%)\" stroke-opacity=\"1\" stroke-miterlimit=\"10\" d=\"M 450 100 L 621.609375 142.902344 \"/>\n",
       "<path fill-rule=\"nonzero\" fill=\"rgb(86.742764%, 86.43766%, 86.260246%)\" fill-opacity=\"1\" d=\"M 635.449219 146.363281 L 620.484375 147.398438 L 622.730469 138.40625 L 635.449219 146.363281 \"/>\n",
       "<path fill-rule=\"nonzero\" fill=\"rgb(86.742764%, 86.43766%, 86.260246%)\" fill-opacity=\"1\" stroke-width=\"1\" stroke-linecap=\"butt\" stroke-linejoin=\"miter\" stroke=\"rgb(0%, 0%, 0%)\" stroke-opacity=\"1\" stroke-miterlimit=\"10\" d=\"M 65 50 C 65 58.285156 58.285156 65 50 65 C 41.714844 65 35 58.285156 35 50 C 35 41.714844 41.714844 35 50 35 C 58.285156 35 65 41.714844 65 50 \"/>\n",
       "<path fill-rule=\"nonzero\" fill=\"rgb(96.810534%, 66.84752%, 55.048622%)\" fill-opacity=\"1\" stroke-width=\"1\" stroke-linecap=\"butt\" stroke-linejoin=\"miter\" stroke=\"rgb(0%, 0%, 0%)\" stroke-opacity=\"1\" stroke-miterlimit=\"10\" d=\"M 65 100 C 65 108.285156 58.285156 115 50 115 C 41.714844 115 35 108.285156 35 100 C 35 91.714844 41.714844 85 50 85 C 58.285156 85 65 91.714844 65 100 \"/>\n",
       "<path fill-rule=\"nonzero\" fill=\"rgb(96.380606%, 63.418841%, 51.372085%)\" fill-opacity=\"1\" stroke-width=\"1\" stroke-linecap=\"butt\" stroke-linejoin=\"miter\" stroke=\"rgb(0%, 0%, 0%)\" stroke-opacity=\"1\" stroke-miterlimit=\"10\" d=\"M 65 150 C 65 158.285156 58.285156 165 50 165 C 41.714844 165 35 158.285156 35 150 C 35 141.714844 41.714844 135 50 135 C 58.285156 135 65 141.714844 65 150 \"/>\n",
       "<path fill-rule=\"nonzero\" fill=\"rgb(86.742764%, 86.43766%, 86.260246%)\" fill-opacity=\"1\" stroke-width=\"1\" stroke-linecap=\"butt\" stroke-linejoin=\"miter\" stroke=\"rgb(0%, 0%, 0%)\" stroke-opacity=\"1\" stroke-miterlimit=\"10\" d=\"M 65 200 C 65 208.285156 58.285156 215 50 215 C 41.714844 215 35 208.285156 35 200 C 35 191.714844 41.714844 185 50 185 C 58.285156 185 65 191.714844 65 200 \"/>\n",
       "<path fill-rule=\"nonzero\" fill=\"rgb(96.270828%, 75.355735%, 65.560121%)\" fill-opacity=\"1\" stroke-width=\"1\" stroke-linecap=\"butt\" stroke-linejoin=\"miter\" stroke=\"rgb(0%, 0%, 0%)\" stroke-opacity=\"1\" stroke-miterlimit=\"10\" d=\"M 265 50 C 265 58.285156 258.285156 65 250 65 C 241.714844 65 235 58.285156 235 50 C 235 41.714844 241.714844 35 250 35 C 258.285156 35 265 41.714844 265 50 \"/>\n",
       "<path fill-rule=\"nonzero\" fill=\"rgb(96.810534%, 66.84752%, 55.048622%)\" fill-opacity=\"1\" stroke-width=\"1\" stroke-linecap=\"butt\" stroke-linejoin=\"miter\" stroke=\"rgb(0%, 0%, 0%)\" stroke-opacity=\"1\" stroke-miterlimit=\"10\" d=\"M 265 100 C 265 108.285156 258.285156 115 250 115 C 241.714844 115 235 108.285156 235 100 C 235 91.714844 241.714844 85 250 85 C 258.285156 85 265 91.714844 265 100 \"/>\n",
       "<path fill-rule=\"nonzero\" fill=\"rgb(96.380606%, 63.418841%, 51.372085%)\" fill-opacity=\"1\" stroke-width=\"1\" stroke-linecap=\"butt\" stroke-linejoin=\"miter\" stroke=\"rgb(0%, 0%, 0%)\" stroke-opacity=\"1\" stroke-miterlimit=\"10\" d=\"M 265 150 C 265 158.285156 258.285156 165 250 165 C 241.714844 165 235 158.285156 235 150 C 235 141.714844 241.714844 135 250 135 C 258.285156 135 265 141.714844 265 150 \"/>\n",
       "<path fill-rule=\"nonzero\" fill=\"rgb(86.742764%, 86.43766%, 86.260246%)\" fill-opacity=\"1\" stroke-width=\"1\" stroke-linecap=\"butt\" stroke-linejoin=\"miter\" stroke=\"rgb(0%, 0%, 0%)\" stroke-opacity=\"1\" stroke-miterlimit=\"10\" d=\"M 265 200 C 265 208.285156 258.285156 215 250 215 C 241.714844 215 235 208.285156 235 200 C 235 191.714844 241.714844 185 250 185 C 258.285156 185 265 191.714844 265 200 \"/>\n",
       "<path fill-rule=\"nonzero\" fill=\"rgb(89.588459%, 43.307456%, 33.868063%)\" fill-opacity=\"1\" stroke-width=\"1\" stroke-linecap=\"butt\" stroke-linejoin=\"miter\" stroke=\"rgb(0%, 0%, 0%)\" stroke-opacity=\"1\" stroke-miterlimit=\"10\" d=\"M 465 50 C 465 58.285156 458.285156 65 450 65 C 441.714844 65 435 58.285156 435 50 C 435 41.714844 441.714844 35 450 35 C 458.285156 35 465 41.714844 465 50 \"/>\n",
       "<path fill-rule=\"nonzero\" fill=\"rgb(86.742764%, 86.43766%, 86.260246%)\" fill-opacity=\"1\" stroke-width=\"1\" stroke-linecap=\"butt\" stroke-linejoin=\"miter\" stroke=\"rgb(0%, 0%, 0%)\" stroke-opacity=\"1\" stroke-miterlimit=\"10\" d=\"M 465 100 C 465 108.285156 458.285156 115 450 115 C 441.714844 115 435 108.285156 435 100 C 435 91.714844 441.714844 85 450 85 C 458.285156 85 465 91.714844 465 100 \"/>\n",
       "<path fill-rule=\"nonzero\" fill=\"rgb(96.380606%, 63.418841%, 51.372085%)\" fill-opacity=\"1\" stroke-width=\"1\" stroke-linecap=\"butt\" stroke-linejoin=\"miter\" stroke=\"rgb(0%, 0%, 0%)\" stroke-opacity=\"1\" stroke-miterlimit=\"10\" d=\"M 465 150 C 465 158.285156 458.285156 165 450 165 C 441.714844 165 435 158.285156 435 150 C 435 141.714844 441.714844 135 450 135 C 458.285156 135 465 141.714844 465 150 \"/>\n",
       "<path fill-rule=\"nonzero\" fill=\"rgb(89.953438%, 44.06918%, 34.410686%)\" fill-opacity=\"1\" stroke-width=\"1\" stroke-linecap=\"butt\" stroke-linejoin=\"miter\" stroke=\"rgb(0%, 0%, 0%)\" stroke-opacity=\"1\" stroke-miterlimit=\"10\" d=\"M 465 200 C 465 208.285156 458.285156 215 450 215 C 441.714844 215 435 208.285156 435 200 C 435 191.714844 441.714844 185 450 185 C 458.285156 185 465 191.714844 465 200 \"/>\n",
       "<path fill-rule=\"nonzero\" fill=\"rgb(96.810534%, 66.84752%, 55.048622%)\" fill-opacity=\"1\" stroke-width=\"1\" stroke-linecap=\"butt\" stroke-linejoin=\"miter\" stroke=\"rgb(0%, 0%, 0%)\" stroke-opacity=\"1\" stroke-miterlimit=\"10\" d=\"M 665 50 C 665 58.285156 658.285156 65 650 65 C 641.714844 65 635 58.285156 635 50 C 635 41.714844 641.714844 35 650 35 C 658.285156 35 665 41.714844 665 50 \"/>\n",
       "<path fill-rule=\"nonzero\" fill=\"rgb(86.742764%, 86.43766%, 86.260246%)\" fill-opacity=\"1\" stroke-width=\"1\" stroke-linecap=\"butt\" stroke-linejoin=\"miter\" stroke=\"rgb(0%, 0%, 0%)\" stroke-opacity=\"1\" stroke-miterlimit=\"10\" d=\"M 665 100 C 665 108.285156 658.285156 115 650 115 C 641.714844 115 635 108.285156 635 100 C 635 91.714844 641.714844 85 650 85 C 658.285156 85 665 91.714844 665 100 \"/>\n",
       "<path fill-rule=\"nonzero\" fill=\"rgb(87.340228%, 38.695964%, 30.633246%)\" fill-opacity=\"1\" stroke-width=\"1\" stroke-linecap=\"butt\" stroke-linejoin=\"miter\" stroke=\"rgb(0%, 0%, 0%)\" stroke-opacity=\"1\" stroke-miterlimit=\"10\" d=\"M 665 150 C 665 158.285156 658.285156 165 650 165 C 641.714844 165 635 158.285156 635 150 C 635 141.714844 641.714844 135 650 135 C 658.285156 135 665 141.714844 665 150 \"/>\n",
       "<path fill-rule=\"nonzero\" fill=\"rgb(83.936494%, 32.185622%, 26.492398%)\" fill-opacity=\"1\" stroke-width=\"1\" stroke-linecap=\"butt\" stroke-linejoin=\"miter\" stroke=\"rgb(0%, 0%, 0%)\" stroke-opacity=\"1\" stroke-miterlimit=\"10\" d=\"M 665 200 C 665 208.285156 658.285156 215 650 215 C 641.714844 215 635 208.285156 635 200 C 635 191.714844 641.714844 185 650 185 C 658.285156 185 665 191.714844 665 200 \"/>\n",
       "<g fill=\"rgb(0%, 0%, 0%)\" fill-opacity=\"1\">\n",
       "<use xlink:href=\"#glyph-0-0\" x=\"43.105469\" y=\"54.644531\"/>\n",
       "<use xlink:href=\"#glyph-0-1\" x=\"48.666992\" y=\"54.644531\"/>\n",
       "<use xlink:href=\"#glyph-0-0\" x=\"51.445312\" y=\"54.644531\"/>\n",
       "</g>\n",
       "<g fill=\"rgb(0%, 0%, 0%)\" fill-opacity=\"1\">\n",
       "<use xlink:href=\"#glyph-0-0\" x=\"43.902344\" y=\"104.644531\"/>\n",
       "<use xlink:href=\"#glyph-0-1\" x=\"49.463867\" y=\"104.644531\"/>\n",
       "<use xlink:href=\"#glyph-0-2\" x=\"52.242188\" y=\"104.644531\"/>\n",
       "</g>\n",
       "<g fill=\"rgb(0%, 0%, 0%)\" fill-opacity=\"1\">\n",
       "<use xlink:href=\"#glyph-0-0\" x=\"43.101562\" y=\"154.65625\"/>\n",
       "<use xlink:href=\"#glyph-0-1\" x=\"48.663086\" y=\"154.65625\"/>\n",
       "<use xlink:href=\"#glyph-0-3\" x=\"51.441406\" y=\"154.65625\"/>\n",
       "</g>\n",
       "<g fill=\"rgb(0%, 0%, 0%)\" fill-opacity=\"1\">\n",
       "<use xlink:href=\"#glyph-0-0\" x=\"43.109375\" y=\"204.652344\"/>\n",
       "<use xlink:href=\"#glyph-0-1\" x=\"48.670898\" y=\"204.652344\"/>\n",
       "<use xlink:href=\"#glyph-0-4\" x=\"51.449219\" y=\"204.652344\"/>\n",
       "</g>\n",
       "<g fill=\"rgb(0%, 0%, 0%)\" fill-opacity=\"1\">\n",
       "<use xlink:href=\"#glyph-0-2\" x=\"242.78125\" y=\"54.644531\"/>\n",
       "<use xlink:href=\"#glyph-0-1\" x=\"248.342773\" y=\"54.644531\"/>\n",
       "<use xlink:href=\"#glyph-0-0\" x=\"251.121094\" y=\"54.644531\"/>\n",
       "</g>\n",
       "<g fill=\"rgb(0%, 0%, 0%)\" fill-opacity=\"1\">\n",
       "<use xlink:href=\"#glyph-0-2\" x=\"243.582031\" y=\"104.632812\"/>\n",
       "<use xlink:href=\"#glyph-0-1\" x=\"249.143555\" y=\"104.632812\"/>\n",
       "<use xlink:href=\"#glyph-0-2\" x=\"251.921875\" y=\"104.632812\"/>\n",
       "</g>\n",
       "<g fill=\"rgb(0%, 0%, 0%)\" fill-opacity=\"1\">\n",
       "<use xlink:href=\"#glyph-0-2\" x=\"242.777344\" y=\"154.65625\"/>\n",
       "<use xlink:href=\"#glyph-0-1\" x=\"248.338867\" y=\"154.65625\"/>\n",
       "<use xlink:href=\"#glyph-0-3\" x=\"251.117188\" y=\"154.65625\"/>\n",
       "</g>\n",
       "<g fill=\"rgb(0%, 0%, 0%)\" fill-opacity=\"1\">\n",
       "<use xlink:href=\"#glyph-0-2\" x=\"242.789062\" y=\"204.652344\"/>\n",
       "<use xlink:href=\"#glyph-0-1\" x=\"248.350586\" y=\"204.652344\"/>\n",
       "<use xlink:href=\"#glyph-0-4\" x=\"251.128906\" y=\"204.652344\"/>\n",
       "</g>\n",
       "<g fill=\"rgb(0%, 0%, 0%)\" fill-opacity=\"1\">\n",
       "<use xlink:href=\"#glyph-0-3\" x=\"443.105469\" y=\"54.65625\"/>\n",
       "<use xlink:href=\"#glyph-0-1\" x=\"448.666992\" y=\"54.65625\"/>\n",
       "<use xlink:href=\"#glyph-0-0\" x=\"451.445312\" y=\"54.65625\"/>\n",
       "</g>\n",
       "<g fill=\"rgb(0%, 0%, 0%)\" fill-opacity=\"1\">\n",
       "<use xlink:href=\"#glyph-0-3\" x=\"443.902344\" y=\"104.65625\"/>\n",
       "<use xlink:href=\"#glyph-0-1\" x=\"449.463867\" y=\"104.65625\"/>\n",
       "<use xlink:href=\"#glyph-0-2\" x=\"452.242188\" y=\"104.65625\"/>\n",
       "</g>\n",
       "<g fill=\"rgb(0%, 0%, 0%)\" fill-opacity=\"1\">\n",
       "<use xlink:href=\"#glyph-0-3\" x=\"443.101562\" y=\"154.65625\"/>\n",
       "<use xlink:href=\"#glyph-0-1\" x=\"448.663086\" y=\"154.65625\"/>\n",
       "<use xlink:href=\"#glyph-0-3\" x=\"451.441406\" y=\"154.65625\"/>\n",
       "</g>\n",
       "<g fill=\"rgb(0%, 0%, 0%)\" fill-opacity=\"1\">\n",
       "<use xlink:href=\"#glyph-0-3\" x=\"443.109375\" y=\"204.65625\"/>\n",
       "<use xlink:href=\"#glyph-0-1\" x=\"448.670898\" y=\"204.65625\"/>\n",
       "<use xlink:href=\"#glyph-0-4\" x=\"451.449219\" y=\"204.65625\"/>\n",
       "</g>\n",
       "<g fill=\"rgb(0%, 0%, 0%)\" fill-opacity=\"1\">\n",
       "<use xlink:href=\"#glyph-0-4\" x=\"643.140625\" y=\"54.652344\"/>\n",
       "<use xlink:href=\"#glyph-0-1\" x=\"648.702148\" y=\"54.652344\"/>\n",
       "<use xlink:href=\"#glyph-0-0\" x=\"651.480469\" y=\"54.652344\"/>\n",
       "</g>\n",
       "<g fill=\"rgb(0%, 0%, 0%)\" fill-opacity=\"1\">\n",
       "<use xlink:href=\"#glyph-0-4\" x=\"643.941406\" y=\"104.652344\"/>\n",
       "<use xlink:href=\"#glyph-0-1\" x=\"649.50293\" y=\"104.652344\"/>\n",
       "<use xlink:href=\"#glyph-0-2\" x=\"652.28125\" y=\"104.652344\"/>\n",
       "</g>\n",
       "<g fill=\"rgb(0%, 0%, 0%)\" fill-opacity=\"1\">\n",
       "<use xlink:href=\"#glyph-0-4\" x=\"643.136719\" y=\"154.65625\"/>\n",
       "<use xlink:href=\"#glyph-0-1\" x=\"648.698242\" y=\"154.65625\"/>\n",
       "<use xlink:href=\"#glyph-0-3\" x=\"651.476562\" y=\"154.65625\"/>\n",
       "</g>\n",
       "<g fill=\"rgb(0%, 0%, 0%)\" fill-opacity=\"1\">\n",
       "<use xlink:href=\"#glyph-0-4\" x=\"643.148438\" y=\"204.652344\"/>\n",
       "<use xlink:href=\"#glyph-0-1\" x=\"648.709961\" y=\"204.652344\"/>\n",
       "<use xlink:href=\"#glyph-0-4\" x=\"651.488281\" y=\"204.652344\"/>\n",
       "</g>\n",
       "</svg>\n"
      ],
      "text/plain": [
       "<igraph.drawing.cairo.plot.CairoPlot at 0x366c9e3d0>"
      ]
     },
     "execution_count": 29,
     "metadata": {
      "image/svg+xml": {
       "isolated": true
      }
     },
     "output_type": "execute_result"
    }
   ],
   "source": [
    "visual_style = util.get_visual_style(tug, vertex_weights=node_counts, edge_weights=arc_counts)\n",
    "ig.plot(tug, **visual_style, bbox=(700, 250), margin=50)"
   ]
  },
  {
   "cell_type": "markdown",
   "metadata": {},
   "source": [
    "* A grey shade corresponds to lower counts\n",
    "* A red shade corresponds to higher counts\n",
    "\n",
    "**These counts are our _available information_**"
   ]
  },
  {
   "cell_type": "markdown",
   "metadata": {
    "slideshow": {
     "slide_type": "slide"
    }
   },
   "source": [
    "# Problem Formulation\n",
    "\n",
    "By far the most important step of any solution process"
   ]
  },
  {
   "cell_type": "markdown",
   "metadata": {
    "slideshow": {
     "slide_type": "subslide"
    }
   },
   "source": [
    "## Problem Formulation\n",
    "\n",
    "**Every good approach starts with a problem formulation**\n",
    "\n",
    "* If you don't have a formulation\n",
    "* Odds are that you will come up with a patched-up solution\n",
    "\n",
    "> **Let's try to come up with a formulation for our problem!**"
   ]
  },
  {
   "cell_type": "markdown",
   "metadata": {
    "slideshow": {
     "slide_type": "fragment"
    }
   },
   "source": [
    "**We can introduce a variable $x_j$ _for each path_**\n",
    "\n",
    "* The value of $x_j$ represents the flow associated to the path\n",
    "* Then we can compute the estimated count per TUG node/arc\n",
    "* ...By simply summing the $x_j$ values of paths that pass through the node/arc"
   ]
  },
  {
   "cell_type": "markdown",
   "metadata": {
    "slideshow": {
     "slide_type": "subslide"
    }
   },
   "source": [
    "## Problem Formulation\n",
    "\n",
    "**Every good approach starts with a problem formulation**\n",
    "\n",
    "* If you don't have a formulation\n",
    "* Odds are that you will come up with a patched-up solution\n",
    "\n",
    "> **Let's try to come up with a formulation for our problem!**"
   ]
  },
  {
   "cell_type": "markdown",
   "metadata": {
    "slideshow": {
     "slide_type": "-"
    }
   },
   "source": [
    "**This approach is _remarkably simple_**\n",
    "\n",
    "* Computing counts is easy\n",
    "* Connectivity constraints are safisfied by construction\n",
    "\n",
    "**Basically, we handle some constraints _in the problem formulation_ itself**\n",
    "\n",
    "This is a first, powerful, and underestimated method to deal with constraints "
   ]
  },
  {
   "cell_type": "markdown",
   "metadata": {
    "slideshow": {
     "slide_type": "subslide"
    }
   },
   "source": [
    "## Path Formulation\n",
    "\n",
    "**We will call this approch the _path formulation_**\n",
    "\n",
    "Formally, our problem can be stated as:\n",
    "$$\n",
    "\\mathop{\\rm argmin}_{x} \\left\\{\\|Vx - v\\|_2^2 + \\|Ex - e\\|_2^2 \\mid x \\geq 0 \\right\\}\n",
    "$$\n",
    "\n",
    "* For simplicity, here we use _linear indexes_ for TUG nodes and arcs\n",
    "* $V$ is a matrix such that $V_{ij} = 1$ iff path $j$ passes through node $i$\n",
    "* $E$ is a matrix such that $E_{kj} = 1$ iff path $j$ passes through arc $k$\n",
    "\n",
    "**Path variables _cannot be negative_ (it would make no sense)**\n",
    "\n",
    "* Hence the path formulation is itself a _constrained optimization problem_\n",
    "* ...Though the constraints are in this case very simple"
   ]
  },
  {
   "cell_type": "markdown",
   "metadata": {
    "slideshow": {
     "slide_type": "subslide"
    }
   },
   "source": [
    "## Problem Reduction\n",
    "\n",
    "**For an squared L2 norm in the form $\\|Ax-b\\|_2^2$ we have that:**\n",
    "\n",
    "$$\\begin{align}\n",
    "\\|Ax - b\\|_2^2 &= (Ax - b)^T (Ax - b) \\\\\n",
    "&= x^T A^TA x - x^T A^T b - b^T Ax + b^T b \\\\\n",
    "&\\propto \\frac{1}{2} x^T (A^TA) x - \\frac{1}{2} x^T A^T b - \\frac{1}{2} b^T Ax \\\\\n",
    "&= \\frac{1}{2} x^T (A^TA) x + (-A^Tb)^Tx\n",
    "\\end{align}$$\n",
    "\n",
    "* This is true since $x^T A^T b$ and $b^T Ax$ are scalar\n",
    "* ...And $y^Tx = x^Ty$ if the quantity is a scalar\n",
    "* The scaling factor $1/2$ will become convenient later\n",
    "\n",
    "**This reduction is valid for any least squares problem**"
   ]
  },
  {
   "cell_type": "markdown",
   "metadata": {
    "slideshow": {
     "slide_type": "subslide"
    }
   },
   "source": [
    "## Problem Reduction\n",
    "\n",
    "**We can use the relation to reduce our problem to a more compact form**\n",
    "\n",
    "In particular, we have that:\n",
    "$$\n",
    "\\|Vx - v\\|_2^2 + \\|Ex - e\\|_2^2 \\\\\n",
    "\\propto \\frac{1}{2} \\|Vx - v\\|_2^2 + \\frac{1}{2} \\|Ex - e\\|_2^2 \\\\\n",
    "= \\frac{1}{2}x^T (V^T V) x + (-V^T v)^T x + \\frac{1}{2} x^T (E^T E) x + (-E^T e)^T x \\\\\n",
    "= \\frac{1}{2} x^T P x + q^T x\n",
    "$$\n",
    "\n",
    "* Where $P = V^T V + E^T E$\n",
    "* ...And $q = -V^T v -E^T e$"
   ]
  },
  {
   "cell_type": "markdown",
   "metadata": {
    "slideshow": {
     "slide_type": "subslide"
    }
   },
   "source": [
    "## Path Formulation as Convex Quadratic Programming\n",
    "\n",
    "**Therefore, the path formulation can be reduced to:**\n",
    "\n",
    "$$\n",
    "\\arg \\min_{x} \\left\\{\\frac{1}{2} x^T P x + q^T x \\mid x \\geq 0 \\right\\}\n",
    "$$\n",
    "\n",
    "...Which is a _quadratic program_\n",
    "\n",
    "* I.e. a problem where we want to minimize a _quadratic form_\n",
    "* ...Subject to _linear constraints_\n",
    "\n",
    "**Our problem is also _convex_**\n",
    "\n",
    "* This is true since $P = V^T V + E^T E$\n",
    "* ...And it is therefore guaranteed semi-definite positive\n",
    "\n",
    "**Convex quadratic programs can be solved _in polynomial time_**"
   ]
  }
 ],
 "metadata": {
  "celltoolbar": "Slideshow",
  "kernelspec": {
   "display_name": "Python 3 (ipykernel)",
   "language": "python",
   "name": "python3"
  },
  "language_info": {
   "codemirror_mode": {
    "name": "ipython",
    "version": 3
   },
   "file_extension": ".py",
   "mimetype": "text/x-python",
   "name": "python",
   "nbconvert_exporter": "python",
   "pygments_lexer": "ipython3",
   "version": "3.11.8"
  },
  "rise": {
   "center": false,
   "transition": "fade"
  }
 },
 "nbformat": 4,
 "nbformat_minor": 4
}
