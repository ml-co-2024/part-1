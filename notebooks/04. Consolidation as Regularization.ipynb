{
 "cells": [
  {
   "cell_type": "code",
   "execution_count": 1,
   "metadata": {
    "slideshow": {
     "slide_type": "skip"
    }
   },
   "outputs": [],
   "source": [
    "# ============================================================\n",
    "# Notebook setup: run this before everything\n",
    "# ============================================================\n",
    "\n",
    "%load_ext autoreload\n",
    "%autoreload 2\n",
    "\n",
    "# Control figure size\n",
    "figsize=(14, 5)\n",
    "\n",
    "#from matplotlib import pyplot as plt\n",
    "from util import util\n",
    "import igraph as ig\n",
    "import numpy as np\n",
    "\n",
    "# ============================================================\n",
    "# Repeat the relevant previous steps\n",
    "# ============================================================\n",
    "\n",
    "# Generate a graph\n",
    "g = util.build_website_graph(nnodes=4, rate=3, extra_arc_fraction=0.25, seed=42)\n",
    "# Route flows (ground truth)\n",
    "eoh = 4\n",
    "flows, paths = util.build_random_paths(g, min_paths=3, max_paths=5,\n",
    "                                          min_units=1, max_units=10, eoh=eoh, seed=42)\n",
    "# Unfold\n",
    "tug = util.build_time_unfolded_graph(g, eoh=eoh)\n",
    "# Compute counts\n",
    "node_counts, arc_counts = util.get_counts(tug, flows, paths)\n",
    "# Solve the path formulation\n",
    "rflows, rpaths = util.solve_path_selection_full(tug, node_counts, arc_counts, verbose=0)"
   ]
  },
  {
   "cell_type": "markdown",
   "metadata": {
    "slideshow": {
     "slide_type": "slide"
    }
   },
   "source": [
    "# Symmetries\n",
    "\n",
    "Sometimes metrics are not enough"
   ]
  },
  {
   "cell_type": "markdown",
   "metadata": {
    "slideshow": {
     "slide_type": "subslide"
    }
   },
   "source": [
    "## Unexpected Discrepancy\n",
    "\n",
    "**Our current solution seems apparently perfect**"
   ]
  },
  {
   "cell_type": "code",
   "execution_count": 2,
   "metadata": {},
   "outputs": [
    {
     "name": "stdout",
     "output_type": "stream",
     "text": [
      "8.17: 2,3 > 3,3\n",
      "5.47: 0,2 > 1,2 > 2,2 > 3,2\n",
      "3.74: 3,3\n",
      "2.81: 0,1 > 1,1 > 2,0 > 3,0\n",
      "2.09: 0,1 > 1,1 > 2,0 > 3,2\n",
      "2.09: 1,0 > 2,0 > 3,0\n",
      "1.24: 1,0 > 2,0 > 3,2\n",
      "RSSE: 0.00\n"
     ]
    }
   ],
   "source": [
    "util.print_solution(tug, rflows, rpaths, sort='descending')\n",
    "sse = util.get_reconstruction_error(tug, rflows, rpaths, node_counts, arc_counts)\n",
    "print(f'RSSE: {np.sqrt(sse):.2f}')"
   ]
  },
  {
   "cell_type": "markdown",
   "metadata": {},
   "source": [
    "...And yet it _does not match_ the ground truth!"
   ]
  },
  {
   "cell_type": "code",
   "execution_count": 3,
   "metadata": {},
   "outputs": [
    {
     "name": "stdout",
     "output_type": "stream",
     "text": [
      "8.17: 2,3 > 3,3\n",
      "5.47: 0,2 > 1,2 > 2,2 > 3,2\n",
      "4.89: 0,1 > 1,1 > 2,0 > 3,0\n",
      "3.74: 3,3\n",
      "3.32: 1,0 > 2,0 > 3,2\n"
     ]
    }
   ],
   "source": [
    "util.print_ground_truth(flows, paths, sort='descending')"
   ]
  },
  {
   "cell_type": "markdown",
   "metadata": {
    "slideshow": {
     "slide_type": "subslide"
    }
   },
   "source": [
    "## Unexpected Discrepancy\n",
    "\n",
    "**The discrepancy is unexpected, due to the 0 reconstruction error**\n",
    "\n",
    "Indeed, we can check that the reconstructed counts match the true ones:"
   ]
  },
  {
   "cell_type": "code",
   "execution_count": 4,
   "metadata": {},
   "outputs": [
    {
     "data": {
      "image/png": "[encoded data removed]",
      "text/plain": [
       "<Figure size 1400x500 with 1 Axes>"
      ]
     },
     "metadata": {},
     "output_type": "display_data"
    }
   ],
   "source": [
    "rnc, rac = util.get_counts(tug, rflows, rpaths)\n",
    "util.plot_dict(rnc, figsize=figsize, label='reconstructed', data2=node_counts, label2='target', title='Node Counts')"
   ]
  },
  {
   "cell_type": "markdown",
   "metadata": {
    "slideshow": {
     "slide_type": "subslide"
    }
   },
   "source": [
    "## Unexpected Discrepancy\n",
    "\n",
    "> **What is going on?**"
   ]
  },
  {
   "cell_type": "markdown",
   "metadata": {
    "slideshow": {
     "slide_type": "fragment"
    }
   },
   "source": [
    "**We mentioned early on that _the available information is poor_**\n",
    "\n",
    "* There are many possible paths\n",
    "* ...And many possible ways to explain the original counts!\n",
    "\n",
    "> **How do we fix these _symmetries_?**"
   ]
  },
  {
   "cell_type": "markdown",
   "metadata": {
    "slideshow": {
     "slide_type": "fragment"
    }
   },
   "source": [
    "* The only way is adding external information (e.g. a preference on paths)\n",
    "* We can view this as a form of regularization"
   ]
  },
  {
   "cell_type": "markdown",
   "metadata": {
    "slideshow": {
     "slide_type": "subslide"
    }
   },
   "source": [
    "## Occam's Razor\n",
    "\n",
    "**Intuitively, we could give priority to _the simplest explanation_**\n",
    "\n",
    "<center style=\"font-size:small\">\n",
    "<img src=\"assets/occam.png\" width=250px/>\n",
    "Image credit: <a href=\"https://xkcd.com/2541/\">xkcd 2541</a>\n",
    "</center>\n",
    "\n",
    "A reasonable choice may be to use _a small number of paths_\n",
    "\n",
    "> **How do we enforce this?**"
   ]
  },
  {
   "cell_type": "markdown",
   "metadata": {
    "slideshow": {
     "slide_type": "subslide"
    }
   },
   "source": [
    "## L1 Regularization and Path Number\n",
    "\n",
    "**We may think of using an L1 regularization**\n",
    "\n",
    "We would just need to add a linear term to the path formulation:\n",
    "$$\n",
    "\\arg \\min_{x} \\left\\{\\frac{1}{2} x^T P x + q^T x + \\alpha {\\bf 1}^T x \\mid x \\geq 0 \\right\\}\n",
    "$$\n",
    "\n",
    "...Which would translate into a correction on the $q$ vector:\n",
    "$$\n",
    "\\arg \\min_{x} \\left\\{\\frac{1}{2} x^T P x + (q^T + \\alpha) x \\mid x \\geq 0 \\right\\}\n",
    "$$\n",
    "\n",
    "* This trick is implemented in the `solve_path_selection_full` function\n",
    "* We just need to pass a value for the `alpha` argument"
   ]
  },
  {
   "cell_type": "markdown",
   "metadata": {
    "slideshow": {
     "slide_type": "subslide"
    }
   },
   "source": [
    "## L1 Regularization and Path Number\n",
    "\n",
    "**Let's begin by trying $\\alpha = 1$**"
   ]
  },
  {
   "cell_type": "code",
   "execution_count": 5,
   "metadata": {},
   "outputs": [
    {
     "name": "stdout",
     "output_type": "stream",
     "text": [
      "FLOW: PATH\n",
      "8.10: 2,3 > 3,3\n",
      "5.37: 0,2 > 1,2 > 2,2 > 3,2\n",
      "2.58: 0,1 > 1,1 > 2,0 > 3,0\n",
      "2.36: 3,3\n",
      "1.98: 1,0 > 2,0 > 3,0\n",
      "1.90: 0,1 > 1,1 > 2,0 > 3,2\n",
      "1.17: 1,0 > 2,0 > 3,2\n",
      "0.36: 0,1 > 1,1 > 2,0 > 3,3\n",
      "0.06: 1,0 > 2,3 > 3,3\n",
      "0.02: 0,1 > 1,0 > 2,0 > 3,0\n",
      "0.02: 1,0 > 2,0 > 3,3\n",
      "\n",
      "RSSE: 1.30\n"
     ]
    }
   ],
   "source": [
    "rflows2, rpaths2 = util.solve_path_selection_full(tug, node_counts, arc_counts, verbose=0, alpha=1)\n",
    "print('FLOW: PATH')\n",
    "util.print_solution(tug, rflows2, rpaths2, sort='descending')\n",
    "sse = util.get_reconstruction_error(tug, rflows2, rpaths2, node_counts, arc_counts)\n",
    "print(f'\\nRSSE: {np.sqrt(sse):.2f}')"
   ]
  },
  {
   "cell_type": "markdown",
   "metadata": {
    "slideshow": {
     "slide_type": "fragment"
    }
   },
   "source": [
    "* The RSSE grows (as it could be expected)\n",
    "* But we have _more_ paths!"
   ]
  },
  {
   "cell_type": "markdown",
   "metadata": {
    "slideshow": {
     "slide_type": "subslide"
    }
   },
   "source": [
    "## L1 Regularization and Path Number\n",
    "\n",
    "**What if we make $\\alpha$ larger?**"
   ]
  },
  {
   "cell_type": "code",
   "execution_count": 6,
   "metadata": {
    "scrolled": true
   },
   "outputs": [
    {
     "name": "stdout",
     "output_type": "stream",
     "text": [
      "FLOW: PATH\n",
      "4.76: 2,3 > 3,3\n",
      "4.27: 0,2 > 1,2 > 2,2 > 3,2\n",
      "1.83: 0,1 > 1,1 > 2,0 > 3,0\n",
      "1.42: 0,1 > 1,1 > 2,0 > 3,2\n",
      "0.84: 0,1 > 1,1 > 2,0 > 3,3\n",
      "0.82: 1,0 > 2,3 > 3,3\n",
      "0.77: 1,0 > 2,0 > 3,0\n",
      "0.29: 1,0 > 2,0 > 3,2\n",
      "0.19: 0,1 > 1,0 > 2,3 > 3,3\n",
      "0.15: 0,1 > 1,0 > 2,0 > 3,0\n",
      "0.06: 0,1 > 1,0 > 2,0 > 3,2\n",
      "0.04: 1,0 > 2,0 > 3,3\n",
      "0.04: 0,1 > 1,0 > 2,0 > 3,3\n",
      "0.02: 0,0 > 1,0 > 2,0 > 3,2\n",
      "\n",
      "RSSE: 9.11\n"
     ]
    }
   ],
   "source": [
    "rflows2, rpaths2 = util.solve_path_selection_full(tug, node_counts, arc_counts, verbose=0, alpha=10)\n",
    "print('FLOW: PATH')\n",
    "util.print_solution(tug, rflows2, rpaths2, sort='descending')\n",
    "sse = util.get_reconstruction_error(tug, rflows2, rpaths2, node_counts, arc_counts)\n",
    "print(f'\\nRSSE: {np.sqrt(sse):.2f}')"
   ]
  },
  {
   "cell_type": "markdown",
   "metadata": {
    "slideshow": {
     "slide_type": "fragment"
    }
   },
   "source": [
    "* We don't seem to be getting _fewer_ paths, but rather _longer_ ones"
   ]
  },
  {
   "cell_type": "markdown",
   "metadata": {
    "slideshow": {
     "slide_type": "subslide"
    }
   },
   "source": [
    "## L1 Regularization and Path Number\n",
    "\n",
    "**Shouldn't L1 norm work as a sparsifier?**\n",
    "\n",
    "Not exactly: it simply results in a _fixed penalty rate_ for raising a variable\n",
    "\n",
    "* The solver will try to _balance_ it with a larger reduction of the quadratic loss\n",
    "* ...Which we can easily improve by including _more nodes_ in each path"
   ]
  },
  {
   "cell_type": "markdown",
   "metadata": {
    "slideshow": {
     "slide_type": "fragment"
    }
   },
   "source": [
    "**The truth is that when we use an L1 norm as sparsifier...**\n",
    "\n",
    "...We really wished our regularizer to be:\n",
    "$$\n",
    "N_{paths} = \\sum_{j=1}^n z_j \\quad \\text{with: } z_j = \\left\\{\\begin{aligned}\n",
    "1 & \\text{ if $x_j > 0$} \\\\\n",
    "0 & \\text{ otherwise}\n",
    "\\end{aligned}\\right.\n",
    "$$\n",
    "\n",
    "* Which is inconvenient, since it is non-differentiable\n",
    "* ...But what if we used an approach for non-differentiable optimization?"
   ]
  },
  {
   "cell_type": "markdown",
   "metadata": {
    "slideshow": {
     "slide_type": "slide"
    }
   },
   "source": [
    "# Path Consolidation Problem\n",
    "\n",
    "Let's face an inconvenient truth"
   ]
  },
  {
   "cell_type": "markdown",
   "metadata": {
    "slideshow": {
     "slide_type": "subslide"
    }
   },
   "source": [
    "## Path Consolidation Problem\n",
    "\n",
    "**For example, we could _focus on the paths in the current solution_:**\n",
    "\n",
    "* ..._Minimize the number_ of used paths\n",
    "* ...While preserving our reconstruction error\n",
    "\n",
    "This is form of _symmetry breaking_ (as a post-processing step)\n",
    "\n",
    "**By doing this, we obtain a _\"path consolidation problem\"_ in the form:**\n",
    "\n",
    "$$\\begin{align}\n",
    "\\arg \\min_{x} \\ & \\|z\\|_1 \\\\\n",
    "\\text{subject to: } & Vx = v^* \\\\\n",
    "& Ex = e^* \\\\\n",
    "& x \\leq M z \\\\\n",
    "& x \\geq 0 \\\\\n",
    "& z \\in \\{0, 1\\}^n\n",
    "\\end{align}$$"
   ]
  },
  {
   "cell_type": "markdown",
   "metadata": {
    "slideshow": {
     "slide_type": "subslide"
    }
   },
   "source": [
    "## Path Consolidation Problem\n",
    "\n",
    "**Let's proceed to examine the formulation a bit better:**\n",
    "\n",
    "$$\\begin{align}\n",
    "\\arg \\min_{x} \\ & \\|z\\|_1 \\\\\n",
    "\\text{subject to: } & Vx = v^* \\\\\n",
    "& Ex = e^* \\\\\n",
    "& x \\leq M z \\\\\n",
    "& x \\geq 0 \\\\\n",
    "& z \\in \\{0, 1\\}^n\n",
    "\\end{align}$$\n",
    "\n",
    "* The terms $V$, $E$, and $x$ are the same as before\n",
    "* ...Except in this case we will consider a _a subset of the paths_\n",
    "* $v^*$ and $e^*$ are the counts from the optimal path formulation solution\n",
    "* We are requiring the (reconstructed) counts to be _exactly the same_"
   ]
  },
  {
   "cell_type": "markdown",
   "metadata": {
    "slideshow": {
     "slide_type": "subslide"
    }
   },
   "source": [
    "## Path Consolidation Problem\n",
    "\n",
    "**Let's proceed to examine the formulation a bit better:**\n",
    "\n",
    "$$\\begin{align}\n",
    "\\arg \\min_{x} \\ & \\|z\\|_1 \\\\\n",
    "\\text{subject to: } & Vx = v^* \\\\\n",
    "& Ex = e^* \\\\\n",
    "& x \\leq M z \\\\\n",
    "& x \\geq 0 \\\\\n",
    "& z \\in \\{0, 1\\}^n\n",
    "\\end{align}$$\n",
    "\n",
    "* The $z$ variables determine whether a path is used ($z_j = 1$) or not ($z_j = 0$)\n",
    "* $M$ is a constant large enough to make the constraint trivial if $z_j = 1$\n",
    "* Constants such as these are often referred to as \"big-Ms\"\n",
    "* Basically, $x \\leq Mz$ is a linearization of the implication $x > 0 \\Rightarrow z = 1$"
   ]
  },
  {
   "cell_type": "markdown",
   "metadata": {
    "slideshow": {
     "slide_type": "subslide"
    }
   },
   "source": [
    "## Path Consolidation Problem\n",
    "\n",
    "**Let's proceed to examine the formulation a bit better:**\n",
    "\n",
    "$$\\begin{align}\n",
    "\\arg \\min_{x} \\ & \\|z\\|_1 \\\\\n",
    "\\text{subject to: } & Vx = v^* \\\\\n",
    "& Ex = e^* \\\\\n",
    "& x \\leq M z \\\\\n",
    "& x \\geq 0 \\\\\n",
    "& z \\in \\{0, 1\\}^n\n",
    "\\end{align}$$\n",
    "\n",
    "* All constraints are linear\n",
    "* The cost function is linear\n",
    "* Some variables are integer\n",
    "\n",
    "**This is a _Mixed Integer Linear Program (MILP)_**"
   ]
  }
 ],
 "metadata": {
  "celltoolbar": "Slideshow",
  "kernelspec": {
   "display_name": "Python 3 (ipykernel)",
   "language": "python",
   "name": "python3"
  },
  "language_info": {
   "codemirror_mode": {
    "name": "ipython",
    "version": 3
   },
   "file_extension": ".py",
   "mimetype": "text/x-python",
   "name": "python",
   "nbconvert_exporter": "python",
   "pygments_lexer": "ipython3",
   "version": "3.11.8"
  },
  "rise": {
   "center": false,
   "transition": "fade"
  }
 },
 "nbformat": 4,
 "nbformat_minor": 4
}
