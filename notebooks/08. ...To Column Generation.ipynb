{
 "cells": [
  {
   "cell_type": "code",
   "execution_count": 1,
   "metadata": {
    "slideshow": {
     "slide_type": "skip"
    }
   },
   "outputs": [],
   "source": [
    "# ============================================================\n",
    "# Notebook setup: run this before everything\n",
    "# ============================================================\n",
    "\n",
    "%load_ext autoreload\n",
    "%autoreload 2\n",
    "\n",
    "# Control figure size\n",
    "figsize=(14, 5)\n",
    "\n",
    "#from matplotlib import pyplot as plt\n",
    "from util import util\n",
    "import igraph as ig\n",
    "import numpy as np\n",
    "\n",
    "# ============================================================\n",
    "# Repeat relevant operations\n",
    "# ============================================================\n",
    "\n",
    "# Build the small graph used to explain concepts\n",
    "eoh = 4\n",
    "g = util.build_website_graph(nnodes=4, rate=3, extra_arc_fraction=0.25, seed=42)\n",
    "flows, paths = util.build_random_paths(g, min_paths=3, max_paths=5,\n",
    "                                          min_units=1, max_units=10, eoh=eoh, seed=42)\n",
    "tug = util.build_time_unfolded_graph(g, eoh=eoh)\n",
    "node_counts, arc_counts = util.get_counts(tug, flows, paths)\n",
    "# Enumerate all paths\n",
    "tugs, tugs_source = util._add_source_to_tug(tug)\n",
    "tug_paths = util.enumerate_paths(tugs, tugs_source, exclude_source=True)\n",
    "# Solve a restricted master problem\n",
    "path_pool = tug_paths[:10]\n",
    "rflows0, rpaths0 = util.solve_path_selection_full(tug, node_counts, arc_counts,\n",
    "                                                  initial_paths=path_pool, verbose=0, solver='piqp')\n",
    "nres0, ares0 = util._get_residuals(tug, rflows0, rpaths0, node_counts, arc_counts)"
   ]
  },
  {
   "cell_type": "markdown",
   "metadata": {
    "slideshow": {
     "slide_type": "slide"
    }
   },
   "source": [
    "# Column Generation\n",
    "\n",
    "Because we cannot spend all day pricing"
   ]
  },
  {
   "cell_type": "markdown",
   "metadata": {
    "slideshow": {
     "slide_type": "subslide"
    }
   },
   "source": [
    "## Column Generation\n",
    "\n",
    "**We now have a mechanism to price all variables not in the pool**\n",
    "\n",
    "...But we still need to handle an exponential number of them\n",
    "\n",
    "* I.e. enumerating paths would still be prohibitively expensive\n",
    "\n",
    "> **What can we do about it?**"
   ]
  },
  {
   "cell_type": "markdown",
   "metadata": {
    "slideshow": {
     "slide_type": "fragment"
    }
   },
   "source": [
    "* There is no need to find _all paths_ with negative $\\frac{\\partial}{\\partial x_j} f(x) < 0$\n",
    "* We just need to determine whether _one such path_ exists\n",
    "\n",
    "**Hence, we can _build_ a variable with the _most negative_ $\\frac{\\partial}{\\partial x_j} f(x) < 0$**\n",
    "\n",
    "* Since variables correspond to columns in LP\n",
    "* ...This approach is called _Column Generation_"
   ]
  },
  {
   "cell_type": "markdown",
   "metadata": {
    "slideshow": {
     "slide_type": "subslide"
    }
   },
   "source": [
    "## Pricing ad Optimization\n",
    "\n",
    "**In practice, we view pricing as an _optimization problem_**\n",
    "\n",
    "* In our case we are looking at paths\n",
    "* ...So it make sense to visualize them on the Time Unfolded Graph"
   ]
  },
  {
   "cell_type": "code",
   "execution_count": 2,
   "metadata": {},
   "outputs": [
    {
     "data": {
      "image/svg+xml": [
       "<?xml version=\"1.0\" encoding=\"UTF-8\"?>\n",
       "<svg xmlns=\"http://www.w3.org/2000/svg\" xmlns:xlink=\"http://www.w3.org/1999/xlink\" width=\"700\" height=\"300\" viewBox=\"0 0 700 300\">\n",
       "<defs>\n",
       "<g>\n",
       "<g id=\"glyph-0-0\">\n",
       "<path d=\"M 2.703125 -6.992188 C 3.609375 -6.992188 4.265625 -6.621094 4.667969 -5.875 C 4.980469 -5.296875 5.136719 -4.507812 5.136719 -3.507812 C 5.136719 -2.554688 4.996094 -1.769531 4.710938 -1.148438 C 4.300781 -0.257812 3.632812 0.191406 2.699219 0.191406 C 1.859375 0.191406 1.234375 -0.175781 0.824219 -0.902344 C 0.484375 -1.511719 0.3125 -2.328125 0.3125 -3.355469 C 0.3125 -4.148438 0.414062 -4.832031 0.621094 -5.398438 C 1.003906 -6.460938 1.699219 -6.992188 2.703125 -6.992188 Z M 2.695312 -0.609375 C 3.152344 -0.609375 3.515625 -0.8125 3.785156 -1.214844 C 4.054688 -1.617188 4.1875 -2.371094 4.1875 -3.472656 C 4.1875 -4.265625 4.09375 -4.917969 3.898438 -5.433594 C 3.703125 -5.945312 3.320312 -6.203125 2.757812 -6.203125 C 2.242188 -6.203125 1.863281 -5.957031 1.625 -5.472656 C 1.382812 -4.984375 1.265625 -4.265625 1.265625 -3.320312 C 1.265625 -2.609375 1.339844 -2.035156 1.492188 -1.601562 C 1.726562 -0.941406 2.128906 -0.609375 2.695312 -0.609375 Z M 2.695312 -0.609375 \"/>\n",
       "</g>\n",
       "<g id=\"glyph-0-1\">\n",
       "<path d=\"M 0.828125 1.019531 C 1.054688 0.980469 1.210938 0.824219 1.304688 0.546875 C 1.351562 0.398438 1.375 0.257812 1.375 0.121094 C 1.375 0.0976562 1.375 0.078125 1.375 0.0625 C 1.375 0.0429688 1.367188 0.0234375 1.363281 0 L 0.828125 0 L 0.828125 -1.0625 L 1.875 -1.0625 L 1.875 -0.078125 C 1.875 0.308594 1.796875 0.648438 1.640625 0.941406 C 1.484375 1.234375 1.214844 1.414062 0.828125 1.484375 Z M 0.828125 1.019531 \"/>\n",
       "</g>\n",
       "<g id=\"glyph-0-2\">\n",
       "<path d=\"M 0.957031 -4.953125 L 0.957031 -5.625 C 1.59375 -5.6875 2.035156 -5.789062 2.285156 -5.933594 C 2.535156 -6.078125 2.722656 -6.421875 2.847656 -6.960938 L 3.539062 -6.960938 L 3.539062 0 L 2.601562 0 L 2.601562 -4.953125 Z M 0.957031 -4.953125 \"/>\n",
       "</g>\n",
       "<g id=\"glyph-0-3\">\n",
       "<path d=\"M 0.3125 0 C 0.34375 -0.601562 0.46875 -1.125 0.6875 -1.570312 C 0.902344 -2.015625 1.324219 -2.421875 1.953125 -2.789062 L 2.890625 -3.328125 C 3.3125 -3.574219 3.605469 -3.78125 3.773438 -3.953125 C 4.039062 -4.226562 4.175781 -4.535156 4.175781 -4.882812 C 4.175781 -5.289062 4.054688 -5.613281 3.808594 -5.851562 C 3.5625 -6.089844 3.238281 -6.210938 2.832031 -6.210938 C 2.230469 -6.210938 1.8125 -5.984375 1.582031 -5.527344 C 1.457031 -5.28125 1.390625 -4.945312 1.375 -4.511719 L 0.484375 -4.511719 C 0.492188 -5.121094 0.605469 -5.617188 0.820312 -6 C 1.203125 -6.679688 1.875 -7.015625 2.835938 -7.015625 C 3.636719 -7.015625 4.222656 -6.800781 4.59375 -6.367188 C 4.960938 -5.933594 5.148438 -5.453125 5.148438 -4.921875 C 5.148438 -4.363281 4.949219 -3.882812 4.554688 -3.484375 C 4.328125 -3.253906 3.917969 -2.976562 3.328125 -2.648438 L 2.660156 -2.273438 C 2.34375 -2.097656 2.089844 -1.933594 1.910156 -1.773438 C 1.585938 -1.488281 1.378906 -1.175781 1.292969 -0.828125 L 5.113281 -0.828125 L 5.113281 0 Z M 0.3125 0 \"/>\n",
       "</g>\n",
       "<g id=\"glyph-0-4\">\n",
       "<path d=\"M 2.597656 0.191406 C 1.769531 0.191406 1.171875 -0.0351562 0.796875 -0.492188 C 0.425781 -0.945312 0.238281 -1.496094 0.238281 -2.148438 L 1.15625 -2.148438 C 1.195312 -1.695312 1.28125 -1.367188 1.410156 -1.164062 C 1.640625 -0.796875 2.050781 -0.609375 2.648438 -0.609375 C 3.109375 -0.609375 3.480469 -0.734375 3.757812 -0.980469 C 4.039062 -1.226562 4.179688 -1.546875 4.179688 -1.9375 C 4.179688 -2.421875 4.03125 -2.757812 3.738281 -2.949219 C 3.445312 -3.140625 3.035156 -3.238281 2.507812 -3.238281 C 2.449219 -3.238281 2.390625 -3.238281 2.332031 -3.234375 C 2.273438 -3.234375 2.210938 -3.230469 2.148438 -3.226562 L 2.148438 -4.003906 C 2.238281 -3.992188 2.316406 -3.988281 2.378906 -3.984375 C 2.441406 -3.980469 2.507812 -3.980469 2.578125 -3.980469 C 2.90625 -3.980469 3.175781 -4.03125 3.390625 -4.136719 C 3.761719 -4.320312 3.945312 -4.644531 3.945312 -5.113281 C 3.945312 -5.460938 3.820312 -5.730469 3.574219 -5.917969 C 3.328125 -6.105469 3.039062 -6.203125 2.710938 -6.203125 C 2.125 -6.203125 1.71875 -6.007812 1.492188 -5.617188 C 1.371094 -5.402344 1.300781 -5.09375 1.285156 -4.695312 L 0.414062 -4.695312 C 0.414062 -5.21875 0.519531 -5.660156 0.726562 -6.023438 C 1.085938 -6.675781 1.714844 -7 2.617188 -7 C 3.328125 -7 3.882812 -6.84375 4.273438 -6.527344 C 4.664062 -6.210938 4.859375 -5.75 4.859375 -5.148438 C 4.859375 -4.71875 4.742188 -4.367188 4.511719 -4.101562 C 4.367188 -3.9375 4.183594 -3.804688 3.953125 -3.710938 C 4.320312 -3.609375 4.609375 -3.414062 4.816406 -3.128906 C 5.023438 -2.839844 5.125 -2.488281 5.125 -2.070312 C 5.125 -1.402344 4.90625 -0.859375 4.46875 -0.4375 C 4.027344 -0.0195312 3.40625 0.191406 2.597656 0.191406 Z M 2.597656 0.191406 \"/>\n",
       "</g>\n",
       "</g>\n",
       "</defs>\n",
       "<rect x=\"-70\" y=\"-30\" width=\"840\" height=\"360\" fill=\"rgb(100%, 100%, 100%)\" fill-opacity=\"1\"/>\n",
       "<path fill=\"none\" stroke-width=\"1\" stroke-linecap=\"butt\" stroke-linejoin=\"miter\" stroke=\"rgb(26.666667%, 26.666667%, 26.666667%)\" stroke-opacity=\"1\" stroke-miterlimit=\"10\" d=\"M 50 50 L 220.734375 50 \"/>\n",
       "<path fill-rule=\"nonzero\" fill=\"rgb(26.666667%, 26.666667%, 26.666667%)\" fill-opacity=\"1\" d=\"M 235 50 L 220.734375 54.636719 L 220.734375 45.363281 L 235 50 \"/>\n",
       "<path fill=\"none\" stroke-width=\"1\" stroke-linecap=\"butt\" stroke-linejoin=\"miter\" stroke=\"rgb(26.666667%, 26.666667%, 26.666667%)\" stroke-opacity=\"1\" stroke-miterlimit=\"10\" d=\"M 50 50 L 222.234375 107.410156 \"/>\n",
       "<path fill-rule=\"nonzero\" fill=\"rgb(26.666667%, 26.666667%, 26.666667%)\" fill-opacity=\"1\" d=\"M 235.769531 111.921875 L 220.769531 111.808594 L 223.703125 103.015625 L 235.769531 111.921875 \"/>\n",
       "<path fill=\"none\" stroke-width=\"1\" stroke-linecap=\"butt\" stroke-linejoin=\"miter\" stroke=\"rgb(26.666667%, 26.666667%, 26.666667%)\" stroke-opacity=\"1\" stroke-miterlimit=\"10\" d=\"M 50 116.667969 L 220.734375 116.667969 \"/>\n",
       "<path fill-rule=\"nonzero\" fill=\"rgb(26.666667%, 26.666667%, 26.666667%)\" fill-opacity=\"1\" d=\"M 235 116.667969 L 220.734375 121.300781 L 220.734375 112.03125 L 235 116.667969 \"/>\n",
       "<path fill=\"none\" stroke-width=\"1\" stroke-linecap=\"butt\" stroke-linejoin=\"miter\" stroke=\"rgb(26.666667%, 26.666667%, 26.666667%)\" stroke-opacity=\"1\" stroke-miterlimit=\"10\" d=\"M 50 50 L 225.648438 167.097656 \"/>\n",
       "<path fill-rule=\"nonzero\" fill=\"rgb(26.666667%, 26.666667%, 26.666667%)\" fill-opacity=\"1\" d=\"M 237.519531 175.011719 L 223.078125 170.957031 L 228.21875 163.242188 L 237.519531 175.011719 \"/>\n",
       "<path fill=\"none\" stroke-width=\"1\" stroke-linecap=\"butt\" stroke-linejoin=\"miter\" stroke=\"rgb(26.666667%, 26.666667%, 26.666667%)\" stroke-opacity=\"1\" stroke-miterlimit=\"10\" d=\"M 50 183.332031 L 220.734375 183.332031 \"/>\n",
       "<path fill-rule=\"nonzero\" fill=\"rgb(26.666667%, 26.666667%, 26.666667%)\" fill-opacity=\"1\" d=\"M 235 183.332031 L 220.734375 187.96875 L 220.734375 178.699219 L 235 183.332031 \"/>\n",
       "<path fill=\"none\" stroke-width=\"1\" stroke-linecap=\"butt\" stroke-linejoin=\"miter\" stroke=\"rgb(26.666667%, 26.666667%, 26.666667%)\" stroke-opacity=\"1\" stroke-miterlimit=\"10\" d=\"M 50 50 L 229.304688 229.304688 \"/>\n",
       "<path fill-rule=\"nonzero\" fill=\"rgb(26.666667%, 26.666667%, 26.666667%)\" fill-opacity=\"1\" d=\"M 239.394531 239.394531 L 226.027344 232.582031 L 232.582031 226.027344 L 239.394531 239.394531 \"/>\n",
       "<path fill=\"none\" stroke-width=\"1\" stroke-linecap=\"butt\" stroke-linejoin=\"miter\" stroke=\"rgb(26.666667%, 26.666667%, 26.666667%)\" stroke-opacity=\"1\" stroke-miterlimit=\"10\" d=\"M 50 250 L 220.734375 250 \"/>\n",
       "<path fill-rule=\"nonzero\" fill=\"rgb(26.666667%, 26.666667%, 26.666667%)\" fill-opacity=\"1\" d=\"M 235 250 L 220.734375 254.636719 L 220.734375 245.363281 L 235 250 \"/>\n",
       "<path fill=\"none\" stroke-width=\"1\" stroke-linecap=\"butt\" stroke-linejoin=\"miter\" stroke=\"rgb(26.666667%, 26.666667%, 26.666667%)\" stroke-opacity=\"1\" stroke-miterlimit=\"10\" d=\"M 50 116.667969 L 222.234375 59.253906 \"/>\n",
       "<path fill-rule=\"nonzero\" fill=\"rgb(26.666667%, 26.666667%, 26.666667%)\" fill-opacity=\"1\" d=\"M 235.769531 54.742188 L 223.703125 63.652344 L 220.769531 54.855469 L 235.769531 54.742188 \"/>\n",
       "<path fill=\"none\" stroke-width=\"1\" stroke-linecap=\"butt\" stroke-linejoin=\"miter\" stroke=\"rgb(26.666667%, 26.666667%, 26.666667%)\" stroke-opacity=\"1\" stroke-miterlimit=\"10\" d=\"M 50 116.667969 L 222.234375 174.078125 \"/>\n",
       "<path fill-rule=\"nonzero\" fill=\"rgb(26.666667%, 26.666667%, 26.666667%)\" fill-opacity=\"1\" d=\"M 235.769531 178.589844 L 220.769531 178.476562 L 223.703125 169.679688 L 235.769531 178.589844 \"/>\n",
       "<path fill=\"none\" stroke-width=\"1\" stroke-linecap=\"butt\" stroke-linejoin=\"miter\" stroke=\"rgb(26.666667%, 26.666667%, 26.666667%)\" stroke-opacity=\"1\" stroke-miterlimit=\"10\" d=\"M 250 50 L 420.734375 50 \"/>\n",
       "<path fill-rule=\"nonzero\" fill=\"rgb(26.666667%, 26.666667%, 26.666667%)\" fill-opacity=\"1\" d=\"M 435 50 L 420.734375 54.636719 L 420.734375 45.363281 L 435 50 \"/>\n",
       "<path fill=\"none\" stroke-width=\"1\" stroke-linecap=\"butt\" stroke-linejoin=\"miter\" stroke=\"rgb(26.666667%, 26.666667%, 26.666667%)\" stroke-opacity=\"1\" stroke-miterlimit=\"10\" d=\"M 250 50 L 422.234375 107.410156 \"/>\n",
       "<path fill-rule=\"nonzero\" fill=\"rgb(26.666667%, 26.666667%, 26.666667%)\" fill-opacity=\"1\" d=\"M 435.769531 111.921875 L 420.769531 111.808594 L 423.703125 103.015625 L 435.769531 111.921875 \"/>\n",
       "<path fill=\"none\" stroke-width=\"1\" stroke-linecap=\"butt\" stroke-linejoin=\"miter\" stroke=\"rgb(26.666667%, 26.666667%, 26.666667%)\" stroke-opacity=\"1\" stroke-miterlimit=\"10\" d=\"M 250 116.667969 L 420.734375 116.667969 \"/>\n",
       "<path fill-rule=\"nonzero\" fill=\"rgb(26.666667%, 26.666667%, 26.666667%)\" fill-opacity=\"1\" d=\"M 435 116.667969 L 420.734375 121.300781 L 420.734375 112.03125 L 435 116.667969 \"/>\n",
       "<path fill=\"none\" stroke-width=\"1\" stroke-linecap=\"butt\" stroke-linejoin=\"miter\" stroke=\"rgb(26.666667%, 26.666667%, 26.666667%)\" stroke-opacity=\"1\" stroke-miterlimit=\"10\" d=\"M 250 50 L 425.648438 167.097656 \"/>\n",
       "<path fill-rule=\"nonzero\" fill=\"rgb(26.666667%, 26.666667%, 26.666667%)\" fill-opacity=\"1\" d=\"M 437.519531 175.011719 L 423.078125 170.957031 L 428.21875 163.242188 L 437.519531 175.011719 \"/>\n",
       "<path fill=\"none\" stroke-width=\"1\" stroke-linecap=\"butt\" stroke-linejoin=\"miter\" stroke=\"rgb(26.666667%, 26.666667%, 26.666667%)\" stroke-opacity=\"1\" stroke-miterlimit=\"10\" d=\"M 250 183.332031 L 420.734375 183.332031 \"/>\n",
       "<path fill-rule=\"nonzero\" fill=\"rgb(26.666667%, 26.666667%, 26.666667%)\" fill-opacity=\"1\" d=\"M 435 183.332031 L 420.734375 187.96875 L 420.734375 178.699219 L 435 183.332031 \"/>\n",
       "<path fill=\"none\" stroke-width=\"1\" stroke-linecap=\"butt\" stroke-linejoin=\"miter\" stroke=\"rgb(26.666667%, 26.666667%, 26.666667%)\" stroke-opacity=\"1\" stroke-miterlimit=\"10\" d=\"M 250 50 L 429.304688 229.304688 \"/>\n",
       "<path fill-rule=\"nonzero\" fill=\"rgb(26.666667%, 26.666667%, 26.666667%)\" fill-opacity=\"1\" d=\"M 439.394531 239.394531 L 426.027344 232.582031 L 432.582031 226.027344 L 439.394531 239.394531 \"/>\n",
       "<path fill=\"none\" stroke-width=\"1\" stroke-linecap=\"butt\" stroke-linejoin=\"miter\" stroke=\"rgb(26.666667%, 26.666667%, 26.666667%)\" stroke-opacity=\"1\" stroke-miterlimit=\"10\" d=\"M 250 250 L 420.734375 250 \"/>\n",
       "<path fill-rule=\"nonzero\" fill=\"rgb(26.666667%, 26.666667%, 26.666667%)\" fill-opacity=\"1\" d=\"M 435 250 L 420.734375 254.636719 L 420.734375 245.363281 L 435 250 \"/>\n",
       "<path fill=\"none\" stroke-width=\"1\" stroke-linecap=\"butt\" stroke-linejoin=\"miter\" stroke=\"rgb(26.666667%, 26.666667%, 26.666667%)\" stroke-opacity=\"1\" stroke-miterlimit=\"10\" d=\"M 250 116.667969 L 422.234375 59.253906 \"/>\n",
       "<path fill-rule=\"nonzero\" fill=\"rgb(26.666667%, 26.666667%, 26.666667%)\" fill-opacity=\"1\" d=\"M 435.769531 54.742188 L 423.703125 63.652344 L 420.769531 54.855469 L 435.769531 54.742188 \"/>\n",
       "<path fill=\"none\" stroke-width=\"1\" stroke-linecap=\"butt\" stroke-linejoin=\"miter\" stroke=\"rgb(26.666667%, 26.666667%, 26.666667%)\" stroke-opacity=\"1\" stroke-miterlimit=\"10\" d=\"M 250 116.667969 L 422.234375 174.078125 \"/>\n",
       "<path fill-rule=\"nonzero\" fill=\"rgb(26.666667%, 26.666667%, 26.666667%)\" fill-opacity=\"1\" d=\"M 435.769531 178.589844 L 420.769531 178.476562 L 423.703125 169.679688 L 435.769531 178.589844 \"/>\n",
       "<path fill=\"none\" stroke-width=\"1\" stroke-linecap=\"butt\" stroke-linejoin=\"miter\" stroke=\"rgb(26.666667%, 26.666667%, 26.666667%)\" stroke-opacity=\"1\" stroke-miterlimit=\"10\" d=\"M 450 50 L 620.734375 50 \"/>\n",
       "<path fill-rule=\"nonzero\" fill=\"rgb(26.666667%, 26.666667%, 26.666667%)\" fill-opacity=\"1\" d=\"M 635 50 L 620.734375 54.636719 L 620.734375 45.363281 L 635 50 \"/>\n",
       "<path fill=\"none\" stroke-width=\"1\" stroke-linecap=\"butt\" stroke-linejoin=\"miter\" stroke=\"rgb(26.666667%, 26.666667%, 26.666667%)\" stroke-opacity=\"1\" stroke-miterlimit=\"10\" d=\"M 450 50 L 622.234375 107.410156 \"/>\n",
       "<path fill-rule=\"nonzero\" fill=\"rgb(26.666667%, 26.666667%, 26.666667%)\" fill-opacity=\"1\" d=\"M 635.769531 111.921875 L 620.769531 111.808594 L 623.703125 103.015625 L 635.769531 111.921875 \"/>\n",
       "<path fill=\"none\" stroke-width=\"1\" stroke-linecap=\"butt\" stroke-linejoin=\"miter\" stroke=\"rgb(26.666667%, 26.666667%, 26.666667%)\" stroke-opacity=\"1\" stroke-miterlimit=\"10\" d=\"M 450 116.667969 L 620.734375 116.667969 \"/>\n",
       "<path fill-rule=\"nonzero\" fill=\"rgb(26.666667%, 26.666667%, 26.666667%)\" fill-opacity=\"1\" d=\"M 635 116.667969 L 620.734375 121.300781 L 620.734375 112.03125 L 635 116.667969 \"/>\n",
       "<path fill=\"none\" stroke-width=\"1\" stroke-linecap=\"butt\" stroke-linejoin=\"miter\" stroke=\"rgb(26.666667%, 26.666667%, 26.666667%)\" stroke-opacity=\"1\" stroke-miterlimit=\"10\" d=\"M 450 50 L 625.648438 167.097656 \"/>\n",
       "<path fill-rule=\"nonzero\" fill=\"rgb(26.666667%, 26.666667%, 26.666667%)\" fill-opacity=\"1\" d=\"M 637.519531 175.011719 L 623.078125 170.957031 L 628.21875 163.242188 L 637.519531 175.011719 \"/>\n",
       "<path fill=\"none\" stroke-width=\"1\" stroke-linecap=\"butt\" stroke-linejoin=\"miter\" stroke=\"rgb(26.666667%, 26.666667%, 26.666667%)\" stroke-opacity=\"1\" stroke-miterlimit=\"10\" d=\"M 450 183.332031 L 620.734375 183.332031 \"/>\n",
       "<path fill-rule=\"nonzero\" fill=\"rgb(26.666667%, 26.666667%, 26.666667%)\" fill-opacity=\"1\" d=\"M 635 183.332031 L 620.734375 187.96875 L 620.734375 178.699219 L 635 183.332031 \"/>\n",
       "<path fill=\"none\" stroke-width=\"1\" stroke-linecap=\"butt\" stroke-linejoin=\"miter\" stroke=\"rgb(26.666667%, 26.666667%, 26.666667%)\" stroke-opacity=\"1\" stroke-miterlimit=\"10\" d=\"M 450 50 L 629.304688 229.304688 \"/>\n",
       "<path fill-rule=\"nonzero\" fill=\"rgb(26.666667%, 26.666667%, 26.666667%)\" fill-opacity=\"1\" d=\"M 639.394531 239.394531 L 626.027344 232.582031 L 632.582031 226.027344 L 639.394531 239.394531 \"/>\n",
       "<path fill=\"none\" stroke-width=\"1\" stroke-linecap=\"butt\" stroke-linejoin=\"miter\" stroke=\"rgb(26.666667%, 26.666667%, 26.666667%)\" stroke-opacity=\"1\" stroke-miterlimit=\"10\" d=\"M 450 250 L 620.734375 250 \"/>\n",
       "<path fill-rule=\"nonzero\" fill=\"rgb(26.666667%, 26.666667%, 26.666667%)\" fill-opacity=\"1\" d=\"M 635 250 L 620.734375 254.636719 L 620.734375 245.363281 L 635 250 \"/>\n",
       "<path fill=\"none\" stroke-width=\"1\" stroke-linecap=\"butt\" stroke-linejoin=\"miter\" stroke=\"rgb(26.666667%, 26.666667%, 26.666667%)\" stroke-opacity=\"1\" stroke-miterlimit=\"10\" d=\"M 450 116.667969 L 622.234375 59.253906 \"/>\n",
       "<path fill-rule=\"nonzero\" fill=\"rgb(26.666667%, 26.666667%, 26.666667%)\" fill-opacity=\"1\" d=\"M 635.769531 54.742188 L 623.703125 63.652344 L 620.769531 54.855469 L 635.769531 54.742188 \"/>\n",
       "<path fill=\"none\" stroke-width=\"1\" stroke-linecap=\"butt\" stroke-linejoin=\"miter\" stroke=\"rgb(26.666667%, 26.666667%, 26.666667%)\" stroke-opacity=\"1\" stroke-miterlimit=\"10\" d=\"M 450 116.667969 L 622.234375 174.078125 \"/>\n",
       "<path fill-rule=\"nonzero\" fill=\"rgb(26.666667%, 26.666667%, 26.666667%)\" fill-opacity=\"1\" d=\"M 635.769531 178.589844 L 620.769531 178.476562 L 623.703125 169.679688 L 635.769531 178.589844 \"/>\n",
       "<path fill-rule=\"nonzero\" fill=\"rgb(55.294118%, 82.745098%, 78.039216%)\" fill-opacity=\"1\" stroke-width=\"1\" stroke-linecap=\"butt\" stroke-linejoin=\"miter\" stroke=\"rgb(0%, 0%, 0%)\" stroke-opacity=\"1\" stroke-miterlimit=\"10\" d=\"M 65 50 C 65 58.285156 58.285156 65 50 65 C 41.714844 65 35 58.285156 35 50 C 35 41.714844 41.714844 35 50 35 C 58.285156 35 65 41.714844 65 50 \"/>\n",
       "<path fill-rule=\"nonzero\" fill=\"rgb(100%, 100%, 70.196078%)\" fill-opacity=\"1\" stroke-width=\"1\" stroke-linecap=\"butt\" stroke-linejoin=\"miter\" stroke=\"rgb(0%, 0%, 0%)\" stroke-opacity=\"1\" stroke-miterlimit=\"10\" d=\"M 65 116.667969 C 65 124.949219 58.285156 131.667969 50 131.667969 C 41.714844 131.667969 35 124.949219 35 116.667969 C 35 108.382812 41.714844 101.667969 50 101.667969 C 58.285156 101.667969 65 108.382812 65 116.667969 \"/>\n",
       "<path fill-rule=\"nonzero\" fill=\"rgb(74.509804%, 72.941176%, 85.490196%)\" fill-opacity=\"1\" stroke-width=\"1\" stroke-linecap=\"butt\" stroke-linejoin=\"miter\" stroke=\"rgb(0%, 0%, 0%)\" stroke-opacity=\"1\" stroke-miterlimit=\"10\" d=\"M 65 183.332031 C 65 191.617188 58.285156 198.332031 50 198.332031 C 41.714844 198.332031 35 191.617188 35 183.332031 C 35 175.050781 41.714844 168.332031 50 168.332031 C 58.285156 168.332031 65 175.050781 65 183.332031 \"/>\n",
       "<path fill-rule=\"nonzero\" fill=\"rgb(98.431373%, 50.196078%, 44.705882%)\" fill-opacity=\"1\" stroke-width=\"1\" stroke-linecap=\"butt\" stroke-linejoin=\"miter\" stroke=\"rgb(0%, 0%, 0%)\" stroke-opacity=\"1\" stroke-miterlimit=\"10\" d=\"M 65 250 C 65 258.285156 58.285156 265 50 265 C 41.714844 265 35 258.285156 35 250 C 35 241.714844 41.714844 235 50 235 C 58.285156 235 65 241.714844 65 250 \"/>\n",
       "<path fill-rule=\"nonzero\" fill=\"rgb(55.294118%, 82.745098%, 78.039216%)\" fill-opacity=\"1\" stroke-width=\"1\" stroke-linecap=\"butt\" stroke-linejoin=\"miter\" stroke=\"rgb(0%, 0%, 0%)\" stroke-opacity=\"1\" stroke-miterlimit=\"10\" d=\"M 265 50 C 265 58.285156 258.285156 65 250 65 C 241.714844 65 235 58.285156 235 50 C 235 41.714844 241.714844 35 250 35 C 258.285156 35 265 41.714844 265 50 \"/>\n",
       "<path fill-rule=\"nonzero\" fill=\"rgb(100%, 100%, 70.196078%)\" fill-opacity=\"1\" stroke-width=\"1\" stroke-linecap=\"butt\" stroke-linejoin=\"miter\" stroke=\"rgb(0%, 0%, 0%)\" stroke-opacity=\"1\" stroke-miterlimit=\"10\" d=\"M 265 116.667969 C 265 124.949219 258.285156 131.667969 250 131.667969 C 241.714844 131.667969 235 124.949219 235 116.667969 C 235 108.382812 241.714844 101.667969 250 101.667969 C 258.285156 101.667969 265 108.382812 265 116.667969 \"/>\n",
       "<path fill-rule=\"nonzero\" fill=\"rgb(74.509804%, 72.941176%, 85.490196%)\" fill-opacity=\"1\" stroke-width=\"1\" stroke-linecap=\"butt\" stroke-linejoin=\"miter\" stroke=\"rgb(0%, 0%, 0%)\" stroke-opacity=\"1\" stroke-miterlimit=\"10\" d=\"M 265 183.332031 C 265 191.617188 258.285156 198.332031 250 198.332031 C 241.714844 198.332031 235 191.617188 235 183.332031 C 235 175.050781 241.714844 168.332031 250 168.332031 C 258.285156 168.332031 265 175.050781 265 183.332031 \"/>\n",
       "<path fill-rule=\"nonzero\" fill=\"rgb(98.431373%, 50.196078%, 44.705882%)\" fill-opacity=\"1\" stroke-width=\"1\" stroke-linecap=\"butt\" stroke-linejoin=\"miter\" stroke=\"rgb(0%, 0%, 0%)\" stroke-opacity=\"1\" stroke-miterlimit=\"10\" d=\"M 265 250 C 265 258.285156 258.285156 265 250 265 C 241.714844 265 235 258.285156 235 250 C 235 241.714844 241.714844 235 250 235 C 258.285156 235 265 241.714844 265 250 \"/>\n",
       "<path fill-rule=\"nonzero\" fill=\"rgb(55.294118%, 82.745098%, 78.039216%)\" fill-opacity=\"1\" stroke-width=\"1\" stroke-linecap=\"butt\" stroke-linejoin=\"miter\" stroke=\"rgb(0%, 0%, 0%)\" stroke-opacity=\"1\" stroke-miterlimit=\"10\" d=\"M 465 50 C 465 58.285156 458.285156 65 450 65 C 441.714844 65 435 58.285156 435 50 C 435 41.714844 441.714844 35 450 35 C 458.285156 35 465 41.714844 465 50 \"/>\n",
       "<path fill-rule=\"nonzero\" fill=\"rgb(100%, 100%, 70.196078%)\" fill-opacity=\"1\" stroke-width=\"1\" stroke-linecap=\"butt\" stroke-linejoin=\"miter\" stroke=\"rgb(0%, 0%, 0%)\" stroke-opacity=\"1\" stroke-miterlimit=\"10\" d=\"M 465 116.667969 C 465 124.949219 458.285156 131.667969 450 131.667969 C 441.714844 131.667969 435 124.949219 435 116.667969 C 435 108.382812 441.714844 101.667969 450 101.667969 C 458.285156 101.667969 465 108.382812 465 116.667969 \"/>\n",
       "<path fill-rule=\"nonzero\" fill=\"rgb(74.509804%, 72.941176%, 85.490196%)\" fill-opacity=\"1\" stroke-width=\"1\" stroke-linecap=\"butt\" stroke-linejoin=\"miter\" stroke=\"rgb(0%, 0%, 0%)\" stroke-opacity=\"1\" stroke-miterlimit=\"10\" d=\"M 465 183.332031 C 465 191.617188 458.285156 198.332031 450 198.332031 C 441.714844 198.332031 435 191.617188 435 183.332031 C 435 175.050781 441.714844 168.332031 450 168.332031 C 458.285156 168.332031 465 175.050781 465 183.332031 \"/>\n",
       "<path fill-rule=\"nonzero\" fill=\"rgb(98.431373%, 50.196078%, 44.705882%)\" fill-opacity=\"1\" stroke-width=\"1\" stroke-linecap=\"butt\" stroke-linejoin=\"miter\" stroke=\"rgb(0%, 0%, 0%)\" stroke-opacity=\"1\" stroke-miterlimit=\"10\" d=\"M 465 250 C 465 258.285156 458.285156 265 450 265 C 441.714844 265 435 258.285156 435 250 C 435 241.714844 441.714844 235 450 235 C 458.285156 235 465 241.714844 465 250 \"/>\n",
       "<path fill-rule=\"nonzero\" fill=\"rgb(55.294118%, 82.745098%, 78.039216%)\" fill-opacity=\"1\" stroke-width=\"1\" stroke-linecap=\"butt\" stroke-linejoin=\"miter\" stroke=\"rgb(0%, 0%, 0%)\" stroke-opacity=\"1\" stroke-miterlimit=\"10\" d=\"M 665 50 C 665 58.285156 658.285156 65 650 65 C 641.714844 65 635 58.285156 635 50 C 635 41.714844 641.714844 35 650 35 C 658.285156 35 665 41.714844 665 50 \"/>\n",
       "<path fill-rule=\"nonzero\" fill=\"rgb(100%, 100%, 70.196078%)\" fill-opacity=\"1\" stroke-width=\"1\" stroke-linecap=\"butt\" stroke-linejoin=\"miter\" stroke=\"rgb(0%, 0%, 0%)\" stroke-opacity=\"1\" stroke-miterlimit=\"10\" d=\"M 665 116.667969 C 665 124.949219 658.285156 131.667969 650 131.667969 C 641.714844 131.667969 635 124.949219 635 116.667969 C 635 108.382812 641.714844 101.667969 650 101.667969 C 658.285156 101.667969 665 108.382812 665 116.667969 \"/>\n",
       "<path fill-rule=\"nonzero\" fill=\"rgb(74.509804%, 72.941176%, 85.490196%)\" fill-opacity=\"1\" stroke-width=\"1\" stroke-linecap=\"butt\" stroke-linejoin=\"miter\" stroke=\"rgb(0%, 0%, 0%)\" stroke-opacity=\"1\" stroke-miterlimit=\"10\" d=\"M 665 183.332031 C 665 191.617188 658.285156 198.332031 650 198.332031 C 641.714844 198.332031 635 191.617188 635 183.332031 C 635 175.050781 641.714844 168.332031 650 168.332031 C 658.285156 168.332031 665 175.050781 665 183.332031 \"/>\n",
       "<path fill-rule=\"nonzero\" fill=\"rgb(98.431373%, 50.196078%, 44.705882%)\" fill-opacity=\"1\" stroke-width=\"1\" stroke-linecap=\"butt\" stroke-linejoin=\"miter\" stroke=\"rgb(0%, 0%, 0%)\" stroke-opacity=\"1\" stroke-miterlimit=\"10\" d=\"M 665 250 C 665 258.285156 658.285156 265 650 265 C 641.714844 265 635 258.285156 635 250 C 635 241.714844 641.714844 235 650 235 C 658.285156 235 665 241.714844 665 250 \"/>\n",
       "<g fill=\"rgb(0%, 0%, 0%)\" fill-opacity=\"1\">\n",
       "<use xlink:href=\"#glyph-0-0\" x=\"43.105469\" y=\"54.644531\"/>\n",
       "<use xlink:href=\"#glyph-0-1\" x=\"48.666992\" y=\"54.644531\"/>\n",
       "<use xlink:href=\"#glyph-0-0\" x=\"51.445312\" y=\"54.644531\"/>\n",
       "</g>\n",
       "<g fill=\"rgb(0%, 0%, 0%)\" fill-opacity=\"1\">\n",
       "<use xlink:href=\"#glyph-0-0\" x=\"43.902344\" y=\"121.3125\"/>\n",
       "<use xlink:href=\"#glyph-0-1\" x=\"49.463867\" y=\"121.3125\"/>\n",
       "<use xlink:href=\"#glyph-0-2\" x=\"52.242188\" y=\"121.3125\"/>\n",
       "</g>\n",
       "<g fill=\"rgb(0%, 0%, 0%)\" fill-opacity=\"1\">\n",
       "<use xlink:href=\"#glyph-0-0\" x=\"43.101562\" y=\"187.992188\"/>\n",
       "<use xlink:href=\"#glyph-0-1\" x=\"48.663086\" y=\"187.992188\"/>\n",
       "<use xlink:href=\"#glyph-0-3\" x=\"51.441406\" y=\"187.992188\"/>\n",
       "</g>\n",
       "<g fill=\"rgb(0%, 0%, 0%)\" fill-opacity=\"1\">\n",
       "<use xlink:href=\"#glyph-0-0\" x=\"43.109375\" y=\"254.652344\"/>\n",
       "<use xlink:href=\"#glyph-0-1\" x=\"48.670898\" y=\"254.652344\"/>\n",
       "<use xlink:href=\"#glyph-0-4\" x=\"51.449219\" y=\"254.652344\"/>\n",
       "</g>\n",
       "<g fill=\"rgb(0%, 0%, 0%)\" fill-opacity=\"1\">\n",
       "<use xlink:href=\"#glyph-0-2\" x=\"242.78125\" y=\"54.644531\"/>\n",
       "<use xlink:href=\"#glyph-0-1\" x=\"248.342773\" y=\"54.644531\"/>\n",
       "<use xlink:href=\"#glyph-0-0\" x=\"251.121094\" y=\"54.644531\"/>\n",
       "</g>\n",
       "<g fill=\"rgb(0%, 0%, 0%)\" fill-opacity=\"1\">\n",
       "<use xlink:href=\"#glyph-0-2\" x=\"243.582031\" y=\"121.296875\"/>\n",
       "<use xlink:href=\"#glyph-0-1\" x=\"249.143555\" y=\"121.296875\"/>\n",
       "<use xlink:href=\"#glyph-0-2\" x=\"251.921875\" y=\"121.296875\"/>\n",
       "</g>\n",
       "<g fill=\"rgb(0%, 0%, 0%)\" fill-opacity=\"1\">\n",
       "<use xlink:href=\"#glyph-0-2\" x=\"242.777344\" y=\"187.992188\"/>\n",
       "<use xlink:href=\"#glyph-0-1\" x=\"248.338867\" y=\"187.992188\"/>\n",
       "<use xlink:href=\"#glyph-0-3\" x=\"251.117188\" y=\"187.992188\"/>\n",
       "</g>\n",
       "<g fill=\"rgb(0%, 0%, 0%)\" fill-opacity=\"1\">\n",
       "<use xlink:href=\"#glyph-0-2\" x=\"242.789062\" y=\"254.652344\"/>\n",
       "<use xlink:href=\"#glyph-0-1\" x=\"248.350586\" y=\"254.652344\"/>\n",
       "<use xlink:href=\"#glyph-0-4\" x=\"251.128906\" y=\"254.652344\"/>\n",
       "</g>\n",
       "<g fill=\"rgb(0%, 0%, 0%)\" fill-opacity=\"1\">\n",
       "<use xlink:href=\"#glyph-0-3\" x=\"443.105469\" y=\"54.65625\"/>\n",
       "<use xlink:href=\"#glyph-0-1\" x=\"448.666992\" y=\"54.65625\"/>\n",
       "<use xlink:href=\"#glyph-0-0\" x=\"451.445312\" y=\"54.65625\"/>\n",
       "</g>\n",
       "<g fill=\"rgb(0%, 0%, 0%)\" fill-opacity=\"1\">\n",
       "<use xlink:href=\"#glyph-0-3\" x=\"443.902344\" y=\"121.324219\"/>\n",
       "<use xlink:href=\"#glyph-0-1\" x=\"449.463867\" y=\"121.324219\"/>\n",
       "<use xlink:href=\"#glyph-0-2\" x=\"452.242188\" y=\"121.324219\"/>\n",
       "</g>\n",
       "<g fill=\"rgb(0%, 0%, 0%)\" fill-opacity=\"1\">\n",
       "<use xlink:href=\"#glyph-0-3\" x=\"443.101562\" y=\"187.992188\"/>\n",
       "<use xlink:href=\"#glyph-0-1\" x=\"448.663086\" y=\"187.992188\"/>\n",
       "<use xlink:href=\"#glyph-0-3\" x=\"451.441406\" y=\"187.992188\"/>\n",
       "</g>\n",
       "<g fill=\"rgb(0%, 0%, 0%)\" fill-opacity=\"1\">\n",
       "<use xlink:href=\"#glyph-0-3\" x=\"443.109375\" y=\"254.65625\"/>\n",
       "<use xlink:href=\"#glyph-0-1\" x=\"448.670898\" y=\"254.65625\"/>\n",
       "<use xlink:href=\"#glyph-0-4\" x=\"451.449219\" y=\"254.65625\"/>\n",
       "</g>\n",
       "<g fill=\"rgb(0%, 0%, 0%)\" fill-opacity=\"1\">\n",
       "<use xlink:href=\"#glyph-0-4\" x=\"643.140625\" y=\"54.652344\"/>\n",
       "<use xlink:href=\"#glyph-0-1\" x=\"648.702148\" y=\"54.652344\"/>\n",
       "<use xlink:href=\"#glyph-0-0\" x=\"651.480469\" y=\"54.652344\"/>\n",
       "</g>\n",
       "<g fill=\"rgb(0%, 0%, 0%)\" fill-opacity=\"1\">\n",
       "<use xlink:href=\"#glyph-0-4\" x=\"643.941406\" y=\"121.316406\"/>\n",
       "<use xlink:href=\"#glyph-0-1\" x=\"649.50293\" y=\"121.316406\"/>\n",
       "<use xlink:href=\"#glyph-0-2\" x=\"652.28125\" y=\"121.316406\"/>\n",
       "</g>\n",
       "<g fill=\"rgb(0%, 0%, 0%)\" fill-opacity=\"1\">\n",
       "<use xlink:href=\"#glyph-0-4\" x=\"643.136719\" y=\"187.992188\"/>\n",
       "<use xlink:href=\"#glyph-0-1\" x=\"648.698242\" y=\"187.992188\"/>\n",
       "<use xlink:href=\"#glyph-0-3\" x=\"651.476562\" y=\"187.992188\"/>\n",
       "</g>\n",
       "<g fill=\"rgb(0%, 0%, 0%)\" fill-opacity=\"1\">\n",
       "<use xlink:href=\"#glyph-0-4\" x=\"643.148438\" y=\"254.652344\"/>\n",
       "<use xlink:href=\"#glyph-0-1\" x=\"648.709961\" y=\"254.652344\"/>\n",
       "<use xlink:href=\"#glyph-0-4\" x=\"651.488281\" y=\"254.652344\"/>\n",
       "</g>\n",
       "</svg>\n"
      ],
      "text/plain": [
       "<igraph.drawing.cairo.plot.CairoPlot at 0x1368b7e10>"
      ]
     },
     "execution_count": 2,
     "metadata": {
      "image/svg+xml": {
       "isolated": true
      }
     },
     "output_type": "execute_result"
    }
   ],
   "source": [
    "ig.plot(tug, **util.get_visual_style(tug), bbox=(700, 300), margin=50)"
   ]
  },
  {
   "cell_type": "markdown",
   "metadata": {
    "slideshow": {
     "slide_type": "subslide"
    }
   },
   "source": [
    "## Pricing ad Optimization\n",
    "\n",
    "**When you want to consider all paths in a directed graph**\n",
    "\n",
    "* ...It is convenient to add a fake source node\n",
    "* Then you can assume that all paths start from that node"
   ]
  },
  {
   "cell_type": "code",
   "execution_count": 3,
   "metadata": {},
   "outputs": [
    {
     "data": {
      "image/svg+xml": [
       "<?xml version=\"1.0\" encoding=\"UTF-8\"?>\n",
       "<svg xmlns=\"http://www.w3.org/2000/svg\" xmlns:xlink=\"http://www.w3.org/1999/xlink\" width=\"700\" height=\"300\" viewBox=\"0 0 700 300\">\n",
       "<defs>\n",
       "<g>\n",
       "<g id=\"glyph-0-0\">\n",
       "<path d=\"M 2.703125 -6.992188 C 3.609375 -6.992188 4.265625 -6.621094 4.667969 -5.875 C 4.980469 -5.296875 5.136719 -4.507812 5.136719 -3.507812 C 5.136719 -2.554688 4.996094 -1.769531 4.710938 -1.148438 C 4.300781 -0.257812 3.632812 0.191406 2.699219 0.191406 C 1.859375 0.191406 1.234375 -0.175781 0.824219 -0.902344 C 0.484375 -1.511719 0.3125 -2.328125 0.3125 -3.355469 C 0.3125 -4.148438 0.414062 -4.832031 0.621094 -5.398438 C 1.003906 -6.460938 1.699219 -6.992188 2.703125 -6.992188 Z M 2.695312 -0.609375 C 3.152344 -0.609375 3.515625 -0.8125 3.785156 -1.214844 C 4.054688 -1.617188 4.1875 -2.371094 4.1875 -3.472656 C 4.1875 -4.265625 4.09375 -4.917969 3.898438 -5.433594 C 3.703125 -5.945312 3.320312 -6.203125 2.757812 -6.203125 C 2.242188 -6.203125 1.863281 -5.957031 1.625 -5.472656 C 1.382812 -4.984375 1.265625 -4.265625 1.265625 -3.320312 C 1.265625 -2.609375 1.339844 -2.035156 1.492188 -1.601562 C 1.726562 -0.941406 2.128906 -0.609375 2.695312 -0.609375 Z M 2.695312 -0.609375 \"/>\n",
       "</g>\n",
       "<g id=\"glyph-0-1\">\n",
       "<path d=\"M 0.828125 1.019531 C 1.054688 0.980469 1.210938 0.824219 1.304688 0.546875 C 1.351562 0.398438 1.375 0.257812 1.375 0.121094 C 1.375 0.0976562 1.375 0.078125 1.375 0.0625 C 1.375 0.0429688 1.367188 0.0234375 1.363281 0 L 0.828125 0 L 0.828125 -1.0625 L 1.875 -1.0625 L 1.875 -0.078125 C 1.875 0.308594 1.796875 0.648438 1.640625 0.941406 C 1.484375 1.234375 1.214844 1.414062 0.828125 1.484375 Z M 0.828125 1.019531 \"/>\n",
       "</g>\n",
       "<g id=\"glyph-0-2\">\n",
       "<path d=\"M 0.957031 -4.953125 L 0.957031 -5.625 C 1.59375 -5.6875 2.035156 -5.789062 2.285156 -5.933594 C 2.535156 -6.078125 2.722656 -6.421875 2.847656 -6.960938 L 3.539062 -6.960938 L 3.539062 0 L 2.601562 0 L 2.601562 -4.953125 Z M 0.957031 -4.953125 \"/>\n",
       "</g>\n",
       "<g id=\"glyph-0-3\">\n",
       "<path d=\"M 0.3125 0 C 0.34375 -0.601562 0.46875 -1.125 0.6875 -1.570312 C 0.902344 -2.015625 1.324219 -2.421875 1.953125 -2.789062 L 2.890625 -3.328125 C 3.3125 -3.574219 3.605469 -3.78125 3.773438 -3.953125 C 4.039062 -4.226562 4.175781 -4.535156 4.175781 -4.882812 C 4.175781 -5.289062 4.054688 -5.613281 3.808594 -5.851562 C 3.5625 -6.089844 3.238281 -6.210938 2.832031 -6.210938 C 2.230469 -6.210938 1.8125 -5.984375 1.582031 -5.527344 C 1.457031 -5.28125 1.390625 -4.945312 1.375 -4.511719 L 0.484375 -4.511719 C 0.492188 -5.121094 0.605469 -5.617188 0.820312 -6 C 1.203125 -6.679688 1.875 -7.015625 2.835938 -7.015625 C 3.636719 -7.015625 4.222656 -6.800781 4.59375 -6.367188 C 4.960938 -5.933594 5.148438 -5.453125 5.148438 -4.921875 C 5.148438 -4.363281 4.949219 -3.882812 4.554688 -3.484375 C 4.328125 -3.253906 3.917969 -2.976562 3.328125 -2.648438 L 2.660156 -2.273438 C 2.34375 -2.097656 2.089844 -1.933594 1.910156 -1.773438 C 1.585938 -1.488281 1.378906 -1.175781 1.292969 -0.828125 L 5.113281 -0.828125 L 5.113281 0 Z M 0.3125 0 \"/>\n",
       "</g>\n",
       "<g id=\"glyph-0-4\">\n",
       "<path d=\"M 2.597656 0.191406 C 1.769531 0.191406 1.171875 -0.0351562 0.796875 -0.492188 C 0.425781 -0.945312 0.238281 -1.496094 0.238281 -2.148438 L 1.15625 -2.148438 C 1.195312 -1.695312 1.28125 -1.367188 1.410156 -1.164062 C 1.640625 -0.796875 2.050781 -0.609375 2.648438 -0.609375 C 3.109375 -0.609375 3.480469 -0.734375 3.757812 -0.980469 C 4.039062 -1.226562 4.179688 -1.546875 4.179688 -1.9375 C 4.179688 -2.421875 4.03125 -2.757812 3.738281 -2.949219 C 3.445312 -3.140625 3.035156 -3.238281 2.507812 -3.238281 C 2.449219 -3.238281 2.390625 -3.238281 2.332031 -3.234375 C 2.273438 -3.234375 2.210938 -3.230469 2.148438 -3.226562 L 2.148438 -4.003906 C 2.238281 -3.992188 2.316406 -3.988281 2.378906 -3.984375 C 2.441406 -3.980469 2.507812 -3.980469 2.578125 -3.980469 C 2.90625 -3.980469 3.175781 -4.03125 3.390625 -4.136719 C 3.761719 -4.320312 3.945312 -4.644531 3.945312 -5.113281 C 3.945312 -5.460938 3.820312 -5.730469 3.574219 -5.917969 C 3.328125 -6.105469 3.039062 -6.203125 2.710938 -6.203125 C 2.125 -6.203125 1.71875 -6.007812 1.492188 -5.617188 C 1.371094 -5.402344 1.300781 -5.09375 1.285156 -4.695312 L 0.414062 -4.695312 C 0.414062 -5.21875 0.519531 -5.660156 0.726562 -6.023438 C 1.085938 -6.675781 1.714844 -7 2.617188 -7 C 3.328125 -7 3.882812 -6.84375 4.273438 -6.527344 C 4.664062 -6.210938 4.859375 -5.75 4.859375 -5.148438 C 4.859375 -4.71875 4.742188 -4.367188 4.511719 -4.101562 C 4.367188 -3.9375 4.183594 -3.804688 3.953125 -3.710938 C 4.320312 -3.609375 4.609375 -3.414062 4.816406 -3.128906 C 5.023438 -2.839844 5.125 -2.488281 5.125 -2.070312 C 5.125 -1.402344 4.90625 -0.859375 4.46875 -0.4375 C 4.027344 -0.0195312 3.40625 0.191406 2.597656 0.191406 Z M 2.597656 0.191406 \"/>\n",
       "</g>\n",
       "<g id=\"glyph-0-5\">\n",
       "<path d=\"M 0.414062 -3.238281 L 2.867188 -3.238281 L 2.867188 -2.335938 L 0.414062 -2.335938 Z M 0.414062 -3.238281 \"/>\n",
       "</g>\n",
       "</g>\n",
       "</defs>\n",
       "<rect x=\"-70\" y=\"-30\" width=\"840\" height=\"360\" fill=\"rgb(100%, 100%, 100%)\" fill-opacity=\"1\"/>\n",
       "<path fill=\"none\" stroke-width=\"1\" stroke-linecap=\"butt\" stroke-linejoin=\"miter\" stroke=\"rgb(26.666667%, 26.666667%, 26.666667%)\" stroke-opacity=\"1\" stroke-miterlimit=\"10\" d=\"M 200 50 L 320.734375 50 \"/>\n",
       "<path fill-rule=\"nonzero\" fill=\"rgb(26.666667%, 26.666667%, 26.666667%)\" fill-opacity=\"1\" d=\"M 335 50 L 320.734375 54.636719 L 320.734375 45.363281 L 335 50 \"/>\n",
       "<path fill=\"none\" stroke-width=\"1\" stroke-linecap=\"butt\" stroke-linejoin=\"miter\" stroke=\"rgb(26.666667%, 26.666667%, 26.666667%)\" stroke-opacity=\"1\" stroke-miterlimit=\"10\" d=\"M 200 50 L 323.257812 104.78125 \"/>\n",
       "<path fill-rule=\"nonzero\" fill=\"rgb(26.666667%, 26.666667%, 26.666667%)\" fill-opacity=\"1\" d=\"M 336.292969 110.574219 L 321.375 109.015625 L 325.140625 100.546875 L 336.292969 110.574219 \"/>\n",
       "<path fill=\"none\" stroke-width=\"1\" stroke-linecap=\"butt\" stroke-linejoin=\"miter\" stroke=\"rgb(26.666667%, 26.666667%, 26.666667%)\" stroke-opacity=\"1\" stroke-miterlimit=\"10\" d=\"M 200 116.667969 L 320.734375 116.667969 \"/>\n",
       "<path fill-rule=\"nonzero\" fill=\"rgb(26.666667%, 26.666667%, 26.666667%)\" fill-opacity=\"1\" d=\"M 335 116.667969 L 320.734375 121.300781 L 320.734375 112.03125 L 335 116.667969 \"/>\n",
       "<path fill=\"none\" stroke-width=\"1\" stroke-linecap=\"butt\" stroke-linejoin=\"miter\" stroke=\"rgb(26.666667%, 26.666667%, 26.666667%)\" stroke-opacity=\"1\" stroke-miterlimit=\"10\" d=\"M 200 50 L 328.125 163.890625 \"/>\n",
       "<path fill-rule=\"nonzero\" fill=\"rgb(26.666667%, 26.666667%, 26.666667%)\" fill-opacity=\"1\" d=\"M 338.789062 173.367188 L 325.046875 167.355469 L 331.207031 160.425781 L 338.789062 173.367188 \"/>\n",
       "<path fill=\"none\" stroke-width=\"1\" stroke-linecap=\"butt\" stroke-linejoin=\"miter\" stroke=\"rgb(26.666667%, 26.666667%, 26.666667%)\" stroke-opacity=\"1\" stroke-miterlimit=\"10\" d=\"M 200 183.332031 L 320.734375 183.332031 \"/>\n",
       "<path fill-rule=\"nonzero\" fill=\"rgb(26.666667%, 26.666667%, 26.666667%)\" fill-opacity=\"1\" d=\"M 335 183.332031 L 320.734375 187.96875 L 320.734375 178.699219 L 335 183.332031 \"/>\n",
       "<path fill=\"none\" stroke-width=\"1\" stroke-linecap=\"butt\" stroke-linejoin=\"miter\" stroke=\"rgb(26.666667%, 26.666667%, 26.666667%)\" stroke-opacity=\"1\" stroke-miterlimit=\"10\" d=\"M 200 50 L 332.441406 226.585938 \"/>\n",
       "<path fill-rule=\"nonzero\" fill=\"rgb(26.666667%, 26.666667%, 26.666667%)\" fill-opacity=\"1\" d=\"M 341 238 L 328.730469 229.367188 L 336.148438 223.804688 L 341 238 \"/>\n",
       "<path fill=\"none\" stroke-width=\"1\" stroke-linecap=\"butt\" stroke-linejoin=\"miter\" stroke=\"rgb(26.666667%, 26.666667%, 26.666667%)\" stroke-opacity=\"1\" stroke-miterlimit=\"10\" d=\"M 200 250 L 320.734375 250 \"/>\n",
       "<path fill-rule=\"nonzero\" fill=\"rgb(26.666667%, 26.666667%, 26.666667%)\" fill-opacity=\"1\" d=\"M 335 250 L 320.734375 254.636719 L 320.734375 245.363281 L 335 250 \"/>\n",
       "<path fill=\"none\" stroke-width=\"1\" stroke-linecap=\"butt\" stroke-linejoin=\"miter\" stroke=\"rgb(26.666667%, 26.666667%, 26.666667%)\" stroke-opacity=\"1\" stroke-miterlimit=\"10\" d=\"M 200 116.667969 L 323.257812 61.886719 \"/>\n",
       "<path fill-rule=\"nonzero\" fill=\"rgb(26.666667%, 26.666667%, 26.666667%)\" fill-opacity=\"1\" d=\"M 336.292969 56.09375 L 325.140625 66.121094 L 321.375 57.648438 L 336.292969 56.09375 \"/>\n",
       "<path fill=\"none\" stroke-width=\"1\" stroke-linecap=\"butt\" stroke-linejoin=\"miter\" stroke=\"rgb(26.666667%, 26.666667%, 26.666667%)\" stroke-opacity=\"1\" stroke-miterlimit=\"10\" d=\"M 200 116.667969 L 323.257812 171.449219 \"/>\n",
       "<path fill-rule=\"nonzero\" fill=\"rgb(26.666667%, 26.666667%, 26.666667%)\" fill-opacity=\"1\" d=\"M 336.292969 177.242188 L 321.375 175.683594 L 325.140625 167.210938 L 336.292969 177.242188 \"/>\n",
       "<path fill=\"none\" stroke-width=\"1\" stroke-linecap=\"butt\" stroke-linejoin=\"miter\" stroke=\"rgb(26.666667%, 26.666667%, 26.666667%)\" stroke-opacity=\"1\" stroke-miterlimit=\"10\" d=\"M 350 50 L 470.734375 50 \"/>\n",
       "<path fill-rule=\"nonzero\" fill=\"rgb(26.666667%, 26.666667%, 26.666667%)\" fill-opacity=\"1\" d=\"M 485 50 L 470.734375 54.636719 L 470.734375 45.363281 L 485 50 \"/>\n",
       "<path fill=\"none\" stroke-width=\"1\" stroke-linecap=\"butt\" stroke-linejoin=\"miter\" stroke=\"rgb(26.666667%, 26.666667%, 26.666667%)\" stroke-opacity=\"1\" stroke-miterlimit=\"10\" d=\"M 350 50 L 473.257812 104.78125 \"/>\n",
       "<path fill-rule=\"nonzero\" fill=\"rgb(26.666667%, 26.666667%, 26.666667%)\" fill-opacity=\"1\" d=\"M 486.292969 110.574219 L 471.375 109.015625 L 475.140625 100.546875 L 486.292969 110.574219 \"/>\n",
       "<path fill=\"none\" stroke-width=\"1\" stroke-linecap=\"butt\" stroke-linejoin=\"miter\" stroke=\"rgb(26.666667%, 26.666667%, 26.666667%)\" stroke-opacity=\"1\" stroke-miterlimit=\"10\" d=\"M 350 116.667969 L 470.734375 116.667969 \"/>\n",
       "<path fill-rule=\"nonzero\" fill=\"rgb(26.666667%, 26.666667%, 26.666667%)\" fill-opacity=\"1\" d=\"M 485 116.667969 L 470.734375 121.300781 L 470.734375 112.03125 L 485 116.667969 \"/>\n",
       "<path fill=\"none\" stroke-width=\"1\" stroke-linecap=\"butt\" stroke-linejoin=\"miter\" stroke=\"rgb(26.666667%, 26.666667%, 26.666667%)\" stroke-opacity=\"1\" stroke-miterlimit=\"10\" d=\"M 350 50 L 478.125 163.890625 \"/>\n",
       "<path fill-rule=\"nonzero\" fill=\"rgb(26.666667%, 26.666667%, 26.666667%)\" fill-opacity=\"1\" d=\"M 488.789062 173.367188 L 475.046875 167.355469 L 481.207031 160.425781 L 488.789062 173.367188 \"/>\n",
       "<path fill=\"none\" stroke-width=\"1\" stroke-linecap=\"butt\" stroke-linejoin=\"miter\" stroke=\"rgb(26.666667%, 26.666667%, 26.666667%)\" stroke-opacity=\"1\" stroke-miterlimit=\"10\" d=\"M 350 183.332031 L 470.734375 183.332031 \"/>\n",
       "<path fill-rule=\"nonzero\" fill=\"rgb(26.666667%, 26.666667%, 26.666667%)\" fill-opacity=\"1\" d=\"M 485 183.332031 L 470.734375 187.96875 L 470.734375 178.699219 L 485 183.332031 \"/>\n",
       "<path fill=\"none\" stroke-width=\"1\" stroke-linecap=\"butt\" stroke-linejoin=\"miter\" stroke=\"rgb(26.666667%, 26.666667%, 26.666667%)\" stroke-opacity=\"1\" stroke-miterlimit=\"10\" d=\"M 350 50 L 482.441406 226.585938 \"/>\n",
       "<path fill-rule=\"nonzero\" fill=\"rgb(26.666667%, 26.666667%, 26.666667%)\" fill-opacity=\"1\" d=\"M 491 238 L 478.730469 229.367188 L 486.148438 223.804688 L 491 238 \"/>\n",
       "<path fill=\"none\" stroke-width=\"1\" stroke-linecap=\"butt\" stroke-linejoin=\"miter\" stroke=\"rgb(26.666667%, 26.666667%, 26.666667%)\" stroke-opacity=\"1\" stroke-miterlimit=\"10\" d=\"M 350 250 L 470.734375 250 \"/>\n",
       "<path fill-rule=\"nonzero\" fill=\"rgb(26.666667%, 26.666667%, 26.666667%)\" fill-opacity=\"1\" d=\"M 485 250 L 470.734375 254.636719 L 470.734375 245.363281 L 485 250 \"/>\n",
       "<path fill=\"none\" stroke-width=\"1\" stroke-linecap=\"butt\" stroke-linejoin=\"miter\" stroke=\"rgb(26.666667%, 26.666667%, 26.666667%)\" stroke-opacity=\"1\" stroke-miterlimit=\"10\" d=\"M 350 116.667969 L 473.257812 61.886719 \"/>\n",
       "<path fill-rule=\"nonzero\" fill=\"rgb(26.666667%, 26.666667%, 26.666667%)\" fill-opacity=\"1\" d=\"M 486.292969 56.09375 L 475.140625 66.121094 L 471.375 57.648438 L 486.292969 56.09375 \"/>\n",
       "<path fill=\"none\" stroke-width=\"1\" stroke-linecap=\"butt\" stroke-linejoin=\"miter\" stroke=\"rgb(26.666667%, 26.666667%, 26.666667%)\" stroke-opacity=\"1\" stroke-miterlimit=\"10\" d=\"M 350 116.667969 L 473.257812 171.449219 \"/>\n",
       "<path fill-rule=\"nonzero\" fill=\"rgb(26.666667%, 26.666667%, 26.666667%)\" fill-opacity=\"1\" d=\"M 486.292969 177.242188 L 471.375 175.683594 L 475.140625 167.210938 L 486.292969 177.242188 \"/>\n",
       "<path fill=\"none\" stroke-width=\"1\" stroke-linecap=\"butt\" stroke-linejoin=\"miter\" stroke=\"rgb(26.666667%, 26.666667%, 26.666667%)\" stroke-opacity=\"1\" stroke-miterlimit=\"10\" d=\"M 500 50 L 620.734375 50 \"/>\n",
       "<path fill-rule=\"nonzero\" fill=\"rgb(26.666667%, 26.666667%, 26.666667%)\" fill-opacity=\"1\" d=\"M 635 50 L 620.734375 54.636719 L 620.734375 45.363281 L 635 50 \"/>\n",
       "<path fill=\"none\" stroke-width=\"1\" stroke-linecap=\"butt\" stroke-linejoin=\"miter\" stroke=\"rgb(26.666667%, 26.666667%, 26.666667%)\" stroke-opacity=\"1\" stroke-miterlimit=\"10\" d=\"M 500 50 L 623.257812 104.78125 \"/>\n",
       "<path fill-rule=\"nonzero\" fill=\"rgb(26.666667%, 26.666667%, 26.666667%)\" fill-opacity=\"1\" d=\"M 636.292969 110.574219 L 621.375 109.015625 L 625.140625 100.546875 L 636.292969 110.574219 \"/>\n",
       "<path fill=\"none\" stroke-width=\"1\" stroke-linecap=\"butt\" stroke-linejoin=\"miter\" stroke=\"rgb(26.666667%, 26.666667%, 26.666667%)\" stroke-opacity=\"1\" stroke-miterlimit=\"10\" d=\"M 500 116.667969 L 620.734375 116.667969 \"/>\n",
       "<path fill-rule=\"nonzero\" fill=\"rgb(26.666667%, 26.666667%, 26.666667%)\" fill-opacity=\"1\" d=\"M 635 116.667969 L 620.734375 121.300781 L 620.734375 112.03125 L 635 116.667969 \"/>\n",
       "<path fill=\"none\" stroke-width=\"1\" stroke-linecap=\"butt\" stroke-linejoin=\"miter\" stroke=\"rgb(26.666667%, 26.666667%, 26.666667%)\" stroke-opacity=\"1\" stroke-miterlimit=\"10\" d=\"M 500 50 L 628.125 163.890625 \"/>\n",
       "<path fill-rule=\"nonzero\" fill=\"rgb(26.666667%, 26.666667%, 26.666667%)\" fill-opacity=\"1\" d=\"M 638.789062 173.367188 L 625.046875 167.355469 L 631.207031 160.425781 L 638.789062 173.367188 \"/>\n",
       "<path fill=\"none\" stroke-width=\"1\" stroke-linecap=\"butt\" stroke-linejoin=\"miter\" stroke=\"rgb(26.666667%, 26.666667%, 26.666667%)\" stroke-opacity=\"1\" stroke-miterlimit=\"10\" d=\"M 500 183.332031 L 620.734375 183.332031 \"/>\n",
       "<path fill-rule=\"nonzero\" fill=\"rgb(26.666667%, 26.666667%, 26.666667%)\" fill-opacity=\"1\" d=\"M 635 183.332031 L 620.734375 187.96875 L 620.734375 178.699219 L 635 183.332031 \"/>\n",
       "<path fill=\"none\" stroke-width=\"1\" stroke-linecap=\"butt\" stroke-linejoin=\"miter\" stroke=\"rgb(26.666667%, 26.666667%, 26.666667%)\" stroke-opacity=\"1\" stroke-miterlimit=\"10\" d=\"M 500 50 L 632.441406 226.585938 \"/>\n",
       "<path fill-rule=\"nonzero\" fill=\"rgb(26.666667%, 26.666667%, 26.666667%)\" fill-opacity=\"1\" d=\"M 641 238 L 628.730469 229.367188 L 636.148438 223.804688 L 641 238 \"/>\n",
       "<path fill=\"none\" stroke-width=\"1\" stroke-linecap=\"butt\" stroke-linejoin=\"miter\" stroke=\"rgb(26.666667%, 26.666667%, 26.666667%)\" stroke-opacity=\"1\" stroke-miterlimit=\"10\" d=\"M 500 250 L 620.734375 250 \"/>\n",
       "<path fill-rule=\"nonzero\" fill=\"rgb(26.666667%, 26.666667%, 26.666667%)\" fill-opacity=\"1\" d=\"M 635 250 L 620.734375 254.636719 L 620.734375 245.363281 L 635 250 \"/>\n",
       "<path fill=\"none\" stroke-width=\"1\" stroke-linecap=\"butt\" stroke-linejoin=\"miter\" stroke=\"rgb(26.666667%, 26.666667%, 26.666667%)\" stroke-opacity=\"1\" stroke-miterlimit=\"10\" d=\"M 500 116.667969 L 623.257812 61.886719 \"/>\n",
       "<path fill-rule=\"nonzero\" fill=\"rgb(26.666667%, 26.666667%, 26.666667%)\" fill-opacity=\"1\" d=\"M 636.292969 56.09375 L 625.140625 66.121094 L 621.375 57.648438 L 636.292969 56.09375 \"/>\n",
       "<path fill=\"none\" stroke-width=\"1\" stroke-linecap=\"butt\" stroke-linejoin=\"miter\" stroke=\"rgb(26.666667%, 26.666667%, 26.666667%)\" stroke-opacity=\"1\" stroke-miterlimit=\"10\" d=\"M 500 116.667969 L 623.257812 171.449219 \"/>\n",
       "<path fill-rule=\"nonzero\" fill=\"rgb(26.666667%, 26.666667%, 26.666667%)\" fill-opacity=\"1\" d=\"M 636.292969 177.242188 L 621.375 175.683594 L 625.140625 167.210938 L 636.292969 177.242188 \"/>\n",
       "<path fill=\"none\" stroke-width=\"1\" stroke-linecap=\"butt\" stroke-linejoin=\"miter\" stroke=\"rgb(26.666667%, 26.666667%, 26.666667%)\" stroke-opacity=\"1\" stroke-miterlimit=\"10\" d=\"M 50 150 L 175.648438 66.234375 \"/>\n",
       "<path fill-rule=\"nonzero\" fill=\"rgb(26.666667%, 26.666667%, 26.666667%)\" fill-opacity=\"1\" d=\"M 187.519531 58.320312 L 178.21875 70.089844 L 173.078125 62.378906 L 187.519531 58.320312 \"/>\n",
       "<path fill=\"none\" stroke-width=\"1\" stroke-linecap=\"butt\" stroke-linejoin=\"miter\" stroke=\"rgb(26.666667%, 26.666667%, 26.666667%)\" stroke-opacity=\"1\" stroke-miterlimit=\"10\" d=\"M 50 150 L 171.429688 123.015625 \"/>\n",
       "<path fill-rule=\"nonzero\" fill=\"rgb(26.666667%, 26.666667%, 26.666667%)\" fill-opacity=\"1\" d=\"M 185.355469 119.921875 L 172.4375 127.539062 L 170.425781 118.492188 L 185.355469 119.921875 \"/>\n",
       "<path fill=\"none\" stroke-width=\"1\" stroke-linecap=\"butt\" stroke-linejoin=\"miter\" stroke=\"rgb(26.666667%, 26.666667%, 26.666667%)\" stroke-opacity=\"1\" stroke-miterlimit=\"10\" d=\"M 50 150 L 171.429688 176.984375 \"/>\n",
       "<path fill-rule=\"nonzero\" fill=\"rgb(26.666667%, 26.666667%, 26.666667%)\" fill-opacity=\"1\" d=\"M 185.355469 180.078125 L 170.425781 181.507812 L 172.4375 172.460938 L 185.355469 180.078125 \"/>\n",
       "<path fill=\"none\" stroke-width=\"1\" stroke-linecap=\"butt\" stroke-linejoin=\"miter\" stroke=\"rgb(26.666667%, 26.666667%, 26.666667%)\" stroke-opacity=\"1\" stroke-miterlimit=\"10\" d=\"M 50 150 L 175.648438 233.765625 \"/>\n",
       "<path fill-rule=\"nonzero\" fill=\"rgb(26.666667%, 26.666667%, 26.666667%)\" fill-opacity=\"1\" d=\"M 187.519531 241.679688 L 173.078125 237.621094 L 178.21875 229.910156 L 187.519531 241.679688 \"/>\n",
       "<path fill=\"none\" stroke-width=\"1\" stroke-linecap=\"butt\" stroke-linejoin=\"miter\" stroke=\"rgb(26.666667%, 26.666667%, 26.666667%)\" stroke-opacity=\"1\" stroke-miterlimit=\"10\" d=\"M 50 150 L 322.234375 59.253906 \"/>\n",
       "<path fill-rule=\"nonzero\" fill=\"rgb(26.666667%, 26.666667%, 26.666667%)\" fill-opacity=\"1\" d=\"M 335.769531 54.742188 L 323.703125 63.652344 L 320.769531 54.855469 L 335.769531 54.742188 \"/>\n",
       "<path fill=\"none\" stroke-width=\"1\" stroke-linecap=\"butt\" stroke-linejoin=\"miter\" stroke=\"rgb(26.666667%, 26.666667%, 26.666667%)\" stroke-opacity=\"1\" stroke-miterlimit=\"10\" d=\"M 50 150 L 320.914062 119.898438 \"/>\n",
       "<path fill-rule=\"nonzero\" fill=\"rgb(26.666667%, 26.666667%, 26.666667%)\" fill-opacity=\"1\" d=\"M 335.089844 118.324219 L 321.425781 124.503906 L 320.402344 115.292969 L 335.089844 118.324219 \"/>\n",
       "<path fill=\"none\" stroke-width=\"1\" stroke-linecap=\"butt\" stroke-linejoin=\"miter\" stroke=\"rgb(26.666667%, 26.666667%, 26.666667%)\" stroke-opacity=\"1\" stroke-miterlimit=\"10\" d=\"M 50 150 L 320.914062 180.101562 \"/>\n",
       "<path fill-rule=\"nonzero\" fill=\"rgb(26.666667%, 26.666667%, 26.666667%)\" fill-opacity=\"1\" d=\"M 335.089844 181.675781 L 320.402344 184.707031 L 321.425781 175.496094 L 335.089844 181.675781 \"/>\n",
       "<path fill=\"none\" stroke-width=\"1\" stroke-linecap=\"butt\" stroke-linejoin=\"miter\" stroke=\"rgb(26.666667%, 26.666667%, 26.666667%)\" stroke-opacity=\"1\" stroke-miterlimit=\"10\" d=\"M 50 150 L 322.234375 240.746094 \"/>\n",
       "<path fill-rule=\"nonzero\" fill=\"rgb(26.666667%, 26.666667%, 26.666667%)\" fill-opacity=\"1\" d=\"M 335.769531 245.257812 L 320.769531 245.144531 L 323.703125 236.347656 L 335.769531 245.257812 \"/>\n",
       "<path fill=\"none\" stroke-width=\"1\" stroke-linecap=\"butt\" stroke-linejoin=\"miter\" stroke=\"rgb(26.666667%, 26.666667%, 26.666667%)\" stroke-opacity=\"1\" stroke-miterlimit=\"10\" d=\"M 50 150 L 471.429688 56.347656 \"/>\n",
       "<path fill-rule=\"nonzero\" fill=\"rgb(26.666667%, 26.666667%, 26.666667%)\" fill-opacity=\"1\" d=\"M 485.355469 53.253906 L 472.4375 60.875 L 470.425781 51.824219 L 485.355469 53.253906 \"/>\n",
       "<path fill=\"none\" stroke-width=\"1\" stroke-linecap=\"butt\" stroke-linejoin=\"miter\" stroke=\"rgb(26.666667%, 26.666667%, 26.666667%)\" stroke-opacity=\"1\" stroke-miterlimit=\"10\" d=\"M 50 150 L 470.8125 118.828125 \"/>\n",
       "<path fill-rule=\"nonzero\" fill=\"rgb(26.666667%, 26.666667%, 26.666667%)\" fill-opacity=\"1\" d=\"M 485.039062 117.773438 L 471.15625 123.453125 L 470.472656 114.207031 L 485.039062 117.773438 \"/>\n",
       "<path fill=\"none\" stroke-width=\"1\" stroke-linecap=\"butt\" stroke-linejoin=\"miter\" stroke=\"rgb(26.666667%, 26.666667%, 26.666667%)\" stroke-opacity=\"1\" stroke-miterlimit=\"10\" d=\"M 50 150 L 470.8125 181.171875 \"/>\n",
       "<path fill-rule=\"nonzero\" fill=\"rgb(26.666667%, 26.666667%, 26.666667%)\" fill-opacity=\"1\" d=\"M 485.039062 182.226562 L 470.472656 185.792969 L 471.15625 176.546875 L 485.039062 182.226562 \"/>\n",
       "<path fill=\"none\" stroke-width=\"1\" stroke-linecap=\"butt\" stroke-linejoin=\"miter\" stroke=\"rgb(26.666667%, 26.666667%, 26.666667%)\" stroke-opacity=\"1\" stroke-miterlimit=\"10\" d=\"M 50 150 L 471.429688 243.652344 \"/>\n",
       "<path fill-rule=\"nonzero\" fill=\"rgb(26.666667%, 26.666667%, 26.666667%)\" fill-opacity=\"1\" d=\"M 485.355469 246.746094 L 470.425781 248.175781 L 472.4375 239.125 L 485.355469 246.746094 \"/>\n",
       "<path fill=\"none\" stroke-width=\"1\" stroke-linecap=\"butt\" stroke-linejoin=\"miter\" stroke=\"rgb(26.666667%, 26.666667%, 26.666667%)\" stroke-opacity=\"1\" stroke-miterlimit=\"10\" d=\"M 50 150 L 621.132812 54.8125 \"/>\n",
       "<path fill-rule=\"nonzero\" fill=\"rgb(26.666667%, 26.666667%, 26.666667%)\" fill-opacity=\"1\" d=\"M 635.203125 52.464844 L 621.894531 59.382812 L 620.371094 50.238281 L 635.203125 52.464844 \"/>\n",
       "<path fill=\"none\" stroke-width=\"1\" stroke-linecap=\"butt\" stroke-linejoin=\"miter\" stroke=\"rgb(26.666667%, 26.666667%, 26.666667%)\" stroke-opacity=\"1\" stroke-miterlimit=\"10\" d=\"M 50 150 L 620.777344 118.289062 \"/>\n",
       "<path fill-rule=\"nonzero\" fill=\"rgb(26.666667%, 26.666667%, 26.666667%)\" fill-opacity=\"1\" d=\"M 635.023438 117.5 L 621.035156 122.917969 L 620.523438 113.660156 L 635.023438 117.5 \"/>\n",
       "<path fill=\"none\" stroke-width=\"1\" stroke-linecap=\"butt\" stroke-linejoin=\"miter\" stroke=\"rgb(26.666667%, 26.666667%, 26.666667%)\" stroke-opacity=\"1\" stroke-miterlimit=\"10\" d=\"M 50 150 L 620.777344 181.710938 \"/>\n",
       "<path fill-rule=\"nonzero\" fill=\"rgb(26.666667%, 26.666667%, 26.666667%)\" fill-opacity=\"1\" d=\"M 635.023438 182.5 L 620.523438 186.339844 L 621.035156 177.082031 L 635.023438 182.5 \"/>\n",
       "<path fill=\"none\" stroke-width=\"1\" stroke-linecap=\"butt\" stroke-linejoin=\"miter\" stroke=\"rgb(26.666667%, 26.666667%, 26.666667%)\" stroke-opacity=\"1\" stroke-miterlimit=\"10\" d=\"M 50 150 L 621.132812 245.1875 \"/>\n",
       "<path fill-rule=\"nonzero\" fill=\"rgb(26.666667%, 26.666667%, 26.666667%)\" fill-opacity=\"1\" d=\"M 635.203125 247.535156 L 620.371094 249.761719 L 621.894531 240.617188 L 635.203125 247.535156 \"/>\n",
       "<path fill-rule=\"nonzero\" fill=\"rgb(55.294118%, 82.745098%, 78.039216%)\" fill-opacity=\"1\" stroke-width=\"1\" stroke-linecap=\"butt\" stroke-linejoin=\"miter\" stroke=\"rgb(0%, 0%, 0%)\" stroke-opacity=\"1\" stroke-miterlimit=\"10\" d=\"M 215 50 C 215 58.285156 208.285156 65 200 65 C 191.714844 65 185 58.285156 185 50 C 185 41.714844 191.714844 35 200 35 C 208.285156 35 215 41.714844 215 50 \"/>\n",
       "<path fill-rule=\"nonzero\" fill=\"rgb(100%, 100%, 70.196078%)\" fill-opacity=\"1\" stroke-width=\"1\" stroke-linecap=\"butt\" stroke-linejoin=\"miter\" stroke=\"rgb(0%, 0%, 0%)\" stroke-opacity=\"1\" stroke-miterlimit=\"10\" d=\"M 215 116.667969 C 215 124.949219 208.285156 131.667969 200 131.667969 C 191.714844 131.667969 185 124.949219 185 116.667969 C 185 108.382812 191.714844 101.667969 200 101.667969 C 208.285156 101.667969 215 108.382812 215 116.667969 \"/>\n",
       "<path fill-rule=\"nonzero\" fill=\"rgb(74.509804%, 72.941176%, 85.490196%)\" fill-opacity=\"1\" stroke-width=\"1\" stroke-linecap=\"butt\" stroke-linejoin=\"miter\" stroke=\"rgb(0%, 0%, 0%)\" stroke-opacity=\"1\" stroke-miterlimit=\"10\" d=\"M 215 183.332031 C 215 191.617188 208.285156 198.332031 200 198.332031 C 191.714844 198.332031 185 191.617188 185 183.332031 C 185 175.050781 191.714844 168.332031 200 168.332031 C 208.285156 168.332031 215 175.050781 215 183.332031 \"/>\n",
       "<path fill-rule=\"nonzero\" fill=\"rgb(98.431373%, 50.196078%, 44.705882%)\" fill-opacity=\"1\" stroke-width=\"1\" stroke-linecap=\"butt\" stroke-linejoin=\"miter\" stroke=\"rgb(0%, 0%, 0%)\" stroke-opacity=\"1\" stroke-miterlimit=\"10\" d=\"M 215 250 C 215 258.285156 208.285156 265 200 265 C 191.714844 265 185 258.285156 185 250 C 185 241.714844 191.714844 235 200 235 C 208.285156 235 215 241.714844 215 250 \"/>\n",
       "<path fill-rule=\"nonzero\" fill=\"rgb(55.294118%, 82.745098%, 78.039216%)\" fill-opacity=\"1\" stroke-width=\"1\" stroke-linecap=\"butt\" stroke-linejoin=\"miter\" stroke=\"rgb(0%, 0%, 0%)\" stroke-opacity=\"1\" stroke-miterlimit=\"10\" d=\"M 365 50 C 365 58.285156 358.285156 65 350 65 C 341.714844 65 335 58.285156 335 50 C 335 41.714844 341.714844 35 350 35 C 358.285156 35 365 41.714844 365 50 \"/>\n",
       "<path fill-rule=\"nonzero\" fill=\"rgb(100%, 100%, 70.196078%)\" fill-opacity=\"1\" stroke-width=\"1\" stroke-linecap=\"butt\" stroke-linejoin=\"miter\" stroke=\"rgb(0%, 0%, 0%)\" stroke-opacity=\"1\" stroke-miterlimit=\"10\" d=\"M 365 116.667969 C 365 124.949219 358.285156 131.667969 350 131.667969 C 341.714844 131.667969 335 124.949219 335 116.667969 C 335 108.382812 341.714844 101.667969 350 101.667969 C 358.285156 101.667969 365 108.382812 365 116.667969 \"/>\n",
       "<path fill-rule=\"nonzero\" fill=\"rgb(74.509804%, 72.941176%, 85.490196%)\" fill-opacity=\"1\" stroke-width=\"1\" stroke-linecap=\"butt\" stroke-linejoin=\"miter\" stroke=\"rgb(0%, 0%, 0%)\" stroke-opacity=\"1\" stroke-miterlimit=\"10\" d=\"M 365 183.332031 C 365 191.617188 358.285156 198.332031 350 198.332031 C 341.714844 198.332031 335 191.617188 335 183.332031 C 335 175.050781 341.714844 168.332031 350 168.332031 C 358.285156 168.332031 365 175.050781 365 183.332031 \"/>\n",
       "<path fill-rule=\"nonzero\" fill=\"rgb(98.431373%, 50.196078%, 44.705882%)\" fill-opacity=\"1\" stroke-width=\"1\" stroke-linecap=\"butt\" stroke-linejoin=\"miter\" stroke=\"rgb(0%, 0%, 0%)\" stroke-opacity=\"1\" stroke-miterlimit=\"10\" d=\"M 365 250 C 365 258.285156 358.285156 265 350 265 C 341.714844 265 335 258.285156 335 250 C 335 241.714844 341.714844 235 350 235 C 358.285156 235 365 241.714844 365 250 \"/>\n",
       "<path fill-rule=\"nonzero\" fill=\"rgb(55.294118%, 82.745098%, 78.039216%)\" fill-opacity=\"1\" stroke-width=\"1\" stroke-linecap=\"butt\" stroke-linejoin=\"miter\" stroke=\"rgb(0%, 0%, 0%)\" stroke-opacity=\"1\" stroke-miterlimit=\"10\" d=\"M 515 50 C 515 58.285156 508.285156 65 500 65 C 491.714844 65 485 58.285156 485 50 C 485 41.714844 491.714844 35 500 35 C 508.285156 35 515 41.714844 515 50 \"/>\n",
       "<path fill-rule=\"nonzero\" fill=\"rgb(100%, 100%, 70.196078%)\" fill-opacity=\"1\" stroke-width=\"1\" stroke-linecap=\"butt\" stroke-linejoin=\"miter\" stroke=\"rgb(0%, 0%, 0%)\" stroke-opacity=\"1\" stroke-miterlimit=\"10\" d=\"M 515 116.667969 C 515 124.949219 508.285156 131.667969 500 131.667969 C 491.714844 131.667969 485 124.949219 485 116.667969 C 485 108.382812 491.714844 101.667969 500 101.667969 C 508.285156 101.667969 515 108.382812 515 116.667969 \"/>\n",
       "<path fill-rule=\"nonzero\" fill=\"rgb(74.509804%, 72.941176%, 85.490196%)\" fill-opacity=\"1\" stroke-width=\"1\" stroke-linecap=\"butt\" stroke-linejoin=\"miter\" stroke=\"rgb(0%, 0%, 0%)\" stroke-opacity=\"1\" stroke-miterlimit=\"10\" d=\"M 515 183.332031 C 515 191.617188 508.285156 198.332031 500 198.332031 C 491.714844 198.332031 485 191.617188 485 183.332031 C 485 175.050781 491.714844 168.332031 500 168.332031 C 508.285156 168.332031 515 175.050781 515 183.332031 \"/>\n",
       "<path fill-rule=\"nonzero\" fill=\"rgb(98.431373%, 50.196078%, 44.705882%)\" fill-opacity=\"1\" stroke-width=\"1\" stroke-linecap=\"butt\" stroke-linejoin=\"miter\" stroke=\"rgb(0%, 0%, 0%)\" stroke-opacity=\"1\" stroke-miterlimit=\"10\" d=\"M 515 250 C 515 258.285156 508.285156 265 500 265 C 491.714844 265 485 258.285156 485 250 C 485 241.714844 491.714844 235 500 235 C 508.285156 235 515 241.714844 515 250 \"/>\n",
       "<path fill-rule=\"nonzero\" fill=\"rgb(55.294118%, 82.745098%, 78.039216%)\" fill-opacity=\"1\" stroke-width=\"1\" stroke-linecap=\"butt\" stroke-linejoin=\"miter\" stroke=\"rgb(0%, 0%, 0%)\" stroke-opacity=\"1\" stroke-miterlimit=\"10\" d=\"M 665 50 C 665 58.285156 658.285156 65 650 65 C 641.714844 65 635 58.285156 635 50 C 635 41.714844 641.714844 35 650 35 C 658.285156 35 665 41.714844 665 50 \"/>\n",
       "<path fill-rule=\"nonzero\" fill=\"rgb(100%, 100%, 70.196078%)\" fill-opacity=\"1\" stroke-width=\"1\" stroke-linecap=\"butt\" stroke-linejoin=\"miter\" stroke=\"rgb(0%, 0%, 0%)\" stroke-opacity=\"1\" stroke-miterlimit=\"10\" d=\"M 665 116.667969 C 665 124.949219 658.285156 131.667969 650 131.667969 C 641.714844 131.667969 635 124.949219 635 116.667969 C 635 108.382812 641.714844 101.667969 650 101.667969 C 658.285156 101.667969 665 108.382812 665 116.667969 \"/>\n",
       "<path fill-rule=\"nonzero\" fill=\"rgb(74.509804%, 72.941176%, 85.490196%)\" fill-opacity=\"1\" stroke-width=\"1\" stroke-linecap=\"butt\" stroke-linejoin=\"miter\" stroke=\"rgb(0%, 0%, 0%)\" stroke-opacity=\"1\" stroke-miterlimit=\"10\" d=\"M 665 183.332031 C 665 191.617188 658.285156 198.332031 650 198.332031 C 641.714844 198.332031 635 191.617188 635 183.332031 C 635 175.050781 641.714844 168.332031 650 168.332031 C 658.285156 168.332031 665 175.050781 665 183.332031 \"/>\n",
       "<path fill-rule=\"nonzero\" fill=\"rgb(98.431373%, 50.196078%, 44.705882%)\" fill-opacity=\"1\" stroke-width=\"1\" stroke-linecap=\"butt\" stroke-linejoin=\"miter\" stroke=\"rgb(0%, 0%, 0%)\" stroke-opacity=\"1\" stroke-miterlimit=\"10\" d=\"M 665 250 C 665 258.285156 658.285156 265 650 265 C 641.714844 265 635 258.285156 635 250 C 635 241.714844 641.714844 235 650 235 C 658.285156 235 665 241.714844 665 250 \"/>\n",
       "<path fill-rule=\"nonzero\" fill=\"rgb(73.333333%, 73.333333%, 73.333333%)\" fill-opacity=\"1\" stroke-width=\"1\" stroke-linecap=\"butt\" stroke-linejoin=\"miter\" stroke=\"rgb(0%, 0%, 0%)\" stroke-opacity=\"1\" stroke-miterlimit=\"10\" d=\"M 65 150 C 65 158.285156 58.285156 165 50 165 C 41.714844 165 35 158.285156 35 150 C 35 141.714844 41.714844 135 50 135 C 58.285156 135 65 141.714844 65 150 \"/>\n",
       "<g fill=\"rgb(0%, 0%, 0%)\" fill-opacity=\"1\">\n",
       "<use xlink:href=\"#glyph-0-0\" x=\"193.105469\" y=\"54.644531\"/>\n",
       "<use xlink:href=\"#glyph-0-1\" x=\"198.666992\" y=\"54.644531\"/>\n",
       "<use xlink:href=\"#glyph-0-0\" x=\"201.445312\" y=\"54.644531\"/>\n",
       "</g>\n",
       "<g fill=\"rgb(0%, 0%, 0%)\" fill-opacity=\"1\">\n",
       "<use xlink:href=\"#glyph-0-0\" x=\"193.902344\" y=\"121.3125\"/>\n",
       "<use xlink:href=\"#glyph-0-1\" x=\"199.463867\" y=\"121.3125\"/>\n",
       "<use xlink:href=\"#glyph-0-2\" x=\"202.242188\" y=\"121.3125\"/>\n",
       "</g>\n",
       "<g fill=\"rgb(0%, 0%, 0%)\" fill-opacity=\"1\">\n",
       "<use xlink:href=\"#glyph-0-0\" x=\"193.101562\" y=\"187.992188\"/>\n",
       "<use xlink:href=\"#glyph-0-1\" x=\"198.663086\" y=\"187.992188\"/>\n",
       "<use xlink:href=\"#glyph-0-3\" x=\"201.441406\" y=\"187.992188\"/>\n",
       "</g>\n",
       "<g fill=\"rgb(0%, 0%, 0%)\" fill-opacity=\"1\">\n",
       "<use xlink:href=\"#glyph-0-0\" x=\"193.109375\" y=\"254.652344\"/>\n",
       "<use xlink:href=\"#glyph-0-1\" x=\"198.670898\" y=\"254.652344\"/>\n",
       "<use xlink:href=\"#glyph-0-4\" x=\"201.449219\" y=\"254.652344\"/>\n",
       "</g>\n",
       "<g fill=\"rgb(0%, 0%, 0%)\" fill-opacity=\"1\">\n",
       "<use xlink:href=\"#glyph-0-2\" x=\"342.78125\" y=\"54.644531\"/>\n",
       "<use xlink:href=\"#glyph-0-1\" x=\"348.342773\" y=\"54.644531\"/>\n",
       "<use xlink:href=\"#glyph-0-0\" x=\"351.121094\" y=\"54.644531\"/>\n",
       "</g>\n",
       "<g fill=\"rgb(0%, 0%, 0%)\" fill-opacity=\"1\">\n",
       "<use xlink:href=\"#glyph-0-2\" x=\"343.582031\" y=\"121.296875\"/>\n",
       "<use xlink:href=\"#glyph-0-1\" x=\"349.143555\" y=\"121.296875\"/>\n",
       "<use xlink:href=\"#glyph-0-2\" x=\"351.921875\" y=\"121.296875\"/>\n",
       "</g>\n",
       "<g fill=\"rgb(0%, 0%, 0%)\" fill-opacity=\"1\">\n",
       "<use xlink:href=\"#glyph-0-2\" x=\"342.777344\" y=\"187.992188\"/>\n",
       "<use xlink:href=\"#glyph-0-1\" x=\"348.338867\" y=\"187.992188\"/>\n",
       "<use xlink:href=\"#glyph-0-3\" x=\"351.117188\" y=\"187.992188\"/>\n",
       "</g>\n",
       "<g fill=\"rgb(0%, 0%, 0%)\" fill-opacity=\"1\">\n",
       "<use xlink:href=\"#glyph-0-2\" x=\"342.789062\" y=\"254.652344\"/>\n",
       "<use xlink:href=\"#glyph-0-1\" x=\"348.350586\" y=\"254.652344\"/>\n",
       "<use xlink:href=\"#glyph-0-4\" x=\"351.128906\" y=\"254.652344\"/>\n",
       "</g>\n",
       "<g fill=\"rgb(0%, 0%, 0%)\" fill-opacity=\"1\">\n",
       "<use xlink:href=\"#glyph-0-3\" x=\"493.105469\" y=\"54.65625\"/>\n",
       "<use xlink:href=\"#glyph-0-1\" x=\"498.666992\" y=\"54.65625\"/>\n",
       "<use xlink:href=\"#glyph-0-0\" x=\"501.445312\" y=\"54.65625\"/>\n",
       "</g>\n",
       "<g fill=\"rgb(0%, 0%, 0%)\" fill-opacity=\"1\">\n",
       "<use xlink:href=\"#glyph-0-3\" x=\"493.902344\" y=\"121.324219\"/>\n",
       "<use xlink:href=\"#glyph-0-1\" x=\"499.463867\" y=\"121.324219\"/>\n",
       "<use xlink:href=\"#glyph-0-2\" x=\"502.242188\" y=\"121.324219\"/>\n",
       "</g>\n",
       "<g fill=\"rgb(0%, 0%, 0%)\" fill-opacity=\"1\">\n",
       "<use xlink:href=\"#glyph-0-3\" x=\"493.101562\" y=\"187.992188\"/>\n",
       "<use xlink:href=\"#glyph-0-1\" x=\"498.663086\" y=\"187.992188\"/>\n",
       "<use xlink:href=\"#glyph-0-3\" x=\"501.441406\" y=\"187.992188\"/>\n",
       "</g>\n",
       "<g fill=\"rgb(0%, 0%, 0%)\" fill-opacity=\"1\">\n",
       "<use xlink:href=\"#glyph-0-3\" x=\"493.109375\" y=\"254.65625\"/>\n",
       "<use xlink:href=\"#glyph-0-1\" x=\"498.670898\" y=\"254.65625\"/>\n",
       "<use xlink:href=\"#glyph-0-4\" x=\"501.449219\" y=\"254.65625\"/>\n",
       "</g>\n",
       "<g fill=\"rgb(0%, 0%, 0%)\" fill-opacity=\"1\">\n",
       "<use xlink:href=\"#glyph-0-4\" x=\"643.140625\" y=\"54.652344\"/>\n",
       "<use xlink:href=\"#glyph-0-1\" x=\"648.702148\" y=\"54.652344\"/>\n",
       "<use xlink:href=\"#glyph-0-0\" x=\"651.480469\" y=\"54.652344\"/>\n",
       "</g>\n",
       "<g fill=\"rgb(0%, 0%, 0%)\" fill-opacity=\"1\">\n",
       "<use xlink:href=\"#glyph-0-4\" x=\"643.941406\" y=\"121.316406\"/>\n",
       "<use xlink:href=\"#glyph-0-1\" x=\"649.50293\" y=\"121.316406\"/>\n",
       "<use xlink:href=\"#glyph-0-2\" x=\"652.28125\" y=\"121.316406\"/>\n",
       "</g>\n",
       "<g fill=\"rgb(0%, 0%, 0%)\" fill-opacity=\"1\">\n",
       "<use xlink:href=\"#glyph-0-4\" x=\"643.136719\" y=\"187.992188\"/>\n",
       "<use xlink:href=\"#glyph-0-1\" x=\"648.698242\" y=\"187.992188\"/>\n",
       "<use xlink:href=\"#glyph-0-3\" x=\"651.476562\" y=\"187.992188\"/>\n",
       "</g>\n",
       "<g fill=\"rgb(0%, 0%, 0%)\" fill-opacity=\"1\">\n",
       "<use xlink:href=\"#glyph-0-4\" x=\"643.148438\" y=\"254.652344\"/>\n",
       "<use xlink:href=\"#glyph-0-1\" x=\"648.709961\" y=\"254.652344\"/>\n",
       "<use xlink:href=\"#glyph-0-4\" x=\"651.488281\" y=\"254.652344\"/>\n",
       "</g>\n",
       "<g fill=\"rgb(0%, 0%, 0%)\" fill-opacity=\"1\">\n",
       "<use xlink:href=\"#glyph-0-5\" x=\"40.523438\" y=\"154.632812\"/>\n",
       "<use xlink:href=\"#glyph-0-2\" x=\"43.853516\" y=\"154.632812\"/>\n",
       "<use xlink:href=\"#glyph-0-1\" x=\"49.415039\" y=\"154.632812\"/>\n",
       "<use xlink:href=\"#glyph-0-5\" x=\"52.193359\" y=\"154.632812\"/>\n",
       "<use xlink:href=\"#glyph-0-2\" x=\"55.523438\" y=\"154.632812\"/>\n",
       "</g>\n",
       "</svg>\n"
      ],
      "text/plain": [
       "<igraph.drawing.cairo.plot.CairoPlot at 0x1368f1a50>"
      ]
     },
     "execution_count": 3,
     "metadata": {
      "image/svg+xml": {
       "isolated": true
      }
     },
     "output_type": "execute_result"
    }
   ],
   "source": [
    "ig.plot(tugs, **util.get_visual_style(tugs), bbox=(700, 300), margin=50)"
   ]
  },
  {
   "cell_type": "markdown",
   "metadata": {
    "slideshow": {
     "slide_type": "subslide"
    }
   },
   "source": [
    "## Pricing as Optimization\n",
    "\n",
    "**We can treat our residual as _node and arc weights_**\n",
    "\n",
    "* In the plot, a grey shade corresponds to near-zero weight\n",
    "* A blue shade is used for negative weights, and a red share for positive ones"
   ]
  },
  {
   "cell_type": "code",
   "execution_count": 4,
   "metadata": {},
   "outputs": [
    {
     "data": {
      "image/svg+xml": [
       "<?xml version=\"1.0\" encoding=\"UTF-8\"?>\n",
       "<svg xmlns=\"http://www.w3.org/2000/svg\" xmlns:xlink=\"http://www.w3.org/1999/xlink\" width=\"700\" height=\"300\" viewBox=\"0 0 700 300\">\n",
       "<defs>\n",
       "<g>\n",
       "<g id=\"glyph-0-0\">\n",
       "<path d=\"M 2.703125 -6.992188 C 3.609375 -6.992188 4.265625 -6.621094 4.667969 -5.875 C 4.980469 -5.296875 5.136719 -4.507812 5.136719 -3.507812 C 5.136719 -2.554688 4.996094 -1.769531 4.710938 -1.148438 C 4.300781 -0.257812 3.632812 0.191406 2.699219 0.191406 C 1.859375 0.191406 1.234375 -0.175781 0.824219 -0.902344 C 0.484375 -1.511719 0.3125 -2.328125 0.3125 -3.355469 C 0.3125 -4.148438 0.414062 -4.832031 0.621094 -5.398438 C 1.003906 -6.460938 1.699219 -6.992188 2.703125 -6.992188 Z M 2.695312 -0.609375 C 3.152344 -0.609375 3.515625 -0.8125 3.785156 -1.214844 C 4.054688 -1.617188 4.1875 -2.371094 4.1875 -3.472656 C 4.1875 -4.265625 4.09375 -4.917969 3.898438 -5.433594 C 3.703125 -5.945312 3.320312 -6.203125 2.757812 -6.203125 C 2.242188 -6.203125 1.863281 -5.957031 1.625 -5.472656 C 1.382812 -4.984375 1.265625 -4.265625 1.265625 -3.320312 C 1.265625 -2.609375 1.339844 -2.035156 1.492188 -1.601562 C 1.726562 -0.941406 2.128906 -0.609375 2.695312 -0.609375 Z M 2.695312 -0.609375 \"/>\n",
       "</g>\n",
       "<g id=\"glyph-0-1\">\n",
       "<path d=\"M 0.828125 1.019531 C 1.054688 0.980469 1.210938 0.824219 1.304688 0.546875 C 1.351562 0.398438 1.375 0.257812 1.375 0.121094 C 1.375 0.0976562 1.375 0.078125 1.375 0.0625 C 1.375 0.0429688 1.367188 0.0234375 1.363281 0 L 0.828125 0 L 0.828125 -1.0625 L 1.875 -1.0625 L 1.875 -0.078125 C 1.875 0.308594 1.796875 0.648438 1.640625 0.941406 C 1.484375 1.234375 1.214844 1.414062 0.828125 1.484375 Z M 0.828125 1.019531 \"/>\n",
       "</g>\n",
       "<g id=\"glyph-0-2\">\n",
       "<path d=\"M 0.957031 -4.953125 L 0.957031 -5.625 C 1.59375 -5.6875 2.035156 -5.789062 2.285156 -5.933594 C 2.535156 -6.078125 2.722656 -6.421875 2.847656 -6.960938 L 3.539062 -6.960938 L 3.539062 0 L 2.601562 0 L 2.601562 -4.953125 Z M 0.957031 -4.953125 \"/>\n",
       "</g>\n",
       "<g id=\"glyph-0-3\">\n",
       "<path d=\"M 0.3125 0 C 0.34375 -0.601562 0.46875 -1.125 0.6875 -1.570312 C 0.902344 -2.015625 1.324219 -2.421875 1.953125 -2.789062 L 2.890625 -3.328125 C 3.3125 -3.574219 3.605469 -3.78125 3.773438 -3.953125 C 4.039062 -4.226562 4.175781 -4.535156 4.175781 -4.882812 C 4.175781 -5.289062 4.054688 -5.613281 3.808594 -5.851562 C 3.5625 -6.089844 3.238281 -6.210938 2.832031 -6.210938 C 2.230469 -6.210938 1.8125 -5.984375 1.582031 -5.527344 C 1.457031 -5.28125 1.390625 -4.945312 1.375 -4.511719 L 0.484375 -4.511719 C 0.492188 -5.121094 0.605469 -5.617188 0.820312 -6 C 1.203125 -6.679688 1.875 -7.015625 2.835938 -7.015625 C 3.636719 -7.015625 4.222656 -6.800781 4.59375 -6.367188 C 4.960938 -5.933594 5.148438 -5.453125 5.148438 -4.921875 C 5.148438 -4.363281 4.949219 -3.882812 4.554688 -3.484375 C 4.328125 -3.253906 3.917969 -2.976562 3.328125 -2.648438 L 2.660156 -2.273438 C 2.34375 -2.097656 2.089844 -1.933594 1.910156 -1.773438 C 1.585938 -1.488281 1.378906 -1.175781 1.292969 -0.828125 L 5.113281 -0.828125 L 5.113281 0 Z M 0.3125 0 \"/>\n",
       "</g>\n",
       "<g id=\"glyph-0-4\">\n",
       "<path d=\"M 2.597656 0.191406 C 1.769531 0.191406 1.171875 -0.0351562 0.796875 -0.492188 C 0.425781 -0.945312 0.238281 -1.496094 0.238281 -2.148438 L 1.15625 -2.148438 C 1.195312 -1.695312 1.28125 -1.367188 1.410156 -1.164062 C 1.640625 -0.796875 2.050781 -0.609375 2.648438 -0.609375 C 3.109375 -0.609375 3.480469 -0.734375 3.757812 -0.980469 C 4.039062 -1.226562 4.179688 -1.546875 4.179688 -1.9375 C 4.179688 -2.421875 4.03125 -2.757812 3.738281 -2.949219 C 3.445312 -3.140625 3.035156 -3.238281 2.507812 -3.238281 C 2.449219 -3.238281 2.390625 -3.238281 2.332031 -3.234375 C 2.273438 -3.234375 2.210938 -3.230469 2.148438 -3.226562 L 2.148438 -4.003906 C 2.238281 -3.992188 2.316406 -3.988281 2.378906 -3.984375 C 2.441406 -3.980469 2.507812 -3.980469 2.578125 -3.980469 C 2.90625 -3.980469 3.175781 -4.03125 3.390625 -4.136719 C 3.761719 -4.320312 3.945312 -4.644531 3.945312 -5.113281 C 3.945312 -5.460938 3.820312 -5.730469 3.574219 -5.917969 C 3.328125 -6.105469 3.039062 -6.203125 2.710938 -6.203125 C 2.125 -6.203125 1.71875 -6.007812 1.492188 -5.617188 C 1.371094 -5.402344 1.300781 -5.09375 1.285156 -4.695312 L 0.414062 -4.695312 C 0.414062 -5.21875 0.519531 -5.660156 0.726562 -6.023438 C 1.085938 -6.675781 1.714844 -7 2.617188 -7 C 3.328125 -7 3.882812 -6.84375 4.273438 -6.527344 C 4.664062 -6.210938 4.859375 -5.75 4.859375 -5.148438 C 4.859375 -4.71875 4.742188 -4.367188 4.511719 -4.101562 C 4.367188 -3.9375 4.183594 -3.804688 3.953125 -3.710938 C 4.320312 -3.609375 4.609375 -3.414062 4.816406 -3.128906 C 5.023438 -2.839844 5.125 -2.488281 5.125 -2.070312 C 5.125 -1.402344 4.90625 -0.859375 4.46875 -0.4375 C 4.027344 -0.0195312 3.40625 0.191406 2.597656 0.191406 Z M 2.597656 0.191406 \"/>\n",
       "</g>\n",
       "<g id=\"glyph-0-5\">\n",
       "<path d=\"M 0.414062 -3.238281 L 2.867188 -3.238281 L 2.867188 -2.335938 L 0.414062 -2.335938 Z M 0.414062 -3.238281 \"/>\n",
       "</g>\n",
       "</g>\n",
       "</defs>\n",
       "<rect x=\"-70\" y=\"-30\" width=\"840\" height=\"360\" fill=\"rgb(100%, 100%, 100%)\" fill-opacity=\"1\"/>\n",
       "<path fill=\"none\" stroke-width=\"1\" stroke-linecap=\"butt\" stroke-linejoin=\"miter\" stroke=\"rgb(94.172793%, 54.641348%, 42.970707%)\" stroke-opacity=\"1\" stroke-miterlimit=\"10\" d=\"M 200 50 L 320.734375 50 \"/>\n",
       "<path fill-rule=\"nonzero\" fill=\"rgb(94.172793%, 54.641348%, 42.970707%)\" fill-opacity=\"1\" d=\"M 335 50 L 320.734375 54.636719 L 320.734375 45.363281 L 335 50 \"/>\n",
       "<path fill=\"none\" stroke-width=\"1\" stroke-linecap=\"butt\" stroke-linejoin=\"miter\" stroke=\"rgb(86.742764%, 86.43766%, 86.260246%)\" stroke-opacity=\"1\" stroke-miterlimit=\"10\" d=\"M 200 50 L 323.257812 104.78125 \"/>\n",
       "<path fill-rule=\"nonzero\" fill=\"rgb(86.742764%, 86.43766%, 86.260246%)\" fill-opacity=\"1\" d=\"M 336.292969 110.574219 L 321.375 109.015625 L 325.140625 100.546875 L 336.292969 110.574219 \"/>\n",
       "<path fill=\"none\" stroke-width=\"1\" stroke-linecap=\"butt\" stroke-linejoin=\"miter\" stroke=\"rgb(48.385433%, 62.204985%, 97.48082%)\" stroke-opacity=\"1\" stroke-miterlimit=\"10\" d=\"M 200 116.667969 L 320.734375 116.667969 \"/>\n",
       "<path fill-rule=\"nonzero\" fill=\"rgb(48.385433%, 62.204985%, 97.48082%)\" fill-opacity=\"1\" d=\"M 335 116.667969 L 320.734375 121.300781 L 320.734375 112.03125 L 335 116.667969 \"/>\n",
       "<path fill=\"none\" stroke-width=\"1\" stroke-linecap=\"butt\" stroke-linejoin=\"miter\" stroke=\"rgb(86.742764%, 86.43766%, 86.260246%)\" stroke-opacity=\"1\" stroke-miterlimit=\"10\" d=\"M 200 50 L 328.125 163.890625 \"/>\n",
       "<path fill-rule=\"nonzero\" fill=\"rgb(86.742764%, 86.43766%, 86.260246%)\" fill-opacity=\"1\" d=\"M 338.789062 173.367188 L 325.046875 167.355469 L 331.207031 160.425781 L 338.789062 173.367188 \"/>\n",
       "<path fill=\"none\" stroke-width=\"1\" stroke-linecap=\"butt\" stroke-linejoin=\"miter\" stroke=\"rgb(43.581481%, 57.07073%, 95.171738%)\" stroke-opacity=\"1\" stroke-miterlimit=\"10\" d=\"M 200 183.332031 L 320.734375 183.332031 \"/>\n",
       "<path fill-rule=\"nonzero\" fill=\"rgb(43.581481%, 57.07073%, 95.171738%)\" fill-opacity=\"1\" d=\"M 335 183.332031 L 320.734375 187.96875 L 320.734375 178.699219 L 335 183.332031 \"/>\n",
       "<path fill=\"none\" stroke-width=\"1\" stroke-linecap=\"butt\" stroke-linejoin=\"miter\" stroke=\"rgb(86.742764%, 86.43766%, 86.260246%)\" stroke-opacity=\"1\" stroke-miterlimit=\"10\" d=\"M 200 50 L 332.441406 226.585938 \"/>\n",
       "<path fill-rule=\"nonzero\" fill=\"rgb(86.742764%, 86.43766%, 86.260246%)\" fill-opacity=\"1\" d=\"M 341 238 L 328.730469 229.367188 L 336.148438 223.804688 L 341 238 \"/>\n",
       "<path fill=\"none\" stroke-width=\"1\" stroke-linecap=\"butt\" stroke-linejoin=\"miter\" stroke=\"rgb(86.742764%, 86.43766%, 86.260246%)\" stroke-opacity=\"1\" stroke-miterlimit=\"10\" d=\"M 200 250 L 320.734375 250 \"/>\n",
       "<path fill-rule=\"nonzero\" fill=\"rgb(86.742764%, 86.43766%, 86.260246%)\" fill-opacity=\"1\" d=\"M 335 250 L 320.734375 254.636719 L 320.734375 245.363281 L 335 250 \"/>\n",
       "<path fill=\"none\" stroke-width=\"1\" stroke-linecap=\"butt\" stroke-linejoin=\"miter\" stroke=\"rgb(86.742764%, 86.43766%, 86.260246%)\" stroke-opacity=\"1\" stroke-miterlimit=\"10\" d=\"M 200 116.667969 L 323.257812 61.886719 \"/>\n",
       "<path fill-rule=\"nonzero\" fill=\"rgb(86.742764%, 86.43766%, 86.260246%)\" fill-opacity=\"1\" d=\"M 336.292969 56.09375 L 325.140625 66.121094 L 321.375 57.648438 L 336.292969 56.09375 \"/>\n",
       "<path fill=\"none\" stroke-width=\"1\" stroke-linecap=\"butt\" stroke-linejoin=\"miter\" stroke=\"rgb(86.742764%, 86.43766%, 86.260246%)\" stroke-opacity=\"1\" stroke-miterlimit=\"10\" d=\"M 200 116.667969 L 323.257812 171.449219 \"/>\n",
       "<path fill-rule=\"nonzero\" fill=\"rgb(86.742764%, 86.43766%, 86.260246%)\" fill-opacity=\"1\" d=\"M 336.292969 177.242188 L 321.375 175.683594 L 325.140625 167.210938 L 336.292969 177.242188 \"/>\n",
       "<path fill=\"none\" stroke-width=\"1\" stroke-linecap=\"butt\" stroke-linejoin=\"miter\" stroke=\"rgb(93.577377%, 81.22367%, 74.715647%)\" stroke-opacity=\"1\" stroke-miterlimit=\"10\" d=\"M 350 50 L 470.734375 50 \"/>\n",
       "<path fill-rule=\"nonzero\" fill=\"rgb(93.577377%, 81.22367%, 74.715647%)\" fill-opacity=\"1\" d=\"M 485 50 L 470.734375 54.636719 L 470.734375 45.363281 L 485 50 \"/>\n",
       "<path fill=\"none\" stroke-width=\"1\" stroke-linecap=\"butt\" stroke-linejoin=\"miter\" stroke=\"rgb(86.742764%, 86.43766%, 86.260246%)\" stroke-opacity=\"1\" stroke-miterlimit=\"10\" d=\"M 350 50 L 473.257812 104.78125 \"/>\n",
       "<path fill-rule=\"nonzero\" fill=\"rgb(86.742764%, 86.43766%, 86.260246%)\" fill-opacity=\"1\" d=\"M 486.292969 110.574219 L 471.375 109.015625 L 475.140625 100.546875 L 486.292969 110.574219 \"/>\n",
       "<path fill=\"none\" stroke-width=\"1\" stroke-linecap=\"butt\" stroke-linejoin=\"miter\" stroke=\"rgb(86.742764%, 86.43766%, 86.260246%)\" stroke-opacity=\"1\" stroke-miterlimit=\"10\" d=\"M 350 116.667969 L 470.734375 116.667969 \"/>\n",
       "<path fill-rule=\"nonzero\" fill=\"rgb(86.742764%, 86.43766%, 86.260246%)\" fill-opacity=\"1\" d=\"M 485 116.667969 L 470.734375 121.300781 L 470.734375 112.03125 L 485 116.667969 \"/>\n",
       "<path fill=\"none\" stroke-width=\"1\" stroke-linecap=\"butt\" stroke-linejoin=\"miter\" stroke=\"rgb(86.742764%, 86.43766%, 86.260246%)\" stroke-opacity=\"1\" stroke-miterlimit=\"10\" d=\"M 350 50 L 478.125 163.890625 \"/>\n",
       "<path fill-rule=\"nonzero\" fill=\"rgb(86.742764%, 86.43766%, 86.260246%)\" fill-opacity=\"1\" d=\"M 488.789062 173.367188 L 475.046875 167.355469 L 481.207031 160.425781 L 488.789062 173.367188 \"/>\n",
       "<path fill=\"none\" stroke-width=\"1\" stroke-linecap=\"butt\" stroke-linejoin=\"miter\" stroke=\"rgb(43.581481%, 57.07073%, 95.171738%)\" stroke-opacity=\"1\" stroke-miterlimit=\"10\" d=\"M 350 183.332031 L 470.734375 183.332031 \"/>\n",
       "<path fill-rule=\"nonzero\" fill=\"rgb(43.581481%, 57.07073%, 95.171738%)\" fill-opacity=\"1\" d=\"M 485 183.332031 L 470.734375 187.96875 L 470.734375 178.699219 L 485 183.332031 \"/>\n",
       "<path fill=\"none\" stroke-width=\"1\" stroke-linecap=\"butt\" stroke-linejoin=\"miter\" stroke=\"rgb(86.742764%, 86.43766%, 86.260246%)\" stroke-opacity=\"1\" stroke-miterlimit=\"10\" d=\"M 350 50 L 482.441406 226.585938 \"/>\n",
       "<path fill-rule=\"nonzero\" fill=\"rgb(86.742764%, 86.43766%, 86.260246%)\" fill-opacity=\"1\" d=\"M 491 238 L 478.730469 229.367188 L 486.148438 223.804688 L 491 238 \"/>\n",
       "<path fill=\"none\" stroke-width=\"1\" stroke-linecap=\"butt\" stroke-linejoin=\"miter\" stroke=\"rgb(86.742764%, 86.43766%, 86.260246%)\" stroke-opacity=\"1\" stroke-miterlimit=\"10\" d=\"M 350 250 L 470.734375 250 \"/>\n",
       "<path fill-rule=\"nonzero\" fill=\"rgb(86.742764%, 86.43766%, 86.260246%)\" fill-opacity=\"1\" d=\"M 485 250 L 470.734375 254.636719 L 470.734375 245.363281 L 485 250 \"/>\n",
       "<path fill=\"none\" stroke-width=\"1\" stroke-linecap=\"butt\" stroke-linejoin=\"miter\" stroke=\"rgb(48.385433%, 62.204985%, 97.48082%)\" stroke-opacity=\"1\" stroke-miterlimit=\"10\" d=\"M 350 116.667969 L 473.257812 61.886719 \"/>\n",
       "<path fill-rule=\"nonzero\" fill=\"rgb(48.385433%, 62.204985%, 97.48082%)\" fill-opacity=\"1\" d=\"M 486.292969 56.09375 L 475.140625 66.121094 L 471.375 57.648438 L 486.292969 56.09375 \"/>\n",
       "<path fill=\"none\" stroke-width=\"1\" stroke-linecap=\"butt\" stroke-linejoin=\"miter\" stroke=\"rgb(86.742764%, 86.43766%, 86.260246%)\" stroke-opacity=\"1\" stroke-miterlimit=\"10\" d=\"M 350 116.667969 L 473.257812 171.449219 \"/>\n",
       "<path fill-rule=\"nonzero\" fill=\"rgb(86.742764%, 86.43766%, 86.260246%)\" fill-opacity=\"1\" d=\"M 486.292969 177.242188 L 471.375 175.683594 L 475.140625 167.210938 L 486.292969 177.242188 \"/>\n",
       "<path fill=\"none\" stroke-width=\"1\" stroke-linecap=\"butt\" stroke-linejoin=\"miter\" stroke=\"rgb(54.887617%, 68.510359%, 99.437914%)\" stroke-opacity=\"1\" stroke-miterlimit=\"10\" d=\"M 500 50 L 620.734375 50 \"/>\n",
       "<path fill-rule=\"nonzero\" fill=\"rgb(54.887617%, 68.510359%, 99.437914%)\" fill-opacity=\"1\" d=\"M 635 50 L 620.734375 54.636719 L 620.734375 45.363281 L 635 50 \"/>\n",
       "<path fill=\"none\" stroke-width=\"1\" stroke-linecap=\"butt\" stroke-linejoin=\"miter\" stroke=\"rgb(86.742764%, 86.43766%, 86.260246%)\" stroke-opacity=\"1\" stroke-miterlimit=\"10\" d=\"M 500 50 L 623.257812 104.78125 \"/>\n",
       "<path fill-rule=\"nonzero\" fill=\"rgb(86.742764%, 86.43766%, 86.260246%)\" fill-opacity=\"1\" d=\"M 636.292969 110.574219 L 621.375 109.015625 L 625.140625 100.546875 L 636.292969 110.574219 \"/>\n",
       "<path fill=\"none\" stroke-width=\"1\" stroke-linecap=\"butt\" stroke-linejoin=\"miter\" stroke=\"rgb(86.742764%, 86.43766%, 86.260246%)\" stroke-opacity=\"1\" stroke-miterlimit=\"10\" d=\"M 500 116.667969 L 620.734375 116.667969 \"/>\n",
       "<path fill-rule=\"nonzero\" fill=\"rgb(86.742764%, 86.43766%, 86.260246%)\" fill-opacity=\"1\" d=\"M 635 116.667969 L 620.734375 121.300781 L 620.734375 112.03125 L 635 116.667969 \"/>\n",
       "<path fill=\"none\" stroke-width=\"1\" stroke-linecap=\"butt\" stroke-linejoin=\"miter\" stroke=\"rgb(77.270595%, 83.897822%, 94.931876%)\" stroke-opacity=\"1\" stroke-miterlimit=\"10\" d=\"M 500 50 L 628.125 163.890625 \"/>\n",
       "<path fill-rule=\"nonzero\" fill=\"rgb(77.270595%, 83.897822%, 94.931876%)\" fill-opacity=\"1\" d=\"M 638.789062 173.367188 L 625.046875 167.355469 L 631.207031 160.425781 L 638.789062 173.367188 \"/>\n",
       "<path fill=\"none\" stroke-width=\"1\" stroke-linecap=\"butt\" stroke-linejoin=\"miter\" stroke=\"rgb(43.581481%, 57.07073%, 95.171738%)\" stroke-opacity=\"1\" stroke-miterlimit=\"10\" d=\"M 500 183.332031 L 620.734375 183.332031 \"/>\n",
       "<path fill-rule=\"nonzero\" fill=\"rgb(43.581481%, 57.07073%, 95.171738%)\" fill-opacity=\"1\" d=\"M 635 183.332031 L 620.734375 187.96875 L 620.734375 178.699219 L 635 183.332031 \"/>\n",
       "<path fill=\"none\" stroke-width=\"1\" stroke-linecap=\"butt\" stroke-linejoin=\"miter\" stroke=\"rgb(95.456582%, 77.905456%, 69.253086%)\" stroke-opacity=\"1\" stroke-miterlimit=\"10\" d=\"M 500 50 L 632.441406 226.585938 \"/>\n",
       "<path fill-rule=\"nonzero\" fill=\"rgb(95.456582%, 77.905456%, 69.253086%)\" fill-opacity=\"1\" d=\"M 641 238 L 628.730469 229.367188 L 636.148438 223.804688 L 641 238 \"/>\n",
       "<path fill=\"none\" stroke-width=\"1\" stroke-linecap=\"butt\" stroke-linejoin=\"miter\" stroke=\"rgb(34.832334%, 46.571115%, 88.834616%)\" stroke-opacity=\"1\" stroke-miterlimit=\"10\" d=\"M 500 250 L 620.734375 250 \"/>\n",
       "<path fill-rule=\"nonzero\" fill=\"rgb(34.832334%, 46.571115%, 88.834616%)\" fill-opacity=\"1\" d=\"M 635 250 L 620.734375 254.636719 L 620.734375 245.363281 L 635 250 \"/>\n",
       "<path fill=\"none\" stroke-width=\"1\" stroke-linecap=\"butt\" stroke-linejoin=\"miter\" stroke=\"rgb(86.742764%, 86.43766%, 86.260246%)\" stroke-opacity=\"1\" stroke-miterlimit=\"10\" d=\"M 500 116.667969 L 623.257812 61.886719 \"/>\n",
       "<path fill-rule=\"nonzero\" fill=\"rgb(86.742764%, 86.43766%, 86.260246%)\" fill-opacity=\"1\" d=\"M 636.292969 56.09375 L 625.140625 66.121094 L 621.375 57.648438 L 636.292969 56.09375 \"/>\n",
       "<path fill=\"none\" stroke-width=\"1\" stroke-linecap=\"butt\" stroke-linejoin=\"miter\" stroke=\"rgb(86.742764%, 86.43766%, 86.260246%)\" stroke-opacity=\"1\" stroke-miterlimit=\"10\" d=\"M 500 116.667969 L 623.257812 171.449219 \"/>\n",
       "<path fill-rule=\"nonzero\" fill=\"rgb(86.742764%, 86.43766%, 86.260246%)\" fill-opacity=\"1\" d=\"M 636.292969 177.242188 L 621.375 175.683594 L 625.140625 167.210938 L 636.292969 177.242188 \"/>\n",
       "<path fill=\"none\" stroke-width=\"1\" stroke-linecap=\"butt\" stroke-linejoin=\"miter\" stroke=\"rgb(86.742764%, 86.43766%, 86.260246%)\" stroke-opacity=\"1\" stroke-miterlimit=\"10\" d=\"M 50 150 L 175.648438 66.234375 \"/>\n",
       "<path fill-rule=\"nonzero\" fill=\"rgb(86.742764%, 86.43766%, 86.260246%)\" fill-opacity=\"1\" d=\"M 187.519531 58.320312 L 178.21875 70.089844 L 173.078125 62.378906 L 187.519531 58.320312 \"/>\n",
       "<path fill=\"none\" stroke-width=\"1\" stroke-linecap=\"butt\" stroke-linejoin=\"miter\" stroke=\"rgb(86.742764%, 86.43766%, 86.260246%)\" stroke-opacity=\"1\" stroke-miterlimit=\"10\" d=\"M 50 150 L 171.429688 123.015625 \"/>\n",
       "<path fill-rule=\"nonzero\" fill=\"rgb(86.742764%, 86.43766%, 86.260246%)\" fill-opacity=\"1\" d=\"M 185.355469 119.921875 L 172.4375 127.539062 L 170.425781 118.492188 L 185.355469 119.921875 \"/>\n",
       "<path fill=\"none\" stroke-width=\"1\" stroke-linecap=\"butt\" stroke-linejoin=\"miter\" stroke=\"rgb(86.742764%, 86.43766%, 86.260246%)\" stroke-opacity=\"1\" stroke-miterlimit=\"10\" d=\"M 50 150 L 171.429688 176.984375 \"/>\n",
       "<path fill-rule=\"nonzero\" fill=\"rgb(86.742764%, 86.43766%, 86.260246%)\" fill-opacity=\"1\" d=\"M 185.355469 180.078125 L 170.425781 181.507812 L 172.4375 172.460938 L 185.355469 180.078125 \"/>\n",
       "<path fill=\"none\" stroke-width=\"1\" stroke-linecap=\"butt\" stroke-linejoin=\"miter\" stroke=\"rgb(86.742764%, 86.43766%, 86.260246%)\" stroke-opacity=\"1\" stroke-miterlimit=\"10\" d=\"M 50 150 L 175.648438 233.765625 \"/>\n",
       "<path fill-rule=\"nonzero\" fill=\"rgb(86.742764%, 86.43766%, 86.260246%)\" fill-opacity=\"1\" d=\"M 187.519531 241.679688 L 173.078125 237.621094 L 178.21875 229.910156 L 187.519531 241.679688 \"/>\n",
       "<path fill=\"none\" stroke-width=\"1\" stroke-linecap=\"butt\" stroke-linejoin=\"miter\" stroke=\"rgb(86.742764%, 86.43766%, 86.260246%)\" stroke-opacity=\"1\" stroke-miterlimit=\"10\" d=\"M 50 150 L 322.234375 59.253906 \"/>\n",
       "<path fill-rule=\"nonzero\" fill=\"rgb(86.742764%, 86.43766%, 86.260246%)\" fill-opacity=\"1\" d=\"M 335.769531 54.742188 L 323.703125 63.652344 L 320.769531 54.855469 L 335.769531 54.742188 \"/>\n",
       "<path fill=\"none\" stroke-width=\"1\" stroke-linecap=\"butt\" stroke-linejoin=\"miter\" stroke=\"rgb(86.742764%, 86.43766%, 86.260246%)\" stroke-opacity=\"1\" stroke-miterlimit=\"10\" d=\"M 50 150 L 320.914062 119.898438 \"/>\n",
       "<path fill-rule=\"nonzero\" fill=\"rgb(86.742764%, 86.43766%, 86.260246%)\" fill-opacity=\"1\" d=\"M 335.089844 118.324219 L 321.425781 124.503906 L 320.402344 115.292969 L 335.089844 118.324219 \"/>\n",
       "<path fill=\"none\" stroke-width=\"1\" stroke-linecap=\"butt\" stroke-linejoin=\"miter\" stroke=\"rgb(86.742764%, 86.43766%, 86.260246%)\" stroke-opacity=\"1\" stroke-miterlimit=\"10\" d=\"M 50 150 L 320.914062 180.101562 \"/>\n",
       "<path fill-rule=\"nonzero\" fill=\"rgb(86.742764%, 86.43766%, 86.260246%)\" fill-opacity=\"1\" d=\"M 335.089844 181.675781 L 320.402344 184.707031 L 321.425781 175.496094 L 335.089844 181.675781 \"/>\n",
       "<path fill=\"none\" stroke-width=\"1\" stroke-linecap=\"butt\" stroke-linejoin=\"miter\" stroke=\"rgb(86.742764%, 86.43766%, 86.260246%)\" stroke-opacity=\"1\" stroke-miterlimit=\"10\" d=\"M 50 150 L 322.234375 240.746094 \"/>\n",
       "<path fill-rule=\"nonzero\" fill=\"rgb(86.742764%, 86.43766%, 86.260246%)\" fill-opacity=\"1\" d=\"M 335.769531 245.257812 L 320.769531 245.144531 L 323.703125 236.347656 L 335.769531 245.257812 \"/>\n",
       "<path fill=\"none\" stroke-width=\"1\" stroke-linecap=\"butt\" stroke-linejoin=\"miter\" stroke=\"rgb(86.742764%, 86.43766%, 86.260246%)\" stroke-opacity=\"1\" stroke-miterlimit=\"10\" d=\"M 50 150 L 471.429688 56.347656 \"/>\n",
       "<path fill-rule=\"nonzero\" fill=\"rgb(86.742764%, 86.43766%, 86.260246%)\" fill-opacity=\"1\" d=\"M 485.355469 53.253906 L 472.4375 60.875 L 470.425781 51.824219 L 485.355469 53.253906 \"/>\n",
       "<path fill=\"none\" stroke-width=\"1\" stroke-linecap=\"butt\" stroke-linejoin=\"miter\" stroke=\"rgb(86.742764%, 86.43766%, 86.260246%)\" stroke-opacity=\"1\" stroke-miterlimit=\"10\" d=\"M 50 150 L 470.8125 118.828125 \"/>\n",
       "<path fill-rule=\"nonzero\" fill=\"rgb(86.742764%, 86.43766%, 86.260246%)\" fill-opacity=\"1\" d=\"M 485.039062 117.773438 L 471.15625 123.453125 L 470.472656 114.207031 L 485.039062 117.773438 \"/>\n",
       "<path fill=\"none\" stroke-width=\"1\" stroke-linecap=\"butt\" stroke-linejoin=\"miter\" stroke=\"rgb(86.742764%, 86.43766%, 86.260246%)\" stroke-opacity=\"1\" stroke-miterlimit=\"10\" d=\"M 50 150 L 470.8125 181.171875 \"/>\n",
       "<path fill-rule=\"nonzero\" fill=\"rgb(86.742764%, 86.43766%, 86.260246%)\" fill-opacity=\"1\" d=\"M 485.039062 182.226562 L 470.472656 185.792969 L 471.15625 176.546875 L 485.039062 182.226562 \"/>\n",
       "<path fill=\"none\" stroke-width=\"1\" stroke-linecap=\"butt\" stroke-linejoin=\"miter\" stroke=\"rgb(86.742764%, 86.43766%, 86.260246%)\" stroke-opacity=\"1\" stroke-miterlimit=\"10\" d=\"M 50 150 L 471.429688 243.652344 \"/>\n",
       "<path fill-rule=\"nonzero\" fill=\"rgb(86.742764%, 86.43766%, 86.260246%)\" fill-opacity=\"1\" d=\"M 485.355469 246.746094 L 470.425781 248.175781 L 472.4375 239.125 L 485.355469 246.746094 \"/>\n",
       "<path fill=\"none\" stroke-width=\"1\" stroke-linecap=\"butt\" stroke-linejoin=\"miter\" stroke=\"rgb(86.742764%, 86.43766%, 86.260246%)\" stroke-opacity=\"1\" stroke-miterlimit=\"10\" d=\"M 50 150 L 621.132812 54.8125 \"/>\n",
       "<path fill-rule=\"nonzero\" fill=\"rgb(86.742764%, 86.43766%, 86.260246%)\" fill-opacity=\"1\" d=\"M 635.203125 52.464844 L 621.894531 59.382812 L 620.371094 50.238281 L 635.203125 52.464844 \"/>\n",
       "<path fill=\"none\" stroke-width=\"1\" stroke-linecap=\"butt\" stroke-linejoin=\"miter\" stroke=\"rgb(86.742764%, 86.43766%, 86.260246%)\" stroke-opacity=\"1\" stroke-miterlimit=\"10\" d=\"M 50 150 L 620.777344 118.289062 \"/>\n",
       "<path fill-rule=\"nonzero\" fill=\"rgb(86.742764%, 86.43766%, 86.260246%)\" fill-opacity=\"1\" d=\"M 635.023438 117.5 L 621.035156 122.917969 L 620.523438 113.660156 L 635.023438 117.5 \"/>\n",
       "<path fill=\"none\" stroke-width=\"1\" stroke-linecap=\"butt\" stroke-linejoin=\"miter\" stroke=\"rgb(86.742764%, 86.43766%, 86.260246%)\" stroke-opacity=\"1\" stroke-miterlimit=\"10\" d=\"M 50 150 L 620.777344 181.710938 \"/>\n",
       "<path fill-rule=\"nonzero\" fill=\"rgb(86.742764%, 86.43766%, 86.260246%)\" fill-opacity=\"1\" d=\"M 635.023438 182.5 L 620.523438 186.339844 L 621.035156 177.082031 L 635.023438 182.5 \"/>\n",
       "<path fill=\"none\" stroke-width=\"1\" stroke-linecap=\"butt\" stroke-linejoin=\"miter\" stroke=\"rgb(86.742764%, 86.43766%, 86.260246%)\" stroke-opacity=\"1\" stroke-miterlimit=\"10\" d=\"M 50 150 L 621.132812 245.1875 \"/>\n",
       "<path fill-rule=\"nonzero\" fill=\"rgb(86.742764%, 86.43766%, 86.260246%)\" fill-opacity=\"1\" d=\"M 635.203125 247.535156 L 620.371094 249.761719 L 621.894531 240.617188 L 635.203125 247.535156 \"/>\n",
       "<path fill-rule=\"nonzero\" fill=\"rgb(96.380606%, 63.418841%, 51.372085%)\" fill-opacity=\"1\" stroke-width=\"1\" stroke-linecap=\"butt\" stroke-linejoin=\"miter\" stroke=\"rgb(0%, 0%, 0%)\" stroke-opacity=\"1\" stroke-miterlimit=\"10\" d=\"M 215 50 C 215 58.285156 208.285156 65 200 65 C 191.714844 65 185 58.285156 185 50 C 185 41.714844 191.714844 35 200 35 C 208.285156 35 215 41.714844 215 50 \"/>\n",
       "<path fill-rule=\"nonzero\" fill=\"rgb(55.974673%, 69.476773%, 99.607531%)\" fill-opacity=\"1\" stroke-width=\"1\" stroke-linecap=\"butt\" stroke-linejoin=\"miter\" stroke=\"rgb(0%, 0%, 0%)\" stroke-opacity=\"1\" stroke-miterlimit=\"10\" d=\"M 215 116.667969 C 215 124.949219 208.285156 131.667969 200 131.667969 C 191.714844 131.667969 185 124.949219 185 116.667969 C 185 108.382812 191.714844 101.667969 200 101.667969 C 208.285156 101.667969 215 108.382812 215 116.667969 \"/>\n",
       "<path fill-rule=\"nonzero\" fill=\"rgb(52.169628%, 65.959861%, 98.773602%)\" fill-opacity=\"1\" stroke-width=\"1\" stroke-linecap=\"butt\" stroke-linejoin=\"miter\" stroke=\"rgb(0%, 0%, 0%)\" stroke-opacity=\"1\" stroke-miterlimit=\"10\" d=\"M 215 183.332031 C 215 191.617188 208.285156 198.332031 200 198.332031 C 191.714844 198.332031 185 191.617188 185 183.332031 C 185 175.050781 191.714844 168.332031 200 168.332031 C 208.285156 168.332031 215 175.050781 215 183.332031 \"/>\n",
       "<path fill-rule=\"nonzero\" fill=\"rgb(86.742764%, 86.43766%, 86.260246%)\" fill-opacity=\"1\" stroke-width=\"1\" stroke-linecap=\"butt\" stroke-linejoin=\"miter\" stroke=\"rgb(0%, 0%, 0%)\" stroke-opacity=\"1\" stroke-miterlimit=\"10\" d=\"M 215 250 C 215 258.285156 208.285156 265 200 265 C 191.714844 265 185 258.285156 185 250 C 185 241.714844 191.714844 235 200 235 C 208.285156 235 215 241.714844 215 250 \"/>\n",
       "<path fill-rule=\"nonzero\" fill=\"rgb(92.556342%, 82.55173%, 77.113631%)\" fill-opacity=\"1\" stroke-width=\"1\" stroke-linecap=\"butt\" stroke-linejoin=\"miter\" stroke=\"rgb(0%, 0%, 0%)\" stroke-opacity=\"1\" stroke-miterlimit=\"10\" d=\"M 365 50 C 365 58.285156 358.285156 65 350 65 C 341.714844 65 335 58.285156 335 50 C 335 41.714844 341.714844 35 350 35 C 358.285156 35 365 41.714844 365 50 \"/>\n",
       "<path fill-rule=\"nonzero\" fill=\"rgb(55.974673%, 69.476773%, 99.607531%)\" fill-opacity=\"1\" stroke-width=\"1\" stroke-linecap=\"butt\" stroke-linejoin=\"miter\" stroke=\"rgb(0%, 0%, 0%)\" stroke-opacity=\"1\" stroke-miterlimit=\"10\" d=\"M 365 116.667969 C 365 124.949219 358.285156 131.667969 350 131.667969 C 341.714844 131.667969 335 124.949219 335 116.667969 C 335 108.382812 341.714844 101.667969 350 101.667969 C 358.285156 101.667969 365 108.382812 365 116.667969 \"/>\n",
       "<path fill-rule=\"nonzero\" fill=\"rgb(52.169628%, 65.959861%, 98.773602%)\" fill-opacity=\"1\" stroke-width=\"1\" stroke-linecap=\"butt\" stroke-linejoin=\"miter\" stroke=\"rgb(0%, 0%, 0%)\" stroke-opacity=\"1\" stroke-miterlimit=\"10\" d=\"M 365 183.332031 C 365 191.617188 358.285156 198.332031 350 198.332031 C 341.714844 198.332031 335 191.617188 335 183.332031 C 335 175.050781 341.714844 168.332031 350 168.332031 C 358.285156 168.332031 365 175.050781 365 183.332031 \"/>\n",
       "<path fill-rule=\"nonzero\" fill=\"rgb(86.742764%, 86.43766%, 86.260246%)\" fill-opacity=\"1\" stroke-width=\"1\" stroke-linecap=\"butt\" stroke-linejoin=\"miter\" stroke=\"rgb(0%, 0%, 0%)\" stroke-opacity=\"1\" stroke-miterlimit=\"10\" d=\"M 365 250 C 365 258.285156 358.285156 265 350 265 C 341.714844 265 335 258.285156 335 250 C 335 241.714844 341.714844 235 350 235 C 358.285156 235 365 241.714844 365 250 \"/>\n",
       "<path fill-rule=\"nonzero\" fill=\"rgb(65.139784%, 76.812149%, 99.589115%)\" fill-opacity=\"1\" stroke-width=\"1\" stroke-linecap=\"butt\" stroke-linejoin=\"miter\" stroke=\"rgb(0%, 0%, 0%)\" stroke-opacity=\"1\" stroke-miterlimit=\"10\" d=\"M 515 50 C 515 58.285156 508.285156 65 500 65 C 491.714844 65 485 58.285156 485 50 C 485 41.714844 491.714844 35 500 35 C 508.285156 35 515 41.714844 515 50 \"/>\n",
       "<path fill-rule=\"nonzero\" fill=\"rgb(86.742764%, 86.43766%, 86.260246%)\" fill-opacity=\"1\" stroke-width=\"1\" stroke-linecap=\"butt\" stroke-linejoin=\"miter\" stroke=\"rgb(0%, 0%, 0%)\" stroke-opacity=\"1\" stroke-miterlimit=\"10\" d=\"M 515 116.667969 C 515 124.949219 508.285156 131.667969 500 131.667969 C 491.714844 131.667969 485 124.949219 485 116.667969 C 485 108.382812 491.714844 101.667969 500 101.667969 C 508.285156 101.667969 515 108.382812 515 116.667969 \"/>\n",
       "<path fill-rule=\"nonzero\" fill=\"rgb(52.169628%, 65.959861%, 98.773602%)\" fill-opacity=\"1\" stroke-width=\"1\" stroke-linecap=\"butt\" stroke-linejoin=\"miter\" stroke=\"rgb(0%, 0%, 0%)\" stroke-opacity=\"1\" stroke-miterlimit=\"10\" d=\"M 515 183.332031 C 515 191.617188 508.285156 198.332031 500 198.332031 C 491.714844 198.332031 485 191.617188 485 183.332031 C 485 175.050781 491.714844 168.332031 500 168.332031 C 508.285156 168.332031 515 175.050781 515 183.332031 \"/>\n",
       "<path fill-rule=\"nonzero\" fill=\"rgb(34.832334%, 46.571115%, 88.834616%)\" fill-opacity=\"1\" stroke-width=\"1\" stroke-linecap=\"butt\" stroke-linejoin=\"miter\" stroke=\"rgb(0%, 0%, 0%)\" stroke-opacity=\"1\" stroke-miterlimit=\"10\" d=\"M 515 250 C 515 258.285156 508.285156 265 500 265 C 491.714844 265 485 258.285156 485 250 C 485 241.714844 491.714844 235 500 235 C 508.285156 235 515 241.714844 515 250 \"/>\n",
       "<path fill-rule=\"nonzero\" fill=\"rgb(61.393265%, 73.992298%, 99.914237%)\" fill-opacity=\"1\" stroke-width=\"1\" stroke-linecap=\"butt\" stroke-linejoin=\"miter\" stroke=\"rgb(0%, 0%, 0%)\" stroke-opacity=\"1\" stroke-miterlimit=\"10\" d=\"M 665 50 C 665 58.285156 658.285156 65 650 65 C 641.714844 65 635 58.285156 635 50 C 635 41.714844 641.714844 35 650 35 C 658.285156 35 665 41.714844 665 50 \"/>\n",
       "<path fill-rule=\"nonzero\" fill=\"rgb(86.742764%, 86.43766%, 86.260246%)\" fill-opacity=\"1\" stroke-width=\"1\" stroke-linecap=\"butt\" stroke-linejoin=\"miter\" stroke=\"rgb(0%, 0%, 0%)\" stroke-opacity=\"1\" stroke-miterlimit=\"10\" d=\"M 665 116.667969 C 665 124.949219 658.285156 131.667969 650 131.667969 C 641.714844 131.667969 635 124.949219 635 116.667969 C 635 108.382812 641.714844 101.667969 650 101.667969 C 658.285156 101.667969 665 108.382812 665 116.667969 \"/>\n",
       "<path fill-rule=\"nonzero\" fill=\"rgb(42.519897%, 55.905818%, 94.606146%)\" fill-opacity=\"1\" stroke-width=\"1\" stroke-linecap=\"butt\" stroke-linejoin=\"miter\" stroke=\"rgb(0%, 0%, 0%)\" stroke-opacity=\"1\" stroke-miterlimit=\"10\" d=\"M 665 183.332031 C 665 191.617188 658.285156 198.332031 650 198.332031 C 641.714844 198.332031 635 191.617188 635 183.332031 C 635 175.050781 641.714844 168.332031 650 168.332031 C 658.285156 168.332031 665 175.050781 665 183.332031 \"/>\n",
       "<path fill-rule=\"nonzero\" fill=\"rgb(34.832334%, 46.571115%, 88.834616%)\" fill-opacity=\"1\" stroke-width=\"1\" stroke-linecap=\"butt\" stroke-linejoin=\"miter\" stroke=\"rgb(0%, 0%, 0%)\" stroke-opacity=\"1\" stroke-miterlimit=\"10\" d=\"M 665 250 C 665 258.285156 658.285156 265 650 265 C 641.714844 265 635 258.285156 635 250 C 635 241.714844 641.714844 235 650 235 C 658.285156 235 665 241.714844 665 250 \"/>\n",
       "<path fill-rule=\"nonzero\" fill=\"rgb(86.742764%, 86.43766%, 86.260246%)\" fill-opacity=\"1\" stroke-width=\"1\" stroke-linecap=\"butt\" stroke-linejoin=\"miter\" stroke=\"rgb(0%, 0%, 0%)\" stroke-opacity=\"1\" stroke-miterlimit=\"10\" d=\"M 65 150 C 65 158.285156 58.285156 165 50 165 C 41.714844 165 35 158.285156 35 150 C 35 141.714844 41.714844 135 50 135 C 58.285156 135 65 141.714844 65 150 \"/>\n",
       "<g fill=\"rgb(0%, 0%, 0%)\" fill-opacity=\"1\">\n",
       "<use xlink:href=\"#glyph-0-0\" x=\"193.105469\" y=\"54.644531\"/>\n",
       "<use xlink:href=\"#glyph-0-1\" x=\"198.666992\" y=\"54.644531\"/>\n",
       "<use xlink:href=\"#glyph-0-0\" x=\"201.445312\" y=\"54.644531\"/>\n",
       "</g>\n",
       "<g fill=\"rgb(0%, 0%, 0%)\" fill-opacity=\"1\">\n",
       "<use xlink:href=\"#glyph-0-0\" x=\"193.902344\" y=\"121.3125\"/>\n",
       "<use xlink:href=\"#glyph-0-1\" x=\"199.463867\" y=\"121.3125\"/>\n",
       "<use xlink:href=\"#glyph-0-2\" x=\"202.242188\" y=\"121.3125\"/>\n",
       "</g>\n",
       "<g fill=\"rgb(0%, 0%, 0%)\" fill-opacity=\"1\">\n",
       "<use xlink:href=\"#glyph-0-0\" x=\"193.101562\" y=\"187.992188\"/>\n",
       "<use xlink:href=\"#glyph-0-1\" x=\"198.663086\" y=\"187.992188\"/>\n",
       "<use xlink:href=\"#glyph-0-3\" x=\"201.441406\" y=\"187.992188\"/>\n",
       "</g>\n",
       "<g fill=\"rgb(0%, 0%, 0%)\" fill-opacity=\"1\">\n",
       "<use xlink:href=\"#glyph-0-0\" x=\"193.109375\" y=\"254.652344\"/>\n",
       "<use xlink:href=\"#glyph-0-1\" x=\"198.670898\" y=\"254.652344\"/>\n",
       "<use xlink:href=\"#glyph-0-4\" x=\"201.449219\" y=\"254.652344\"/>\n",
       "</g>\n",
       "<g fill=\"rgb(0%, 0%, 0%)\" fill-opacity=\"1\">\n",
       "<use xlink:href=\"#glyph-0-2\" x=\"342.78125\" y=\"54.644531\"/>\n",
       "<use xlink:href=\"#glyph-0-1\" x=\"348.342773\" y=\"54.644531\"/>\n",
       "<use xlink:href=\"#glyph-0-0\" x=\"351.121094\" y=\"54.644531\"/>\n",
       "</g>\n",
       "<g fill=\"rgb(0%, 0%, 0%)\" fill-opacity=\"1\">\n",
       "<use xlink:href=\"#glyph-0-2\" x=\"343.582031\" y=\"121.296875\"/>\n",
       "<use xlink:href=\"#glyph-0-1\" x=\"349.143555\" y=\"121.296875\"/>\n",
       "<use xlink:href=\"#glyph-0-2\" x=\"351.921875\" y=\"121.296875\"/>\n",
       "</g>\n",
       "<g fill=\"rgb(0%, 0%, 0%)\" fill-opacity=\"1\">\n",
       "<use xlink:href=\"#glyph-0-2\" x=\"342.777344\" y=\"187.992188\"/>\n",
       "<use xlink:href=\"#glyph-0-1\" x=\"348.338867\" y=\"187.992188\"/>\n",
       "<use xlink:href=\"#glyph-0-3\" x=\"351.117188\" y=\"187.992188\"/>\n",
       "</g>\n",
       "<g fill=\"rgb(0%, 0%, 0%)\" fill-opacity=\"1\">\n",
       "<use xlink:href=\"#glyph-0-2\" x=\"342.789062\" y=\"254.652344\"/>\n",
       "<use xlink:href=\"#glyph-0-1\" x=\"348.350586\" y=\"254.652344\"/>\n",
       "<use xlink:href=\"#glyph-0-4\" x=\"351.128906\" y=\"254.652344\"/>\n",
       "</g>\n",
       "<g fill=\"rgb(0%, 0%, 0%)\" fill-opacity=\"1\">\n",
       "<use xlink:href=\"#glyph-0-3\" x=\"493.105469\" y=\"54.65625\"/>\n",
       "<use xlink:href=\"#glyph-0-1\" x=\"498.666992\" y=\"54.65625\"/>\n",
       "<use xlink:href=\"#glyph-0-0\" x=\"501.445312\" y=\"54.65625\"/>\n",
       "</g>\n",
       "<g fill=\"rgb(0%, 0%, 0%)\" fill-opacity=\"1\">\n",
       "<use xlink:href=\"#glyph-0-3\" x=\"493.902344\" y=\"121.324219\"/>\n",
       "<use xlink:href=\"#glyph-0-1\" x=\"499.463867\" y=\"121.324219\"/>\n",
       "<use xlink:href=\"#glyph-0-2\" x=\"502.242188\" y=\"121.324219\"/>\n",
       "</g>\n",
       "<g fill=\"rgb(0%, 0%, 0%)\" fill-opacity=\"1\">\n",
       "<use xlink:href=\"#glyph-0-3\" x=\"493.101562\" y=\"187.992188\"/>\n",
       "<use xlink:href=\"#glyph-0-1\" x=\"498.663086\" y=\"187.992188\"/>\n",
       "<use xlink:href=\"#glyph-0-3\" x=\"501.441406\" y=\"187.992188\"/>\n",
       "</g>\n",
       "<g fill=\"rgb(0%, 0%, 0%)\" fill-opacity=\"1\">\n",
       "<use xlink:href=\"#glyph-0-3\" x=\"493.109375\" y=\"254.65625\"/>\n",
       "<use xlink:href=\"#glyph-0-1\" x=\"498.670898\" y=\"254.65625\"/>\n",
       "<use xlink:href=\"#glyph-0-4\" x=\"501.449219\" y=\"254.65625\"/>\n",
       "</g>\n",
       "<g fill=\"rgb(0%, 0%, 0%)\" fill-opacity=\"1\">\n",
       "<use xlink:href=\"#glyph-0-4\" x=\"643.140625\" y=\"54.652344\"/>\n",
       "<use xlink:href=\"#glyph-0-1\" x=\"648.702148\" y=\"54.652344\"/>\n",
       "<use xlink:href=\"#glyph-0-0\" x=\"651.480469\" y=\"54.652344\"/>\n",
       "</g>\n",
       "<g fill=\"rgb(0%, 0%, 0%)\" fill-opacity=\"1\">\n",
       "<use xlink:href=\"#glyph-0-4\" x=\"643.941406\" y=\"121.316406\"/>\n",
       "<use xlink:href=\"#glyph-0-1\" x=\"649.50293\" y=\"121.316406\"/>\n",
       "<use xlink:href=\"#glyph-0-2\" x=\"652.28125\" y=\"121.316406\"/>\n",
       "</g>\n",
       "<g fill=\"rgb(0%, 0%, 0%)\" fill-opacity=\"1\">\n",
       "<use xlink:href=\"#glyph-0-4\" x=\"643.136719\" y=\"187.992188\"/>\n",
       "<use xlink:href=\"#glyph-0-1\" x=\"648.698242\" y=\"187.992188\"/>\n",
       "<use xlink:href=\"#glyph-0-3\" x=\"651.476562\" y=\"187.992188\"/>\n",
       "</g>\n",
       "<g fill=\"rgb(0%, 0%, 0%)\" fill-opacity=\"1\">\n",
       "<use xlink:href=\"#glyph-0-4\" x=\"643.148438\" y=\"254.652344\"/>\n",
       "<use xlink:href=\"#glyph-0-1\" x=\"648.709961\" y=\"254.652344\"/>\n",
       "<use xlink:href=\"#glyph-0-4\" x=\"651.488281\" y=\"254.652344\"/>\n",
       "</g>\n",
       "<g fill=\"rgb(0%, 0%, 0%)\" fill-opacity=\"1\">\n",
       "<use xlink:href=\"#glyph-0-5\" x=\"40.523438\" y=\"154.632812\"/>\n",
       "<use xlink:href=\"#glyph-0-2\" x=\"43.853516\" y=\"154.632812\"/>\n",
       "<use xlink:href=\"#glyph-0-1\" x=\"49.415039\" y=\"154.632812\"/>\n",
       "<use xlink:href=\"#glyph-0-5\" x=\"52.193359\" y=\"154.632812\"/>\n",
       "<use xlink:href=\"#glyph-0-2\" x=\"55.523438\" y=\"154.632812\"/>\n",
       "</g>\n",
       "</svg>\n"
      ],
      "text/plain": [
       "<igraph.drawing.cairo.plot.CairoPlot at 0x3267def10>"
      ]
     },
     "execution_count": 4,
     "metadata": {
      "image/svg+xml": {
       "isolated": true
      }
     },
     "output_type": "execute_result"
    }
   ],
   "source": [
    "visual_style = util.get_visual_style(tugs, vertex_weights=nres0, edge_weights=ares0)\n",
    "ig.plot(tugs, **visual_style, bbox=(700, 300), margin=50)"
   ]
  },
  {
   "cell_type": "markdown",
   "metadata": {
    "slideshow": {
     "slide_type": "subslide"
    }
   },
   "source": [
    "## Pricing as Optimization\n",
    "\n",
    "**The our pricing problem corresponds to a shortest path problem**\n",
    "\n",
    "* We care about the path with the most negative sum of residuals\n",
    "* ...And therefore the smallest total weight"
   ]
  },
  {
   "cell_type": "code",
   "execution_count": 5,
   "metadata": {},
   "outputs": [
    {
     "data": {
      "image/svg+xml": [
       "<?xml version=\"1.0\" encoding=\"UTF-8\"?>\n",
       "<svg xmlns=\"http://www.w3.org/2000/svg\" xmlns:xlink=\"http://www.w3.org/1999/xlink\" width=\"700\" height=\"300\" viewBox=\"0 0 700 300\">\n",
       "<defs>\n",
       "<g>\n",
       "<g id=\"glyph-0-0\">\n",
       "<path d=\"M 2.703125 -6.992188 C 3.609375 -6.992188 4.265625 -6.621094 4.667969 -5.875 C 4.980469 -5.296875 5.136719 -4.507812 5.136719 -3.507812 C 5.136719 -2.554688 4.996094 -1.769531 4.710938 -1.148438 C 4.300781 -0.257812 3.632812 0.191406 2.699219 0.191406 C 1.859375 0.191406 1.234375 -0.175781 0.824219 -0.902344 C 0.484375 -1.511719 0.3125 -2.328125 0.3125 -3.355469 C 0.3125 -4.148438 0.414062 -4.832031 0.621094 -5.398438 C 1.003906 -6.460938 1.699219 -6.992188 2.703125 -6.992188 Z M 2.695312 -0.609375 C 3.152344 -0.609375 3.515625 -0.8125 3.785156 -1.214844 C 4.054688 -1.617188 4.1875 -2.371094 4.1875 -3.472656 C 4.1875 -4.265625 4.09375 -4.917969 3.898438 -5.433594 C 3.703125 -5.945312 3.320312 -6.203125 2.757812 -6.203125 C 2.242188 -6.203125 1.863281 -5.957031 1.625 -5.472656 C 1.382812 -4.984375 1.265625 -4.265625 1.265625 -3.320312 C 1.265625 -2.609375 1.339844 -2.035156 1.492188 -1.601562 C 1.726562 -0.941406 2.128906 -0.609375 2.695312 -0.609375 Z M 2.695312 -0.609375 \"/>\n",
       "</g>\n",
       "<g id=\"glyph-0-1\">\n",
       "<path d=\"M 0.828125 1.019531 C 1.054688 0.980469 1.210938 0.824219 1.304688 0.546875 C 1.351562 0.398438 1.375 0.257812 1.375 0.121094 C 1.375 0.0976562 1.375 0.078125 1.375 0.0625 C 1.375 0.0429688 1.367188 0.0234375 1.363281 0 L 0.828125 0 L 0.828125 -1.0625 L 1.875 -1.0625 L 1.875 -0.078125 C 1.875 0.308594 1.796875 0.648438 1.640625 0.941406 C 1.484375 1.234375 1.214844 1.414062 0.828125 1.484375 Z M 0.828125 1.019531 \"/>\n",
       "</g>\n",
       "<g id=\"glyph-0-2\">\n",
       "<path d=\"M 0.957031 -4.953125 L 0.957031 -5.625 C 1.59375 -5.6875 2.035156 -5.789062 2.285156 -5.933594 C 2.535156 -6.078125 2.722656 -6.421875 2.847656 -6.960938 L 3.539062 -6.960938 L 3.539062 0 L 2.601562 0 L 2.601562 -4.953125 Z M 0.957031 -4.953125 \"/>\n",
       "</g>\n",
       "<g id=\"glyph-0-3\">\n",
       "<path d=\"M 0.3125 0 C 0.34375 -0.601562 0.46875 -1.125 0.6875 -1.570312 C 0.902344 -2.015625 1.324219 -2.421875 1.953125 -2.789062 L 2.890625 -3.328125 C 3.3125 -3.574219 3.605469 -3.78125 3.773438 -3.953125 C 4.039062 -4.226562 4.175781 -4.535156 4.175781 -4.882812 C 4.175781 -5.289062 4.054688 -5.613281 3.808594 -5.851562 C 3.5625 -6.089844 3.238281 -6.210938 2.832031 -6.210938 C 2.230469 -6.210938 1.8125 -5.984375 1.582031 -5.527344 C 1.457031 -5.28125 1.390625 -4.945312 1.375 -4.511719 L 0.484375 -4.511719 C 0.492188 -5.121094 0.605469 -5.617188 0.820312 -6 C 1.203125 -6.679688 1.875 -7.015625 2.835938 -7.015625 C 3.636719 -7.015625 4.222656 -6.800781 4.59375 -6.367188 C 4.960938 -5.933594 5.148438 -5.453125 5.148438 -4.921875 C 5.148438 -4.363281 4.949219 -3.882812 4.554688 -3.484375 C 4.328125 -3.253906 3.917969 -2.976562 3.328125 -2.648438 L 2.660156 -2.273438 C 2.34375 -2.097656 2.089844 -1.933594 1.910156 -1.773438 C 1.585938 -1.488281 1.378906 -1.175781 1.292969 -0.828125 L 5.113281 -0.828125 L 5.113281 0 Z M 0.3125 0 \"/>\n",
       "</g>\n",
       "<g id=\"glyph-0-4\">\n",
       "<path d=\"M 2.597656 0.191406 C 1.769531 0.191406 1.171875 -0.0351562 0.796875 -0.492188 C 0.425781 -0.945312 0.238281 -1.496094 0.238281 -2.148438 L 1.15625 -2.148438 C 1.195312 -1.695312 1.28125 -1.367188 1.410156 -1.164062 C 1.640625 -0.796875 2.050781 -0.609375 2.648438 -0.609375 C 3.109375 -0.609375 3.480469 -0.734375 3.757812 -0.980469 C 4.039062 -1.226562 4.179688 -1.546875 4.179688 -1.9375 C 4.179688 -2.421875 4.03125 -2.757812 3.738281 -2.949219 C 3.445312 -3.140625 3.035156 -3.238281 2.507812 -3.238281 C 2.449219 -3.238281 2.390625 -3.238281 2.332031 -3.234375 C 2.273438 -3.234375 2.210938 -3.230469 2.148438 -3.226562 L 2.148438 -4.003906 C 2.238281 -3.992188 2.316406 -3.988281 2.378906 -3.984375 C 2.441406 -3.980469 2.507812 -3.980469 2.578125 -3.980469 C 2.90625 -3.980469 3.175781 -4.03125 3.390625 -4.136719 C 3.761719 -4.320312 3.945312 -4.644531 3.945312 -5.113281 C 3.945312 -5.460938 3.820312 -5.730469 3.574219 -5.917969 C 3.328125 -6.105469 3.039062 -6.203125 2.710938 -6.203125 C 2.125 -6.203125 1.71875 -6.007812 1.492188 -5.617188 C 1.371094 -5.402344 1.300781 -5.09375 1.285156 -4.695312 L 0.414062 -4.695312 C 0.414062 -5.21875 0.519531 -5.660156 0.726562 -6.023438 C 1.085938 -6.675781 1.714844 -7 2.617188 -7 C 3.328125 -7 3.882812 -6.84375 4.273438 -6.527344 C 4.664062 -6.210938 4.859375 -5.75 4.859375 -5.148438 C 4.859375 -4.71875 4.742188 -4.367188 4.511719 -4.101562 C 4.367188 -3.9375 4.183594 -3.804688 3.953125 -3.710938 C 4.320312 -3.609375 4.609375 -3.414062 4.816406 -3.128906 C 5.023438 -2.839844 5.125 -2.488281 5.125 -2.070312 C 5.125 -1.402344 4.90625 -0.859375 4.46875 -0.4375 C 4.027344 -0.0195312 3.40625 0.191406 2.597656 0.191406 Z M 2.597656 0.191406 \"/>\n",
       "</g>\n",
       "<g id=\"glyph-0-5\">\n",
       "<path d=\"M 0.414062 -3.238281 L 2.867188 -3.238281 L 2.867188 -2.335938 L 0.414062 -2.335938 Z M 0.414062 -3.238281 \"/>\n",
       "</g>\n",
       "</g>\n",
       "</defs>\n",
       "<rect x=\"-70\" y=\"-30\" width=\"840\" height=\"360\" fill=\"rgb(100%, 100%, 100%)\" fill-opacity=\"1\"/>\n",
       "<path fill=\"none\" stroke-width=\"1\" stroke-linecap=\"butt\" stroke-linejoin=\"miter\" stroke=\"rgb(94.172793%, 54.641348%, 42.970707%)\" stroke-opacity=\"1\" stroke-miterlimit=\"10\" d=\"M 200 50 L 320.734375 50 \"/>\n",
       "<path fill-rule=\"nonzero\" fill=\"rgb(94.172793%, 54.641348%, 42.970707%)\" fill-opacity=\"1\" d=\"M 335 50 L 320.734375 54.636719 L 320.734375 45.363281 L 335 50 \"/>\n",
       "<path fill=\"none\" stroke-width=\"1\" stroke-linecap=\"butt\" stroke-linejoin=\"miter\" stroke=\"rgb(86.742764%, 86.43766%, 86.260246%)\" stroke-opacity=\"1\" stroke-miterlimit=\"10\" d=\"M 200 50 L 323.257812 104.78125 \"/>\n",
       "<path fill-rule=\"nonzero\" fill=\"rgb(86.742764%, 86.43766%, 86.260246%)\" fill-opacity=\"1\" d=\"M 336.292969 110.574219 L 321.375 109.015625 L 325.140625 100.546875 L 336.292969 110.574219 \"/>\n",
       "<path fill=\"none\" stroke-width=\"1\" stroke-linecap=\"butt\" stroke-linejoin=\"miter\" stroke=\"rgb(48.385433%, 62.204985%, 97.48082%)\" stroke-opacity=\"1\" stroke-miterlimit=\"10\" d=\"M 200 116.667969 L 320.734375 116.667969 \"/>\n",
       "<path fill-rule=\"nonzero\" fill=\"rgb(48.385433%, 62.204985%, 97.48082%)\" fill-opacity=\"1\" d=\"M 335 116.667969 L 320.734375 121.300781 L 320.734375 112.03125 L 335 116.667969 \"/>\n",
       "<path fill=\"none\" stroke-width=\"1\" stroke-linecap=\"butt\" stroke-linejoin=\"miter\" stroke=\"rgb(86.742764%, 86.43766%, 86.260246%)\" stroke-opacity=\"1\" stroke-miterlimit=\"10\" d=\"M 200 50 L 328.125 163.890625 \"/>\n",
       "<path fill-rule=\"nonzero\" fill=\"rgb(86.742764%, 86.43766%, 86.260246%)\" fill-opacity=\"1\" d=\"M 338.789062 173.367188 L 325.046875 167.355469 L 331.207031 160.425781 L 338.789062 173.367188 \"/>\n",
       "<path fill=\"none\" stroke-width=\"1\" stroke-linecap=\"butt\" stroke-linejoin=\"miter\" stroke=\"rgb(43.581481%, 57.07073%, 95.171738%)\" stroke-opacity=\"1\" stroke-miterlimit=\"10\" d=\"M 200 183.332031 L 320.734375 183.332031 \"/>\n",
       "<path fill-rule=\"nonzero\" fill=\"rgb(43.581481%, 57.07073%, 95.171738%)\" fill-opacity=\"1\" d=\"M 335 183.332031 L 320.734375 187.96875 L 320.734375 178.699219 L 335 183.332031 \"/>\n",
       "<path fill=\"none\" stroke-width=\"1\" stroke-linecap=\"butt\" stroke-linejoin=\"miter\" stroke=\"rgb(86.742764%, 86.43766%, 86.260246%)\" stroke-opacity=\"1\" stroke-miterlimit=\"10\" d=\"M 200 50 L 332.441406 226.585938 \"/>\n",
       "<path fill-rule=\"nonzero\" fill=\"rgb(86.742764%, 86.43766%, 86.260246%)\" fill-opacity=\"1\" d=\"M 341 238 L 328.730469 229.367188 L 336.148438 223.804688 L 341 238 \"/>\n",
       "<path fill=\"none\" stroke-width=\"1\" stroke-linecap=\"butt\" stroke-linejoin=\"miter\" stroke=\"rgb(86.742764%, 86.43766%, 86.260246%)\" stroke-opacity=\"1\" stroke-miterlimit=\"10\" d=\"M 200 250 L 320.734375 250 \"/>\n",
       "<path fill-rule=\"nonzero\" fill=\"rgb(86.742764%, 86.43766%, 86.260246%)\" fill-opacity=\"1\" d=\"M 335 250 L 320.734375 254.636719 L 320.734375 245.363281 L 335 250 \"/>\n",
       "<path fill=\"none\" stroke-width=\"1\" stroke-linecap=\"butt\" stroke-linejoin=\"miter\" stroke=\"rgb(86.742764%, 86.43766%, 86.260246%)\" stroke-opacity=\"1\" stroke-miterlimit=\"10\" d=\"M 200 116.667969 L 323.257812 61.886719 \"/>\n",
       "<path fill-rule=\"nonzero\" fill=\"rgb(86.742764%, 86.43766%, 86.260246%)\" fill-opacity=\"1\" d=\"M 336.292969 56.09375 L 325.140625 66.121094 L 321.375 57.648438 L 336.292969 56.09375 \"/>\n",
       "<path fill=\"none\" stroke-width=\"1\" stroke-linecap=\"butt\" stroke-linejoin=\"miter\" stroke=\"rgb(86.742764%, 86.43766%, 86.260246%)\" stroke-opacity=\"1\" stroke-miterlimit=\"10\" d=\"M 200 116.667969 L 323.257812 171.449219 \"/>\n",
       "<path fill-rule=\"nonzero\" fill=\"rgb(86.742764%, 86.43766%, 86.260246%)\" fill-opacity=\"1\" d=\"M 336.292969 177.242188 L 321.375 175.683594 L 325.140625 167.210938 L 336.292969 177.242188 \"/>\n",
       "<path fill=\"none\" stroke-width=\"1\" stroke-linecap=\"butt\" stroke-linejoin=\"miter\" stroke=\"rgb(93.577377%, 81.22367%, 74.715647%)\" stroke-opacity=\"1\" stroke-miterlimit=\"10\" d=\"M 350 50 L 470.734375 50 \"/>\n",
       "<path fill-rule=\"nonzero\" fill=\"rgb(93.577377%, 81.22367%, 74.715647%)\" fill-opacity=\"1\" d=\"M 485 50 L 470.734375 54.636719 L 470.734375 45.363281 L 485 50 \"/>\n",
       "<path fill=\"none\" stroke-width=\"1\" stroke-linecap=\"butt\" stroke-linejoin=\"miter\" stroke=\"rgb(86.742764%, 86.43766%, 86.260246%)\" stroke-opacity=\"1\" stroke-miterlimit=\"10\" d=\"M 350 50 L 473.257812 104.78125 \"/>\n",
       "<path fill-rule=\"nonzero\" fill=\"rgb(86.742764%, 86.43766%, 86.260246%)\" fill-opacity=\"1\" d=\"M 486.292969 110.574219 L 471.375 109.015625 L 475.140625 100.546875 L 486.292969 110.574219 \"/>\n",
       "<path fill=\"none\" stroke-width=\"1\" stroke-linecap=\"butt\" stroke-linejoin=\"miter\" stroke=\"rgb(86.742764%, 86.43766%, 86.260246%)\" stroke-opacity=\"1\" stroke-miterlimit=\"10\" d=\"M 350 116.667969 L 470.734375 116.667969 \"/>\n",
       "<path fill-rule=\"nonzero\" fill=\"rgb(86.742764%, 86.43766%, 86.260246%)\" fill-opacity=\"1\" d=\"M 485 116.667969 L 470.734375 121.300781 L 470.734375 112.03125 L 485 116.667969 \"/>\n",
       "<path fill=\"none\" stroke-width=\"1\" stroke-linecap=\"butt\" stroke-linejoin=\"miter\" stroke=\"rgb(86.742764%, 86.43766%, 86.260246%)\" stroke-opacity=\"1\" stroke-miterlimit=\"10\" d=\"M 350 50 L 478.125 163.890625 \"/>\n",
       "<path fill-rule=\"nonzero\" fill=\"rgb(86.742764%, 86.43766%, 86.260246%)\" fill-opacity=\"1\" d=\"M 488.789062 173.367188 L 475.046875 167.355469 L 481.207031 160.425781 L 488.789062 173.367188 \"/>\n",
       "<path fill=\"none\" stroke-width=\"1\" stroke-linecap=\"butt\" stroke-linejoin=\"miter\" stroke=\"rgb(43.581481%, 57.07073%, 95.171738%)\" stroke-opacity=\"1\" stroke-miterlimit=\"10\" d=\"M 350 183.332031 L 470.734375 183.332031 \"/>\n",
       "<path fill-rule=\"nonzero\" fill=\"rgb(43.581481%, 57.07073%, 95.171738%)\" fill-opacity=\"1\" d=\"M 485 183.332031 L 470.734375 187.96875 L 470.734375 178.699219 L 485 183.332031 \"/>\n",
       "<path fill=\"none\" stroke-width=\"1\" stroke-linecap=\"butt\" stroke-linejoin=\"miter\" stroke=\"rgb(86.742764%, 86.43766%, 86.260246%)\" stroke-opacity=\"1\" stroke-miterlimit=\"10\" d=\"M 350 50 L 482.441406 226.585938 \"/>\n",
       "<path fill-rule=\"nonzero\" fill=\"rgb(86.742764%, 86.43766%, 86.260246%)\" fill-opacity=\"1\" d=\"M 491 238 L 478.730469 229.367188 L 486.148438 223.804688 L 491 238 \"/>\n",
       "<path fill=\"none\" stroke-width=\"1\" stroke-linecap=\"butt\" stroke-linejoin=\"miter\" stroke=\"rgb(86.742764%, 86.43766%, 86.260246%)\" stroke-opacity=\"1\" stroke-miterlimit=\"10\" d=\"M 350 250 L 470.734375 250 \"/>\n",
       "<path fill-rule=\"nonzero\" fill=\"rgb(86.742764%, 86.43766%, 86.260246%)\" fill-opacity=\"1\" d=\"M 485 250 L 470.734375 254.636719 L 470.734375 245.363281 L 485 250 \"/>\n",
       "<path fill=\"none\" stroke-width=\"1\" stroke-linecap=\"butt\" stroke-linejoin=\"miter\" stroke=\"rgb(48.385433%, 62.204985%, 97.48082%)\" stroke-opacity=\"1\" stroke-miterlimit=\"10\" d=\"M 350 116.667969 L 473.257812 61.886719 \"/>\n",
       "<path fill-rule=\"nonzero\" fill=\"rgb(48.385433%, 62.204985%, 97.48082%)\" fill-opacity=\"1\" d=\"M 486.292969 56.09375 L 475.140625 66.121094 L 471.375 57.648438 L 486.292969 56.09375 \"/>\n",
       "<path fill=\"none\" stroke-width=\"1\" stroke-linecap=\"butt\" stroke-linejoin=\"miter\" stroke=\"rgb(86.742764%, 86.43766%, 86.260246%)\" stroke-opacity=\"1\" stroke-miterlimit=\"10\" d=\"M 350 116.667969 L 473.257812 171.449219 \"/>\n",
       "<path fill-rule=\"nonzero\" fill=\"rgb(86.742764%, 86.43766%, 86.260246%)\" fill-opacity=\"1\" d=\"M 486.292969 177.242188 L 471.375 175.683594 L 475.140625 167.210938 L 486.292969 177.242188 \"/>\n",
       "<path fill=\"none\" stroke-width=\"1\" stroke-linecap=\"butt\" stroke-linejoin=\"miter\" stroke=\"rgb(54.887617%, 68.510359%, 99.437914%)\" stroke-opacity=\"1\" stroke-miterlimit=\"10\" d=\"M 500 50 L 620.734375 50 \"/>\n",
       "<path fill-rule=\"nonzero\" fill=\"rgb(54.887617%, 68.510359%, 99.437914%)\" fill-opacity=\"1\" d=\"M 635 50 L 620.734375 54.636719 L 620.734375 45.363281 L 635 50 \"/>\n",
       "<path fill=\"none\" stroke-width=\"1\" stroke-linecap=\"butt\" stroke-linejoin=\"miter\" stroke=\"rgb(86.742764%, 86.43766%, 86.260246%)\" stroke-opacity=\"1\" stroke-miterlimit=\"10\" d=\"M 500 50 L 623.257812 104.78125 \"/>\n",
       "<path fill-rule=\"nonzero\" fill=\"rgb(86.742764%, 86.43766%, 86.260246%)\" fill-opacity=\"1\" d=\"M 636.292969 110.574219 L 621.375 109.015625 L 625.140625 100.546875 L 636.292969 110.574219 \"/>\n",
       "<path fill=\"none\" stroke-width=\"1\" stroke-linecap=\"butt\" stroke-linejoin=\"miter\" stroke=\"rgb(86.742764%, 86.43766%, 86.260246%)\" stroke-opacity=\"1\" stroke-miterlimit=\"10\" d=\"M 500 116.667969 L 620.734375 116.667969 \"/>\n",
       "<path fill-rule=\"nonzero\" fill=\"rgb(86.742764%, 86.43766%, 86.260246%)\" fill-opacity=\"1\" d=\"M 635 116.667969 L 620.734375 121.300781 L 620.734375 112.03125 L 635 116.667969 \"/>\n",
       "<path fill=\"none\" stroke-width=\"1\" stroke-linecap=\"butt\" stroke-linejoin=\"miter\" stroke=\"rgb(77.270595%, 83.897822%, 94.931876%)\" stroke-opacity=\"1\" stroke-miterlimit=\"10\" d=\"M 500 50 L 628.125 163.890625 \"/>\n",
       "<path fill-rule=\"nonzero\" fill=\"rgb(77.270595%, 83.897822%, 94.931876%)\" fill-opacity=\"1\" d=\"M 638.789062 173.367188 L 625.046875 167.355469 L 631.207031 160.425781 L 638.789062 173.367188 \"/>\n",
       "<path fill=\"none\" stroke-width=\"1\" stroke-linecap=\"butt\" stroke-linejoin=\"miter\" stroke=\"rgb(43.581481%, 57.07073%, 95.171738%)\" stroke-opacity=\"1\" stroke-miterlimit=\"10\" d=\"M 500 183.332031 L 620.734375 183.332031 \"/>\n",
       "<path fill-rule=\"nonzero\" fill=\"rgb(43.581481%, 57.07073%, 95.171738%)\" fill-opacity=\"1\" d=\"M 635 183.332031 L 620.734375 187.96875 L 620.734375 178.699219 L 635 183.332031 \"/>\n",
       "<path fill=\"none\" stroke-width=\"1\" stroke-linecap=\"butt\" stroke-linejoin=\"miter\" stroke=\"rgb(95.456582%, 77.905456%, 69.253086%)\" stroke-opacity=\"1\" stroke-miterlimit=\"10\" d=\"M 500 50 L 632.441406 226.585938 \"/>\n",
       "<path fill-rule=\"nonzero\" fill=\"rgb(95.456582%, 77.905456%, 69.253086%)\" fill-opacity=\"1\" d=\"M 641 238 L 628.730469 229.367188 L 636.148438 223.804688 L 641 238 \"/>\n",
       "<path fill=\"none\" stroke-width=\"1\" stroke-linecap=\"butt\" stroke-linejoin=\"miter\" stroke=\"rgb(34.832334%, 46.571115%, 88.834616%)\" stroke-opacity=\"1\" stroke-miterlimit=\"10\" d=\"M 500 250 L 620.734375 250 \"/>\n",
       "<path fill-rule=\"nonzero\" fill=\"rgb(34.832334%, 46.571115%, 88.834616%)\" fill-opacity=\"1\" d=\"M 635 250 L 620.734375 254.636719 L 620.734375 245.363281 L 635 250 \"/>\n",
       "<path fill=\"none\" stroke-width=\"1\" stroke-linecap=\"butt\" stroke-linejoin=\"miter\" stroke=\"rgb(86.742764%, 86.43766%, 86.260246%)\" stroke-opacity=\"1\" stroke-miterlimit=\"10\" d=\"M 500 116.667969 L 623.257812 61.886719 \"/>\n",
       "<path fill-rule=\"nonzero\" fill=\"rgb(86.742764%, 86.43766%, 86.260246%)\" fill-opacity=\"1\" d=\"M 636.292969 56.09375 L 625.140625 66.121094 L 621.375 57.648438 L 636.292969 56.09375 \"/>\n",
       "<path fill=\"none\" stroke-width=\"1\" stroke-linecap=\"butt\" stroke-linejoin=\"miter\" stroke=\"rgb(86.742764%, 86.43766%, 86.260246%)\" stroke-opacity=\"1\" stroke-miterlimit=\"10\" d=\"M 500 116.667969 L 623.257812 171.449219 \"/>\n",
       "<path fill-rule=\"nonzero\" fill=\"rgb(86.742764%, 86.43766%, 86.260246%)\" fill-opacity=\"1\" d=\"M 636.292969 177.242188 L 621.375 175.683594 L 625.140625 167.210938 L 636.292969 177.242188 \"/>\n",
       "<path fill=\"none\" stroke-width=\"1\" stroke-linecap=\"butt\" stroke-linejoin=\"miter\" stroke=\"rgb(86.742764%, 86.43766%, 86.260246%)\" stroke-opacity=\"1\" stroke-miterlimit=\"10\" d=\"M 50 150 L 175.648438 66.234375 \"/>\n",
       "<path fill-rule=\"nonzero\" fill=\"rgb(86.742764%, 86.43766%, 86.260246%)\" fill-opacity=\"1\" d=\"M 187.519531 58.320312 L 178.21875 70.089844 L 173.078125 62.378906 L 187.519531 58.320312 \"/>\n",
       "<path fill=\"none\" stroke-width=\"1\" stroke-linecap=\"butt\" stroke-linejoin=\"miter\" stroke=\"rgb(86.742764%, 86.43766%, 86.260246%)\" stroke-opacity=\"1\" stroke-miterlimit=\"10\" d=\"M 50 150 L 171.429688 123.015625 \"/>\n",
       "<path fill-rule=\"nonzero\" fill=\"rgb(86.742764%, 86.43766%, 86.260246%)\" fill-opacity=\"1\" d=\"M 185.355469 119.921875 L 172.4375 127.539062 L 170.425781 118.492188 L 185.355469 119.921875 \"/>\n",
       "<path fill=\"none\" stroke-width=\"1\" stroke-linecap=\"butt\" stroke-linejoin=\"miter\" stroke=\"rgb(86.742764%, 86.43766%, 86.260246%)\" stroke-opacity=\"1\" stroke-miterlimit=\"10\" d=\"M 50 150 L 171.429688 176.984375 \"/>\n",
       "<path fill-rule=\"nonzero\" fill=\"rgb(86.742764%, 86.43766%, 86.260246%)\" fill-opacity=\"1\" d=\"M 185.355469 180.078125 L 170.425781 181.507812 L 172.4375 172.460938 L 185.355469 180.078125 \"/>\n",
       "<path fill=\"none\" stroke-width=\"1\" stroke-linecap=\"butt\" stroke-linejoin=\"miter\" stroke=\"rgb(86.742764%, 86.43766%, 86.260246%)\" stroke-opacity=\"1\" stroke-miterlimit=\"10\" d=\"M 50 150 L 175.648438 233.765625 \"/>\n",
       "<path fill-rule=\"nonzero\" fill=\"rgb(86.742764%, 86.43766%, 86.260246%)\" fill-opacity=\"1\" d=\"M 187.519531 241.679688 L 173.078125 237.621094 L 178.21875 229.910156 L 187.519531 241.679688 \"/>\n",
       "<path fill=\"none\" stroke-width=\"1\" stroke-linecap=\"butt\" stroke-linejoin=\"miter\" stroke=\"rgb(86.742764%, 86.43766%, 86.260246%)\" stroke-opacity=\"1\" stroke-miterlimit=\"10\" d=\"M 50 150 L 322.234375 59.253906 \"/>\n",
       "<path fill-rule=\"nonzero\" fill=\"rgb(86.742764%, 86.43766%, 86.260246%)\" fill-opacity=\"1\" d=\"M 335.769531 54.742188 L 323.703125 63.652344 L 320.769531 54.855469 L 335.769531 54.742188 \"/>\n",
       "<path fill=\"none\" stroke-width=\"1\" stroke-linecap=\"butt\" stroke-linejoin=\"miter\" stroke=\"rgb(86.742764%, 86.43766%, 86.260246%)\" stroke-opacity=\"1\" stroke-miterlimit=\"10\" d=\"M 50 150 L 320.914062 119.898438 \"/>\n",
       "<path fill-rule=\"nonzero\" fill=\"rgb(86.742764%, 86.43766%, 86.260246%)\" fill-opacity=\"1\" d=\"M 335.089844 118.324219 L 321.425781 124.503906 L 320.402344 115.292969 L 335.089844 118.324219 \"/>\n",
       "<path fill=\"none\" stroke-width=\"1\" stroke-linecap=\"butt\" stroke-linejoin=\"miter\" stroke=\"rgb(86.742764%, 86.43766%, 86.260246%)\" stroke-opacity=\"1\" stroke-miterlimit=\"10\" d=\"M 50 150 L 320.914062 180.101562 \"/>\n",
       "<path fill-rule=\"nonzero\" fill=\"rgb(86.742764%, 86.43766%, 86.260246%)\" fill-opacity=\"1\" d=\"M 335.089844 181.675781 L 320.402344 184.707031 L 321.425781 175.496094 L 335.089844 181.675781 \"/>\n",
       "<path fill=\"none\" stroke-width=\"1\" stroke-linecap=\"butt\" stroke-linejoin=\"miter\" stroke=\"rgb(86.742764%, 86.43766%, 86.260246%)\" stroke-opacity=\"1\" stroke-miterlimit=\"10\" d=\"M 50 150 L 322.234375 240.746094 \"/>\n",
       "<path fill-rule=\"nonzero\" fill=\"rgb(86.742764%, 86.43766%, 86.260246%)\" fill-opacity=\"1\" d=\"M 335.769531 245.257812 L 320.769531 245.144531 L 323.703125 236.347656 L 335.769531 245.257812 \"/>\n",
       "<path fill=\"none\" stroke-width=\"1\" stroke-linecap=\"butt\" stroke-linejoin=\"miter\" stroke=\"rgb(86.742764%, 86.43766%, 86.260246%)\" stroke-opacity=\"1\" stroke-miterlimit=\"10\" d=\"M 50 150 L 471.429688 56.347656 \"/>\n",
       "<path fill-rule=\"nonzero\" fill=\"rgb(86.742764%, 86.43766%, 86.260246%)\" fill-opacity=\"1\" d=\"M 485.355469 53.253906 L 472.4375 60.875 L 470.425781 51.824219 L 485.355469 53.253906 \"/>\n",
       "<path fill=\"none\" stroke-width=\"1\" stroke-linecap=\"butt\" stroke-linejoin=\"miter\" stroke=\"rgb(86.742764%, 86.43766%, 86.260246%)\" stroke-opacity=\"1\" stroke-miterlimit=\"10\" d=\"M 50 150 L 470.8125 118.828125 \"/>\n",
       "<path fill-rule=\"nonzero\" fill=\"rgb(86.742764%, 86.43766%, 86.260246%)\" fill-opacity=\"1\" d=\"M 485.039062 117.773438 L 471.15625 123.453125 L 470.472656 114.207031 L 485.039062 117.773438 \"/>\n",
       "<path fill=\"none\" stroke-width=\"1\" stroke-linecap=\"butt\" stroke-linejoin=\"miter\" stroke=\"rgb(86.742764%, 86.43766%, 86.260246%)\" stroke-opacity=\"1\" stroke-miterlimit=\"10\" d=\"M 50 150 L 470.8125 181.171875 \"/>\n",
       "<path fill-rule=\"nonzero\" fill=\"rgb(86.742764%, 86.43766%, 86.260246%)\" fill-opacity=\"1\" d=\"M 485.039062 182.226562 L 470.472656 185.792969 L 471.15625 176.546875 L 485.039062 182.226562 \"/>\n",
       "<path fill=\"none\" stroke-width=\"1\" stroke-linecap=\"butt\" stroke-linejoin=\"miter\" stroke=\"rgb(86.742764%, 86.43766%, 86.260246%)\" stroke-opacity=\"1\" stroke-miterlimit=\"10\" d=\"M 50 150 L 471.429688 243.652344 \"/>\n",
       "<path fill-rule=\"nonzero\" fill=\"rgb(86.742764%, 86.43766%, 86.260246%)\" fill-opacity=\"1\" d=\"M 485.355469 246.746094 L 470.425781 248.175781 L 472.4375 239.125 L 485.355469 246.746094 \"/>\n",
       "<path fill=\"none\" stroke-width=\"1\" stroke-linecap=\"butt\" stroke-linejoin=\"miter\" stroke=\"rgb(86.742764%, 86.43766%, 86.260246%)\" stroke-opacity=\"1\" stroke-miterlimit=\"10\" d=\"M 50 150 L 621.132812 54.8125 \"/>\n",
       "<path fill-rule=\"nonzero\" fill=\"rgb(86.742764%, 86.43766%, 86.260246%)\" fill-opacity=\"1\" d=\"M 635.203125 52.464844 L 621.894531 59.382812 L 620.371094 50.238281 L 635.203125 52.464844 \"/>\n",
       "<path fill=\"none\" stroke-width=\"1\" stroke-linecap=\"butt\" stroke-linejoin=\"miter\" stroke=\"rgb(86.742764%, 86.43766%, 86.260246%)\" stroke-opacity=\"1\" stroke-miterlimit=\"10\" d=\"M 50 150 L 620.777344 118.289062 \"/>\n",
       "<path fill-rule=\"nonzero\" fill=\"rgb(86.742764%, 86.43766%, 86.260246%)\" fill-opacity=\"1\" d=\"M 635.023438 117.5 L 621.035156 122.917969 L 620.523438 113.660156 L 635.023438 117.5 \"/>\n",
       "<path fill=\"none\" stroke-width=\"1\" stroke-linecap=\"butt\" stroke-linejoin=\"miter\" stroke=\"rgb(86.742764%, 86.43766%, 86.260246%)\" stroke-opacity=\"1\" stroke-miterlimit=\"10\" d=\"M 50 150 L 620.777344 181.710938 \"/>\n",
       "<path fill-rule=\"nonzero\" fill=\"rgb(86.742764%, 86.43766%, 86.260246%)\" fill-opacity=\"1\" d=\"M 635.023438 182.5 L 620.523438 186.339844 L 621.035156 177.082031 L 635.023438 182.5 \"/>\n",
       "<path fill=\"none\" stroke-width=\"1\" stroke-linecap=\"butt\" stroke-linejoin=\"miter\" stroke=\"rgb(86.742764%, 86.43766%, 86.260246%)\" stroke-opacity=\"1\" stroke-miterlimit=\"10\" d=\"M 50 150 L 621.132812 245.1875 \"/>\n",
       "<path fill-rule=\"nonzero\" fill=\"rgb(86.742764%, 86.43766%, 86.260246%)\" fill-opacity=\"1\" d=\"M 635.203125 247.535156 L 620.371094 249.761719 L 621.894531 240.617188 L 635.203125 247.535156 \"/>\n",
       "<path fill-rule=\"nonzero\" fill=\"rgb(96.380606%, 63.418841%, 51.372085%)\" fill-opacity=\"1\" stroke-width=\"1\" stroke-linecap=\"butt\" stroke-linejoin=\"miter\" stroke=\"rgb(0%, 0%, 0%)\" stroke-opacity=\"1\" stroke-miterlimit=\"10\" d=\"M 215 50 C 215 58.285156 208.285156 65 200 65 C 191.714844 65 185 58.285156 185 50 C 185 41.714844 191.714844 35 200 35 C 208.285156 35 215 41.714844 215 50 \"/>\n",
       "<path fill-rule=\"nonzero\" fill=\"rgb(55.974673%, 69.476773%, 99.607531%)\" fill-opacity=\"1\" stroke-width=\"1\" stroke-linecap=\"butt\" stroke-linejoin=\"miter\" stroke=\"rgb(0%, 0%, 0%)\" stroke-opacity=\"1\" stroke-miterlimit=\"10\" d=\"M 215 116.667969 C 215 124.949219 208.285156 131.667969 200 131.667969 C 191.714844 131.667969 185 124.949219 185 116.667969 C 185 108.382812 191.714844 101.667969 200 101.667969 C 208.285156 101.667969 215 108.382812 215 116.667969 \"/>\n",
       "<path fill-rule=\"nonzero\" fill=\"rgb(52.169628%, 65.959861%, 98.773602%)\" fill-opacity=\"1\" stroke-width=\"1\" stroke-linecap=\"butt\" stroke-linejoin=\"miter\" stroke=\"rgb(0%, 0%, 0%)\" stroke-opacity=\"1\" stroke-miterlimit=\"10\" d=\"M 215 183.332031 C 215 191.617188 208.285156 198.332031 200 198.332031 C 191.714844 198.332031 185 191.617188 185 183.332031 C 185 175.050781 191.714844 168.332031 200 168.332031 C 208.285156 168.332031 215 175.050781 215 183.332031 \"/>\n",
       "<path fill-rule=\"nonzero\" fill=\"rgb(86.742764%, 86.43766%, 86.260246%)\" fill-opacity=\"1\" stroke-width=\"1\" stroke-linecap=\"butt\" stroke-linejoin=\"miter\" stroke=\"rgb(0%, 0%, 0%)\" stroke-opacity=\"1\" stroke-miterlimit=\"10\" d=\"M 215 250 C 215 258.285156 208.285156 265 200 265 C 191.714844 265 185 258.285156 185 250 C 185 241.714844 191.714844 235 200 235 C 208.285156 235 215 241.714844 215 250 \"/>\n",
       "<path fill-rule=\"nonzero\" fill=\"rgb(92.556342%, 82.55173%, 77.113631%)\" fill-opacity=\"1\" stroke-width=\"1\" stroke-linecap=\"butt\" stroke-linejoin=\"miter\" stroke=\"rgb(0%, 0%, 0%)\" stroke-opacity=\"1\" stroke-miterlimit=\"10\" d=\"M 365 50 C 365 58.285156 358.285156 65 350 65 C 341.714844 65 335 58.285156 335 50 C 335 41.714844 341.714844 35 350 35 C 358.285156 35 365 41.714844 365 50 \"/>\n",
       "<path fill-rule=\"nonzero\" fill=\"rgb(55.974673%, 69.476773%, 99.607531%)\" fill-opacity=\"1\" stroke-width=\"1\" stroke-linecap=\"butt\" stroke-linejoin=\"miter\" stroke=\"rgb(0%, 0%, 0%)\" stroke-opacity=\"1\" stroke-miterlimit=\"10\" d=\"M 365 116.667969 C 365 124.949219 358.285156 131.667969 350 131.667969 C 341.714844 131.667969 335 124.949219 335 116.667969 C 335 108.382812 341.714844 101.667969 350 101.667969 C 358.285156 101.667969 365 108.382812 365 116.667969 \"/>\n",
       "<path fill-rule=\"nonzero\" fill=\"rgb(52.169628%, 65.959861%, 98.773602%)\" fill-opacity=\"1\" stroke-width=\"1\" stroke-linecap=\"butt\" stroke-linejoin=\"miter\" stroke=\"rgb(0%, 0%, 0%)\" stroke-opacity=\"1\" stroke-miterlimit=\"10\" d=\"M 365 183.332031 C 365 191.617188 358.285156 198.332031 350 198.332031 C 341.714844 198.332031 335 191.617188 335 183.332031 C 335 175.050781 341.714844 168.332031 350 168.332031 C 358.285156 168.332031 365 175.050781 365 183.332031 \"/>\n",
       "<path fill-rule=\"nonzero\" fill=\"rgb(86.742764%, 86.43766%, 86.260246%)\" fill-opacity=\"1\" stroke-width=\"1\" stroke-linecap=\"butt\" stroke-linejoin=\"miter\" stroke=\"rgb(0%, 0%, 0%)\" stroke-opacity=\"1\" stroke-miterlimit=\"10\" d=\"M 365 250 C 365 258.285156 358.285156 265 350 265 C 341.714844 265 335 258.285156 335 250 C 335 241.714844 341.714844 235 350 235 C 358.285156 235 365 241.714844 365 250 \"/>\n",
       "<path fill-rule=\"nonzero\" fill=\"rgb(65.139784%, 76.812149%, 99.589115%)\" fill-opacity=\"1\" stroke-width=\"1\" stroke-linecap=\"butt\" stroke-linejoin=\"miter\" stroke=\"rgb(0%, 0%, 0%)\" stroke-opacity=\"1\" stroke-miterlimit=\"10\" d=\"M 515 50 C 515 58.285156 508.285156 65 500 65 C 491.714844 65 485 58.285156 485 50 C 485 41.714844 491.714844 35 500 35 C 508.285156 35 515 41.714844 515 50 \"/>\n",
       "<path fill-rule=\"nonzero\" fill=\"rgb(86.742764%, 86.43766%, 86.260246%)\" fill-opacity=\"1\" stroke-width=\"1\" stroke-linecap=\"butt\" stroke-linejoin=\"miter\" stroke=\"rgb(0%, 0%, 0%)\" stroke-opacity=\"1\" stroke-miterlimit=\"10\" d=\"M 515 116.667969 C 515 124.949219 508.285156 131.667969 500 131.667969 C 491.714844 131.667969 485 124.949219 485 116.667969 C 485 108.382812 491.714844 101.667969 500 101.667969 C 508.285156 101.667969 515 108.382812 515 116.667969 \"/>\n",
       "<path fill-rule=\"nonzero\" fill=\"rgb(52.169628%, 65.959861%, 98.773602%)\" fill-opacity=\"1\" stroke-width=\"1\" stroke-linecap=\"butt\" stroke-linejoin=\"miter\" stroke=\"rgb(0%, 0%, 0%)\" stroke-opacity=\"1\" stroke-miterlimit=\"10\" d=\"M 515 183.332031 C 515 191.617188 508.285156 198.332031 500 198.332031 C 491.714844 198.332031 485 191.617188 485 183.332031 C 485 175.050781 491.714844 168.332031 500 168.332031 C 508.285156 168.332031 515 175.050781 515 183.332031 \"/>\n",
       "<path fill-rule=\"nonzero\" fill=\"rgb(34.832334%, 46.571115%, 88.834616%)\" fill-opacity=\"1\" stroke-width=\"1\" stroke-linecap=\"butt\" stroke-linejoin=\"miter\" stroke=\"rgb(0%, 0%, 0%)\" stroke-opacity=\"1\" stroke-miterlimit=\"10\" d=\"M 515 250 C 515 258.285156 508.285156 265 500 265 C 491.714844 265 485 258.285156 485 250 C 485 241.714844 491.714844 235 500 235 C 508.285156 235 515 241.714844 515 250 \"/>\n",
       "<path fill-rule=\"nonzero\" fill=\"rgb(61.393265%, 73.992298%, 99.914237%)\" fill-opacity=\"1\" stroke-width=\"1\" stroke-linecap=\"butt\" stroke-linejoin=\"miter\" stroke=\"rgb(0%, 0%, 0%)\" stroke-opacity=\"1\" stroke-miterlimit=\"10\" d=\"M 665 50 C 665 58.285156 658.285156 65 650 65 C 641.714844 65 635 58.285156 635 50 C 635 41.714844 641.714844 35 650 35 C 658.285156 35 665 41.714844 665 50 \"/>\n",
       "<path fill-rule=\"nonzero\" fill=\"rgb(86.742764%, 86.43766%, 86.260246%)\" fill-opacity=\"1\" stroke-width=\"1\" stroke-linecap=\"butt\" stroke-linejoin=\"miter\" stroke=\"rgb(0%, 0%, 0%)\" stroke-opacity=\"1\" stroke-miterlimit=\"10\" d=\"M 665 116.667969 C 665 124.949219 658.285156 131.667969 650 131.667969 C 641.714844 131.667969 635 124.949219 635 116.667969 C 635 108.382812 641.714844 101.667969 650 101.667969 C 658.285156 101.667969 665 108.382812 665 116.667969 \"/>\n",
       "<path fill-rule=\"nonzero\" fill=\"rgb(42.519897%, 55.905818%, 94.606146%)\" fill-opacity=\"1\" stroke-width=\"1\" stroke-linecap=\"butt\" stroke-linejoin=\"miter\" stroke=\"rgb(0%, 0%, 0%)\" stroke-opacity=\"1\" stroke-miterlimit=\"10\" d=\"M 665 183.332031 C 665 191.617188 658.285156 198.332031 650 198.332031 C 641.714844 198.332031 635 191.617188 635 183.332031 C 635 175.050781 641.714844 168.332031 650 168.332031 C 658.285156 168.332031 665 175.050781 665 183.332031 \"/>\n",
       "<path fill-rule=\"nonzero\" fill=\"rgb(34.832334%, 46.571115%, 88.834616%)\" fill-opacity=\"1\" stroke-width=\"1\" stroke-linecap=\"butt\" stroke-linejoin=\"miter\" stroke=\"rgb(0%, 0%, 0%)\" stroke-opacity=\"1\" stroke-miterlimit=\"10\" d=\"M 665 250 C 665 258.285156 658.285156 265 650 265 C 641.714844 265 635 258.285156 635 250 C 635 241.714844 641.714844 235 650 235 C 658.285156 235 665 241.714844 665 250 \"/>\n",
       "<path fill-rule=\"nonzero\" fill=\"rgb(86.742764%, 86.43766%, 86.260246%)\" fill-opacity=\"1\" stroke-width=\"1\" stroke-linecap=\"butt\" stroke-linejoin=\"miter\" stroke=\"rgb(0%, 0%, 0%)\" stroke-opacity=\"1\" stroke-miterlimit=\"10\" d=\"M 65 150 C 65 158.285156 58.285156 165 50 165 C 41.714844 165 35 158.285156 35 150 C 35 141.714844 41.714844 135 50 135 C 58.285156 135 65 141.714844 65 150 \"/>\n",
       "<g fill=\"rgb(0%, 0%, 0%)\" fill-opacity=\"1\">\n",
       "<use xlink:href=\"#glyph-0-0\" x=\"193.105469\" y=\"54.644531\"/>\n",
       "<use xlink:href=\"#glyph-0-1\" x=\"198.666992\" y=\"54.644531\"/>\n",
       "<use xlink:href=\"#glyph-0-0\" x=\"201.445312\" y=\"54.644531\"/>\n",
       "</g>\n",
       "<g fill=\"rgb(0%, 0%, 0%)\" fill-opacity=\"1\">\n",
       "<use xlink:href=\"#glyph-0-0\" x=\"193.902344\" y=\"121.3125\"/>\n",
       "<use xlink:href=\"#glyph-0-1\" x=\"199.463867\" y=\"121.3125\"/>\n",
       "<use xlink:href=\"#glyph-0-2\" x=\"202.242188\" y=\"121.3125\"/>\n",
       "</g>\n",
       "<g fill=\"rgb(0%, 0%, 0%)\" fill-opacity=\"1\">\n",
       "<use xlink:href=\"#glyph-0-0\" x=\"193.101562\" y=\"187.992188\"/>\n",
       "<use xlink:href=\"#glyph-0-1\" x=\"198.663086\" y=\"187.992188\"/>\n",
       "<use xlink:href=\"#glyph-0-3\" x=\"201.441406\" y=\"187.992188\"/>\n",
       "</g>\n",
       "<g fill=\"rgb(0%, 0%, 0%)\" fill-opacity=\"1\">\n",
       "<use xlink:href=\"#glyph-0-0\" x=\"193.109375\" y=\"254.652344\"/>\n",
       "<use xlink:href=\"#glyph-0-1\" x=\"198.670898\" y=\"254.652344\"/>\n",
       "<use xlink:href=\"#glyph-0-4\" x=\"201.449219\" y=\"254.652344\"/>\n",
       "</g>\n",
       "<g fill=\"rgb(0%, 0%, 0%)\" fill-opacity=\"1\">\n",
       "<use xlink:href=\"#glyph-0-2\" x=\"342.78125\" y=\"54.644531\"/>\n",
       "<use xlink:href=\"#glyph-0-1\" x=\"348.342773\" y=\"54.644531\"/>\n",
       "<use xlink:href=\"#glyph-0-0\" x=\"351.121094\" y=\"54.644531\"/>\n",
       "</g>\n",
       "<g fill=\"rgb(0%, 0%, 0%)\" fill-opacity=\"1\">\n",
       "<use xlink:href=\"#glyph-0-2\" x=\"343.582031\" y=\"121.296875\"/>\n",
       "<use xlink:href=\"#glyph-0-1\" x=\"349.143555\" y=\"121.296875\"/>\n",
       "<use xlink:href=\"#glyph-0-2\" x=\"351.921875\" y=\"121.296875\"/>\n",
       "</g>\n",
       "<g fill=\"rgb(0%, 0%, 0%)\" fill-opacity=\"1\">\n",
       "<use xlink:href=\"#glyph-0-2\" x=\"342.777344\" y=\"187.992188\"/>\n",
       "<use xlink:href=\"#glyph-0-1\" x=\"348.338867\" y=\"187.992188\"/>\n",
       "<use xlink:href=\"#glyph-0-3\" x=\"351.117188\" y=\"187.992188\"/>\n",
       "</g>\n",
       "<g fill=\"rgb(0%, 0%, 0%)\" fill-opacity=\"1\">\n",
       "<use xlink:href=\"#glyph-0-2\" x=\"342.789062\" y=\"254.652344\"/>\n",
       "<use xlink:href=\"#glyph-0-1\" x=\"348.350586\" y=\"254.652344\"/>\n",
       "<use xlink:href=\"#glyph-0-4\" x=\"351.128906\" y=\"254.652344\"/>\n",
       "</g>\n",
       "<g fill=\"rgb(0%, 0%, 0%)\" fill-opacity=\"1\">\n",
       "<use xlink:href=\"#glyph-0-3\" x=\"493.105469\" y=\"54.65625\"/>\n",
       "<use xlink:href=\"#glyph-0-1\" x=\"498.666992\" y=\"54.65625\"/>\n",
       "<use xlink:href=\"#glyph-0-0\" x=\"501.445312\" y=\"54.65625\"/>\n",
       "</g>\n",
       "<g fill=\"rgb(0%, 0%, 0%)\" fill-opacity=\"1\">\n",
       "<use xlink:href=\"#glyph-0-3\" x=\"493.902344\" y=\"121.324219\"/>\n",
       "<use xlink:href=\"#glyph-0-1\" x=\"499.463867\" y=\"121.324219\"/>\n",
       "<use xlink:href=\"#glyph-0-2\" x=\"502.242188\" y=\"121.324219\"/>\n",
       "</g>\n",
       "<g fill=\"rgb(0%, 0%, 0%)\" fill-opacity=\"1\">\n",
       "<use xlink:href=\"#glyph-0-3\" x=\"493.101562\" y=\"187.992188\"/>\n",
       "<use xlink:href=\"#glyph-0-1\" x=\"498.663086\" y=\"187.992188\"/>\n",
       "<use xlink:href=\"#glyph-0-3\" x=\"501.441406\" y=\"187.992188\"/>\n",
       "</g>\n",
       "<g fill=\"rgb(0%, 0%, 0%)\" fill-opacity=\"1\">\n",
       "<use xlink:href=\"#glyph-0-3\" x=\"493.109375\" y=\"254.65625\"/>\n",
       "<use xlink:href=\"#glyph-0-1\" x=\"498.670898\" y=\"254.65625\"/>\n",
       "<use xlink:href=\"#glyph-0-4\" x=\"501.449219\" y=\"254.65625\"/>\n",
       "</g>\n",
       "<g fill=\"rgb(0%, 0%, 0%)\" fill-opacity=\"1\">\n",
       "<use xlink:href=\"#glyph-0-4\" x=\"643.140625\" y=\"54.652344\"/>\n",
       "<use xlink:href=\"#glyph-0-1\" x=\"648.702148\" y=\"54.652344\"/>\n",
       "<use xlink:href=\"#glyph-0-0\" x=\"651.480469\" y=\"54.652344\"/>\n",
       "</g>\n",
       "<g fill=\"rgb(0%, 0%, 0%)\" fill-opacity=\"1\">\n",
       "<use xlink:href=\"#glyph-0-4\" x=\"643.941406\" y=\"121.316406\"/>\n",
       "<use xlink:href=\"#glyph-0-1\" x=\"649.50293\" y=\"121.316406\"/>\n",
       "<use xlink:href=\"#glyph-0-2\" x=\"652.28125\" y=\"121.316406\"/>\n",
       "</g>\n",
       "<g fill=\"rgb(0%, 0%, 0%)\" fill-opacity=\"1\">\n",
       "<use xlink:href=\"#glyph-0-4\" x=\"643.136719\" y=\"187.992188\"/>\n",
       "<use xlink:href=\"#glyph-0-1\" x=\"648.698242\" y=\"187.992188\"/>\n",
       "<use xlink:href=\"#glyph-0-3\" x=\"651.476562\" y=\"187.992188\"/>\n",
       "</g>\n",
       "<g fill=\"rgb(0%, 0%, 0%)\" fill-opacity=\"1\">\n",
       "<use xlink:href=\"#glyph-0-4\" x=\"643.148438\" y=\"254.652344\"/>\n",
       "<use xlink:href=\"#glyph-0-1\" x=\"648.709961\" y=\"254.652344\"/>\n",
       "<use xlink:href=\"#glyph-0-4\" x=\"651.488281\" y=\"254.652344\"/>\n",
       "</g>\n",
       "<g fill=\"rgb(0%, 0%, 0%)\" fill-opacity=\"1\">\n",
       "<use xlink:href=\"#glyph-0-5\" x=\"40.523438\" y=\"154.632812\"/>\n",
       "<use xlink:href=\"#glyph-0-2\" x=\"43.853516\" y=\"154.632812\"/>\n",
       "<use xlink:href=\"#glyph-0-1\" x=\"49.415039\" y=\"154.632812\"/>\n",
       "<use xlink:href=\"#glyph-0-5\" x=\"52.193359\" y=\"154.632812\"/>\n",
       "<use xlink:href=\"#glyph-0-2\" x=\"55.523438\" y=\"154.632812\"/>\n",
       "</g>\n",
       "</svg>\n"
      ],
      "text/plain": [
       "<igraph.drawing.cairo.plot.CairoPlot at 0x327017750>"
      ]
     },
     "execution_count": 5,
     "metadata": {
      "image/svg+xml": {
       "isolated": true
      }
     },
     "output_type": "execute_result"
    }
   ],
   "source": [
    "visual_style = util.get_visual_style(tugs, vertex_weights=nres0, edge_weights=ares0)\n",
    "ig.plot(tugs, **visual_style, bbox=(700, 300), margin=50)"
   ]
  },
  {
   "cell_type": "markdown",
   "metadata": {
    "slideshow": {
     "slide_type": "subslide"
    }
   },
   "source": [
    "## Shortest Path Algorithms\n",
    "\n",
    "**Optimization problems over graphs**\n",
    "\n",
    "...Are often amenable to _dedicated, very efficient, algorithms_\n",
    "\n",
    "> **What about our graph?**"
   ]
  },
  {
   "cell_type": "markdown",
   "metadata": {
    "slideshow": {
     "slide_type": "fragment"
    }
   },
   "source": [
    "**Weights can be negative**\n",
    "\n",
    "* ...So one may think of using the [Bellman-Ford algorithm](https://en.wikipedia.org/wiki/Bellman%E2%80%93Ford_algorithm), which runs in $O(n_v n_e)$\n",
    "\n",
    "**...But this is a Direct, _Acyclic_ Graph (DAG)**\n",
    "\n",
    "* Meaning that we can process the nodes in _topological order_\n",
    "* ...And apply [Dijkstra algorithm](https://en.wikipedia.org/wiki/Dijkstra%27s_algorithm), which runs in $O(n_e)$"
   ]
  },
  {
   "cell_type": "markdown",
   "metadata": {
    "slideshow": {
     "slide_type": "subslide"
    }
   },
   "source": [
    "## Dijkstra's Algorithm for DAGs\n",
    "\n",
    "**Intuitively, we proceed as follows**\n",
    "\n",
    "* $Q = [0]$ # We enqueue the fake source node\n",
    "* $sp_i = [], \\forall i = 0..n_v$ # All shortest paths are empy\n",
    "* $\\text{while $|Q| > 0$:}$\n",
    "  - $\\text{pop a node $i$ from $Q$}$\n",
    "  - $\\text{append $i$ to $sp_i$}$ # Extend the shortest path\n",
    "  - $\\text{for $j$ successor of $i$:}$\n",
    "    - $\\text{mark the arc $(i, j)$ as visited}$\n",
    "    - $\\text{if the shortest path passing for $i$ is shorter than $sp_j$}$\n",
    "      - $\\text{update $sp_j$}$ # Keep only the shortest path to $j$\n",
    "    - $\\text{if all ingoing arcs for $j$ have been visited}$\n",
    "      - $\\text{append $j$ in $Q$}$"
   ]
  },
  {
   "cell_type": "markdown",
   "metadata": {
    "slideshow": {
     "slide_type": "subslide"
    }
   },
   "source": [
    "## Pricing via Shortest Paths\n",
    "\n",
    "**The approach is implemented in the `solve_pricing_problem` function**\n",
    "\n",
    "...Which returns shortest paths _to all TUG nodes_"
   ]
  },
  {
   "cell_type": "code",
   "execution_count": 6,
   "metadata": {},
   "outputs": [
    {
     "name": "stdout",
     "output_type": "stream",
     "text": [
      "COST: PATH\n",
      "-39.66: 0,2 > 1,2 > 2,2 > 3,2\n",
      "-31.37: 0,1 > 1,1 > 2,0 > 3,3\n",
      "-31.37: 0,1 > 1,1 > 2,0 > 3,0\n",
      "-27.36: 0,2 > 1,2 > 2,2\n",
      "-23.18: 0,1 > 1,1 > 2,0\n",
      "-23.18: 0,1 > 1,1 > 2,0 > 3,1\n",
      "-16.42: 0,2 > 1,2\n",
      "-14.68: 0,1 > 1,1\n",
      "-14.68: 0,1 > 1,1 > 2,1\n",
      "-11.77: 0,1 > 1,0 > 2,3\n",
      "-5.47: 0,2\n",
      "-4.89: 0,1\n",
      "-3.60: 0,1 > 1,0\n",
      "0.00: 0,3\n",
      "0.00: 1,3\n",
      "4.61: 0,0\n"
     ]
    }
   ],
   "source": [
    "ncosts_a, npaths_a = util.solve_pricing_problem(tug, rflows0, rpaths0,\n",
    "                                             node_counts, arc_counts, filter_paths=False)\n",
    "print('COST: PATH')\n",
    "util.print_solution(tug, ncosts_a, npaths_a, sort=None)"
   ]
  },
  {
   "cell_type": "markdown",
   "metadata": {
    "slideshow": {
     "slide_type": "subslide"
    }
   },
   "source": [
    "## Pricing via Shortest Paths\n",
    "\n",
    "**We can ask for paths with a negative weighs/gradient term**"
   ]
  },
  {
   "cell_type": "code",
   "execution_count": 7,
   "metadata": {},
   "outputs": [
    {
     "name": "stdout",
     "output_type": "stream",
     "text": [
      "COST: PATH\n",
      "-39.66: 0,2 > 1,2 > 2,2 > 3,2\n",
      "-31.37: 0,1 > 1,1 > 2,0 > 3,3\n",
      "-31.37: 0,1 > 1,1 > 2,0 > 3,0\n",
      "-27.36: 0,2 > 1,2 > 2,2\n",
      "-23.18: 0,1 > 1,1 > 2,0\n",
      "-23.18: 0,1 > 1,1 > 2,0 > 3,1\n",
      "-16.42: 0,2 > 1,2\n",
      "-14.68: 0,1 > 1,1\n",
      "-14.68: 0,1 > 1,1 > 2,1\n",
      "-11.77: 0,1 > 1,0 > 2,3\n",
      "-5.47: 0,2\n",
      "-4.89: 0,1\n",
      "-3.60: 0,1 > 1,0\n"
     ]
    }
   ],
   "source": [
    "ncosts, npaths = util.solve_pricing_problem(tug, rflows0, rpaths0,\n",
    "                                             node_counts, arc_counts, filter_paths=True)\n",
    "print('COST: PATH')\n",
    "util.print_solution(tug, ncosts, npaths, sort=None)"
   ]
  },
  {
   "cell_type": "markdown",
   "metadata": {},
   "source": [
    "* Returning multiple paths is usually a good idea\n",
    "* ...Since it typically speeds up the convergence of our dynamic method"
   ]
  },
  {
   "cell_type": "markdown",
   "metadata": {
    "slideshow": {
     "slide_type": "slide"
    }
   },
   "source": [
    "# Let's Loop!\n",
    "\n",
    "Time to start iterating"
   ]
  },
  {
   "cell_type": "markdown",
   "metadata": {
    "slideshow": {
     "slide_type": "subslide"
    }
   },
   "source": [
    "## Does it Work?\n",
    "\n",
    "**Every complex endeavor is worth a double (or triple) check**\n",
    "\n",
    "Let's check again our baseline result:"
   ]
  },
  {
   "cell_type": "code",
   "execution_count": 8,
   "metadata": {},
   "outputs": [
    {
     "name": "stdout",
     "output_type": "stream",
     "text": [
      "FLOW: PATH\n",
      "1.96: 0,0 > 1,0 > 2,0 > 3,2\n",
      "1.86: 0,0 > 1,0 > 2,0 > 3,3\n",
      "0.79: 0,0 > 1,0 > 2,0 > 3,0\n",
      "RSSE: 25.58\n"
     ]
    }
   ],
   "source": [
    "rflows0, rpaths0 = util.solve_path_selection_full(tug, node_counts, arc_counts,\n",
    "                                                  initial_paths=path_pool, verbose=0, solver='piqp')\n",
    "print('FLOW: PATH')\n",
    "util.print_solution(tug, rflows0, rpaths0, sort='descending')\n",
    "sse = util.get_reconstruction_error(tug, rflows0, rpaths0, node_counts, arc_counts)\n",
    "print(f'RSSE: {np.sqrt(sse):.2f}')"
   ]
  },
  {
   "cell_type": "markdown",
   "metadata": {
    "slideshow": {
     "slide_type": "subslide"
    }
   },
   "source": [
    "## Does it Work?\n",
    "\n",
    "**Every complex endeavor is worth a double (or triple) check**\n",
    "\n",
    "Let's try adding paths with _non-negative_ gradient terms"
   ]
  },
  {
   "cell_type": "code",
   "execution_count": 9,
   "metadata": {},
   "outputs": [
    {
     "name": "stdout",
     "output_type": "stream",
     "text": [
      "FLOW: PATH\n",
      "1.96: 0,0 > 1,0 > 2,0 > 3,2\n",
      "1.86: 0,0 > 1,0 > 2,0 > 3,3\n",
      "0.79: 0,0 > 1,0 > 2,0 > 3,0\n",
      "RSSE: 25.58\n"
     ]
    }
   ],
   "source": [
    "p_paths = [p for p, c in zip(npaths_a, ncosts_a) if c >= 0]\n",
    "path_pool1_p = path_pool + p_paths\n",
    "\n",
    "rflows1_p, rpaths1_p = util.solve_path_selection_full(tug, node_counts, arc_counts,\n",
    "                                                  initial_paths=path_pool1_p, verbose=0, solver='piqp')\n",
    "print('FLOW: PATH')\n",
    "util.print_solution(tug, rflows1_p, rpaths1_p, sort='descending')\n",
    "sse = util.get_reconstruction_error(tug, rflows1_p, rpaths1_p, node_counts, arc_counts)\n",
    "print(f'RSSE: {np.sqrt(sse):.2f}')"
   ]
  },
  {
   "cell_type": "markdown",
   "metadata": {
    "slideshow": {
     "slide_type": "fragment"
    }
   },
   "source": [
    "* This is perfectly useless\n",
    "* ...Just as expected!"
   ]
  },
  {
   "cell_type": "markdown",
   "metadata": {
    "slideshow": {
     "slide_type": "subslide"
    }
   },
   "source": [
    "## Does it Work?\n",
    "\n",
    "**Every complex endeavor is worth a double (or triple) check**\n",
    "\n",
    "Now, let's try again with paths having _negative_ gradient terms"
   ]
  },
  {
   "cell_type": "code",
   "execution_count": 10,
   "metadata": {},
   "outputs": [
    {
     "name": "stdout",
     "output_type": "stream",
     "text": [
      "FLOW: PATH\n",
      "5.79: 0,2 > 1,2 > 2,2 > 3,2\n",
      "3.27: 0,1 > 1,1 > 2,0 > 3,3\n",
      "2.30: 0,1 > 1,1 > 2,0 > 3,0\n",
      "1.70: 0,1 > 1,0 > 2,3\n",
      "1.13: 0,0 > 1,0 > 2,0 > 3,2\n",
      "0.65: 0,0 > 1,0 > 2,0 > 3,3\n",
      "0.56: 0,0 > 1,0 > 2,0 > 3,0\n",
      "RSSE: 15.18\n"
     ]
    }
   ],
   "source": [
    "n_paths = [p for p, c in zip(npaths_a, ncosts_a) if c < 0]\n",
    "path_pool1 = path_pool + n_paths\n",
    "rflows1, rpaths1 = util.solve_path_selection_full(tug, node_counts, arc_counts,\n",
    "                                                  initial_paths=path_pool1, verbose=0, solver='piqp')\n",
    "print('FLOW: PATH')\n",
    "util.print_solution(tug, rflows1, rpaths1, sort='descending')\n",
    "sse = util.get_reconstruction_error(tug, rflows1, rpaths1, node_counts, arc_counts)\n",
    "print(f'RSSE: {np.sqrt(sse):.2f}')"
   ]
  },
  {
   "cell_type": "markdown",
   "metadata": {
    "slideshow": {
     "slide_type": "fragment"
    }
   },
   "source": [
    "This time we have a better solution!"
   ]
  },
  {
   "cell_type": "markdown",
   "metadata": {
    "slideshow": {
     "slide_type": "subslide"
    }
   },
   "source": [
    "## The Column Generation Code\n",
    "\n",
    "**Our CG code can be found in the `trajectory_extraction_cg` function**\n",
    "\n",
    "First, we define our initial path pool\n",
    "\n",
    "```python\n",
    "paths = [[v.index] for v in tug.vs]\n",
    "```\n",
    "\n",
    "* We use one path per node, consisting of the node itself\n",
    "\n",
    "Then we start looping:\n",
    "\n",
    "```python\n",
    "for it in range(max_iter):\n",
    "    # Solve the master problem\n",
    "    ...\n",
    "    # Solve the pricing problem\n",
    "    ...\n",
    "```\n",
    "\n",
    "* We control the total run-time via an iteration limit"
   ]
  },
  {
   "cell_type": "markdown",
   "metadata": {
    "slideshow": {
     "slide_type": "subslide"
    }
   },
   "source": [
    "## The Column Generation Code\n",
    "\n",
    "**Our CG code can be found in the `trajectory_extraction_cg` function**\n",
    "\n",
    "When we add the new paths, we take care of discarding duplicates\n",
    "\n",
    "```python\n",
    "old_as_set = set([tuple(p) for p in paths])\n",
    "found_as_set = set([tuple(p) for p in np])\n",
    "new_as_set = old_as_set.union(found_as_set)\n",
    "```\n",
    "\n",
    "* Duplicates should not theoretically arise\n",
    "* ...But they may in practice due to numerical errors\n",
    "* ...Or when we use approximate solvers\n",
    "\n",
    "We trigger an eary stop if no new path can be added:\n",
    "\n",
    "```python\n",
    "if nnew == 0: break\n",
    "```"
   ]
  },
  {
   "cell_type": "markdown",
   "metadata": {
    "slideshow": {
     "slide_type": "subslide"
    }
   },
   "source": [
    "## Column Generation in Action\n",
    "\n",
    "**Let's test CG on that graph that took ~5 sec with the baseline**"
   ]
  },
  {
   "cell_type": "code",
   "execution_count": 11,
   "metadata": {},
   "outputs": [
    {
     "name": "stdout",
     "output_type": "stream",
     "text": [
      "It.0, sse: 310.26, #paths: 45, new: 5\n",
      "It.1, sse: 91.33, #paths: 46, new: 1\n",
      "It.2, sse: 0.00, #paths: 46, new: 0\n",
      "CPU times: user 11.9 ms, sys: 413 μs, total: 12.3 ms\n",
      "Wall time: 12.1 ms\n"
     ]
    }
   ],
   "source": [
    "g8_5, t8_5, f8_5, p8_5, nc8_5, ac8_5 = util.get_default_benchmark_graph(nnodes=8, eoh=5, seed=42)\n",
    "%time f8_5, p8_5 = util.trajectory_extraction_cg(t8_5, nc8_5, ac8_5, max_iter=30, verbose=1, solver='piqp')"
   ]
  },
  {
   "cell_type": "markdown",
   "metadata": {},
   "source": [
    "**What if the graph is bigger?**"
   ]
  },
  {
   "cell_type": "code",
   "execution_count": 12,
   "metadata": {},
   "outputs": [
    {
     "name": "stdout",
     "output_type": "stream",
     "text": [
      "It.0, sse: 160.78, #paths: 176, new: 36\n",
      "It.1, sse: 11.04, #paths: 179, new: 3\n",
      "It.2, sse: 7.59, #paths: 191, new: 12\n",
      "It.3, sse: 0.00, #paths: 191, new: 0\n",
      "CPU times: user 51 ms, sys: 902 μs, total: 51.9 ms\n",
      "Wall time: 51.7 ms\n"
     ]
    }
   ],
   "source": [
    "g20_7, t20_7, f20_7, p20_7, nc20_7, ac20_7 = util.get_default_benchmark_graph(nnodes=20, eoh=7, seed=42)\n",
    "%time f20_7, p20_7 = util.trajectory_extraction_cg(t20_7, nc20_7, ac20_7, max_iter=30, verbose=1, solver='piqp')"
   ]
  },
  {
   "cell_type": "markdown",
   "metadata": {
    "slideshow": {
     "slide_type": "subslide"
    }
   },
   "source": [
    "## Column Generation in Action\n",
    "\n",
    "**Let's scale up even more**\n",
    "\n",
    "With this graph, the total number of paths is $O(40^{10})$"
   ]
  },
  {
   "cell_type": "code",
   "execution_count": 13,
   "metadata": {},
   "outputs": [
    {
     "name": "stdout",
     "output_type": "stream",
     "text": [
      "It.0, sse: 947.53, #paths: 572, new: 172\n",
      "It.1, sse: 450.66, #paths: 676, new: 104\n",
      "It.2, sse: 135.13, #paths: 772, new: 96\n",
      "It.3, sse: 64.31, #paths: 861, new: 89\n",
      "It.4, sse: 0.00, #paths: 878, new: 17\n",
      "It.5, sse: 0.00, #paths: 880, new: 2\n",
      "It.6, sse: 0.00, #paths: 880, new: 0\n",
      "CPU times: user 579 ms, sys: 5.75 ms, total: 584 ms\n",
      "Wall time: 586 ms\n"
     ]
    }
   ],
   "source": [
    "g40_10, t40_10, f40_10, p40_10, nc40_10, ac40_10 = util.get_default_benchmark_graph(nnodes=40, eoh=10, seed=42)\n",
    "%time f40_10, p40_10 = util.trajectory_extraction_cg(t40_10, nc40_10, ac40_10, max_iter=30, verbose=1, solver='piqp')"
   ]
  },
  {
   "cell_type": "markdown",
   "metadata": {},
   "source": [
    "* The adds a small fraction of the total paths\n",
    "* Convergence is fast\n",
    "* ...And we manage to prove optimality!"
   ]
  },
  {
   "cell_type": "markdown",
   "metadata": {
    "slideshow": {
     "slide_type": "subslide"
    }
   },
   "source": [
    "## Some Considerations\n",
    "\n",
    "**Column Generation is not easy approach to setup**\n",
    "\n",
    "...But when it works, it can provide many advantages\n",
    "\n",
    "* The master can stay remarkably clean\n",
    "* Complicated constraints can be moved in the variable definitions\n",
    "* ...And tackled in the pricing problem\n",
    "* Scalability is pretty good, given the humongous search space\n",
    "\n",
    "CG makes you _want_ to write models with massive number of variables\n",
    "\n",
    "**Some caveats**\n",
    "\n",
    "* A heuristic may still be faster (no sound mathematical theory, though...)\n",
    "* It works well when you _can_ put all its advantages to use\n",
    "* ...In particular, the master problem structure _should_ be very clean"
   ]
  }
 ],
 "metadata": {
  "celltoolbar": "Slideshow",
  "kernelspec": {
   "display_name": "Python 3 (ipykernel)",
   "language": "python",
   "name": "python3"
  },
  "language_info": {
   "codemirror_mode": {
    "name": "ipython",
    "version": 3
   },
   "file_extension": ".py",
   "mimetype": "text/x-python",
   "name": "python",
   "nbconvert_exporter": "python",
   "pygments_lexer": "ipython3",
   "version": "3.11.8"
  },
  "rise": {
   "center": false,
   "transition": "fade"
  }
 },
 "nbformat": 4,
 "nbformat_minor": 4
}
