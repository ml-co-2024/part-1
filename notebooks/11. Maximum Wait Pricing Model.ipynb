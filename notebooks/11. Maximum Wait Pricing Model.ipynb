{
 "cells": [
  {
   "cell_type": "code",
   "execution_count": 1,
   "metadata": {
    "slideshow": {
     "slide_type": "skip"
    }
   },
   "outputs": [
    {
     "name": "stderr",
     "output_type": "stream",
     "text": [
      "/Users/michelelombardi/Library/Caches/pypoetry/virtualenvs/mining-with-co-eC0Z9-8k-py3.11/lib/python3.11/site-packages/scipy/sparse/_index.py:108: SparseEfficiencyWarning: Changing the sparsity structure of a csc_matrix is expensive. lil_matrix is more efficient.\n",
      "  self._set_intXint(row, col, x.flat[0])\n"
     ]
    }
   ],
   "source": [
    "# ============================================================\n",
    "# Notebook setup: run this before everything\n",
    "# ============================================================\n",
    "\n",
    "%load_ext autoreload\n",
    "%autoreload 2\n",
    "\n",
    "# Control figure size\n",
    "figsize=(14, 5)\n",
    "\n",
    "#from matplotlib import pyplot as plt\n",
    "from util import util\n",
    "import igraph as ig\n",
    "import numpy as np\n",
    "\n",
    "# ============================================================\n",
    "# Repeat relevant operations\n",
    "# ============================================================\n",
    "\n",
    "# Build the small graph used to explain concepts\n",
    "eoh = 4\n",
    "g = util.build_website_graph(nnodes=4, rate=3, extra_arc_fraction=0.25, seed=42)\n",
    "flows, paths = util.build_random_paths(g, min_paths=3, max_paths=5,\n",
    "                                          min_units=1, max_units=10, eoh=eoh, seed=42)\n",
    "tug = util.build_time_unfolded_graph(g, eoh=eoh)\n",
    "node_counts, arc_counts = util.get_counts(tug, flows, paths)\n",
    "node_counts_n, arc_counts_n = util.add_proportional_noise(node_counts, arc_counts, sigma=0.2, seed=42)\n",
    "mvc, alpha = 0.95, 1\n",
    "rflows_n, rpaths_n, nneg_duals, mvc_duals = util.solve_path_selection_full(tug, node_counts_n, arc_counts_n,\n",
    "                                                    alpha=alpha, verbose=0, min_vertex_cover=0.95, return_duals=True, solver='piqp')"
   ]
  },
  {
   "cell_type": "markdown",
   "metadata": {
    "slideshow": {
     "slide_type": "slide"
    }
   },
   "source": [
    "# A Model for Our Constrained Subproblem\n",
    "\n",
    "Let's put to work what we learned"
   ]
  },
  {
   "cell_type": "markdown",
   "metadata": {
    "slideshow": {
     "slide_type": "subslide"
    }
   },
   "source": [
    "## The Model Variables\n",
    "\n",
    "**Our pricing problem requires to build paths**\n",
    "\n",
    "We will model this by introducing _a variable for each time step_:\n",
    "\n",
    "$$\n",
    "x_0, x_1, \\ldots x_{eoh-1}\n",
    "$$\n",
    "\n",
    "**In the domain of each variables, we include:**\n",
    "\n",
    "* One value for each node in the original graph\n",
    "  - If $x_t = i$, then we visit node $i$ at time $t$\n",
    "* One special value to specify that the path has not yet started:\n",
    "  - If $x_t = -1$, then the path has not yet started at time $t$\n",
    "* One special value to specify that the path has finished early\n",
    "  - If $x_t = -2$, then the path is already over at time $t$\n",
    "\n",
    "**Overall, we have $D_t = \\{-2, -1, \\ldots, n_v - 1\\}$**"
   ]
  },
  {
   "cell_type": "markdown",
   "metadata": {
    "slideshow": {
     "slide_type": "subslide"
    }
   },
   "source": [
    "## The Model Variables\n",
    "\n",
    "**We also need to track the path weight**\n",
    "\n",
    "We will introducing again _a variable for each time step_:\n",
    "\n",
    "$$\n",
    "y_0, y_1, \\ldots y_{eoh-1}\n",
    "$$\n",
    "\n",
    "Where $y_t \\in \\{-M, \\ldots, M\\}$, with $M$ being a vary large number\n",
    "\n",
    "* Using a large number here is not a problems\n",
    "* ...Since propagation will reduce the domains already at the root node\n",
    "\n",
    "**The total cost of a path can be obtained by summation**\n",
    "\n",
    "$$\n",
    "z = \\sum_{t = 0}^{eoh-1} y_i + \\alpha\n",
    "$$\n",
    "\n",
    "If we want paths with negative weight, we can just add the constraint $z < 0$"
   ]
  },
  {
   "cell_type": "markdown",
   "metadata": {
    "slideshow": {
     "slide_type": "subslide"
    }
   },
   "source": [
    "## Allowed Transitions\n",
    "\n",
    "**We now need to model transitions:**\n",
    "\n",
    "* We can move only along _arcs in the original graph_\n",
    "  - I.g. we can move from $i$ to $j$ iff $(i, j) \\in E$\n",
    "  - ...Where $E$ refers here to the set of arcs in the original graph\n",
    "* ...But the _special values_ make for an exception\n",
    "  - We can always move from $-1$ to $i$\n",
    "  - We can always move from $i$ to $-2$\n",
    "\n",
    "**Overall, the allowed transitions are:**\n",
    "\n",
    "$$\n",
    "\\{(i,j) \\ \\forall (i,j) \\in E\\} \\cup \\{(-1,i) \\ \\forall i \\in V\\} \\cup \\{(i,-2) \\ \\forall i \\in V\\}\n",
    "$$\n",
    "\n",
    "Where $V$ refers here to the set of nodes in the original graph"
   ]
  },
  {
   "cell_type": "markdown",
   "metadata": {
    "slideshow": {
     "slide_type": "subslide"
    }
   },
   "source": [
    "## Allowed Transitions\n",
    "\n",
    "**Let's use our graph as an example**"
   ]
  },
  {
   "cell_type": "code",
   "execution_count": 2,
   "metadata": {},
   "outputs": [
    {
     "data": {
      "image/svg+xml": [
       "<?xml version=\"1.0\" encoding=\"UTF-8\"?>\n",
       "<svg xmlns=\"http://www.w3.org/2000/svg\" xmlns:xlink=\"http://www.w3.org/1999/xlink\" width=\"700\" height=\"150\" viewBox=\"0 0 700 150\">\n",
       "<defs>\n",
       "<g>\n",
       "<g id=\"glyph-0-0\">\n",
       "<path d=\"M 2.703125 -6.992188 C 3.609375 -6.992188 4.265625 -6.621094 4.667969 -5.875 C 4.980469 -5.296875 5.136719 -4.507812 5.136719 -3.507812 C 5.136719 -2.554688 4.996094 -1.769531 4.710938 -1.148438 C 4.300781 -0.257812 3.632812 0.191406 2.699219 0.191406 C 1.859375 0.191406 1.234375 -0.175781 0.824219 -0.902344 C 0.484375 -1.511719 0.3125 -2.328125 0.3125 -3.355469 C 0.3125 -4.148438 0.414062 -4.832031 0.621094 -5.398438 C 1.003906 -6.460938 1.699219 -6.992188 2.703125 -6.992188 Z M 2.695312 -0.609375 C 3.152344 -0.609375 3.515625 -0.8125 3.785156 -1.214844 C 4.054688 -1.617188 4.1875 -2.371094 4.1875 -3.472656 C 4.1875 -4.265625 4.09375 -4.917969 3.898438 -5.433594 C 3.703125 -5.945312 3.320312 -6.203125 2.757812 -6.203125 C 2.242188 -6.203125 1.863281 -5.957031 1.625 -5.472656 C 1.382812 -4.984375 1.265625 -4.265625 1.265625 -3.320312 C 1.265625 -2.609375 1.339844 -2.035156 1.492188 -1.601562 C 1.726562 -0.941406 2.128906 -0.609375 2.695312 -0.609375 Z M 2.695312 -0.609375 \"/>\n",
       "</g>\n",
       "<g id=\"glyph-0-1\">\n",
       "<path d=\"M 0.957031 -4.953125 L 0.957031 -5.625 C 1.59375 -5.6875 2.035156 -5.789062 2.285156 -5.933594 C 2.535156 -6.078125 2.722656 -6.421875 2.847656 -6.960938 L 3.539062 -6.960938 L 3.539062 0 L 2.601562 0 L 2.601562 -4.953125 Z M 0.957031 -4.953125 \"/>\n",
       "</g>\n",
       "<g id=\"glyph-0-2\">\n",
       "<path d=\"M 0.3125 0 C 0.34375 -0.601562 0.46875 -1.125 0.6875 -1.570312 C 0.902344 -2.015625 1.324219 -2.421875 1.953125 -2.789062 L 2.890625 -3.328125 C 3.3125 -3.574219 3.605469 -3.78125 3.773438 -3.953125 C 4.039062 -4.226562 4.175781 -4.535156 4.175781 -4.882812 C 4.175781 -5.289062 4.054688 -5.613281 3.808594 -5.851562 C 3.5625 -6.089844 3.238281 -6.210938 2.832031 -6.210938 C 2.230469 -6.210938 1.8125 -5.984375 1.582031 -5.527344 C 1.457031 -5.28125 1.390625 -4.945312 1.375 -4.511719 L 0.484375 -4.511719 C 0.492188 -5.121094 0.605469 -5.617188 0.820312 -6 C 1.203125 -6.679688 1.875 -7.015625 2.835938 -7.015625 C 3.636719 -7.015625 4.222656 -6.800781 4.59375 -6.367188 C 4.960938 -5.933594 5.148438 -5.453125 5.148438 -4.921875 C 5.148438 -4.363281 4.949219 -3.882812 4.554688 -3.484375 C 4.328125 -3.253906 3.917969 -2.976562 3.328125 -2.648438 L 2.660156 -2.273438 C 2.34375 -2.097656 2.089844 -1.933594 1.910156 -1.773438 C 1.585938 -1.488281 1.378906 -1.175781 1.292969 -0.828125 L 5.113281 -0.828125 L 5.113281 0 Z M 0.3125 0 \"/>\n",
       "</g>\n",
       "<g id=\"glyph-0-3\">\n",
       "<path d=\"M 2.597656 0.191406 C 1.769531 0.191406 1.171875 -0.0351562 0.796875 -0.492188 C 0.425781 -0.945312 0.238281 -1.496094 0.238281 -2.148438 L 1.15625 -2.148438 C 1.195312 -1.695312 1.28125 -1.367188 1.410156 -1.164062 C 1.640625 -0.796875 2.050781 -0.609375 2.648438 -0.609375 C 3.109375 -0.609375 3.480469 -0.734375 3.757812 -0.980469 C 4.039062 -1.226562 4.179688 -1.546875 4.179688 -1.9375 C 4.179688 -2.421875 4.03125 -2.757812 3.738281 -2.949219 C 3.445312 -3.140625 3.035156 -3.238281 2.507812 -3.238281 C 2.449219 -3.238281 2.390625 -3.238281 2.332031 -3.234375 C 2.273438 -3.234375 2.210938 -3.230469 2.148438 -3.226562 L 2.148438 -4.003906 C 2.238281 -3.992188 2.316406 -3.988281 2.378906 -3.984375 C 2.441406 -3.980469 2.507812 -3.980469 2.578125 -3.980469 C 2.90625 -3.980469 3.175781 -4.03125 3.390625 -4.136719 C 3.761719 -4.320312 3.945312 -4.644531 3.945312 -5.113281 C 3.945312 -5.460938 3.820312 -5.730469 3.574219 -5.917969 C 3.328125 -6.105469 3.039062 -6.203125 2.710938 -6.203125 C 2.125 -6.203125 1.71875 -6.007812 1.492188 -5.617188 C 1.371094 -5.402344 1.300781 -5.09375 1.285156 -4.695312 L 0.414062 -4.695312 C 0.414062 -5.21875 0.519531 -5.660156 0.726562 -6.023438 C 1.085938 -6.675781 1.714844 -7 2.617188 -7 C 3.328125 -7 3.882812 -6.84375 4.273438 -6.527344 C 4.664062 -6.210938 4.859375 -5.75 4.859375 -5.148438 C 4.859375 -4.71875 4.742188 -4.367188 4.511719 -4.101562 C 4.367188 -3.9375 4.183594 -3.804688 3.953125 -3.710938 C 4.320312 -3.609375 4.609375 -3.414062 4.816406 -3.128906 C 5.023438 -2.839844 5.125 -2.488281 5.125 -2.070312 C 5.125 -1.402344 4.90625 -0.859375 4.46875 -0.4375 C 4.027344 -0.0195312 3.40625 0.191406 2.597656 0.191406 Z M 2.597656 0.191406 \"/>\n",
       "</g>\n",
       "</g>\n",
       "</defs>\n",
       "<rect x=\"-70\" y=\"-15\" width=\"840\" height=\"180\" fill=\"rgb(100%, 100%, 100%)\" fill-opacity=\"1\"/>\n",
       "<path fill=\"none\" stroke-width=\"1\" stroke-linecap=\"butt\" stroke-linejoin=\"miter\" stroke=\"rgb(26.666667%, 26.666667%, 26.666667%)\" stroke-opacity=\"1\" stroke-miterlimit=\"10\" d=\"M 399.132812 50.761719 C 399.132812 63.1875 389.058594 73.261719 376.632812 73.261719 C 364.207031 73.261719 354.132812 63.1875 354.132812 50.761719 C 354.132812 38.335938 364.207031 28.261719 376.632812 28.261719 C 389.058594 28.261719 399.132812 38.335938 399.132812 50.761719 \"/>\n",
       "<path fill=\"none\" stroke-width=\"1\" stroke-linecap=\"butt\" stroke-linejoin=\"miter\" stroke=\"rgb(26.666667%, 26.666667%, 26.666667%)\" stroke-opacity=\"1\" stroke-miterlimit=\"10\" d=\"M 360.722656 66.671875 C 301.535156 28.882812 242.117188 29.722656 192.664062 79.347656 \"/>\n",
       "<path fill-rule=\"nonzero\" fill=\"rgb(26.666667%, 26.666667%, 26.666667%)\" fill-opacity=\"1\" d=\"M 182.59375 89.449219 L 189.382812 76.074219 L 195.949219 82.617188 L 182.59375 89.449219 \"/>\n",
       "<path fill=\"none\" stroke-width=\"1\" stroke-linecap=\"butt\" stroke-linejoin=\"miter\" stroke=\"rgb(26.666667%, 26.666667%, 26.666667%)\" stroke-opacity=\"1\" stroke-miterlimit=\"10\" d=\"M 210.492188 84.089844 C 210.492188 96.515625 200.417969 106.589844 187.992188 106.589844 C 175.566406 106.589844 165.492188 96.515625 165.492188 84.089844 C 165.492188 71.664062 175.566406 61.589844 187.992188 61.589844 C 200.417969 61.589844 210.492188 71.664062 210.492188 84.089844 \"/>\n",
       "<path fill=\"none\" stroke-width=\"1\" stroke-linecap=\"butt\" stroke-linejoin=\"miter\" stroke=\"rgb(26.666667%, 26.666667%, 26.666667%)\" stroke-opacity=\"1\" stroke-miterlimit=\"10\" d=\"M 360.722656 66.671875 L 79.261719 62.554688 \"/>\n",
       "<path fill-rule=\"nonzero\" fill=\"rgb(26.666667%, 26.666667%, 26.666667%)\" fill-opacity=\"1\" d=\"M 65 62.34375 L 79.332031 57.917969 L 79.195312 67.1875 L 65 62.34375 \"/>\n",
       "<path fill=\"none\" stroke-width=\"1\" stroke-linecap=\"butt\" stroke-linejoin=\"miter\" stroke=\"rgb(26.666667%, 26.666667%, 26.666667%)\" stroke-opacity=\"1\" stroke-miterlimit=\"10\" d=\"M 88.410156 46.214844 C 88.410156 58.640625 78.335938 68.714844 65.910156 68.714844 C 53.484375 68.714844 43.410156 58.640625 43.410156 46.214844 C 43.410156 33.789062 53.484375 23.714844 65.910156 23.714844 C 78.335938 23.714844 88.410156 33.789062 88.410156 46.214844 \"/>\n",
       "<path fill=\"none\" stroke-width=\"1\" stroke-linecap=\"butt\" stroke-linejoin=\"miter\" stroke=\"rgb(26.666667%, 26.666667%, 26.666667%)\" stroke-opacity=\"1\" stroke-miterlimit=\"10\" d=\"M 360.722656 66.671875 L 620.78125 51.683594 \"/>\n",
       "<path fill-rule=\"nonzero\" fill=\"rgb(26.666667%, 26.666667%, 26.666667%)\" fill-opacity=\"1\" d=\"M 635.023438 50.863281 L 621.050781 56.3125 L 620.515625 47.054688 L 635.023438 50.863281 \"/>\n",
       "<path fill=\"none\" stroke-width=\"1\" stroke-linecap=\"butt\" stroke-linejoin=\"miter\" stroke=\"rgb(26.666667%, 26.666667%, 26.666667%)\" stroke-opacity=\"1\" stroke-miterlimit=\"10\" d=\"M 688.410156 34.089844 C 688.410156 46.515625 678.335938 56.589844 665.910156 56.589844 C 653.484375 56.589844 643.410156 46.515625 643.410156 34.089844 C 643.410156 21.664062 653.484375 11.589844 665.910156 11.589844 C 678.335938 11.589844 688.410156 21.664062 688.410156 34.089844 \"/>\n",
       "<path fill=\"none\" stroke-width=\"1\" stroke-linecap=\"butt\" stroke-linejoin=\"miter\" stroke=\"rgb(26.666667%, 26.666667%, 26.666667%)\" stroke-opacity=\"1\" stroke-miterlimit=\"10\" d=\"M 172.082031 100 C 231.269531 137.789062 290.6875 136.949219 340.140625 87.324219 \"/>\n",
       "<path fill-rule=\"nonzero\" fill=\"rgb(26.666667%, 26.666667%, 26.666667%)\" fill-opacity=\"1\" d=\"M 350.210938 77.222656 L 343.425781 90.597656 L 336.859375 84.054688 L 350.210938 77.222656 \"/>\n",
       "<path fill=\"none\" stroke-width=\"1\" stroke-linecap=\"butt\" stroke-linejoin=\"miter\" stroke=\"rgb(26.666667%, 26.666667%, 26.666667%)\" stroke-opacity=\"1\" stroke-miterlimit=\"10\" d=\"M 172.082031 100 L 77.953125 70.796875 \"/>\n",
       "<path fill-rule=\"nonzero\" fill=\"rgb(26.666667%, 26.666667%, 26.666667%)\" fill-opacity=\"1\" d=\"M 64.328125 66.570312 L 79.324219 66.371094 L 76.578125 75.222656 L 64.328125 66.570312 \"/>\n",
       "<path fill-rule=\"nonzero\" fill=\"rgb(55.294118%, 82.745098%, 78.039216%)\" fill-opacity=\"1\" stroke-width=\"1\" stroke-linecap=\"butt\" stroke-linejoin=\"miter\" stroke=\"rgb(0%, 0%, 0%)\" stroke-opacity=\"1\" stroke-miterlimit=\"10\" d=\"M 375.722656 66.671875 C 375.722656 74.957031 369.007812 81.671875 360.722656 81.671875 C 352.4375 81.671875 345.722656 74.957031 345.722656 66.671875 C 345.722656 58.386719 352.4375 51.671875 360.722656 51.671875 C 369.007812 51.671875 375.722656 58.386719 375.722656 66.671875 \"/>\n",
       "<path fill-rule=\"nonzero\" fill=\"rgb(100%, 100%, 70.196078%)\" fill-opacity=\"1\" stroke-width=\"1\" stroke-linecap=\"butt\" stroke-linejoin=\"miter\" stroke=\"rgb(0%, 0%, 0%)\" stroke-opacity=\"1\" stroke-miterlimit=\"10\" d=\"M 187.082031 100 C 187.082031 108.285156 180.367188 115 172.082031 115 C 163.796875 115 157.082031 108.285156 157.082031 100 C 157.082031 91.714844 163.796875 85 172.082031 85 C 180.367188 85 187.082031 91.714844 187.082031 100 \"/>\n",
       "<path fill-rule=\"nonzero\" fill=\"rgb(74.509804%, 72.941176%, 85.490196%)\" fill-opacity=\"1\" stroke-width=\"1\" stroke-linecap=\"butt\" stroke-linejoin=\"miter\" stroke=\"rgb(0%, 0%, 0%)\" stroke-opacity=\"1\" stroke-miterlimit=\"10\" d=\"M 65 62.125 C 65 70.410156 58.285156 77.125 50 77.125 C 41.714844 77.125 35 70.410156 35 62.125 C 35 53.839844 41.714844 47.125 50 47.125 C 58.285156 47.125 65 53.839844 65 62.125 \"/>\n",
       "<path fill-rule=\"nonzero\" fill=\"rgb(98.431373%, 50.196078%, 44.705882%)\" fill-opacity=\"1\" stroke-width=\"1\" stroke-linecap=\"butt\" stroke-linejoin=\"miter\" stroke=\"rgb(0%, 0%, 0%)\" stroke-opacity=\"1\" stroke-miterlimit=\"10\" d=\"M 665 50 C 665 58.285156 658.285156 65 650 65 C 641.714844 65 635 58.285156 635 50 C 635 41.714844 641.714844 35 650 35 C 658.285156 35 665 41.714844 665 50 \"/>\n",
       "<g fill=\"rgb(0%, 0%, 0%)\" fill-opacity=\"1\">\n",
       "<use xlink:href=\"#glyph-0-0\" x=\"358\" y=\"71.316406\"/>\n",
       "</g>\n",
       "<g fill=\"rgb(0%, 0%, 0%)\" fill-opacity=\"1\">\n",
       "<use xlink:href=\"#glyph-0-1\" x=\"169.832031\" y=\"104.632812\"/>\n",
       "</g>\n",
       "<g fill=\"rgb(0%, 0%, 0%)\" fill-opacity=\"1\">\n",
       "<use xlink:href=\"#glyph-0-2\" x=\"47.269531\" y=\"66.785156\"/>\n",
       "</g>\n",
       "<g fill=\"rgb(0%, 0%, 0%)\" fill-opacity=\"1\">\n",
       "<use xlink:href=\"#glyph-0-3\" x=\"647.316406\" y=\"54.652344\"/>\n",
       "</g>\n",
       "</svg>\n"
      ],
      "text/plain": [
       "<igraph.drawing.cairo.plot.CairoPlot at 0x141f56fd0>"
      ]
     },
     "execution_count": 2,
     "metadata": {
      "image/svg+xml": {
       "isolated": true
      }
     },
     "output_type": "execute_result"
    }
   ],
   "source": [
    "ig.plot(g, **util.get_visual_style(g), bbox=(700, 150), margin=50)"
   ]
  },
  {
   "cell_type": "markdown",
   "metadata": {},
   "source": [
    "The allowed transitions are:\n",
    "$$\n",
    "(0,0), (0,1), (0,2), (0,3), (1,0), (1,1), (2,2), (3,3),\\\\\n",
    "(-1,0), (-1,1), (-1,2), (-1,2),\\\\\n",
    "(0,-2), (1,-2), (2,-2), (3,-2)\n",
    "$$"
   ]
  },
  {
   "cell_type": "markdown",
   "metadata": {
    "slideshow": {
     "slide_type": "subslide"
    }
   },
   "source": [
    "## Transition Weights\n",
    "\n",
    "**When we move, we accumulate weight**\n",
    "\n",
    "Let $n(t, i)$ and $e(t, i, j)$ be the TUG indexes for pair $(t,i)$ and triple $(t,i,j)$ \n",
    "\n",
    "* When we move _towards_ node $i$ at time $t$, we accumulate $r^v_{n(t,i)} + \\lambda_{n(t,i)}$\n",
    "  - As an exception, moving towards $-2$ accumulates 0 weight\n",
    "* When we move _from_ node $i$ at _time 0_, we also accumulate $r^v_{n(0,i)} + \\lambda_{n(0,i)}$ \n",
    "* When we move from $i$ to $j$ at time $t$, we accumulate $r^e_{e(t, i, j)}$\n",
    "\n",
    "**In detail:**\n",
    "\n",
    "* If we move from $i$ to $j$ at time $t > 0$, we accumulate:\n",
    "  - $r^v_{n(t,j)} + \\lambda_{n(t,j)}$ for the destination node\n",
    "  - $r^e_{n(t,i,j)}$ for the arc"
   ]
  },
  {
   "cell_type": "markdown",
   "metadata": {
    "slideshow": {
     "slide_type": "subslide"
    }
   },
   "source": [
    "## Transition Weights\n",
    "\n",
    "**When we move, we accumulate weight**\n",
    "\n",
    "Let $n(t, i)$ and $e(t, i, j)$ be the TUG indexes for pair $(t,i)$ and triple $(t,i,j)$ \n",
    "\n",
    "* When we move _towards_ node $i$ at time $t$, we accumulate $r^v_{n(t,i)} + \\lambda_{n(t,i)}$\n",
    "  - As an exception, moving towards $-2$ accumulates 0 weight\n",
    "* When we move _from_ node $i$ at _time 0_, we also accumulate $r^v_{n(0,i)} + \\lambda_{n(0,i)}$ \n",
    "* When we move from $i$ to $j$ at time $t$, we accumulate $r^e_{e(t, i, j)}$\n",
    "\n",
    "**In detail:**\n",
    "\n",
    "* If we move from $i$ to $j$ at time $t = 0$, we accumulate:\n",
    "  - $r^v_{n(t,i)} + \\lambda_{n(t,i)}$ for the source node\n",
    "  - $r^v_{n(t,j)} + \\lambda_{n(t,j)}$ for the destination node\n",
    "  - $r^e_{n(t,i,j)}$ for the arc"
   ]
  },
  {
   "cell_type": "markdown",
   "metadata": {
    "slideshow": {
     "slide_type": "subslide"
    }
   },
   "source": [
    "## Transition Weights\n",
    "\n",
    "**When we move, we accumulate weight**\n",
    "\n",
    "Let $n(t, i)$ and $e(t, i, j)$ be the TUG indexes for pair $(t,i)$ and triple $(t,i,j)$ \n",
    "\n",
    "* When we move _towards_ node $i$ at time $t$, we accumulate $r^v_{n(t,i)} + \\lambda_{n(t,i)}$\n",
    "  - As an exception, moving towards $-2$ accumulates 0 weight\n",
    "* When we move _from_ node $i$ at _time 0_, we also accumulate $r^v_{n(0,i)} + \\lambda_{n(0,i)}$ \n",
    "* When we move from $i$ to $j$ at time $t$, we accumulate $r^e_{e(t, i, j)}$\n",
    "\n",
    "**Let's see some examples:**\n",
    "\n",
    "* If we move from $-1$ to $j$ at time $t$, we accumulate:\n",
    "  - $r^v_{n(t,j)} + \\lambda_{n(t,j)}$ for the destination node\n",
    "* If we move from $i$ to $-2$ at time $t = 0$, we accumulate:\n",
    "  - $r^v_{n(t,i)} + \\lambda_{n(t,i)}$ for the source node\n",
    "* If we move from $i$ to $-2$ at time $t > 0$, we accumulate 0"
   ]
  },
  {
   "cell_type": "markdown",
   "metadata": {
    "slideshow": {
     "slide_type": "subslide"
    }
   },
   "source": [
    "## Allowed Transitions\n",
    "\n",
    "**We can use this information to populate tables**\n",
    "\n",
    "...And use them within a set of ${\\scriptsize \\text{ALLOWED}}$ constraints:\n",
    "\n",
    "$$\\begin{align}\n",
    "& {\\scriptsize \\text{ALLOWED}}([x_0, x_1, y_0], T_0) & \\text{ for time $0$} \\\\\n",
    "& {\\scriptsize \\text{ALLOWED}}([x_1, x_2, y_1], T_1) & \\text{ for time $1$} \\\\\n",
    "&\\ldots & \\\\\n",
    "& {\\scriptsize \\text{ALLOWED}}([x_{eoh-2}, x_{eoh-1}, y_{eoh-1}], T_{eoh-1}) & \\text{ for time $eoh-1$}\n",
    "\\end{align}$$\n",
    "\n",
    "* The constraints allow only feasible transitions\n",
    "* ...And compute the corresponding cost\n",
    "\n",
    "**As a result of propagation**\n",
    "\n",
    "...A restriction on the cost may result in pruned values\n",
    "\n",
    "* This prevents us from considering many useless paths"
   ]
  },
  {
   "cell_type": "markdown",
   "metadata": {
    "slideshow": {
     "slide_type": "subslide"
    }
   },
   "source": [
    "## Forbidden Transitions\n",
    "\n",
    "**We can handle the maximum wait restriction via _forbidden transitions_**\n",
    "\n",
    "...Using of course the ${\\scriptsize \\text{FORBIDDEN}}$ constraint\n",
    "\n",
    "* Let $n_w$ be the maximum number of allowed waits\n",
    "* ...Then the forbidden transitions are:\n",
    "\n",
    "$$\n",
    "\\bar{T} = \\{\\{i\\}_{h=0..n_w} \\ \\forall i \\in V \\}\n",
    "$$\n",
    "\n",
    "I.e. any repetition of a node index for $n_w+1$ times\n",
    "\n",
    "**Since we have $n_w = 2$ in our case, we forbid:**\n",
    "\n",
    "$$\n",
    "\\{(0,0,0), (1,1,1), (2,2,2), (3,3,3)\\}\n",
    "$$\n",
    "\n",
    "I.e. we cannot spend 3 time steps on any node"
   ]
  },
  {
   "cell_type": "markdown",
   "metadata": {
    "slideshow": {
     "slide_type": "subslide"
    }
   },
   "source": [
    "## Forbidden Transitions\n",
    "\n",
    "**We need to add $eoh - n_w$ constraints using this table**\n",
    "\n",
    "...So as to prevent excessive waiting over all the time horizon\n",
    "\n",
    "$$\\begin{align}\n",
    "& {\\scriptsize \\text{FORBIDDEN}}([x_0, \\ldots, x_{n_w}], \\bar{T}) & \\text{ for time $n_w$} \\\\\n",
    "& {\\scriptsize \\text{FORBIDDEN}}([x_1, \\ldots, x_{n_w+1}], \\bar{T}) & \\text{ for time $n_w+1$} \\\\\n",
    "&\\ldots & \\\\\n",
    "& {\\scriptsize \\text{FORBIDDEN}}([x_{eoh-1-n_w}, \\ldots, x_{eoh-1}], \\bar{T}) & \\text{ for time $eoh-1$} \n",
    "\\end{align}$$\n",
    "\n",
    "Both in this and in the previous case:\n",
    "\n",
    "* The number of constraints grows linearly with $eoh$\n",
    "* The table size is relatively limited"
   ]
  },
  {
   "cell_type": "markdown",
   "metadata": {
    "slideshow": {
     "slide_type": "subslide"
    }
   },
   "source": [
    "## Model Code\n",
    "\n",
    "**The code for this model is in the `solve_pricing_problem_maxwaits` function**\n",
    "\n",
    "We start by building a model using the [Google Or-tools CP-SAT solver](https://developers.google.com/optimization):\n",
    "\n",
    "```python\n",
    "mdl = cp_model.CpModel()\n",
    "```\n",
    "\n",
    "Then we build the variables:\n",
    "\n",
    "```python\n",
    "x = {i: mdl.NewIntVar(-2, mni, f'x_{i}') for i in range(eoh)}\n",
    "c = {i: mdl.NewIntVar(minwgt, maxwgt, f'c_{i}') for i in range(1, eoh)}\n",
    "z = mdl.NewIntVar(minwgt * eoh, maxwgt * eoh, 'z')\n",
    "```\n",
    "\n",
    "We are using _integer_ variables even if have real weights:\n",
    "\n",
    "* The trick is to rely on _finite precision_\n",
    "* Given a weight $w$, we transform it as $round(w * p)$\n",
    "* So that we obtain an integer, at the expense of some precision"
   ]
  },
  {
   "cell_type": "markdown",
   "metadata": {
    "slideshow": {
     "slide_type": "subslide"
    }
   },
   "source": [
    "## Model Code\n",
    "\n",
    "**The code for this model is in the `solve_pricing_problem_maxwaits` function**\n",
    "\n",
    "We add all ${\\scriptsize \\text{ALLOWED}}$ constraints\n",
    "\n",
    "```python\n",
    "for t in range(1, eoh):\n",
    "    # Build the table\n",
    "    ...\n",
    "    mdl.AddAllowedAssignments([x[t-1], x[t], c[t]], alw)\n",
    "```\n",
    "\n",
    "Then the ${\\scriptsize \\text{FORBIDDEN}}$ constraints\n",
    "\n",
    "```python\n",
    "if max_waits is not None:\n",
    "    for t in range(max_waits, eoh):\n",
    "        # Build the table\n",
    "        ...\n",
    "        mdl.AddForbiddenAssignments(scope, frb)\n",
    "```"
   ]
  },
  {
   "cell_type": "markdown",
   "metadata": {
    "slideshow": {
     "slide_type": "subslide"
    }
   },
   "source": [
    "## Model Code\n",
    "\n",
    "**The code for this model is in the `solve_pricing_problem_maxwaits` function**\n",
    "\n",
    "Finally, we define the total path weight:\n",
    "\n",
    "```python\n",
    "mdl.Add(z == sum(c[i] for i in range(1, eoh)))\n",
    "```\n",
    "\n",
    "...And we define a constraint on the $z$ variable:\n",
    "```python\n",
    "mdl.Add(z < -round(alpha / prec))\n",
    "```\n",
    "\n",
    "* We do not _need_ to minimize $z$ (although we may)\n",
    "* ...Since it is enough to search for paths with negative weight"
   ]
  },
  {
   "cell_type": "markdown",
   "metadata": {
    "slideshow": {
     "slide_type": "subslide"
    }
   },
   "source": [
    "## Model Code\n",
    "\n",
    "**The code for this model is in the `solve_pricing_problem_maxwaits` function**\n",
    "\n",
    "We build a solver and set a time limit:\n",
    "\n",
    "```python\n",
    "slv = cp_model.CpSolver()\n",
    "slv.parameters.max_time_in_seconds = time_limit\n",
    "```\n",
    "\n",
    "We tell the solver not to stop after the first solution:\n",
    "\n",
    "```python\n",
    "slv.parameters.enumerate_all_solutions = True\n",
    "```\n",
    "\n",
    "We define a callback to store all solutions:\n",
    "\n",
    "```python\n",
    "class Collector(cp_model.CpSolverSolutionCallback):\n",
    "```\n",
    "\n",
    "...And the we solve the problem:\n",
    "\n",
    "```python\n",
    "status = slv.SolveWithSolutionCallback(mdl, collector)\n",
    "```"
   ]
  },
  {
   "cell_type": "markdown",
   "metadata": {
    "slideshow": {
     "slide_type": "subslide"
    }
   },
   "source": [
    "## Maximum Wait Pricing in Action\n",
    "\n",
    "**Let's test our new code in an enumeration task**"
   ]
  },
  {
   "cell_type": "code",
   "execution_count": 6,
   "metadata": {},
   "outputs": [
    {
     "name": "stdout",
     "output_type": "stream",
     "text": [
      "COST: PATH\n",
      "0.20: 0,0 > 1,0 > 2,1 > 3,0\n",
      "0.20: 2,1 > 3,0\n",
      "0.20: 2,1 > 3,2\n",
      "0.20: 0,0 > 1,0 > 2,1 > 3,2\n",
      "0.28: 1,1 > 2,1 > 3,2\n",
      "0.28: 1,1 > 2,1 > 3,0\n",
      "0.34: 0,0 > 1,1 > 2,1 > 3,0\n",
      "0.34: 0,0 > 1,1 > 2,1 > 3,2\n",
      "0.48: 1,0 > 2,1 > 3,2\n",
      "0.76: 0,1 > 1,0 > 2,1 > 3,2\n",
      "0.76: 0,1 > 1,0 > 2,1 > 3,0\n"
     ]
    }
   ],
   "source": [
    "ncosts_n, npaths_n = util.solve_pricing_problem_maxwaits(tug, rflows_n, rpaths_n,\n",
    "                                             node_counts_n, arc_counts_n, max_waits=2,\n",
    "                                             cover_duals=mvc_duals,\n",
    "                                             alpha=alpha, filter_paths=False, max_paths=10)\n",
    "print('COST: PATH')\n",
    "util.print_solution(tug, ncosts_n, npaths_n, sort='ascending')"
   ]
  },
  {
   "cell_type": "markdown",
   "metadata": {},
   "source": [
    "* Paths with more than 2 consecutive visits to the same node are not built"
   ]
  },
  {
   "cell_type": "markdown",
   "metadata": {
    "slideshow": {
     "slide_type": "subslide"
    }
   },
   "source": [
    "## Maximum Wait Pricing in Action\n",
    "\n",
    "**Let's test our new code in an enumeration task**"
   ]
  },
  {
   "cell_type": "code",
   "execution_count": 7,
   "metadata": {},
   "outputs": [
    {
     "name": "stdout",
     "output_type": "stream",
     "text": [
      "FLOW: PATH\n",
      "-0.00: 1,0 > 2,0 > 3,2\n",
      "-0.00: 1,0 > 2,0 > 3,3\n",
      "-0.00: 2,0 > 3,0\n",
      "-0.00: 2,0 > 3,2\n",
      "-0.00: 2,3 > 3,3\n",
      "-0.00: 2,0 > 3,3\n",
      "-0.00: 0,0 > 1,0 > 2,3 > 3,3\n"
     ]
    }
   ],
   "source": [
    "ncosts_n, npaths_n = util.solve_pricing_problem_maxwaits(tug, rflows_n, rpaths_n,\n",
    "                                             node_counts_n, arc_counts_n, max_waits=2,\n",
    "                                             cover_duals=mvc_duals,\n",
    "                                             alpha=alpha, filter_paths=True, max_paths=10)\n",
    "print('FLOW: PATH')\n",
    "util.print_solution(tug, ncosts_n, npaths_n, sort='ascending')"
   ]
  },
  {
   "cell_type": "markdown",
   "metadata": {},
   "source": [
    "* Some paths (erroneously) have negative waits due to the use of finite precision\n",
    "* Our column generation code can handle this issue"
   ]
  },
  {
   "cell_type": "markdown",
   "metadata": {
    "slideshow": {
     "slide_type": "subslide"
    }
   },
   "source": [
    "## Column Generation with Maximum Waits\n",
    "\n",
    "**Finally, we can test the column generation code itself**"
   ]
  },
  {
   "cell_type": "code",
   "execution_count": 19,
   "metadata": {},
   "outputs": [
    {
     "name": "stdout",
     "output_type": "stream",
     "text": [
      "It.0, sse: 209.13, #paths: 27, new: 11\n",
      "It.1, sse: 202.55, #paths: 38, new: 11\n",
      "It.2, sse: 141.07, #paths: 45, new: 7\n",
      "It.3, sse: 131.99, #paths: 51, new: 6\n",
      "It.4, sse: 103.51, #paths: 59, new: 8\n",
      "It.5, sse: 83.07, #paths: 59, new: 0\n",
      "FLOW: PATH\n",
      "8.29: 3,3\n",
      "5.76: 0,2\n",
      "5.39: 2,3\n",
      "4.56: 3,2\n",
      "3.29: 0,1 > 1,1 > 2,0 > 3,0\n",
      "3.05: 1,2\n",
      "...\n",
      "RSSE: 9.11\n"
     ]
    }
   ],
   "source": [
    "rflows_cg, rpaths_cg = util.trajectory_extraction_cg(tug, node_counts_n, arc_counts_n,\n",
    "                                    alpha=alpha, min_vertex_cover=mvc, max_iter=30,\n",
    "                                    verbose=1, max_paths_per_iter=10, max_waits=2, solver='piqp')\n",
    "print('FLOW: PATH')\n",
    "util.print_solution(tug, rflows_cg, rpaths_cg, sort='descending', max_paths=6)\n",
    "sse = util.get_reconstruction_error(tug, rflows_cg, rpaths_cg, node_counts_n, arc_counts_n)\n",
    "print(f'RSSE: {np.sqrt(sse):.2f}')"
   ]
  }
 ],
 "metadata": {
  "celltoolbar": "Slideshow",
  "kernelspec": {
   "display_name": "Python 3 (ipykernel)",
   "language": "python",
   "name": "python3"
  },
  "language_info": {
   "codemirror_mode": {
    "name": "ipython",
    "version": 3
   },
   "file_extension": ".py",
   "mimetype": "text/x-python",
   "name": "python",
   "nbconvert_exporter": "python",
   "pygments_lexer": "ipython3",
   "version": "3.11.8"
  },
  "rise": {
   "center": false,
   "transition": "fade"
  }
 },
 "nbformat": 4,
 "nbformat_minor": 4
}
