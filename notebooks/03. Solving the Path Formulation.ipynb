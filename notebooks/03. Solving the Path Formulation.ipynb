{
 "cells": [
  {
   "cell_type": "code",
   "execution_count": 1,
   "metadata": {
    "slideshow": {
     "slide_type": "skip"
    }
   },
   "outputs": [],
   "source": [
    "# ============================================================\n",
    "# Notebook setup: run this before everything\n",
    "# ============================================================\n",
    "\n",
    "%load_ext autoreload\n",
    "%autoreload 2\n",
    "\n",
    "# Control figure size\n",
    "figsize=(14, 5)\n",
    "\n",
    "#from matplotlib import pyplot as plt\n",
    "from util import util\n",
    "import igraph as ig\n",
    "import numpy as np\n",
    "\n",
    "# ============================================================\n",
    "# Repeat the relevant previous steps\n",
    "# ============================================================\n",
    "\n",
    "# Generate a graph\n",
    "g = util.build_website_graph(nnodes=4, rate=3, extra_arc_fraction=0.25, seed=42)\n",
    "# Route flows (ground truth)\n",
    "eoh = 4\n",
    "flows, paths = util.build_random_paths(g, min_paths=3, max_paths=5,\n",
    "                                          min_units=1, max_units=10, eoh=eoh, seed=42)\n",
    "# Unfold\n",
    "tug = util.build_time_unfolded_graph(g, eoh=eoh)\n",
    "# Compute counts\n",
    "node_counts, arc_counts = util.get_counts(tug, flows, paths)"
   ]
  },
  {
   "cell_type": "markdown",
   "metadata": {
    "slideshow": {
     "slide_type": "slide"
    }
   },
   "source": [
    "# Solving the Path Formulation\n",
    "\n",
    "Which will be our baseline"
   ]
  },
  {
   "cell_type": "markdown",
   "metadata": {
    "slideshow": {
     "slide_type": "subslide"
    }
   },
   "source": [
    "## Solving the Path Formulation\n",
    "\n",
    "**The path formulation consists in the Quadratic Program:**\n",
    "\n",
    "$$\n",
    "\\arg \\min_{x} \\left\\{\\frac{1}{2} x^T P x + q^T x \\mid x \\geq 0 \\right\\}\n",
    "$$\n",
    "\n",
    "Where $P = V^T V + E^T E$ and $q = -V^T v -E^T e$"
   ]
  },
  {
   "cell_type": "markdown",
   "metadata": {
    "slideshow": {
     "slide_type": "fragment"
    }
   },
   "source": [
    "**Therefore, if we want to solve the problem we need:**\n",
    "\n",
    "* The binary matrix $V$, s.t. $V_{ij} = 1$ iff node $i$ is in path $j$\n",
    "* The binary matrix $E$, s.t. $E_{kj} = 1$ iff arc $k$ is in path $j$\n",
    "* The vector $v$, containing the node counts\n",
    "* The vector $e$, containing the arc counts\n",
    "\n",
    "**In turn, to get these we need to define _a set of paths_ on the TUG**"
   ]
  },
  {
   "cell_type": "markdown",
   "metadata": {
    "slideshow": {
     "slide_type": "subslide"
    }
   },
   "source": [
    "## Path Enumeration\n",
    "\n",
    "**Unless we want to loose optimality, we need to consider _all the TUG paths_**\n",
    "\n",
    "First, we augment the Time Unfolded Graph with a _fake source node_"
   ]
  },
  {
   "cell_type": "code",
   "execution_count": 2,
   "metadata": {},
   "outputs": [
    {
     "data": {
      "image/svg+xml": [
       "<?xml version=\"1.0\" encoding=\"UTF-8\"?>\n",
       "<svg xmlns=\"http://www.w3.org/2000/svg\" xmlns:xlink=\"http://www.w3.org/1999/xlink\" width=\"700\" height=\"250\" viewBox=\"0 0 700 250\">\n",
       "<defs>\n",
       "<g>\n",
       "<g id=\"glyph-0-0\">\n",
       "<path d=\"M 2.703125 -6.992188 C 3.609375 -6.992188 4.265625 -6.621094 4.667969 -5.875 C 4.980469 -5.296875 5.136719 -4.507812 5.136719 -3.507812 C 5.136719 -2.554688 4.996094 -1.769531 4.710938 -1.148438 C 4.300781 -0.257812 3.632812 0.191406 2.699219 0.191406 C 1.859375 0.191406 1.234375 -0.175781 0.824219 -0.902344 C 0.484375 -1.511719 0.3125 -2.328125 0.3125 -3.355469 C 0.3125 -4.148438 0.414062 -4.832031 0.621094 -5.398438 C 1.003906 -6.460938 1.699219 -6.992188 2.703125 -6.992188 Z M 2.695312 -0.609375 C 3.152344 -0.609375 3.515625 -0.8125 3.785156 -1.214844 C 4.054688 -1.617188 4.1875 -2.371094 4.1875 -3.472656 C 4.1875 -4.265625 4.09375 -4.917969 3.898438 -5.433594 C 3.703125 -5.945312 3.320312 -6.203125 2.757812 -6.203125 C 2.242188 -6.203125 1.863281 -5.957031 1.625 -5.472656 C 1.382812 -4.984375 1.265625 -4.265625 1.265625 -3.320312 C 1.265625 -2.609375 1.339844 -2.035156 1.492188 -1.601562 C 1.726562 -0.941406 2.128906 -0.609375 2.695312 -0.609375 Z M 2.695312 -0.609375 \"/>\n",
       "</g>\n",
       "<g id=\"glyph-0-1\">\n",
       "<path d=\"M 0.828125 1.019531 C 1.054688 0.980469 1.210938 0.824219 1.304688 0.546875 C 1.351562 0.398438 1.375 0.257812 1.375 0.121094 C 1.375 0.0976562 1.375 0.078125 1.375 0.0625 C 1.375 0.0429688 1.367188 0.0234375 1.363281 0 L 0.828125 0 L 0.828125 -1.0625 L 1.875 -1.0625 L 1.875 -0.078125 C 1.875 0.308594 1.796875 0.648438 1.640625 0.941406 C 1.484375 1.234375 1.214844 1.414062 0.828125 1.484375 Z M 0.828125 1.019531 \"/>\n",
       "</g>\n",
       "<g id=\"glyph-0-2\">\n",
       "<path d=\"M 0.957031 -4.953125 L 0.957031 -5.625 C 1.59375 -5.6875 2.035156 -5.789062 2.285156 -5.933594 C 2.535156 -6.078125 2.722656 -6.421875 2.847656 -6.960938 L 3.539062 -6.960938 L 3.539062 0 L 2.601562 0 L 2.601562 -4.953125 Z M 0.957031 -4.953125 \"/>\n",
       "</g>\n",
       "<g id=\"glyph-0-3\">\n",
       "<path d=\"M 0.3125 0 C 0.34375 -0.601562 0.46875 -1.125 0.6875 -1.570312 C 0.902344 -2.015625 1.324219 -2.421875 1.953125 -2.789062 L 2.890625 -3.328125 C 3.3125 -3.574219 3.605469 -3.78125 3.773438 -3.953125 C 4.039062 -4.226562 4.175781 -4.535156 4.175781 -4.882812 C 4.175781 -5.289062 4.054688 -5.613281 3.808594 -5.851562 C 3.5625 -6.089844 3.238281 -6.210938 2.832031 -6.210938 C 2.230469 -6.210938 1.8125 -5.984375 1.582031 -5.527344 C 1.457031 -5.28125 1.390625 -4.945312 1.375 -4.511719 L 0.484375 -4.511719 C 0.492188 -5.121094 0.605469 -5.617188 0.820312 -6 C 1.203125 -6.679688 1.875 -7.015625 2.835938 -7.015625 C 3.636719 -7.015625 4.222656 -6.800781 4.59375 -6.367188 C 4.960938 -5.933594 5.148438 -5.453125 5.148438 -4.921875 C 5.148438 -4.363281 4.949219 -3.882812 4.554688 -3.484375 C 4.328125 -3.253906 3.917969 -2.976562 3.328125 -2.648438 L 2.660156 -2.273438 C 2.34375 -2.097656 2.089844 -1.933594 1.910156 -1.773438 C 1.585938 -1.488281 1.378906 -1.175781 1.292969 -0.828125 L 5.113281 -0.828125 L 5.113281 0 Z M 0.3125 0 \"/>\n",
       "</g>\n",
       "<g id=\"glyph-0-4\">\n",
       "<path d=\"M 2.597656 0.191406 C 1.769531 0.191406 1.171875 -0.0351562 0.796875 -0.492188 C 0.425781 -0.945312 0.238281 -1.496094 0.238281 -2.148438 L 1.15625 -2.148438 C 1.195312 -1.695312 1.28125 -1.367188 1.410156 -1.164062 C 1.640625 -0.796875 2.050781 -0.609375 2.648438 -0.609375 C 3.109375 -0.609375 3.480469 -0.734375 3.757812 -0.980469 C 4.039062 -1.226562 4.179688 -1.546875 4.179688 -1.9375 C 4.179688 -2.421875 4.03125 -2.757812 3.738281 -2.949219 C 3.445312 -3.140625 3.035156 -3.238281 2.507812 -3.238281 C 2.449219 -3.238281 2.390625 -3.238281 2.332031 -3.234375 C 2.273438 -3.234375 2.210938 -3.230469 2.148438 -3.226562 L 2.148438 -4.003906 C 2.238281 -3.992188 2.316406 -3.988281 2.378906 -3.984375 C 2.441406 -3.980469 2.507812 -3.980469 2.578125 -3.980469 C 2.90625 -3.980469 3.175781 -4.03125 3.390625 -4.136719 C 3.761719 -4.320312 3.945312 -4.644531 3.945312 -5.113281 C 3.945312 -5.460938 3.820312 -5.730469 3.574219 -5.917969 C 3.328125 -6.105469 3.039062 -6.203125 2.710938 -6.203125 C 2.125 -6.203125 1.71875 -6.007812 1.492188 -5.617188 C 1.371094 -5.402344 1.300781 -5.09375 1.285156 -4.695312 L 0.414062 -4.695312 C 0.414062 -5.21875 0.519531 -5.660156 0.726562 -6.023438 C 1.085938 -6.675781 1.714844 -7 2.617188 -7 C 3.328125 -7 3.882812 -6.84375 4.273438 -6.527344 C 4.664062 -6.210938 4.859375 -5.75 4.859375 -5.148438 C 4.859375 -4.71875 4.742188 -4.367188 4.511719 -4.101562 C 4.367188 -3.9375 4.183594 -3.804688 3.953125 -3.710938 C 4.320312 -3.609375 4.609375 -3.414062 4.816406 -3.128906 C 5.023438 -2.839844 5.125 -2.488281 5.125 -2.070312 C 5.125 -1.402344 4.90625 -0.859375 4.46875 -0.4375 C 4.027344 -0.0195312 3.40625 0.191406 2.597656 0.191406 Z M 2.597656 0.191406 \"/>\n",
       "</g>\n",
       "<g id=\"glyph-0-5\">\n",
       "<path d=\"M 0.414062 -3.238281 L 2.867188 -3.238281 L 2.867188 -2.335938 L 0.414062 -2.335938 Z M 0.414062 -3.238281 \"/>\n",
       "</g>\n",
       "</g>\n",
       "</defs>\n",
       "<rect x=\"-70\" y=\"-25\" width=\"840\" height=\"300\" fill=\"rgb(100%, 100%, 100%)\" fill-opacity=\"1\"/>\n",
       "<path fill=\"none\" stroke-width=\"1\" stroke-linecap=\"butt\" stroke-linejoin=\"miter\" stroke=\"rgb(26.666667%, 26.666667%, 26.666667%)\" stroke-opacity=\"1\" stroke-miterlimit=\"10\" d=\"M 200 50 L 320.734375 50 \"/>\n",
       "<path fill-rule=\"nonzero\" fill=\"rgb(26.666667%, 26.666667%, 26.666667%)\" fill-opacity=\"1\" d=\"M 335 50 L 320.734375 54.636719 L 320.734375 45.363281 L 335 50 \"/>\n",
       "<path fill=\"none\" stroke-width=\"1\" stroke-linecap=\"butt\" stroke-linejoin=\"miter\" stroke=\"rgb(26.666667%, 26.666667%, 26.666667%)\" stroke-opacity=\"1\" stroke-miterlimit=\"10\" d=\"M 200 50 L 322.234375 90.746094 \"/>\n",
       "<path fill-rule=\"nonzero\" fill=\"rgb(26.666667%, 26.666667%, 26.666667%)\" fill-opacity=\"1\" d=\"M 335.769531 95.257812 L 320.769531 95.144531 L 323.703125 86.347656 L 335.769531 95.257812 \"/>\n",
       "<path fill=\"none\" stroke-width=\"1\" stroke-linecap=\"butt\" stroke-linejoin=\"miter\" stroke=\"rgb(26.666667%, 26.666667%, 26.666667%)\" stroke-opacity=\"1\" stroke-miterlimit=\"10\" d=\"M 200 100 L 320.734375 100 \"/>\n",
       "<path fill-rule=\"nonzero\" fill=\"rgb(26.666667%, 26.666667%, 26.666667%)\" fill-opacity=\"1\" d=\"M 335 100 L 320.734375 104.636719 L 320.734375 95.363281 L 335 100 \"/>\n",
       "<path fill=\"none\" stroke-width=\"1\" stroke-linecap=\"butt\" stroke-linejoin=\"miter\" stroke=\"rgb(26.666667%, 26.666667%, 26.666667%)\" stroke-opacity=\"1\" stroke-miterlimit=\"10\" d=\"M 200 50 L 325.648438 133.765625 \"/>\n",
       "<path fill-rule=\"nonzero\" fill=\"rgb(26.666667%, 26.666667%, 26.666667%)\" fill-opacity=\"1\" d=\"M 337.519531 141.679688 L 323.078125 137.621094 L 328.21875 129.910156 L 337.519531 141.679688 \"/>\n",
       "<path fill=\"none\" stroke-width=\"1\" stroke-linecap=\"butt\" stroke-linejoin=\"miter\" stroke=\"rgb(26.666667%, 26.666667%, 26.666667%)\" stroke-opacity=\"1\" stroke-miterlimit=\"10\" d=\"M 200 150 L 320.734375 150 \"/>\n",
       "<path fill-rule=\"nonzero\" fill=\"rgb(26.666667%, 26.666667%, 26.666667%)\" fill-opacity=\"1\" d=\"M 335 150 L 320.734375 154.636719 L 320.734375 145.363281 L 335 150 \"/>\n",
       "<path fill=\"none\" stroke-width=\"1\" stroke-linecap=\"butt\" stroke-linejoin=\"miter\" stroke=\"rgb(26.666667%, 26.666667%, 26.666667%)\" stroke-opacity=\"1\" stroke-miterlimit=\"10\" d=\"M 200 50 L 329.304688 179.304688 \"/>\n",
       "<path fill-rule=\"nonzero\" fill=\"rgb(26.666667%, 26.666667%, 26.666667%)\" fill-opacity=\"1\" d=\"M 339.394531 189.394531 L 326.027344 182.582031 L 332.582031 176.027344 L 339.394531 189.394531 \"/>\n",
       "<path fill=\"none\" stroke-width=\"1\" stroke-linecap=\"butt\" stroke-linejoin=\"miter\" stroke=\"rgb(26.666667%, 26.666667%, 26.666667%)\" stroke-opacity=\"1\" stroke-miterlimit=\"10\" d=\"M 200 200 L 320.734375 200 \"/>\n",
       "<path fill-rule=\"nonzero\" fill=\"rgb(26.666667%, 26.666667%, 26.666667%)\" fill-opacity=\"1\" d=\"M 335 200 L 320.734375 204.636719 L 320.734375 195.363281 L 335 200 \"/>\n",
       "<path fill=\"none\" stroke-width=\"1\" stroke-linecap=\"butt\" stroke-linejoin=\"miter\" stroke=\"rgb(26.666667%, 26.666667%, 26.666667%)\" stroke-opacity=\"1\" stroke-miterlimit=\"10\" d=\"M 200 100 L 322.234375 59.253906 \"/>\n",
       "<path fill-rule=\"nonzero\" fill=\"rgb(26.666667%, 26.666667%, 26.666667%)\" fill-opacity=\"1\" d=\"M 335.769531 54.742188 L 323.703125 63.652344 L 320.769531 54.855469 L 335.769531 54.742188 \"/>\n",
       "<path fill=\"none\" stroke-width=\"1\" stroke-linecap=\"butt\" stroke-linejoin=\"miter\" stroke=\"rgb(26.666667%, 26.666667%, 26.666667%)\" stroke-opacity=\"1\" stroke-miterlimit=\"10\" d=\"M 200 100 L 322.234375 140.746094 \"/>\n",
       "<path fill-rule=\"nonzero\" fill=\"rgb(26.666667%, 26.666667%, 26.666667%)\" fill-opacity=\"1\" d=\"M 335.769531 145.257812 L 320.769531 145.144531 L 323.703125 136.347656 L 335.769531 145.257812 \"/>\n",
       "<path fill=\"none\" stroke-width=\"1\" stroke-linecap=\"butt\" stroke-linejoin=\"miter\" stroke=\"rgb(26.666667%, 26.666667%, 26.666667%)\" stroke-opacity=\"1\" stroke-miterlimit=\"10\" d=\"M 350 50 L 470.734375 50 \"/>\n",
       "<path fill-rule=\"nonzero\" fill=\"rgb(26.666667%, 26.666667%, 26.666667%)\" fill-opacity=\"1\" d=\"M 485 50 L 470.734375 54.636719 L 470.734375 45.363281 L 485 50 \"/>\n",
       "<path fill=\"none\" stroke-width=\"1\" stroke-linecap=\"butt\" stroke-linejoin=\"miter\" stroke=\"rgb(26.666667%, 26.666667%, 26.666667%)\" stroke-opacity=\"1\" stroke-miterlimit=\"10\" d=\"M 350 50 L 472.234375 90.746094 \"/>\n",
       "<path fill-rule=\"nonzero\" fill=\"rgb(26.666667%, 26.666667%, 26.666667%)\" fill-opacity=\"1\" d=\"M 485.769531 95.257812 L 470.769531 95.144531 L 473.703125 86.347656 L 485.769531 95.257812 \"/>\n",
       "<path fill=\"none\" stroke-width=\"1\" stroke-linecap=\"butt\" stroke-linejoin=\"miter\" stroke=\"rgb(26.666667%, 26.666667%, 26.666667%)\" stroke-opacity=\"1\" stroke-miterlimit=\"10\" d=\"M 350 100 L 470.734375 100 \"/>\n",
       "<path fill-rule=\"nonzero\" fill=\"rgb(26.666667%, 26.666667%, 26.666667%)\" fill-opacity=\"1\" d=\"M 485 100 L 470.734375 104.636719 L 470.734375 95.363281 L 485 100 \"/>\n",
       "<path fill=\"none\" stroke-width=\"1\" stroke-linecap=\"butt\" stroke-linejoin=\"miter\" stroke=\"rgb(26.666667%, 26.666667%, 26.666667%)\" stroke-opacity=\"1\" stroke-miterlimit=\"10\" d=\"M 350 50 L 475.648438 133.765625 \"/>\n",
       "<path fill-rule=\"nonzero\" fill=\"rgb(26.666667%, 26.666667%, 26.666667%)\" fill-opacity=\"1\" d=\"M 487.519531 141.679688 L 473.078125 137.621094 L 478.21875 129.910156 L 487.519531 141.679688 \"/>\n",
       "<path fill=\"none\" stroke-width=\"1\" stroke-linecap=\"butt\" stroke-linejoin=\"miter\" stroke=\"rgb(26.666667%, 26.666667%, 26.666667%)\" stroke-opacity=\"1\" stroke-miterlimit=\"10\" d=\"M 350 150 L 470.734375 150 \"/>\n",
       "<path fill-rule=\"nonzero\" fill=\"rgb(26.666667%, 26.666667%, 26.666667%)\" fill-opacity=\"1\" d=\"M 485 150 L 470.734375 154.636719 L 470.734375 145.363281 L 485 150 \"/>\n",
       "<path fill=\"none\" stroke-width=\"1\" stroke-linecap=\"butt\" stroke-linejoin=\"miter\" stroke=\"rgb(26.666667%, 26.666667%, 26.666667%)\" stroke-opacity=\"1\" stroke-miterlimit=\"10\" d=\"M 350 50 L 479.304688 179.304688 \"/>\n",
       "<path fill-rule=\"nonzero\" fill=\"rgb(26.666667%, 26.666667%, 26.666667%)\" fill-opacity=\"1\" d=\"M 489.394531 189.394531 L 476.027344 182.582031 L 482.582031 176.027344 L 489.394531 189.394531 \"/>\n",
       "<path fill=\"none\" stroke-width=\"1\" stroke-linecap=\"butt\" stroke-linejoin=\"miter\" stroke=\"rgb(26.666667%, 26.666667%, 26.666667%)\" stroke-opacity=\"1\" stroke-miterlimit=\"10\" d=\"M 350 200 L 470.734375 200 \"/>\n",
       "<path fill-rule=\"nonzero\" fill=\"rgb(26.666667%, 26.666667%, 26.666667%)\" fill-opacity=\"1\" d=\"M 485 200 L 470.734375 204.636719 L 470.734375 195.363281 L 485 200 \"/>\n",
       "<path fill=\"none\" stroke-width=\"1\" stroke-linecap=\"butt\" stroke-linejoin=\"miter\" stroke=\"rgb(26.666667%, 26.666667%, 26.666667%)\" stroke-opacity=\"1\" stroke-miterlimit=\"10\" d=\"M 350 100 L 472.234375 59.253906 \"/>\n",
       "<path fill-rule=\"nonzero\" fill=\"rgb(26.666667%, 26.666667%, 26.666667%)\" fill-opacity=\"1\" d=\"M 485.769531 54.742188 L 473.703125 63.652344 L 470.769531 54.855469 L 485.769531 54.742188 \"/>\n",
       "<path fill=\"none\" stroke-width=\"1\" stroke-linecap=\"butt\" stroke-linejoin=\"miter\" stroke=\"rgb(26.666667%, 26.666667%, 26.666667%)\" stroke-opacity=\"1\" stroke-miterlimit=\"10\" d=\"M 350 100 L 472.234375 140.746094 \"/>\n",
       "<path fill-rule=\"nonzero\" fill=\"rgb(26.666667%, 26.666667%, 26.666667%)\" fill-opacity=\"1\" d=\"M 485.769531 145.257812 L 470.769531 145.144531 L 473.703125 136.347656 L 485.769531 145.257812 \"/>\n",
       "<path fill=\"none\" stroke-width=\"1\" stroke-linecap=\"butt\" stroke-linejoin=\"miter\" stroke=\"rgb(26.666667%, 26.666667%, 26.666667%)\" stroke-opacity=\"1\" stroke-miterlimit=\"10\" d=\"M 500 50 L 620.734375 50 \"/>\n",
       "<path fill-rule=\"nonzero\" fill=\"rgb(26.666667%, 26.666667%, 26.666667%)\" fill-opacity=\"1\" d=\"M 635 50 L 620.734375 54.636719 L 620.734375 45.363281 L 635 50 \"/>\n",
       "<path fill=\"none\" stroke-width=\"1\" stroke-linecap=\"butt\" stroke-linejoin=\"miter\" stroke=\"rgb(26.666667%, 26.666667%, 26.666667%)\" stroke-opacity=\"1\" stroke-miterlimit=\"10\" d=\"M 500 50 L 622.234375 90.746094 \"/>\n",
       "<path fill-rule=\"nonzero\" fill=\"rgb(26.666667%, 26.666667%, 26.666667%)\" fill-opacity=\"1\" d=\"M 635.769531 95.257812 L 620.769531 95.144531 L 623.703125 86.347656 L 635.769531 95.257812 \"/>\n",
       "<path fill=\"none\" stroke-width=\"1\" stroke-linecap=\"butt\" stroke-linejoin=\"miter\" stroke=\"rgb(26.666667%, 26.666667%, 26.666667%)\" stroke-opacity=\"1\" stroke-miterlimit=\"10\" d=\"M 500 100 L 620.734375 100 \"/>\n",
       "<path fill-rule=\"nonzero\" fill=\"rgb(26.666667%, 26.666667%, 26.666667%)\" fill-opacity=\"1\" d=\"M 635 100 L 620.734375 104.636719 L 620.734375 95.363281 L 635 100 \"/>\n",
       "<path fill=\"none\" stroke-width=\"1\" stroke-linecap=\"butt\" stroke-linejoin=\"miter\" stroke=\"rgb(26.666667%, 26.666667%, 26.666667%)\" stroke-opacity=\"1\" stroke-miterlimit=\"10\" d=\"M 500 50 L 625.648438 133.765625 \"/>\n",
       "<path fill-rule=\"nonzero\" fill=\"rgb(26.666667%, 26.666667%, 26.666667%)\" fill-opacity=\"1\" d=\"M 637.519531 141.679688 L 623.078125 137.621094 L 628.21875 129.910156 L 637.519531 141.679688 \"/>\n",
       "<path fill=\"none\" stroke-width=\"1\" stroke-linecap=\"butt\" stroke-linejoin=\"miter\" stroke=\"rgb(26.666667%, 26.666667%, 26.666667%)\" stroke-opacity=\"1\" stroke-miterlimit=\"10\" d=\"M 500 150 L 620.734375 150 \"/>\n",
       "<path fill-rule=\"nonzero\" fill=\"rgb(26.666667%, 26.666667%, 26.666667%)\" fill-opacity=\"1\" d=\"M 635 150 L 620.734375 154.636719 L 620.734375 145.363281 L 635 150 \"/>\n",
       "<path fill=\"none\" stroke-width=\"1\" stroke-linecap=\"butt\" stroke-linejoin=\"miter\" stroke=\"rgb(26.666667%, 26.666667%, 26.666667%)\" stroke-opacity=\"1\" stroke-miterlimit=\"10\" d=\"M 500 50 L 629.304688 179.304688 \"/>\n",
       "<path fill-rule=\"nonzero\" fill=\"rgb(26.666667%, 26.666667%, 26.666667%)\" fill-opacity=\"1\" d=\"M 639.394531 189.394531 L 626.027344 182.582031 L 632.582031 176.027344 L 639.394531 189.394531 \"/>\n",
       "<path fill=\"none\" stroke-width=\"1\" stroke-linecap=\"butt\" stroke-linejoin=\"miter\" stroke=\"rgb(26.666667%, 26.666667%, 26.666667%)\" stroke-opacity=\"1\" stroke-miterlimit=\"10\" d=\"M 500 200 L 620.734375 200 \"/>\n",
       "<path fill-rule=\"nonzero\" fill=\"rgb(26.666667%, 26.666667%, 26.666667%)\" fill-opacity=\"1\" d=\"M 635 200 L 620.734375 204.636719 L 620.734375 195.363281 L 635 200 \"/>\n",
       "<path fill=\"none\" stroke-width=\"1\" stroke-linecap=\"butt\" stroke-linejoin=\"miter\" stroke=\"rgb(26.666667%, 26.666667%, 26.666667%)\" stroke-opacity=\"1\" stroke-miterlimit=\"10\" d=\"M 500 100 L 622.234375 59.253906 \"/>\n",
       "<path fill-rule=\"nonzero\" fill=\"rgb(26.666667%, 26.666667%, 26.666667%)\" fill-opacity=\"1\" d=\"M 635.769531 54.742188 L 623.703125 63.652344 L 620.769531 54.855469 L 635.769531 54.742188 \"/>\n",
       "<path fill=\"none\" stroke-width=\"1\" stroke-linecap=\"butt\" stroke-linejoin=\"miter\" stroke=\"rgb(26.666667%, 26.666667%, 26.666667%)\" stroke-opacity=\"1\" stroke-miterlimit=\"10\" d=\"M 500 100 L 622.234375 140.746094 \"/>\n",
       "<path fill-rule=\"nonzero\" fill=\"rgb(26.666667%, 26.666667%, 26.666667%)\" fill-opacity=\"1\" d=\"M 635.769531 145.257812 L 620.769531 145.144531 L 623.703125 136.347656 L 635.769531 145.257812 \"/>\n",
       "<path fill=\"none\" stroke-width=\"1\" stroke-linecap=\"butt\" stroke-linejoin=\"miter\" stroke=\"rgb(26.666667%, 26.666667%, 26.666667%)\" stroke-opacity=\"1\" stroke-miterlimit=\"10\" d=\"M 50 125 L 173.824219 63.089844 \"/>\n",
       "<path fill-rule=\"nonzero\" fill=\"rgb(26.666667%, 26.666667%, 26.666667%)\" fill-opacity=\"1\" d=\"M 186.582031 56.707031 L 175.898438 67.234375 L 171.75 58.941406 L 186.582031 56.707031 \"/>\n",
       "<path fill=\"none\" stroke-width=\"1\" stroke-linecap=\"butt\" stroke-linejoin=\"miter\" stroke=\"rgb(26.666667%, 26.666667%, 26.666667%)\" stroke-opacity=\"1\" stroke-miterlimit=\"10\" d=\"M 50 125 L 171.132812 104.8125 \"/>\n",
       "<path fill-rule=\"nonzero\" fill=\"rgb(26.666667%, 26.666667%, 26.666667%)\" fill-opacity=\"1\" d=\"M 185.203125 102.464844 L 171.894531 109.382812 L 170.371094 100.238281 L 185.203125 102.464844 \"/>\n",
       "<path fill=\"none\" stroke-width=\"1\" stroke-linecap=\"butt\" stroke-linejoin=\"miter\" stroke=\"rgb(26.666667%, 26.666667%, 26.666667%)\" stroke-opacity=\"1\" stroke-miterlimit=\"10\" d=\"M 50 125 L 171.132812 145.1875 \"/>\n",
       "<path fill-rule=\"nonzero\" fill=\"rgb(26.666667%, 26.666667%, 26.666667%)\" fill-opacity=\"1\" d=\"M 185.203125 147.535156 L 170.371094 149.761719 L 171.894531 140.617188 L 185.203125 147.535156 \"/>\n",
       "<path fill=\"none\" stroke-width=\"1\" stroke-linecap=\"butt\" stroke-linejoin=\"miter\" stroke=\"rgb(26.666667%, 26.666667%, 26.666667%)\" stroke-opacity=\"1\" stroke-miterlimit=\"10\" d=\"M 50 125 L 173.824219 186.910156 \"/>\n",
       "<path fill-rule=\"nonzero\" fill=\"rgb(26.666667%, 26.666667%, 26.666667%)\" fill-opacity=\"1\" d=\"M 186.582031 193.292969 L 171.75 191.058594 L 175.898438 182.765625 L 186.582031 193.292969 \"/>\n",
       "<path fill=\"none\" stroke-width=\"1\" stroke-linecap=\"butt\" stroke-linejoin=\"miter\" stroke=\"rgb(26.666667%, 26.666667%, 26.666667%)\" stroke-opacity=\"1\" stroke-miterlimit=\"10\" d=\"M 50 125 L 321.609375 57.097656 \"/>\n",
       "<path fill-rule=\"nonzero\" fill=\"rgb(26.666667%, 26.666667%, 26.666667%)\" fill-opacity=\"1\" d=\"M 335.449219 53.636719 L 322.730469 61.59375 L 320.484375 52.601562 L 335.449219 53.636719 \"/>\n",
       "<path fill=\"none\" stroke-width=\"1\" stroke-linecap=\"butt\" stroke-linejoin=\"miter\" stroke=\"rgb(26.666667%, 26.666667%, 26.666667%)\" stroke-opacity=\"1\" stroke-miterlimit=\"10\" d=\"M 50 125 L 320.835938 102.429688 \"/>\n",
       "<path fill-rule=\"nonzero\" fill=\"rgb(26.666667%, 26.666667%, 26.666667%)\" fill-opacity=\"1\" d=\"M 335.050781 101.246094 L 321.21875 107.050781 L 320.449219 97.8125 L 335.050781 101.246094 \"/>\n",
       "<path fill=\"none\" stroke-width=\"1\" stroke-linecap=\"butt\" stroke-linejoin=\"miter\" stroke=\"rgb(26.666667%, 26.666667%, 26.666667%)\" stroke-opacity=\"1\" stroke-miterlimit=\"10\" d=\"M 50 125 L 320.835938 147.570312 \"/>\n",
       "<path fill-rule=\"nonzero\" fill=\"rgb(26.666667%, 26.666667%, 26.666667%)\" fill-opacity=\"1\" d=\"M 335.050781 148.753906 L 320.449219 152.1875 L 321.21875 142.949219 L 335.050781 148.753906 \"/>\n",
       "<path fill=\"none\" stroke-width=\"1\" stroke-linecap=\"butt\" stroke-linejoin=\"miter\" stroke=\"rgb(26.666667%, 26.666667%, 26.666667%)\" stroke-opacity=\"1\" stroke-miterlimit=\"10\" d=\"M 50 125 L 321.609375 192.902344 \"/>\n",
       "<path fill-rule=\"nonzero\" fill=\"rgb(26.666667%, 26.666667%, 26.666667%)\" fill-opacity=\"1\" d=\"M 335.449219 196.363281 L 320.484375 197.398438 L 322.730469 188.40625 L 335.449219 196.363281 \"/>\n",
       "<path fill=\"none\" stroke-width=\"1\" stroke-linecap=\"butt\" stroke-linejoin=\"miter\" stroke=\"rgb(26.666667%, 26.666667%, 26.666667%)\" stroke-opacity=\"1\" stroke-miterlimit=\"10\" d=\"M 50 125 L 471.132812 54.8125 \"/>\n",
       "<path fill-rule=\"nonzero\" fill=\"rgb(26.666667%, 26.666667%, 26.666667%)\" fill-opacity=\"1\" d=\"M 485.203125 52.464844 L 471.894531 59.382812 L 470.371094 50.238281 L 485.203125 52.464844 \"/>\n",
       "<path fill=\"none\" stroke-width=\"1\" stroke-linecap=\"butt\" stroke-linejoin=\"miter\" stroke=\"rgb(26.666667%, 26.666667%, 26.666667%)\" stroke-opacity=\"1\" stroke-miterlimit=\"10\" d=\"M 50 125 L 470.777344 101.625 \"/>\n",
       "<path fill-rule=\"nonzero\" fill=\"rgb(26.666667%, 26.666667%, 26.666667%)\" fill-opacity=\"1\" d=\"M 485.023438 100.832031 L 471.035156 106.25 L 470.523438 96.996094 L 485.023438 100.832031 \"/>\n",
       "<path fill=\"none\" stroke-width=\"1\" stroke-linecap=\"butt\" stroke-linejoin=\"miter\" stroke=\"rgb(26.666667%, 26.666667%, 26.666667%)\" stroke-opacity=\"1\" stroke-miterlimit=\"10\" d=\"M 50 125 L 470.777344 148.375 \"/>\n",
       "<path fill-rule=\"nonzero\" fill=\"rgb(26.666667%, 26.666667%, 26.666667%)\" fill-opacity=\"1\" d=\"M 485.023438 149.167969 L 470.523438 153.003906 L 471.035156 143.75 L 485.023438 149.167969 \"/>\n",
       "<path fill=\"none\" stroke-width=\"1\" stroke-linecap=\"butt\" stroke-linejoin=\"miter\" stroke=\"rgb(26.666667%, 26.666667%, 26.666667%)\" stroke-opacity=\"1\" stroke-miterlimit=\"10\" d=\"M 50 125 L 471.132812 195.1875 \"/>\n",
       "<path fill-rule=\"nonzero\" fill=\"rgb(26.666667%, 26.666667%, 26.666667%)\" fill-opacity=\"1\" d=\"M 485.203125 197.535156 L 470.371094 199.761719 L 471.894531 190.617188 L 485.203125 197.535156 \"/>\n",
       "<path fill=\"none\" stroke-width=\"1\" stroke-linecap=\"butt\" stroke-linejoin=\"miter\" stroke=\"rgb(26.666667%, 26.666667%, 26.666667%)\" stroke-opacity=\"1\" stroke-miterlimit=\"10\" d=\"M 50 125 L 620.960938 53.628906 \"/>\n",
       "<path fill-rule=\"nonzero\" fill=\"rgb(26.666667%, 26.666667%, 26.666667%)\" fill-opacity=\"1\" d=\"M 635.117188 51.859375 L 621.535156 58.230469 L 620.386719 49.03125 L 635.117188 51.859375 \"/>\n",
       "<path fill=\"none\" stroke-width=\"1\" stroke-linecap=\"butt\" stroke-linejoin=\"miter\" stroke=\"rgb(26.666667%, 26.666667%, 26.666667%)\" stroke-opacity=\"1\" stroke-miterlimit=\"10\" d=\"M 50 125 L 620.757812 101.21875 \"/>\n",
       "<path fill-rule=\"nonzero\" fill=\"rgb(26.666667%, 26.666667%, 26.666667%)\" fill-opacity=\"1\" d=\"M 635.011719 100.625 L 620.953125 105.847656 L 620.566406 96.585938 L 635.011719 100.625 \"/>\n",
       "<path fill=\"none\" stroke-width=\"1\" stroke-linecap=\"butt\" stroke-linejoin=\"miter\" stroke=\"rgb(26.666667%, 26.666667%, 26.666667%)\" stroke-opacity=\"1\" stroke-miterlimit=\"10\" d=\"M 50 125 L 620.757812 148.78125 \"/>\n",
       "<path fill-rule=\"nonzero\" fill=\"rgb(26.666667%, 26.666667%, 26.666667%)\" fill-opacity=\"1\" d=\"M 635.011719 149.375 L 620.566406 153.414062 L 620.953125 144.152344 L 635.011719 149.375 \"/>\n",
       "<path fill=\"none\" stroke-width=\"1\" stroke-linecap=\"butt\" stroke-linejoin=\"miter\" stroke=\"rgb(26.666667%, 26.666667%, 26.666667%)\" stroke-opacity=\"1\" stroke-miterlimit=\"10\" d=\"M 50 125 L 620.960938 196.371094 \"/>\n",
       "<path fill-rule=\"nonzero\" fill=\"rgb(26.666667%, 26.666667%, 26.666667%)\" fill-opacity=\"1\" d=\"M 635.117188 198.140625 L 620.386719 200.96875 L 621.535156 191.769531 L 635.117188 198.140625 \"/>\n",
       "<path fill-rule=\"nonzero\" fill=\"rgb(55.294118%, 82.745098%, 78.039216%)\" fill-opacity=\"1\" stroke-width=\"1\" stroke-linecap=\"butt\" stroke-linejoin=\"miter\" stroke=\"rgb(0%, 0%, 0%)\" stroke-opacity=\"1\" stroke-miterlimit=\"10\" d=\"M 215 50 C 215 58.285156 208.285156 65 200 65 C 191.714844 65 185 58.285156 185 50 C 185 41.714844 191.714844 35 200 35 C 208.285156 35 215 41.714844 215 50 \"/>\n",
       "<path fill-rule=\"nonzero\" fill=\"rgb(100%, 100%, 70.196078%)\" fill-opacity=\"1\" stroke-width=\"1\" stroke-linecap=\"butt\" stroke-linejoin=\"miter\" stroke=\"rgb(0%, 0%, 0%)\" stroke-opacity=\"1\" stroke-miterlimit=\"10\" d=\"M 215 100 C 215 108.285156 208.285156 115 200 115 C 191.714844 115 185 108.285156 185 100 C 185 91.714844 191.714844 85 200 85 C 208.285156 85 215 91.714844 215 100 \"/>\n",
       "<path fill-rule=\"nonzero\" fill=\"rgb(74.509804%, 72.941176%, 85.490196%)\" fill-opacity=\"1\" stroke-width=\"1\" stroke-linecap=\"butt\" stroke-linejoin=\"miter\" stroke=\"rgb(0%, 0%, 0%)\" stroke-opacity=\"1\" stroke-miterlimit=\"10\" d=\"M 215 150 C 215 158.285156 208.285156 165 200 165 C 191.714844 165 185 158.285156 185 150 C 185 141.714844 191.714844 135 200 135 C 208.285156 135 215 141.714844 215 150 \"/>\n",
       "<path fill-rule=\"nonzero\" fill=\"rgb(98.431373%, 50.196078%, 44.705882%)\" fill-opacity=\"1\" stroke-width=\"1\" stroke-linecap=\"butt\" stroke-linejoin=\"miter\" stroke=\"rgb(0%, 0%, 0%)\" stroke-opacity=\"1\" stroke-miterlimit=\"10\" d=\"M 215 200 C 215 208.285156 208.285156 215 200 215 C 191.714844 215 185 208.285156 185 200 C 185 191.714844 191.714844 185 200 185 C 208.285156 185 215 191.714844 215 200 \"/>\n",
       "<path fill-rule=\"nonzero\" fill=\"rgb(55.294118%, 82.745098%, 78.039216%)\" fill-opacity=\"1\" stroke-width=\"1\" stroke-linecap=\"butt\" stroke-linejoin=\"miter\" stroke=\"rgb(0%, 0%, 0%)\" stroke-opacity=\"1\" stroke-miterlimit=\"10\" d=\"M 365 50 C 365 58.285156 358.285156 65 350 65 C 341.714844 65 335 58.285156 335 50 C 335 41.714844 341.714844 35 350 35 C 358.285156 35 365 41.714844 365 50 \"/>\n",
       "<path fill-rule=\"nonzero\" fill=\"rgb(100%, 100%, 70.196078%)\" fill-opacity=\"1\" stroke-width=\"1\" stroke-linecap=\"butt\" stroke-linejoin=\"miter\" stroke=\"rgb(0%, 0%, 0%)\" stroke-opacity=\"1\" stroke-miterlimit=\"10\" d=\"M 365 100 C 365 108.285156 358.285156 115 350 115 C 341.714844 115 335 108.285156 335 100 C 335 91.714844 341.714844 85 350 85 C 358.285156 85 365 91.714844 365 100 \"/>\n",
       "<path fill-rule=\"nonzero\" fill=\"rgb(74.509804%, 72.941176%, 85.490196%)\" fill-opacity=\"1\" stroke-width=\"1\" stroke-linecap=\"butt\" stroke-linejoin=\"miter\" stroke=\"rgb(0%, 0%, 0%)\" stroke-opacity=\"1\" stroke-miterlimit=\"10\" d=\"M 365 150 C 365 158.285156 358.285156 165 350 165 C 341.714844 165 335 158.285156 335 150 C 335 141.714844 341.714844 135 350 135 C 358.285156 135 365 141.714844 365 150 \"/>\n",
       "<path fill-rule=\"nonzero\" fill=\"rgb(98.431373%, 50.196078%, 44.705882%)\" fill-opacity=\"1\" stroke-width=\"1\" stroke-linecap=\"butt\" stroke-linejoin=\"miter\" stroke=\"rgb(0%, 0%, 0%)\" stroke-opacity=\"1\" stroke-miterlimit=\"10\" d=\"M 365 200 C 365 208.285156 358.285156 215 350 215 C 341.714844 215 335 208.285156 335 200 C 335 191.714844 341.714844 185 350 185 C 358.285156 185 365 191.714844 365 200 \"/>\n",
       "<path fill-rule=\"nonzero\" fill=\"rgb(55.294118%, 82.745098%, 78.039216%)\" fill-opacity=\"1\" stroke-width=\"1\" stroke-linecap=\"butt\" stroke-linejoin=\"miter\" stroke=\"rgb(0%, 0%, 0%)\" stroke-opacity=\"1\" stroke-miterlimit=\"10\" d=\"M 515 50 C 515 58.285156 508.285156 65 500 65 C 491.714844 65 485 58.285156 485 50 C 485 41.714844 491.714844 35 500 35 C 508.285156 35 515 41.714844 515 50 \"/>\n",
       "<path fill-rule=\"nonzero\" fill=\"rgb(100%, 100%, 70.196078%)\" fill-opacity=\"1\" stroke-width=\"1\" stroke-linecap=\"butt\" stroke-linejoin=\"miter\" stroke=\"rgb(0%, 0%, 0%)\" stroke-opacity=\"1\" stroke-miterlimit=\"10\" d=\"M 515 100 C 515 108.285156 508.285156 115 500 115 C 491.714844 115 485 108.285156 485 100 C 485 91.714844 491.714844 85 500 85 C 508.285156 85 515 91.714844 515 100 \"/>\n",
       "<path fill-rule=\"nonzero\" fill=\"rgb(74.509804%, 72.941176%, 85.490196%)\" fill-opacity=\"1\" stroke-width=\"1\" stroke-linecap=\"butt\" stroke-linejoin=\"miter\" stroke=\"rgb(0%, 0%, 0%)\" stroke-opacity=\"1\" stroke-miterlimit=\"10\" d=\"M 515 150 C 515 158.285156 508.285156 165 500 165 C 491.714844 165 485 158.285156 485 150 C 485 141.714844 491.714844 135 500 135 C 508.285156 135 515 141.714844 515 150 \"/>\n",
       "<path fill-rule=\"nonzero\" fill=\"rgb(98.431373%, 50.196078%, 44.705882%)\" fill-opacity=\"1\" stroke-width=\"1\" stroke-linecap=\"butt\" stroke-linejoin=\"miter\" stroke=\"rgb(0%, 0%, 0%)\" stroke-opacity=\"1\" stroke-miterlimit=\"10\" d=\"M 515 200 C 515 208.285156 508.285156 215 500 215 C 491.714844 215 485 208.285156 485 200 C 485 191.714844 491.714844 185 500 185 C 508.285156 185 515 191.714844 515 200 \"/>\n",
       "<path fill-rule=\"nonzero\" fill=\"rgb(55.294118%, 82.745098%, 78.039216%)\" fill-opacity=\"1\" stroke-width=\"1\" stroke-linecap=\"butt\" stroke-linejoin=\"miter\" stroke=\"rgb(0%, 0%, 0%)\" stroke-opacity=\"1\" stroke-miterlimit=\"10\" d=\"M 665 50 C 665 58.285156 658.285156 65 650 65 C 641.714844 65 635 58.285156 635 50 C 635 41.714844 641.714844 35 650 35 C 658.285156 35 665 41.714844 665 50 \"/>\n",
       "<path fill-rule=\"nonzero\" fill=\"rgb(100%, 100%, 70.196078%)\" fill-opacity=\"1\" stroke-width=\"1\" stroke-linecap=\"butt\" stroke-linejoin=\"miter\" stroke=\"rgb(0%, 0%, 0%)\" stroke-opacity=\"1\" stroke-miterlimit=\"10\" d=\"M 665 100 C 665 108.285156 658.285156 115 650 115 C 641.714844 115 635 108.285156 635 100 C 635 91.714844 641.714844 85 650 85 C 658.285156 85 665 91.714844 665 100 \"/>\n",
       "<path fill-rule=\"nonzero\" fill=\"rgb(74.509804%, 72.941176%, 85.490196%)\" fill-opacity=\"1\" stroke-width=\"1\" stroke-linecap=\"butt\" stroke-linejoin=\"miter\" stroke=\"rgb(0%, 0%, 0%)\" stroke-opacity=\"1\" stroke-miterlimit=\"10\" d=\"M 665 150 C 665 158.285156 658.285156 165 650 165 C 641.714844 165 635 158.285156 635 150 C 635 141.714844 641.714844 135 650 135 C 658.285156 135 665 141.714844 665 150 \"/>\n",
       "<path fill-rule=\"nonzero\" fill=\"rgb(98.431373%, 50.196078%, 44.705882%)\" fill-opacity=\"1\" stroke-width=\"1\" stroke-linecap=\"butt\" stroke-linejoin=\"miter\" stroke=\"rgb(0%, 0%, 0%)\" stroke-opacity=\"1\" stroke-miterlimit=\"10\" d=\"M 665 200 C 665 208.285156 658.285156 215 650 215 C 641.714844 215 635 208.285156 635 200 C 635 191.714844 641.714844 185 650 185 C 658.285156 185 665 191.714844 665 200 \"/>\n",
       "<path fill-rule=\"nonzero\" fill=\"rgb(73.333333%, 73.333333%, 73.333333%)\" fill-opacity=\"1\" stroke-width=\"1\" stroke-linecap=\"butt\" stroke-linejoin=\"miter\" stroke=\"rgb(0%, 0%, 0%)\" stroke-opacity=\"1\" stroke-miterlimit=\"10\" d=\"M 65 125 C 65 133.285156 58.285156 140 50 140 C 41.714844 140 35 133.285156 35 125 C 35 116.714844 41.714844 110 50 110 C 58.285156 110 65 116.714844 65 125 \"/>\n",
       "<g fill=\"rgb(0%, 0%, 0%)\" fill-opacity=\"1\">\n",
       "<use xlink:href=\"#glyph-0-0\" x=\"193.105469\" y=\"54.644531\"/>\n",
       "<use xlink:href=\"#glyph-0-1\" x=\"198.666992\" y=\"54.644531\"/>\n",
       "<use xlink:href=\"#glyph-0-0\" x=\"201.445312\" y=\"54.644531\"/>\n",
       "</g>\n",
       "<g fill=\"rgb(0%, 0%, 0%)\" fill-opacity=\"1\">\n",
       "<use xlink:href=\"#glyph-0-0\" x=\"193.902344\" y=\"104.644531\"/>\n",
       "<use xlink:href=\"#glyph-0-1\" x=\"199.463867\" y=\"104.644531\"/>\n",
       "<use xlink:href=\"#glyph-0-2\" x=\"202.242188\" y=\"104.644531\"/>\n",
       "</g>\n",
       "<g fill=\"rgb(0%, 0%, 0%)\" fill-opacity=\"1\">\n",
       "<use xlink:href=\"#glyph-0-0\" x=\"193.101562\" y=\"154.65625\"/>\n",
       "<use xlink:href=\"#glyph-0-1\" x=\"198.663086\" y=\"154.65625\"/>\n",
       "<use xlink:href=\"#glyph-0-3\" x=\"201.441406\" y=\"154.65625\"/>\n",
       "</g>\n",
       "<g fill=\"rgb(0%, 0%, 0%)\" fill-opacity=\"1\">\n",
       "<use xlink:href=\"#glyph-0-0\" x=\"193.109375\" y=\"204.652344\"/>\n",
       "<use xlink:href=\"#glyph-0-1\" x=\"198.670898\" y=\"204.652344\"/>\n",
       "<use xlink:href=\"#glyph-0-4\" x=\"201.449219\" y=\"204.652344\"/>\n",
       "</g>\n",
       "<g fill=\"rgb(0%, 0%, 0%)\" fill-opacity=\"1\">\n",
       "<use xlink:href=\"#glyph-0-2\" x=\"342.78125\" y=\"54.644531\"/>\n",
       "<use xlink:href=\"#glyph-0-1\" x=\"348.342773\" y=\"54.644531\"/>\n",
       "<use xlink:href=\"#glyph-0-0\" x=\"351.121094\" y=\"54.644531\"/>\n",
       "</g>\n",
       "<g fill=\"rgb(0%, 0%, 0%)\" fill-opacity=\"1\">\n",
       "<use xlink:href=\"#glyph-0-2\" x=\"343.582031\" y=\"104.632812\"/>\n",
       "<use xlink:href=\"#glyph-0-1\" x=\"349.143555\" y=\"104.632812\"/>\n",
       "<use xlink:href=\"#glyph-0-2\" x=\"351.921875\" y=\"104.632812\"/>\n",
       "</g>\n",
       "<g fill=\"rgb(0%, 0%, 0%)\" fill-opacity=\"1\">\n",
       "<use xlink:href=\"#glyph-0-2\" x=\"342.777344\" y=\"154.65625\"/>\n",
       "<use xlink:href=\"#glyph-0-1\" x=\"348.338867\" y=\"154.65625\"/>\n",
       "<use xlink:href=\"#glyph-0-3\" x=\"351.117188\" y=\"154.65625\"/>\n",
       "</g>\n",
       "<g fill=\"rgb(0%, 0%, 0%)\" fill-opacity=\"1\">\n",
       "<use xlink:href=\"#glyph-0-2\" x=\"342.789062\" y=\"204.652344\"/>\n",
       "<use xlink:href=\"#glyph-0-1\" x=\"348.350586\" y=\"204.652344\"/>\n",
       "<use xlink:href=\"#glyph-0-4\" x=\"351.128906\" y=\"204.652344\"/>\n",
       "</g>\n",
       "<g fill=\"rgb(0%, 0%, 0%)\" fill-opacity=\"1\">\n",
       "<use xlink:href=\"#glyph-0-3\" x=\"493.105469\" y=\"54.65625\"/>\n",
       "<use xlink:href=\"#glyph-0-1\" x=\"498.666992\" y=\"54.65625\"/>\n",
       "<use xlink:href=\"#glyph-0-0\" x=\"501.445312\" y=\"54.65625\"/>\n",
       "</g>\n",
       "<g fill=\"rgb(0%, 0%, 0%)\" fill-opacity=\"1\">\n",
       "<use xlink:href=\"#glyph-0-3\" x=\"493.902344\" y=\"104.65625\"/>\n",
       "<use xlink:href=\"#glyph-0-1\" x=\"499.463867\" y=\"104.65625\"/>\n",
       "<use xlink:href=\"#glyph-0-2\" x=\"502.242188\" y=\"104.65625\"/>\n",
       "</g>\n",
       "<g fill=\"rgb(0%, 0%, 0%)\" fill-opacity=\"1\">\n",
       "<use xlink:href=\"#glyph-0-3\" x=\"493.101562\" y=\"154.65625\"/>\n",
       "<use xlink:href=\"#glyph-0-1\" x=\"498.663086\" y=\"154.65625\"/>\n",
       "<use xlink:href=\"#glyph-0-3\" x=\"501.441406\" y=\"154.65625\"/>\n",
       "</g>\n",
       "<g fill=\"rgb(0%, 0%, 0%)\" fill-opacity=\"1\">\n",
       "<use xlink:href=\"#glyph-0-3\" x=\"493.109375\" y=\"204.65625\"/>\n",
       "<use xlink:href=\"#glyph-0-1\" x=\"498.670898\" y=\"204.65625\"/>\n",
       "<use xlink:href=\"#glyph-0-4\" x=\"501.449219\" y=\"204.65625\"/>\n",
       "</g>\n",
       "<g fill=\"rgb(0%, 0%, 0%)\" fill-opacity=\"1\">\n",
       "<use xlink:href=\"#glyph-0-4\" x=\"643.140625\" y=\"54.652344\"/>\n",
       "<use xlink:href=\"#glyph-0-1\" x=\"648.702148\" y=\"54.652344\"/>\n",
       "<use xlink:href=\"#glyph-0-0\" x=\"651.480469\" y=\"54.652344\"/>\n",
       "</g>\n",
       "<g fill=\"rgb(0%, 0%, 0%)\" fill-opacity=\"1\">\n",
       "<use xlink:href=\"#glyph-0-4\" x=\"643.941406\" y=\"104.652344\"/>\n",
       "<use xlink:href=\"#glyph-0-1\" x=\"649.50293\" y=\"104.652344\"/>\n",
       "<use xlink:href=\"#glyph-0-2\" x=\"652.28125\" y=\"104.652344\"/>\n",
       "</g>\n",
       "<g fill=\"rgb(0%, 0%, 0%)\" fill-opacity=\"1\">\n",
       "<use xlink:href=\"#glyph-0-4\" x=\"643.136719\" y=\"154.65625\"/>\n",
       "<use xlink:href=\"#glyph-0-1\" x=\"648.698242\" y=\"154.65625\"/>\n",
       "<use xlink:href=\"#glyph-0-3\" x=\"651.476562\" y=\"154.65625\"/>\n",
       "</g>\n",
       "<g fill=\"rgb(0%, 0%, 0%)\" fill-opacity=\"1\">\n",
       "<use xlink:href=\"#glyph-0-4\" x=\"643.148438\" y=\"204.652344\"/>\n",
       "<use xlink:href=\"#glyph-0-1\" x=\"648.709961\" y=\"204.652344\"/>\n",
       "<use xlink:href=\"#glyph-0-4\" x=\"651.488281\" y=\"204.652344\"/>\n",
       "</g>\n",
       "<g fill=\"rgb(0%, 0%, 0%)\" fill-opacity=\"1\">\n",
       "<use xlink:href=\"#glyph-0-5\" x=\"40.523438\" y=\"129.632812\"/>\n",
       "<use xlink:href=\"#glyph-0-2\" x=\"43.853516\" y=\"129.632812\"/>\n",
       "<use xlink:href=\"#glyph-0-1\" x=\"49.415039\" y=\"129.632812\"/>\n",
       "<use xlink:href=\"#glyph-0-5\" x=\"52.193359\" y=\"129.632812\"/>\n",
       "<use xlink:href=\"#glyph-0-2\" x=\"55.523438\" y=\"129.632812\"/>\n",
       "</g>\n",
       "</svg>\n"
      ],
      "text/plain": [
       "<igraph.drawing.cairo.plot.CairoPlot at 0x116178550>"
      ]
     },
     "execution_count": 2,
     "metadata": {
      "image/svg+xml": {
       "isolated": true
      }
     },
     "output_type": "execute_result"
    }
   ],
   "source": [
    "tugs, tugs_source = util._add_source_to_tug(tug)\n",
    "ig.plot(tugs, **util.get_visual_style(tugs), bbox=(700, 250), margin=50)"
   ]
  },
  {
   "cell_type": "markdown",
   "metadata": {},
   "source": [
    "* The node is associate to the time step $-1$ and (original) index $-1$"
   ]
  },
  {
   "cell_type": "markdown",
   "metadata": {
    "slideshow": {
     "slide_type": "subslide"
    }
   },
   "source": [
    "## Path Enumeration\n",
    "\n",
    "**Then we can use a _depth-first traversal_ to enumerate all paths**"
   ]
  },
  {
   "cell_type": "code",
   "execution_count": 3,
   "metadata": {},
   "outputs": [
    {
     "name": "stdout",
     "output_type": "stream",
     "text": [
      "0: [0]\n",
      "1: [0, 4]\n",
      "2: [0, 4, 8]\n",
      "3: [0, 4, 8, 12]\n",
      "4: [0, 4, 8, 13]\n",
      "5: [0, 4, 8, 14]\n",
      "6: [0, 4, 8, 15]\n",
      "7: [0, 4, 9]\n",
      "8: [0, 4, 9, 12]\n",
      "9: [0, 4, 9, 13]\n",
      "10: [0, 4, 9, 14]\n",
      "11: [0, 4, 10]\n",
      "12: [0, 4, 10, 14]\n",
      "13: [0, 4, 11]\n",
      "14: [0, 4, 11, 15]\n",
      "15: [0, 5]\n",
      "16: [0, 5, 8]\n",
      "17: [0, 5, 8, 12]\n",
      "18: [0, 5, 8, 13]\n",
      "19: [0, 5, 8, 14]\n",
      "20: [0, 5, 8, 15]\n",
      "21: [0, 5, 9]\n",
      "22: [0, 5, 9, 12]\n",
      "23: [0, 5, 9, 13]\n",
      "24: [0, 5, 9, 14]\n",
      "25: [0, 5, 10]\n",
      "26: [0, 5, 10, 14]\n",
      "27: [0, 6]\n",
      "28: [0, 6, 10]\n",
      "29: [0, 6, 10, 14]\n",
      "30: [0, 7]\n",
      "31: [0, 7, 11]\n",
      "32: [0, 7, 11, 15]\n",
      "33: [1]\n",
      "34: [1, 4]\n",
      "35: [1, 4, 8]\n",
      "36: [1, 4, 8, 12]\n",
      "37: [1, 4, 8, 13]\n",
      "38: [1, 4, 8, 14]\n",
      "39: [1, 4, 8, 15]\n",
      "40: [1, 4, 9]\n",
      "41: [1, 4, 9, 12]\n",
      "42: [1, 4, 9, 13]\n",
      "43: [1, 4, 9, 14]\n",
      "44: [1, 4, 10]\n",
      "45: [1, 4, 10, 14]\n",
      "46: [1, 4, 11]\n",
      "47: [1, 4, 11, 15]\n",
      "48: [1, 5]\n",
      "49: [1, 5, 8]\n",
      "50: [1, 5, 8, 12]\n",
      "51: [1, 5, 8, 13]\n",
      "52: [1, 5, 8, 14]\n",
      "53: [1, 5, 8, 15]\n",
      "54: [1, 5, 9]\n",
      "55: [1, 5, 9, 12]\n",
      "56: [1, 5, 9, 13]\n",
      "57: [1, 5, 9, 14]\n",
      "58: [1, 5, 10]\n",
      "59: [1, 5, 10, 14]\n",
      "60: [1, 6]\n",
      "61: [1, 6, 10]\n",
      "62: [1, 6, 10, 14]\n",
      "63: [2]\n",
      "64: [2, 6]\n",
      "65: [2, 6, 10]\n",
      "66: [2, 6, 10, 14]\n",
      "67: [3]\n",
      "68: [3, 7]\n",
      "69: [3, 7, 11]\n",
      "70: [3, 7, 11, 15]\n",
      "71: [4]\n",
      "72: [4, 8]\n",
      "73: [4, 8, 12]\n",
      "74: [4, 8, 13]\n",
      "75: [4, 8, 14]\n",
      "76: [4, 8, 15]\n",
      "77: [4, 9]\n",
      "78: [4, 9, 12]\n",
      "79: [4, 9, 13]\n",
      "80: [4, 9, 14]\n",
      "81: [4, 10]\n",
      "82: [4, 10, 14]\n",
      "83: [4, 11]\n",
      "84: [4, 11, 15]\n",
      "85: [5]\n",
      "86: [5, 8]\n",
      "87: [5, 8, 12]\n",
      "88: [5, 8, 13]\n",
      "89: [5, 8, 14]\n",
      "90: [5, 8, 15]\n",
      "91: [5, 9]\n",
      "92: [5, 9, 12]\n",
      "93: [5, 9, 13]\n",
      "94: [5, 9, 14]\n",
      "95: [5, 10]\n",
      "96: [5, 10, 14]\n",
      "97: [6]\n",
      "98: [6, 10]\n",
      "99: [6, 10, 14]\n",
      "100: [7]\n",
      "101: [7, 11]\n",
      "102: [7, 11, 15]\n",
      "103: [8]\n",
      "104: [8, 12]\n",
      "105: [8, 13]\n",
      "106: [8, 14]\n",
      "107: [8, 15]\n",
      "108: [9]\n",
      "109: [9, 12]\n",
      "110: [9, 13]\n",
      "111: [9, 14]\n",
      "112: [10]\n",
      "113: [10, 14]\n",
      "114: [11]\n",
      "115: [11, 15]\n",
      "116: [12]\n",
      "117: [13]\n",
      "118: [14]\n",
      "119: [15]\n"
     ]
    }
   ],
   "source": [
    "tug_paths = util.enumerate_paths(tugs, tugs_source, exclude_source=True)\n",
    "for i, p in enumerate(tug_paths):\n",
    "    print(f'{i}: {p}')"
   ]
  },
  {
   "cell_type": "markdown",
   "metadata": {
    "slideshow": {
     "slide_type": "subslide"
    }
   },
   "source": [
    "## Path Enumeratation\n",
    "\n",
    "**By default we use TUG node indexes, but we can plot the original ones:**"
   ]
  },
  {
   "cell_type": "code",
   "execution_count": 4,
   "metadata": {
    "slideshow": {
     "slide_type": "-"
    }
   },
   "outputs": [
    {
     "name": "stdout",
     "output_type": "stream",
     "text": [
      "0: [(0, 0)]\n",
      "1: [(0, 0), (1, 0)]\n",
      "2: [(0, 0), (1, 0), (2, 0)]\n",
      "3: [(0, 0), (1, 0), (2, 0), (3, 0)]\n",
      "4: [(0, 0), (1, 0), (2, 0), (3, 1)]\n",
      "5: [(0, 0), (1, 0), (2, 0), (3, 2)]\n",
      "6: [(0, 0), (1, 0), (2, 0), (3, 3)]\n",
      "7: [(0, 0), (1, 0), (2, 1)]\n",
      "8: [(0, 0), (1, 0), (2, 1), (3, 0)]\n",
      "9: [(0, 0), (1, 0), (2, 1), (3, 1)]\n",
      "10: [(0, 0), (1, 0), (2, 1), (3, 2)]\n",
      "11: [(0, 0), (1, 0), (2, 2)]\n",
      "12: [(0, 0), (1, 0), (2, 2), (3, 2)]\n",
      "13: [(0, 0), (1, 0), (2, 3)]\n",
      "14: [(0, 0), (1, 0), (2, 3), (3, 3)]\n",
      "15: [(0, 0), (1, 1)]\n",
      "16: [(0, 0), (1, 1), (2, 0)]\n",
      "17: [(0, 0), (1, 1), (2, 0), (3, 0)]\n",
      "18: [(0, 0), (1, 1), (2, 0), (3, 1)]\n",
      "19: [(0, 0), (1, 1), (2, 0), (3, 2)]\n",
      "20: [(0, 0), (1, 1), (2, 0), (3, 3)]\n",
      "21: [(0, 0), (1, 1), (2, 1)]\n",
      "22: [(0, 0), (1, 1), (2, 1), (3, 0)]\n",
      "23: [(0, 0), (1, 1), (2, 1), (3, 1)]\n",
      "24: [(0, 0), (1, 1), (2, 1), (3, 2)]\n",
      "25: [(0, 0), (1, 1), (2, 2)]\n",
      "26: [(0, 0), (1, 1), (2, 2), (3, 2)]\n",
      "27: [(0, 0), (1, 2)]\n",
      "28: [(0, 0), (1, 2), (2, 2)]\n",
      "29: [(0, 0), (1, 2), (2, 2), (3, 2)]\n",
      "30: [(0, 0), (1, 3)]\n",
      "31: [(0, 0), (1, 3), (2, 3)]\n",
      "32: [(0, 0), (1, 3), (2, 3), (3, 3)]\n",
      "33: [(0, 1)]\n",
      "34: [(0, 1), (1, 0)]\n",
      "35: [(0, 1), (1, 0), (2, 0)]\n",
      "36: [(0, 1), (1, 0), (2, 0), (3, 0)]\n",
      "37: [(0, 1), (1, 0), (2, 0), (3, 1)]\n",
      "38: [(0, 1), (1, 0), (2, 0), (3, 2)]\n",
      "39: [(0, 1), (1, 0), (2, 0), (3, 3)]\n",
      "40: [(0, 1), (1, 0), (2, 1)]\n",
      "41: [(0, 1), (1, 0), (2, 1), (3, 0)]\n",
      "42: [(0, 1), (1, 0), (2, 1), (3, 1)]\n",
      "43: [(0, 1), (1, 0), (2, 1), (3, 2)]\n",
      "44: [(0, 1), (1, 0), (2, 2)]\n",
      "45: [(0, 1), (1, 0), (2, 2), (3, 2)]\n",
      "46: [(0, 1), (1, 0), (2, 3)]\n",
      "47: [(0, 1), (1, 0), (2, 3), (3, 3)]\n",
      "48: [(0, 1), (1, 1)]\n",
      "49: [(0, 1), (1, 1), (2, 0)]\n",
      "50: [(0, 1), (1, 1), (2, 0), (3, 0)]\n",
      "51: [(0, 1), (1, 1), (2, 0), (3, 1)]\n",
      "52: [(0, 1), (1, 1), (2, 0), (3, 2)]\n",
      "53: [(0, 1), (1, 1), (2, 0), (3, 3)]\n",
      "54: [(0, 1), (1, 1), (2, 1)]\n",
      "55: [(0, 1), (1, 1), (2, 1), (3, 0)]\n",
      "56: [(0, 1), (1, 1), (2, 1), (3, 1)]\n",
      "57: [(0, 1), (1, 1), (2, 1), (3, 2)]\n",
      "58: [(0, 1), (1, 1), (2, 2)]\n",
      "59: [(0, 1), (1, 1), (2, 2), (3, 2)]\n",
      "60: [(0, 1), (1, 2)]\n",
      "61: [(0, 1), (1, 2), (2, 2)]\n",
      "62: [(0, 1), (1, 2), (2, 2), (3, 2)]\n",
      "63: [(0, 2)]\n",
      "64: [(0, 2), (1, 2)]\n",
      "65: [(0, 2), (1, 2), (2, 2)]\n",
      "66: [(0, 2), (1, 2), (2, 2), (3, 2)]\n",
      "67: [(0, 3)]\n",
      "68: [(0, 3), (1, 3)]\n",
      "69: [(0, 3), (1, 3), (2, 3)]\n",
      "70: [(0, 3), (1, 3), (2, 3), (3, 3)]\n",
      "71: [(1, 0)]\n",
      "72: [(1, 0), (2, 0)]\n",
      "73: [(1, 0), (2, 0), (3, 0)]\n",
      "74: [(1, 0), (2, 0), (3, 1)]\n",
      "75: [(1, 0), (2, 0), (3, 2)]\n",
      "76: [(1, 0), (2, 0), (3, 3)]\n",
      "77: [(1, 0), (2, 1)]\n",
      "78: [(1, 0), (2, 1), (3, 0)]\n",
      "79: [(1, 0), (2, 1), (3, 1)]\n",
      "80: [(1, 0), (2, 1), (3, 2)]\n",
      "81: [(1, 0), (2, 2)]\n",
      "82: [(1, 0), (2, 2), (3, 2)]\n",
      "83: [(1, 0), (2, 3)]\n",
      "84: [(1, 0), (2, 3), (3, 3)]\n",
      "85: [(1, 1)]\n",
      "86: [(1, 1), (2, 0)]\n",
      "87: [(1, 1), (2, 0), (3, 0)]\n",
      "88: [(1, 1), (2, 0), (3, 1)]\n",
      "89: [(1, 1), (2, 0), (3, 2)]\n",
      "90: [(1, 1), (2, 0), (3, 3)]\n",
      "91: [(1, 1), (2, 1)]\n",
      "92: [(1, 1), (2, 1), (3, 0)]\n",
      "93: [(1, 1), (2, 1), (3, 1)]\n",
      "94: [(1, 1), (2, 1), (3, 2)]\n",
      "95: [(1, 1), (2, 2)]\n",
      "96: [(1, 1), (2, 2), (3, 2)]\n",
      "97: [(1, 2)]\n",
      "98: [(1, 2), (2, 2)]\n",
      "99: [(1, 2), (2, 2), (3, 2)]\n",
      "100: [(1, 3)]\n",
      "101: [(1, 3), (2, 3)]\n",
      "102: [(1, 3), (2, 3), (3, 3)]\n",
      "103: [(2, 0)]\n",
      "104: [(2, 0), (3, 0)]\n",
      "105: [(2, 0), (3, 1)]\n",
      "106: [(2, 0), (3, 2)]\n",
      "107: [(2, 0), (3, 3)]\n",
      "108: [(2, 1)]\n",
      "109: [(2, 1), (3, 0)]\n",
      "110: [(2, 1), (3, 1)]\n",
      "111: [(2, 1), (3, 2)]\n",
      "112: [(2, 2)]\n",
      "113: [(2, 2), (3, 2)]\n",
      "114: [(2, 3)]\n",
      "115: [(2, 3), (3, 3)]\n",
      "116: [(3, 0)]\n",
      "117: [(3, 1)]\n",
      "118: [(3, 2)]\n",
      "119: [(3, 3)]\n"
     ]
    }
   ],
   "source": [
    "tmp = util.tug_paths_to_original(tugs, tug_paths)\n",
    "for i, p in enumerate(tmp):\n",
    "    print(f'{i}: {p}')"
   ]
  },
  {
   "cell_type": "markdown",
   "metadata": {
    "slideshow": {
     "slide_type": "subslide"
    }
   },
   "source": [
    "## Building the Matrices and Vectors\n",
    "\n",
    "**Now we can build the $V$ and $E$ matrices and the $v$ and $e$ vectors**\n",
    "\n",
    "These define the least squares terms $\\|Vx - v\\|_2^2$ and $\\|Ex - e\\|_2^2$"
   ]
  },
  {
   "cell_type": "code",
   "execution_count": 5,
   "metadata": {},
   "outputs": [],
   "source": [
    "V, E = util._paths_to_coefficient_matrices(tug, tug_paths)\n",
    "v, e = util._counts_to_target_vectors(tug, node_counts, arc_counts)"
   ]
  },
  {
   "cell_type": "markdown",
   "metadata": {
    "slideshow": {
     "slide_type": "fragment"
    }
   },
   "source": [
    "Here's a visualization of the $V, v$ pair:"
   ]
  },
  {
   "cell_type": "code",
   "execution_count": 6,
   "metadata": {
    "slideshow": {
     "slide_type": "-"
    }
   },
   "outputs": [
    {
     "data": {
      "image/png": "[encoded data removed]",
      "text/plain": [
       "<Figure size 1400x500 with 2 Axes>"
      ]
     },
     "metadata": {},
     "output_type": "display_data"
    }
   ],
   "source": [
    "util.plot_matrix(V.toarray(), v, figsize=figsize, title='V', title_b='v')"
   ]
  },
  {
   "cell_type": "markdown",
   "metadata": {
    "slideshow": {
     "slide_type": "subslide"
    }
   },
   "source": [
    "## Building the Matrices and Vectors\n",
    "\n",
    "**Now we can build the $V$ and $E$ matrices and the $v$ and $e$ vectors**\n",
    "\n",
    "These define the least squares terms $\\|Vx - v\\|_2^2$ and $\\|Ex - e\\|_2^2$"
   ]
  },
  {
   "cell_type": "code",
   "execution_count": 7,
   "metadata": {},
   "outputs": [],
   "source": [
    "V, E = util._paths_to_coefficient_matrices(tug, tug_paths)\n",
    "v, e = util._counts_to_target_vectors(tug, node_counts, arc_counts)"
   ]
  },
  {
   "cell_type": "markdown",
   "metadata": {
    "slideshow": {
     "slide_type": "-"
    }
   },
   "source": [
    "Here's the same for the $E, e$ pair:"
   ]
  },
  {
   "cell_type": "code",
   "execution_count": 8,
   "metadata": {
    "slideshow": {
     "slide_type": "-"
    }
   },
   "outputs": [
    {
     "data": {
      "image/png": "[encoded data removed]",
      "text/plain": [
       "<Figure size 1400x500 with 2 Axes>"
      ]
     },
     "metadata": {},
     "output_type": "display_data"
    }
   ],
   "source": [
    "util.plot_matrix(E.toarray(), e, figsize=figsize, title='E', title_b='e')"
   ]
  },
  {
   "cell_type": "markdown",
   "metadata": {
    "slideshow": {
     "slide_type": "subslide"
    }
   },
   "source": [
    "## Solving the QP Problem\n",
    "\n",
    "**The code for solving the QP is in the `solve_path_selection_full` function**\n",
    "\n",
    "Here's a relevant snippet:\n",
    "\n",
    "```python\n",
    "# Enumerate all paths\n",
    "tugs, tugs_source = _add_source_to_tug(tug)\n",
    "paths = enumerate_paths(tugs, tugs_source, exclude_source=True)\n",
    "# Build the path selection solver\n",
    "prb = PathSelectionSolver(tug, node_counts, arc_counts)\n",
    "# Solve the path selection problem\n",
    "sol = prb.solve(paths, verbose=verbose, **settings)\n",
    "```\n",
    "\n",
    "* First we build a `PathSelectionSolver`, i.e. a custom class from the `util` module\n",
    "* Then we call the `solve` method\n",
    "* Otherwise, we get a (feasible, but) approximate solution"
   ]
  },
  {
   "cell_type": "markdown",
   "metadata": {
    "slideshow": {
     "slide_type": "subslide"
    }
   },
   "source": [
    "## Solving the QP Problem\n",
    "\n",
    "**In turn, `PathSelectionSolver.solve` contains the following code:**\n",
    "\n",
    "```python\n",
    "# Build the solver\n",
    "self.mdl = piqp.SparseSolver()\n",
    "# Recompute the problem matrices\n",
    "P, c, A, b, G, h, x_lb, x_ub = self._recompute_matrices_piqp(paths)\n",
    "# Setup the solver\n",
    "self.mdl.setup(P, c, A, b, G, h, x_lb, x_ub)\n",
    "# Solve the problem\n",
    "sol = self.mdl.solve()\n",
    "```\n",
    "This is how we use the actual PIQP solver\n",
    "\n",
    "* We build an `SparseSolver` object, we call `setup`, then we cal `solve`\n",
    "* ...But first we need to compute a bunch of matrix and vector terms"
   ]
  },
  {
   "cell_type": "markdown",
   "metadata": {
    "slideshow": {
     "slide_type": "subslide"
    }
   },
   "source": [
    "## Solving the QP Problem\n",
    "\n",
    "**Matrix construction happens in the `_recompute_matrices` function**\n",
    "\n",
    "We already know that:\n",
    "\n",
    "$$\n",
    "P = V^T V + E^T E \\quad \\text{and} \\quad q = -V^T v -E^T e\n",
    "$$\n",
    "\n",
    "* Where $V$ and $E$ specify which nodes/arcs belong to each path\n",
    "* ...And $v$ and $e$ are the counts for all TUG nodes and arcs\n",
    "\n",
    "About the $A$ matrix and $l$ and $u$ vectors\n",
    "\n",
    "* They are meant to specify the problem constraints\n",
    "* Since in our problem we have $x \\geq 0$, then:\n",
    "\n",
    "$$\n",
    "A = I \\quad \\text{and} \\quad l = 0 \\quad \\text{and} \\quad u = +\\infty\n",
    "$$"
   ]
  },
  {
   "cell_type": "markdown",
   "metadata": {
    "slideshow": {
     "slide_type": "subslide"
    }
   },
   "source": [
    "## Solving the QP Problem\n",
    "\n",
    "**Let's actually solve the problem and inspect the output**"
   ]
  },
  {
   "cell_type": "code",
   "execution_count": 9,
   "metadata": {
    "scrolled": true
   },
   "outputs": [],
   "source": [
    "rflows, rpaths = util.solve_path_selection_full(tug, node_counts, arc_counts, verbose=1, solver='piqp')"
   ]
  },
  {
   "cell_type": "markdown",
   "metadata": {
    "slideshow": {
     "slide_type": "subslide"
    }
   },
   "source": [
    "## Inspecting the Solution\n",
    "\n",
    "**The raw solver log does not relate much to our specific problem**\n",
    "\n",
    "But we can obtain clearer plots using some ad-hoc built functions:"
   ]
  },
  {
   "cell_type": "code",
   "execution_count": 10,
   "metadata": {},
   "outputs": [
    {
     "name": "stdout",
     "output_type": "stream",
     "text": [
      "FLOW: PATH\n",
      "8.17: 2,3 > 3,3\n",
      "5.47: 0,2 > 1,2 > 2,2 > 3,2\n",
      "3.74: 3,3\n",
      "3.10: 0,1 > 1,1 > 2,0 > 3,0\n",
      "1.79: 1,0 > 2,0 > 3,0\n",
      "1.79: 0,1 > 1,1 > 2,0 > 3,2\n",
      "1.53: 1,0 > 2,0 > 3,2\n",
      "\n",
      "RSSE: 0.00\n"
     ]
    }
   ],
   "source": [
    "print('FLOW: PATH')\n",
    "util.print_solution(tug, rflows, rpaths, sort='descending')\n",
    "sse = util.get_reconstruction_error(tug, rflows, rpaths, node_counts, arc_counts)\n",
    "print(f'\\nRSSE: {np.sqrt(sse):.2f}')"
   ]
  },
  {
   "cell_type": "markdown",
   "metadata": {},
   "source": [
    "* We know see which paths have been used to \"reconstruct\" the counts\n",
    "* The corresponding estimated flows\n",
    "* And the Root Sum of Squared Errors"
   ]
  }
 ],
 "metadata": {
  "celltoolbar": "Slideshow",
  "kernelspec": {
   "display_name": "Python 3 (ipykernel)",
   "language": "python",
   "name": "python3"
  },
  "language_info": {
   "codemirror_mode": {
    "name": "ipython",
    "version": 3
   },
   "file_extension": ".py",
   "mimetype": "text/x-python",
   "name": "python",
   "nbconvert_exporter": "python",
   "pygments_lexer": "ipython3",
   "version": "3.11.8"
  },
  "rise": {
   "center": false,
   "transition": "fade"
  }
 },
 "nbformat": 4,
 "nbformat_minor": 4
}
